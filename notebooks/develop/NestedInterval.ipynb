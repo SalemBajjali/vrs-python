{
 "cells": [
  {
   "cell_type": "code",
   "execution_count": 1,
   "metadata": {},
   "outputs": [],
   "source": [
    "from ga4gh.core import ga4gh_identify, ga4gh_serialize\n",
    "from ga4gh.vrs import models\n",
    "\n",
    "import json\n",
    "def ppo(o):\n",
    "    \"\"\"pretty print object as json\"\"\"\n",
    "    print(json.dumps(o.as_dict(), indent=2))"
   ]
  },
  {
   "cell_type": "code",
   "execution_count": 2,
   "metadata": {},
   "outputs": [],
   "source": [
    "ni = models.NestedInterval(\n",
    "    inner = models.SimpleInterval(start=20, end=30),\n",
    "    outer = models.SimpleInterval(start=10, end=40)\n",
    ")"
   ]
  },
  {
   "cell_type": "code",
   "execution_count": 3,
   "metadata": {},
   "outputs": [
    {
     "name": "stdout",
     "output_type": "stream",
     "text": [
      "{\n",
      "  \"inner\": {\n",
      "    \"end\": 30,\n",
      "    \"start\": 20,\n",
      "    \"type\": \"SimpleInterval\"\n",
      "  },\n",
      "  \"outer\": {\n",
      "    \"end\": 40,\n",
      "    \"start\": 10,\n",
      "    \"type\": \"SimpleInterval\"\n",
      "  },\n",
      "  \"type\": \"NestedInterval\"\n",
      "}\n"
     ]
    }
   ],
   "source": [
    "ppo(ni)"
   ]
  },
  {
   "cell_type": "code",
   "execution_count": 4,
   "metadata": {},
   "outputs": [
    {
     "name": "stdout",
     "output_type": "stream",
     "text": [
      "{\n",
      "  \"inner\": {\n",
      "    \"end\": 30,\n",
      "    \"start\": 20,\n",
      "    \"type\": \"SimpleInterval\"\n",
      "  },\n",
      "  \"outer\": {\n",
      "    \"end\": null,\n",
      "    \"start\": null,\n",
      "    \"type\": \"SimpleInterval\"\n",
      "  },\n",
      "  \"type\": \"NestedInterval\"\n",
      "}\n"
     ]
    }
   ],
   "source": [
    "ni.outer.start = ni.outer.end = None\n",
    "ppo(ni)"
   ]
  },
  {
   "cell_type": "code",
   "execution_count": 5,
   "metadata": {},
   "outputs": [],
   "source": [
    "sl = models.SequenceLocation(\n",
    "    sequence_id = \"ga4gh:SQ.0123abcd\",\n",
    "    interval = ni)"
   ]
  },
  {
   "cell_type": "code",
   "execution_count": 6,
   "metadata": {},
   "outputs": [
    {
     "name": "stdout",
     "output_type": "stream",
     "text": [
      "{\n",
      "  \"interval\": {\n",
      "    \"inner\": {\n",
      "      \"end\": 30,\n",
      "      \"start\": 20,\n",
      "      \"type\": \"SimpleInterval\"\n",
      "    },\n",
      "    \"outer\": {\n",
      "      \"end\": null,\n",
      "      \"start\": null,\n",
      "      \"type\": \"SimpleInterval\"\n",
      "    },\n",
      "    \"type\": \"NestedInterval\"\n",
      "  },\n",
      "  \"sequence_id\": \"ga4gh:SQ.0123abcd\",\n",
      "  \"type\": \"SequenceLocation\"\n",
      "}\n"
     ]
    }
   ],
   "source": [
    "ppo(sl)"
   ]
  },
  {
   "cell_type": "code",
   "execution_count": 7,
   "metadata": {},
   "outputs": [
    {
     "data": {
      "text/plain": [
       "'ga4gh:VSL.QcNBGSvsJwz-J7LoT6BaH9ZyI_l0gKnd'"
      ]
     },
     "execution_count": 7,
     "metadata": {},
     "output_type": "execute_result"
    }
   ],
   "source": [
    "ga4gh_identify(sl)"
   ]
  }
 ],
 "metadata": {
  "kernelspec": {
   "display_name": "Python 3",
   "language": "python",
   "name": "python3"
  },
  "language_info": {
   "codemirror_mode": {
    "name": "ipython",
    "version": 3
   },
   "file_extension": ".py",
   "mimetype": "text/x-python",
   "name": "python",
   "nbconvert_exporter": "python",
   "pygments_lexer": "ipython3",
   "version": "3.8.5"
  }
 },
 "nbformat": 4,
 "nbformat_minor": 4
}
