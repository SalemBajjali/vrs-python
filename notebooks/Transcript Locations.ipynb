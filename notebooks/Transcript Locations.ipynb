{
 "cells": [
  {
   "cell_type": "code",
   "execution_count": 1,
   "metadata": {},
   "outputs": [],
   "source": [
    "# Example transcript: NM_000314.6 (PTEN) on chr 10\n",
    "\n",
    "# NM_000314.6\n",
    "# These exons and CDS on the NM_000314.6 sequences constitute the\n",
    "# definition of this transcript\n",
    "t_exons = [(0,1110), (1110,1195), (1195,1240),\n",
    "            (1240,1284), (1284,1523), (1523,1665),\n",
    "            (1665,1832), (1832,2057), (2057,8701)]\n",
    "t_cds = (1031,2243)\n",
    "\n",
    "# NM_000314.6 aligned (by NCBI) to NC_000010.11 sequence (GRCh38 chr 10), + strand\n",
    "g_exons = [(87863437, 87864548), (87894024, 87894109), (87925512, 87925557),\n",
    "           (87931045, 87931089), (87933012, 87933251), (87952117, 87952259),\n",
    "           (87957852, 87958019), (87960893, 87961118), (87965286, 87971930)]\n",
    "\n",
    "# Cigars of alignment (relative to transcript)\n",
    "tg_cigars = \"666=1I39=1X404= 85= 45= 44= 239= 142= 167= 225= 6644=\"\n",
    "\n",
    "# g_cds is computed from t_cds, accounting for alignment \n",
    "# 1032 = 1031 + 1I in cigar\n",
    "g_cds = (87863437 + 1032, 87965286 + 2243 - 2057)\n",
    "\n",
    "\n",
    "# Hardcode the ga4gh sequence identifier for NC_000010.11\n",
    "# In real implementations, do something like this:\n",
    "#   from ga4gh.vrs.dataproxy import SeqRepoDataProxy\n",
    "#   from biocommons.seqrepo import SeqRepo\n",
    "#   dp = SeqRepoDataProxy(SeqRepo(root_dir=\"/usr/local/share/seqrepo/latest\"))\n",
    "#   t_sequence_id = dp.translate_sequence_identifier(\"refseq:NM_000314.6\", \"ga4gh\")[0]\n",
    "#   g_sequence_id = dp.translate_sequence_identifier(\"refseq:NC_000010.11\", \"ga4gh\")[0]\n",
    "t_sequence_id = 'ga4gh:SQ.7YNhHjHLiBJwNd43xjLJA7jjnuJwPhxn'\n",
    "g_sequence_id = 'ga4gh:SQ.ss8r_wB0-b9r44TQTMmVTI92884QvBiB'"
   ]
  },
  {
   "cell_type": "code",
   "execution_count": 2,
   "metadata": {},
   "outputs": [],
   "source": [
    "from ga4gh.core import ga4gh_identify, ga4gh_serialize\n",
    "from ga4gh.vrs import models"
   ]
  },
  {
   "cell_type": "markdown",
   "metadata": {},
   "source": [
    "## Define Transcripts"
   ]
  },
  {
   "cell_type": "code",
   "execution_count": 3,
   "metadata": {},
   "outputs": [],
   "source": [
    "t_transcript = models.Transcript(\n",
    "  sequence_id = t_sequence_id,\n",
    "  exons = [models.SimpleInterval(start=ex[0], end=ex[1]) for ex in t_exons],\n",
    "  cds = models.SimpleInterval(start=t_cds[0], end=t_cds[1])\n",
    ")\n",
    "g_transcript = models.Transcript(\n",
    "  sequence_id = g_sequence_id,\n",
    "  exons = [models.SimpleInterval(start=ex[0], end=ex[1]) for ex in g_exons],\n",
    "  cds = models.SimpleInterval(start=g_cds[0], end=g_cds[1])\n",
    ")"
   ]
  },
  {
   "cell_type": "code",
   "execution_count": 4,
   "metadata": {
    "scrolled": false
   },
   "outputs": [
    {
     "data": {
      "text/plain": [
       "b'{\"cds\":{\"end\":2243,\"start\":1031,\"type\":\"SimpleInterval\"},\"exons\":[{\"end\":1110,\"start\":0,\"type\":\"SimpleInterval\"},{\"end\":1195,\"start\":1110,\"type\":\"SimpleInterval\"},{\"end\":1240,\"start\":1195,\"type\":\"SimpleInterval\"},{\"end\":1284,\"start\":1240,\"type\":\"SimpleInterval\"},{\"end\":1523,\"start\":1284,\"type\":\"SimpleInterval\"},{\"end\":1665,\"start\":1523,\"type\":\"SimpleInterval\"},{\"end\":1832,\"start\":1665,\"type\":\"SimpleInterval\"},{\"end\":2057,\"start\":1832,\"type\":\"SimpleInterval\"},{\"end\":8701,\"start\":2057,\"type\":\"SimpleInterval\"}],\"sequence_id\":\"7YNhHjHLiBJwNd43xjLJA7jjnuJwPhxn\",\"type\":\"Transcript\"}'"
      ]
     },
     "execution_count": 4,
     "metadata": {},
     "output_type": "execute_result"
    }
   ],
   "source": [
    "ga4gh_serialize(t_transcript)"
   ]
  },
  {
   "cell_type": "code",
   "execution_count": 5,
   "metadata": {},
   "outputs": [
    {
     "data": {
      "text/plain": [
       "('ga4gh:X_GT.nTRjcOgzR6_owupcO39owUADNZeFY0d3',\n",
       " 'ga4gh:X_GT.pTvbXNiGxYhmHFvCn7FeBnAFb14DzAZr')"
      ]
     },
     "execution_count": 5,
     "metadata": {},
     "output_type": "execute_result"
    }
   ],
   "source": [
    "t_transcript_id = ga4gh_identify(t_transcript)\n",
    "g_transcript_id = ga4gh_identify(g_transcript)\n",
    "(t_transcript_id, g_transcript_id)"
   ]
  },
  {
   "cell_type": "markdown",
   "metadata": {},
   "source": [
    "## Transcript Locations"
   ]
  },
  {
   "cell_type": "code",
   "execution_count": 6,
   "metadata": {},
   "outputs": [],
   "source": [
    "boi = models.BaseOffsetInterval(\n",
    "    datum=\"txstart\",\n",
    "    start=models.BaseOffset(base=87894024-87863437, offset=-5),\n",
    "    end=models.BaseOffset(base=87894024-87863437, offset=-4))"
   ]
  },
  {
   "cell_type": "code",
   "execution_count": 7,
   "metadata": {},
   "outputs": [],
   "source": [
    "tl = models.TranscriptLocation(\n",
    "    transcript_id = g_transcript_id,\n",
    "    interval = boi)"
   ]
  },
  {
   "cell_type": "code",
   "execution_count": 8,
   "metadata": {},
   "outputs": [
    {
     "data": {
      "text/plain": [
       "{'interval': {'datum': 'txstart',\n",
       "  'end': {'base': 30587, 'offset': -4},\n",
       "  'start': {'base': 30587, 'offset': -5},\n",
       "  'type': 'BaseOffsetInterval'},\n",
       " 'transcript_id': 'ga4gh:X_GT.pTvbXNiGxYhmHFvCn7FeBnAFb14DzAZr',\n",
       " 'type': 'TranscriptLocation'}"
      ]
     },
     "execution_count": 8,
     "metadata": {},
     "output_type": "execute_result"
    }
   ],
   "source": [
    "tl.as_dict()"
   ]
  },
  {
   "cell_type": "code",
   "execution_count": 9,
   "metadata": {},
   "outputs": [
    {
     "data": {
      "text/plain": [
       "'ga4gh:X_GTL.z1eEhvuD5p1dVvpXvLA5O1pW8BuzrRcK'"
      ]
     },
     "execution_count": 9,
     "metadata": {},
     "output_type": "execute_result"
    }
   ],
   "source": [
    "ga4gh_identify(tl)"
   ]
  },
  {
   "cell_type": "markdown",
   "metadata": {},
   "source": [
    "## Transcript Allele"
   ]
  },
  {
   "cell_type": "code",
   "execution_count": 10,
   "metadata": {},
   "outputs": [],
   "source": [
    "a = models.Allele(\n",
    "    location = tl,\n",
    "    state = models.SequenceState(sequence=\"C\"))"
   ]
  },
  {
   "cell_type": "code",
   "execution_count": 11,
   "metadata": {},
   "outputs": [
    {
     "data": {
      "text/plain": [
       "{'location': {'interval': {'datum': 'txstart',\n",
       "   'end': {'base': 30587, 'offset': -4},\n",
       "   'start': {'base': 30587, 'offset': -5},\n",
       "   'type': 'BaseOffsetInterval'},\n",
       "  'transcript_id': 'ga4gh:X_GT.pTvbXNiGxYhmHFvCn7FeBnAFb14DzAZr',\n",
       "  'type': 'TranscriptLocation'},\n",
       " 'state': {'sequence': 'C', 'type': 'SequenceState'},\n",
       " 'type': 'Allele'}"
      ]
     },
     "execution_count": 11,
     "metadata": {},
     "output_type": "execute_result"
    }
   ],
   "source": [
    "a.as_dict()"
   ]
  },
  {
   "cell_type": "code",
   "execution_count": 12,
   "metadata": {},
   "outputs": [
    {
     "data": {
      "text/plain": [
       "'ga4gh:VA.u0FgwFlVBy2gf3PXSW2xWREdA7Tb8PKf'"
      ]
     },
     "execution_count": 12,
     "metadata": {},
     "output_type": "execute_result"
    }
   ],
   "source": [
    "ga4gh_identify(a)"
   ]
  },
  {
   "cell_type": "markdown",
   "metadata": {},
   "source": [
    "## Transcript Feature Locations"
   ]
  },
  {
   "cell_type": "code",
   "execution_count": 13,
   "metadata": {},
   "outputs": [
    {
     "data": {
      "text/plain": [
       "{'feature_type': 'exon', 'index': 0}"
      ]
     },
     "execution_count": 13,
     "metadata": {},
     "output_type": "execute_result"
    }
   ],
   "source": [
    "tf = models.TranscriptFeature(feature_type=\"exon\", index=0)\n",
    "tf.as_dict()"
   ]
  },
  {
   "cell_type": "code",
   "execution_count": 14,
   "metadata": {},
   "outputs": [],
   "source": [
    "tfi = models.TranscriptFeatureInterval(\n",
    "    start=models.TranscriptFeature(feature_type=\"exon\", index=0),\n",
    "    end=models.TranscriptFeature(feature_type=\"exon\", index=5),\n",
    ")"
   ]
  },
  {
   "cell_type": "code",
   "execution_count": 15,
   "metadata": {},
   "outputs": [
    {
     "data": {
      "text/plain": [
       "{'interval': {'end': {'feature_type': 'exon', 'index': 5},\n",
       "  'start': {'feature_type': 'exon', 'index': 0},\n",
       "  'type': 'TranscriptFeatureInterval'},\n",
       " 'transcript_id': 'ga4gh:X_GT.pTvbXNiGxYhmHFvCn7FeBnAFb14DzAZr',\n",
       " 'type': 'TranscriptLocation'}"
      ]
     },
     "execution_count": 15,
     "metadata": {},
     "output_type": "execute_result"
    }
   ],
   "source": [
    "tfl = models.TranscriptLocation(\n",
    "    transcript_id = g_transcript_id,\n",
    "    interval = tfi)\n",
    "tfl.as_dict()"
   ]
  },
  {
   "cell_type": "code",
   "execution_count": 16,
   "metadata": {},
   "outputs": [
    {
     "data": {
      "text/plain": [
       "'ga4gh:X_GTL.ZZJaNU94bUGrT0Z_y4xfWf2rWhvv7L0O'"
      ]
     },
     "execution_count": 16,
     "metadata": {},
     "output_type": "execute_result"
    }
   ],
   "source": [
    "ga4gh_identify(tfl)"
   ]
  },
  {
   "cell_type": "markdown",
   "metadata": {},
   "source": [
    "## Scraps"
   ]
  },
  {
   "cell_type": "code",
   "execution_count": 17,
   "metadata": {},
   "outputs": [],
   "source": [
    "t2 = models.Transcript2(\n",
    "    sequence_id=\"refseq:foo\",\n",
    "    exons=[(0,10),(20,30)])"
   ]
  },
  {
   "cell_type": "code",
   "execution_count": 18,
   "metadata": {},
   "outputs": [
    {
     "data": {
      "text/plain": [
       "{'exons': [[0, 10], [20, 30]],\n",
       " 'sequence_id': 'refseq:foo',\n",
       " 'type': 'Transcript'}"
      ]
     },
     "execution_count": 18,
     "metadata": {},
     "output_type": "execute_result"
    }
   ],
   "source": [
    "t2.as_dict()"
   ]
  },
  {
   "cell_type": "code",
   "execution_count": null,
   "metadata": {},
   "outputs": [],
   "source": []
  },
  {
   "cell_type": "code",
   "execution_count": null,
   "metadata": {},
   "outputs": [],
   "source": []
  }
 ],
 "metadata": {
  "kernelspec": {
   "display_name": "Python 3",
   "language": "python",
   "name": "python3"
  },
  "language_info": {
   "codemirror_mode": {
    "name": "ipython",
    "version": 3
   },
   "file_extension": ".py",
   "mimetype": "text/x-python",
   "name": "python",
   "nbconvert_exporter": "python",
   "pygments_lexer": "ipython3",
   "version": "3.8.2"
  }
 },
 "nbformat": 4,
 "nbformat_minor": 4
}
