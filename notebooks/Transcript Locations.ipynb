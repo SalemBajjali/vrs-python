{
 "cells": [
  {
   "cell_type": "markdown",
   "metadata": {},
   "source": [
    "This notebook is a sandbox for playing with various ideas for Transcript Locations [[slides](https://docs.google.com/presentation/d/1sRKkO-9wdfNfDYonx17glXG0kH-39HZBwlstPIXvZTk/edit#slide=id.g9bf6c5914f_0_53)]. This notebook depends on an unpublished VRS schema in the [transcript-location branch of vr-spec](https://github.com/ga4gh/vr-spec/tree/199-transcript-locations) (as of 2020-10-07).\n",
    "\n",
    "Two models are currently being considered:\n",
    "\n",
    "* Unified model of transcripts (Reece).  A Transcript is merely a collection of exons and cds definition on any sequence.  For example, a RefSeq transcript on the defining RefSeq sequence would be one Transcript, and the projection of that transcript onto a genomic sequence (through splign, typicaly) would be a *different* Transcript with the *same* data structure.\n",
    "\n",
    "* Annotated sequence model (Alex). The same Transcript model as above would be used only to define the transcript on the eponymous sequence. A separate AnnotedSequence model, with separate feature-based structures, would represent annotations of features on genomic sequences.\n",
    "\n",
    "\n",
    "Considering HGVS syntax `NC_000007.13(NM_005228.4)` is useful. One interpretation of that syntax is that it is specifying the `NM_005228.4` exon structure on the `NC_000007.13` sequence. With that view, the AnnotatedSequence model uses distinct data structures for variants with reference sequences like `NM_005228.4` and `NC_000007.13(NM_005228.4)`. In contrast, the Unified Model effectively treats `NM_005228.4` as `NM_005228.4(NM_005228.4)`, and uses the same information model as for aligned sequences."
   ]
  },
  {
   "cell_type": "markdown",
   "metadata": {},
   "source": [
    "# Setup and Sample Data"
   ]
  },
  {
   "cell_type": "code",
   "execution_count": 1,
   "metadata": {},
   "outputs": [],
   "source": [
    "from ga4gh.core import ga4gh_identify, ga4gh_serialize\n",
    "from ga4gh.vrs import models"
   ]
  },
  {
   "cell_type": "code",
   "execution_count": 2,
   "metadata": {},
   "outputs": [],
   "source": [
    "# Example transcript: NM_000314.6 (PTEN) on chr 10\n",
    "\n",
    "# NM_000314.6(PTEN):c.78C>A  ~  NC_000010.11:g.87864547C>T\n",
    "# NM_000314.6(PTEN):c.79+3A>G  ~  NC_000010.11:g.87864551A>G\n",
    "\n",
    "# NM_000314.6\n",
    "# These exons and CDS on the NM_000314.6 sequences constitute the\n",
    "# definition of this transcript\n",
    "t_exons = [(0,1110), (1110,1195), (1195,1240),\n",
    "            (1240,1284), (1284,1523), (1523,1665),\n",
    "            (1665,1832), (1832,2057), (2057,8701)]\n",
    "t_cds = (1031,2243)\n",
    "\n",
    "# NM_000314.6 aligned (by NCBI) to NC_000010.11 sequence (GRCh38 chr 10), + strand\n",
    "g_exons = [(87863437, 87864548), (87894024, 87894109), (87925512, 87925557),\n",
    "           (87931045, 87931089), (87933012, 87933251), (87952117, 87952259),\n",
    "           (87957852, 87958019), (87960893, 87961118), (87965286, 87971930)]\n",
    "\n",
    "# Cigars of alignment (relative to transcript)\n",
    "tg_cigars = \"666=1I39=1X404= 85= 45= 44= 239= 142= 167= 225= 6644=\"\n",
    "\n",
    "# g_cds is computed from t_cds, accounting for alignment \n",
    "# 1032 = 1031 + 1I in cigar\n",
    "g_cds = (87863437 + 1032, 87965286 + 2243 - 2057)\n",
    "\n",
    "\n",
    "# Hardcode the ga4gh sequence identifier for NC_000010.11\n",
    "t_sequence_id = 'ga4gh:SQ.7YNhHjHLiBJwNd43xjLJA7jjnuJwPhxn'\n",
    "g_sequence_id = 'ga4gh:SQ.ss8r_wB0-b9r44TQTMmVTI92884QvBiB'\n",
    "\n",
    "# In real implementations, do something like this:\n",
    "#   from ga4gh.vrs.dataproxy import SeqRepoDataProxy\n",
    "#   from biocommons.seqrepo import SeqRepo\n",
    "#   dp = SeqRepoDataProxy(SeqRepo(root_dir=\"/usr/local/share/seqrepo/latest\"))\n",
    "#   t_sequence_id = dp.translate_sequence_identifier(\"refseq:NM_000314.6\", \"ga4gh\")[0]\n",
    "#   g_sequence_id = dp.translate_sequence_identifier(\"refseq:NC_000010.11\", \"ga4gh\")[0]"
   ]
  },
  {
   "cell_type": "markdown",
   "metadata": {},
   "source": [
    "# Defining a transcript on transcript reference sequence\n",
    "That is, NM_000314.6 exon structure as defined on the NM_000314.6 transcript sequence.\n",
    "\n",
    "The unified and annotated sequence models are identical in this regard."
   ]
  },
  {
   "cell_type": "code",
   "execution_count": 3,
   "metadata": {},
   "outputs": [],
   "source": [
    "t_transcript = models.Transcript(\n",
    "  sequence_id = t_sequence_id,\n",
    "  exons = [models.SimpleInterval(start=ex[0], end=ex[1]) for ex in t_exons],\n",
    "  cds = models.SimpleInterval(start=t_cds[0], end=t_cds[1])\n",
    ")\n",
    "t_transcript_um = t_transcript_asm = t_transcript"
   ]
  },
  {
   "cell_type": "code",
   "execution_count": 4,
   "metadata": {},
   "outputs": [
    {
     "data": {
      "text/plain": [
       "{'cds': {'end': 2243, 'start': 1031, 'type': 'SimpleInterval'},\n",
       " 'exons': [{'end': 1110, 'start': 0, 'type': 'SimpleInterval'},\n",
       "  {'end': 1195, 'start': 1110, 'type': 'SimpleInterval'},\n",
       "  {'end': 1240, 'start': 1195, 'type': 'SimpleInterval'},\n",
       "  {'end': 1284, 'start': 1240, 'type': 'SimpleInterval'},\n",
       "  {'end': 1523, 'start': 1284, 'type': 'SimpleInterval'},\n",
       "  {'end': 1665, 'start': 1523, 'type': 'SimpleInterval'},\n",
       "  {'end': 1832, 'start': 1665, 'type': 'SimpleInterval'},\n",
       "  {'end': 2057, 'start': 1832, 'type': 'SimpleInterval'},\n",
       "  {'end': 8701, 'start': 2057, 'type': 'SimpleInterval'}],\n",
       " 'sequence_id': 'ga4gh:SQ.7YNhHjHLiBJwNd43xjLJA7jjnuJwPhxn',\n",
       " 'type': 'Transcript'}"
      ]
     },
     "execution_count": 4,
     "metadata": {},
     "output_type": "execute_result"
    }
   ],
   "source": [
    "t_transcript.as_dict()"
   ]
  },
  {
   "cell_type": "code",
   "execution_count": 5,
   "metadata": {},
   "outputs": [
    {
     "data": {
      "text/plain": [
       "'ga4gh:X_GT.nTRjcOgzR6_owupcO39owUADNZeFY0d3'"
      ]
     },
     "execution_count": 5,
     "metadata": {},
     "output_type": "execute_result"
    }
   ],
   "source": [
    "ga4gh_identify(t_transcript)"
   ]
  },
  {
   "cell_type": "markdown",
   "metadata": {},
   "source": [
    "# Defining a transcript on genomic references"
   ]
  },
  {
   "cell_type": "code",
   "execution_count": 6,
   "metadata": {},
   "outputs": [
    {
     "data": {
      "text/plain": [
       "'ga4gh:X_GT.pTvbXNiGxYhmHFvCn7FeBnAFb14DzAZr'"
      ]
     },
     "execution_count": 6,
     "metadata": {},
     "output_type": "execute_result"
    }
   ],
   "source": [
    "# The Unified Model uses the same data structure as used above, but the underlying sequence and coordinates differ.\n",
    "g_transcript_um = models.Transcript(\n",
    "  sequence_id = g_sequence_id,\n",
    "  exons = [models.SimpleInterval(start=ex[0], end=ex[1]) for ex in g_exons],\n",
    "  cds = models.SimpleInterval(start=g_cds[0], end=g_cds[1])\n",
    ")\n",
    "ga4gh_identify(g_transcript_um)"
   ]
  },
  {
   "cell_type": "code",
   "execution_count": 7,
   "metadata": {},
   "outputs": [],
   "source": [
    "# The AnnotatedSequence Model defines features on the annotated sequence\n",
    "\n",
    "feature_intervals = [models.FeatureInterval(start=ex[0], end=ex[1], strand=\"+\", feature_type=\"exon\")\n",
    "                     for ex in g_exons]\n",
    "feature_intervals += [models.FeatureInterval(start=g_cds[0], end=g_cds[1], strand=\"+\", feature_type=\"cds\")]\n",
    "g_transcript_asm = models.AnnotatedSequence(\n",
    "    sequence_id = g_sequence_id,\n",
    "    feature_id = ga4gh_identify(t_transcript),\n",
    "    feature_intervals = feature_intervals\n",
    ")"
   ]
  },
  {
   "cell_type": "markdown",
   "metadata": {},
   "source": [
    "## Comparison"
   ]
  },
  {
   "cell_type": "code",
   "execution_count": 8,
   "metadata": {},
   "outputs": [
    {
     "data": {
      "text/plain": [
       "{'cds': {'end': 2243, 'start': 1031, 'type': 'SimpleInterval'},\n",
       " 'exons': [{'end': 1110, 'start': 0, 'type': 'SimpleInterval'},\n",
       "  {'end': 1195, 'start': 1110, 'type': 'SimpleInterval'},\n",
       "  {'end': 1240, 'start': 1195, 'type': 'SimpleInterval'},\n",
       "  {'end': 1284, 'start': 1240, 'type': 'SimpleInterval'},\n",
       "  {'end': 1523, 'start': 1284, 'type': 'SimpleInterval'},\n",
       "  {'end': 1665, 'start': 1523, 'type': 'SimpleInterval'},\n",
       "  {'end': 1832, 'start': 1665, 'type': 'SimpleInterval'},\n",
       "  {'end': 2057, 'start': 1832, 'type': 'SimpleInterval'},\n",
       "  {'end': 8701, 'start': 2057, 'type': 'SimpleInterval'}],\n",
       " 'sequence_id': 'ga4gh:SQ.7YNhHjHLiBJwNd43xjLJA7jjnuJwPhxn',\n",
       " 'type': 'Transcript'}"
      ]
     },
     "execution_count": 8,
     "metadata": {},
     "output_type": "execute_result"
    }
   ],
   "source": [
    "# Both models have this definition of the transcript on the transcript sequence:\n",
    "t_transcript.as_dict()"
   ]
  },
  {
   "cell_type": "code",
   "execution_count": 9,
   "metadata": {},
   "outputs": [
    {
     "data": {
      "text/plain": [
       "{'cds': {'end': 87965472, 'start': 87864469, 'type': 'SimpleInterval'},\n",
       " 'exons': [{'end': 87864548, 'start': 87863437, 'type': 'SimpleInterval'},\n",
       "  {'end': 87894109, 'start': 87894024, 'type': 'SimpleInterval'},\n",
       "  {'end': 87925557, 'start': 87925512, 'type': 'SimpleInterval'},\n",
       "  {'end': 87931089, 'start': 87931045, 'type': 'SimpleInterval'},\n",
       "  {'end': 87933251, 'start': 87933012, 'type': 'SimpleInterval'},\n",
       "  {'end': 87952259, 'start': 87952117, 'type': 'SimpleInterval'},\n",
       "  {'end': 87958019, 'start': 87957852, 'type': 'SimpleInterval'},\n",
       "  {'end': 87961118, 'start': 87960893, 'type': 'SimpleInterval'},\n",
       "  {'end': 87971930, 'start': 87965286, 'type': 'SimpleInterval'}],\n",
       " 'sequence_id': 'ga4gh:SQ.ss8r_wB0-b9r44TQTMmVTI92884QvBiB',\n",
       " 'type': 'Transcript'}"
      ]
     },
     "execution_count": 9,
     "metadata": {},
     "output_type": "execute_result"
    }
   ],
   "source": [
    "# The Unified Model uses a similar structure on the genomic sequence\n",
    "g_transcript_um.as_dict()"
   ]
  },
  {
   "cell_type": "code",
   "execution_count": 10,
   "metadata": {},
   "outputs": [
    {
     "data": {
      "text/plain": [
       "{'feature_id': 'ga4gh:X_GT.nTRjcOgzR6_owupcO39owUADNZeFY0d3',\n",
       " 'feature_intervals': [{'end': 87864548,\n",
       "   'feature_type': 'exon',\n",
       "   'start': 87863437,\n",
       "   'strand': '+'},\n",
       "  {'end': 87894109, 'feature_type': 'exon', 'start': 87894024, 'strand': '+'},\n",
       "  {'end': 87925557, 'feature_type': 'exon', 'start': 87925512, 'strand': '+'},\n",
       "  {'end': 87931089, 'feature_type': 'exon', 'start': 87931045, 'strand': '+'},\n",
       "  {'end': 87933251, 'feature_type': 'exon', 'start': 87933012, 'strand': '+'},\n",
       "  {'end': 87952259, 'feature_type': 'exon', 'start': 87952117, 'strand': '+'},\n",
       "  {'end': 87958019, 'feature_type': 'exon', 'start': 87957852, 'strand': '+'},\n",
       "  {'end': 87961118, 'feature_type': 'exon', 'start': 87960893, 'strand': '+'},\n",
       "  {'end': 87971930, 'feature_type': 'exon', 'start': 87965286, 'strand': '+'},\n",
       "  {'end': 87965472, 'feature_type': 'cds', 'start': 87864469, 'strand': '+'}],\n",
       " 'sequence_id': 'ga4gh:SQ.ss8r_wB0-b9r44TQTMmVTI92884QvBiB',\n",
       " 'type': 'AnnotatedSequence'}"
      ]
     },
     "execution_count": 10,
     "metadata": {},
     "output_type": "execute_result"
    }
   ],
   "source": [
    "# The AnnotatedSequence Model has a very different structure for the aligned transcript\n",
    "g_transcript_asm.as_dict()"
   ]
  },
  {
   "cell_type": "code",
   "execution_count": 11,
   "metadata": {},
   "outputs": [
    {
     "data": {
      "text/plain": [
       "('ga4gh:X_GT.nTRjcOgzR6_owupcO39owUADNZeFY0d3',\n",
       " 'ga4gh:X_GT.pTvbXNiGxYhmHFvCn7FeBnAFb14DzAZr',\n",
       " 'ga4gh:X_AS.MGKQWWFPSZirmcDMGFZdrau6L1UULfd_')"
      ]
     },
     "execution_count": 11,
     "metadata": {},
     "output_type": "execute_result"
    }
   ],
   "source": [
    "# All of the above may be used to generated computed identfiers\n",
    "# Note that the Unified Model uses the same prefix for transcripts regardless of underlying sequence\n",
    "(ga4gh_identify(t_transcript), ga4gh_identify(g_transcript_um), ga4gh_identify(g_transcript_asm))"
   ]
  },
  {
   "cell_type": "markdown",
   "metadata": {},
   "source": [
    "# Defining transcript locations for CDS variation\n",
    "NM_000314.6(PTEN):c.78C>A  ~  NC_000010.11:g.87864547C>T\n",
    "\n",
    "CDS start c.1 corresponds to n.1032.\n",
    "c.78 corresponds to n.1110, or interbase position 1109,1110 on sequence NM_000314.6.\n",
    "Due to the 1 nt insertion on NC_000010.11, that position aligns to interbase position 1110,1111."
   ]
  },
  {
   "cell_type": "code",
   "execution_count": 12,
   "metadata": {},
   "outputs": [
    {
     "data": {
      "text/plain": [
       "{'interval': {'end': 1110, 'start': 1109, 'type': 'SimpleInterval'},\n",
       " 'transcript_id': 'ga4gh:X_GT.nTRjcOgzR6_owupcO39owUADNZeFY0d3',\n",
       " 'type': 'TranscriptLocation'}"
      ]
     },
     "execution_count": 12,
     "metadata": {},
     "output_type": "execute_result"
    }
   ],
   "source": [
    "t_loc = models.TranscriptLocation(\n",
    "    transcript_id = ga4gh_identify(t_transcript_um),\n",
    "    interval = models.SimpleInterval(start=1109,end=1110))\n",
    "t_loc.as_dict()"
   ]
  },
  {
   "cell_type": "code",
   "execution_count": 13,
   "metadata": {
    "scrolled": true
   },
   "outputs": [
    {
     "data": {
      "text/plain": [
       "{'interval': {'end': 1111, 'start': 1110, 'type': 'SimpleInterval'},\n",
       " 'transcript_id': 'ga4gh:X_GT.pTvbXNiGxYhmHFvCn7FeBnAFb14DzAZr',\n",
       " 'type': 'TranscriptLocation'}"
      ]
     },
     "execution_count": 13,
     "metadata": {},
     "output_type": "execute_result"
    }
   ],
   "source": [
    "# Unified Model\n",
    "g_loc_um = models.TranscriptLocation(\n",
    "    transcript_id = ga4gh_identify(g_transcript_um),\n",
    "    interval = models.SimpleInterval(start=1110,end=1111))\n",
    "g_loc_um.as_dict()"
   ]
  },
  {
   "cell_type": "code",
   "execution_count": 17,
   "metadata": {},
   "outputs": [],
   "source": [
    "# AnnotatedSequence Model\n",
    "g_loc_asm = models.AnnotatedSequenceLocation(\n",
    "    annotated_sequence_id = ga4gh_identify(g_transcript_asm),\n",
    "    interval = models.SimpleInterval(start=1110, end=1111)\n",
    "    #OR interval = models.SimpleInterval(start=1110 + 87894024, end=1111 + 87894024)\n",
    "    )"
   ]
  },
  {
   "cell_type": "markdown",
   "metadata": {},
   "source": [
    "## Transcript Allele"
   ]
  },
  {
   "cell_type": "code",
   "execution_count": 18,
   "metadata": {},
   "outputs": [],
   "source": [
    "a = models.Allele(\n",
    "    location = None, # ga4gh_identify() <any of the above locations> )\n",
    "    state = models.SequenceState(sequence=\"C\"))"
   ]
  },
  {
   "cell_type": "markdown",
   "metadata": {},
   "source": [
    "---\n",
    "---\n",
    "\n",
    "# SCRAPS"
   ]
  },
  {
   "cell_type": "code",
   "execution_count": null,
   "metadata": {},
   "outputs": [],
   "source": [
    "a.as_dict()"
   ]
  },
  {
   "cell_type": "code",
   "execution_count": null,
   "metadata": {},
   "outputs": [],
   "source": [
    "ga4gh_identify(a)"
   ]
  },
  {
   "cell_type": "markdown",
   "metadata": {},
   "source": [
    "## Transcript Feature Locations"
   ]
  },
  {
   "cell_type": "code",
   "execution_count": null,
   "metadata": {},
   "outputs": [],
   "source": [
    "tf = models.TranscriptFeature(feature_type=\"exon\", index=0)\n",
    "tf.as_dict()"
   ]
  },
  {
   "cell_type": "code",
   "execution_count": null,
   "metadata": {},
   "outputs": [],
   "source": [
    "tfi = models.TranscriptFeatureInterval(\n",
    "    start=models.TranscriptFeature(feature_type=\"exon\", index=0),\n",
    "    end=models.TranscriptFeature(feature_type=\"exon\", index=5),\n",
    ")"
   ]
  },
  {
   "cell_type": "code",
   "execution_count": null,
   "metadata": {},
   "outputs": [],
   "source": [
    "tfl = models.TranscriptLocation(\n",
    "    transcript_id = g_transcript_id,\n",
    "    interval = tfi)\n",
    "tfl.as_dict()"
   ]
  },
  {
   "cell_type": "code",
   "execution_count": null,
   "metadata": {},
   "outputs": [],
   "source": [
    "ga4gh_identify(tfl)"
   ]
  },
  {
   "cell_type": "code",
   "execution_count": null,
   "metadata": {},
   "outputs": [],
   "source": [
    "t2 = models.Transcript2(\n",
    "    sequence_id=\"refseq:foo\",\n",
    "    exons=[(0,10),(20,30)])"
   ]
  },
  {
   "cell_type": "code",
   "execution_count": null,
   "metadata": {},
   "outputs": [],
   "source": [
    "t2.as_dict()"
   ]
  },
  {
   "cell_type": "code",
   "execution_count": null,
   "metadata": {},
   "outputs": [],
   "source": []
  },
  {
   "cell_type": "code",
   "execution_count": null,
   "metadata": {},
   "outputs": [],
   "source": []
  }
 ],
 "metadata": {
  "kernelspec": {
   "display_name": "Python 3",
   "language": "python",
   "name": "python3"
  },
  "language_info": {
   "codemirror_mode": {
    "name": "ipython",
    "version": 3
   },
   "file_extension": ".py",
   "mimetype": "text/x-python",
   "name": "python",
   "nbconvert_exporter": "python",
   "pygments_lexer": "ipython3",
   "version": "3.8.5"
  }
 },
 "nbformat": 4,
 "nbformat_minor": 4
}
