{
 "cells": [
  {
   "cell_type": "markdown",
   "metadata": {},
   "source": [
    "# Example for Team meeting "
   ]
  },
  {
   "cell_type": "code",
   "execution_count": 1,
   "metadata": {},
   "outputs": [
    {
     "name": "stderr",
     "output_type": "stream",
     "text": [
      "Removing allOf attribute from CopyNumber to avoid python-jsonschema-objects error.\n",
      "Removing allOf attribute from SequenceInterval to avoid python-jsonschema-objects error.\n",
      "Removing allOf attribute from RepeatedSequenceExpression to avoid python-jsonschema-objects error.\n",
      "/Users/M278428/opt/anaconda3/envs/dev_ga4gh/lib/python3.9/site-packages/python_jsonschema_objects/__init__.py:49: UserWarning: Schema version http://json-schema.org/draft-07/schema not recognized. Some keywords and features may not be supported.\n",
      "  warnings.warn(\n"
     ]
    }
   ],
   "source": [
    "from ga4gh.core import sha512t24u\n",
    "from ga4gh.core import ga4gh_digest, ga4gh_identify, ga4gh_serialize\n",
    "from ga4gh.vrs import __version__, models\n",
    "from ga4gh.vrs.dataproxy import SeqRepoRESTDataProxy\n",
    "import json"
   ]
  },
  {
   "cell_type": "code",
   "execution_count": 2,
   "metadata": {},
   "outputs": [],
   "source": [
    "# Requires seqrepo REST interface is running on this URL (e.g., using docker image)\n",
    "seqrepo_rest_service_url = \"https://services.genomicmedlab.org/seqrepo\"\n",
    "dp = SeqRepoRESTDataProxy(base_url=seqrepo_rest_service_url)"
   ]
  },
  {
   "cell_type": "code",
   "execution_count": 3,
   "metadata": {},
   "outputs": [],
   "source": [
    "def ppo(o, indent=2):\n",
    "    \"\"\"pretty print object as json\"\"\"\n",
    "    print(json.dumps(o.as_dict(), sort_keys=True, indent=indent))"
   ]
  },
  {
   "cell_type": "markdown",
   "metadata": {},
   "source": [
    "#### Example variant is NC_000019.10:g.44908822C>T.\n",
    "#### This will be represented as a molecular varation\n",
    "* Allele class of molecular varation\n",
    "    * includes a Location and State\n",
    "#### Information that we have:\n",
    "* substitution C --> T\n",
    "* position @ 44908822. "
   ]
  },
  {
   "cell_type": "code",
   "execution_count": 4,
   "metadata": {},
   "outputs": [
    {
     "name": "stdout",
     "output_type": "stream",
     "text": [
      "First the NC_000019.10 into a VRS computed identifier, Then use g.44908822C>T to fill out the rest of the class object allele!\n"
     ]
    }
   ],
   "source": [
    "variant = 'NC_000019.10:g.44908822C>T'\n",
    "\n",
    "ref_id, info = variant.split(\":\")\n",
    "print('First the {comp_id} into a VRS computed identifier, Then use {body} to fill out the rest of the class object allele!'.format(comp_id = ref_id,body = info))"
   ]
  },
  {
   "cell_type": "markdown",
   "metadata": {},
   "source": [
    "#### Step 1: Translate NC_000019.10 into a VRS computed Identifier which will represent out CURIE.\n",
    "* This CURIE will be used in SequenceLocation, in the sequence_id attribute."
   ]
  },
  {
   "cell_type": "code",
   "execution_count": 5,
   "metadata": {},
   "outputs": [
    {
     "name": "stdout",
     "output_type": "stream",
     "text": [
      "CURIE id: ['ga4gh:SQ.IIB53T8CNeJJdUqzn9V_JnRtQadwWCbl']\n"
     ]
    }
   ],
   "source": [
    "comp_id = dp.translate_sequence_identifier(ref_id, \"ga4gh\")\n",
    "print(\"CURIE id: {value}\".format(value= comp_id))"
   ]
  },
  {
   "cell_type": "markdown",
   "metadata": {},
   "source": [
    "#### Step 2: We are representing this variant as an Allele object. \n",
    "* Allele Objects have 2 attributes: Location and Sequence\n",
    "* SequenceLocation has 2 attributes: SequenceInterval and sequence_id\n",
    "    * SequenceInterval will represent the location of the substitution that is occuring using inter-base coordinates\n",
    "        * The start and end can be represented using 3 various classes: (Number, DefiniteRange, and IndefiniteRange)\n",
    "    * sequence_id is the CURIE that was created above."
   ]
  },
  {
   "cell_type": "code",
   "execution_count": 6,
   "metadata": {},
   "outputs": [
    {
     "name": "stdout",
     "output_type": "stream",
     "text": [
      "{\n",
      "  \"end\": {\n",
      "    \"type\": \"Number\",\n",
      "    \"value\": 44908822\n",
      "  },\n",
      "  \"start\": {\n",
      "    \"type\": \"Number\",\n",
      "    \"value\": 44908821\n",
      "  },\n",
      "  \"type\": \"SequenceInterval\"\n",
      "}\n",
      "None\n"
     ]
    }
   ],
   "source": [
    "# To create our Sequence locaiton object we need to construct our SequenceInterval object.\n",
    "\n",
    "myinterval =  models.SequenceInterval(start=models.Number(value=44908821, type=\"Number\"), \n",
    "                                   end=models.Number(value=44908822, type=\"Number\"), \n",
    "                                   type=\"SequenceInterval\")\n",
    "print(ppo(myinterval))"
   ]
  },
  {
   "cell_type": "markdown",
   "metadata": {},
   "source": [
    "#### Step 3: Combine our SequenceInterval and sequence_id to create the SequenceLocation Object."
   ]
  },
  {
   "cell_type": "code",
   "execution_count": 7,
   "metadata": {},
   "outputs": [
    {
     "name": "stdout",
     "output_type": "stream",
     "text": [
      "{\n",
      "  \"interval\": {\n",
      "    \"end\": {\n",
      "      \"type\": \"Number\",\n",
      "      \"value\": 44908822\n",
      "    },\n",
      "    \"start\": {\n",
      "      \"type\": \"Number\",\n",
      "      \"value\": 44908821\n",
      "    },\n",
      "    \"type\": \"SequenceInterval\"\n",
      "  },\n",
      "  \"sequence_id\": \"ga4gh:SQ.IIB53T8CNeJJdUqzn9V_JnRtQadwWCbl\",\n",
      "  \"type\": \"SequenceLocation\"\n",
      "}\n",
      "None\n"
     ]
    }
   ],
   "source": [
    "mylocation =  models.SequenceLocation( \n",
    "        sequence_id = 'ga4gh:SQ.IIB53T8CNeJJdUqzn9V_JnRtQadwWCbl',\n",
    "        interval = myinterval)\n",
    "print(ppo(mylocation))"
   ]
  },
  {
   "cell_type": "markdown",
   "metadata": {},
   "source": [
    "#### Step 4: Represent the State by using literalSequenceExpression"
   ]
  },
  {
   "cell_type": "code",
   "execution_count": 8,
   "metadata": {},
   "outputs": [],
   "source": [
    "mystate = models.LiteralSequenceExpression(sequence=\"T\", type=\"LiteralSequenceExpression\")"
   ]
  },
  {
   "cell_type": "markdown",
   "metadata": {},
   "source": [
    "#### Step 5: Combine the location and state objects to create the allele object. "
   ]
  },
  {
   "cell_type": "code",
   "execution_count": 9,
   "metadata": {},
   "outputs": [
    {
     "name": "stdout",
     "output_type": "stream",
     "text": [
      "{\n",
      "  \"location\": {\n",
      "    \"interval\": {\n",
      "      \"end\": {\n",
      "        \"type\": \"Number\",\n",
      "        \"value\": 44908822\n",
      "      },\n",
      "      \"start\": {\n",
      "        \"type\": \"Number\",\n",
      "        \"value\": 44908821\n",
      "      },\n",
      "      \"type\": \"SequenceInterval\"\n",
      "    },\n",
      "    \"sequence_id\": \"ga4gh:SQ.IIB53T8CNeJJdUqzn9V_JnRtQadwWCbl\",\n",
      "    \"type\": \"SequenceLocation\"\n",
      "  },\n",
      "  \"state\": {\n",
      "    \"sequence\": \"T\",\n",
      "    \"type\": \"LiteralSequenceExpression\"\n",
      "  },\n",
      "  \"type\": \"Allele\"\n",
      "}\n",
      "None\n"
     ]
    }
   ],
   "source": [
    "myallele = models.Allele(location = mylocation, state = mystate, type = \"Allele\")\n",
    "print(ppo(myallele))"
   ]
  },
  {
   "cell_type": "code",
   "execution_count": 10,
   "metadata": {},
   "outputs": [
    {
     "name": "stdout",
     "output_type": "stream",
     "text": [
      "{\n",
      "  \"location\": {\n",
      "    \"interval\": {\n",
      "      \"end\": {\n",
      "        \"type\": \"Number\",\n",
      "        \"value\": 44908822\n",
      "      },\n",
      "      \"start\": {\n",
      "        \"type\": \"Number\",\n",
      "        \"value\": 44908821\n",
      "      },\n",
      "      \"type\": \"SequenceInterval\"\n",
      "    },\n",
      "    \"sequence_id\": \"ga4gh:SQ.IIB53T8CNeJJdUqzn9V_JnRtQadwWCbl\",\n",
      "    \"type\": \"SequenceLocation\"\n",
      "  },\n",
      "  \"state\": {\n",
      "    \"sequence\": \"T\",\n",
      "    \"type\": \"LiteralSequenceExpression\"\n",
      "  },\n",
      "  \"type\": \"Allele\"\n",
      "}\n"
     ]
    }
   ],
   "source": [
    "a1 = models.Allele(\n",
    "    location = models.SequenceLocation( \n",
    "        sequence_id = 'ga4gh:SQ.IIB53T8CNeJJdUqzn9V_JnRtQadwWCbl',\n",
    "        interval = models.SequenceInterval(start=models.Number(value=44908821, type=\"Number\"), \n",
    "                                   end=models.Number(value=44908822, type=\"Number\"), \n",
    "                                   type=\"SequenceInterval\")\n",
    "    ),\n",
    "    state=models.LiteralSequenceExpression(sequence=\"T\", type=\"LiteralSequenceExpression\"),\n",
    "    type=\"Allele\"\n",
    ")\n",
    "ppo(a1)"
   ]
  },
  {
   "cell_type": "code",
   "execution_count": 11,
   "metadata": {},
   "outputs": [
    {
     "name": "stdout",
     "output_type": "stream",
     "text": [
      "True\n"
     ]
    }
   ],
   "source": [
    "#Testing if they are both the same objects\n",
    "print(myallele == a1)"
   ]
  }
 ],
 "metadata": {
  "kernelspec": {
   "display_name": "Python 3.9.12 ('dev_ga4gh')",
   "language": "python",
   "name": "python3"
  },
  "language_info": {
   "codemirror_mode": {
    "name": "ipython",
    "version": 3
   },
   "file_extension": ".py",
   "mimetype": "text/x-python",
   "name": "python",
   "nbconvert_exporter": "python",
   "pygments_lexer": "ipython3",
   "version": "3.9.12"
  },
  "orig_nbformat": 4,
  "vscode": {
   "interpreter": {
    "hash": "ef3fda8021ed6ddb2e03d54c76fcd0ea63d7a9b4b6698faed9d9d4d95a801b2a"
   }
  }
 },
 "nbformat": 4,
 "nbformat_minor": 2
}
