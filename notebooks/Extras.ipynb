{
 "cells": [
  {
   "cell_type": "markdown",
   "metadata": {},
   "source": [
    "# ga4gh.vr.extras\n",
    "\n",
    "This notebook demonstrates functionality in the vr-python package that builds on the VR specification but is not formally part of the specification. "
   ]
  },
  {
   "cell_type": "markdown",
   "metadata": {},
   "source": [
    "## Data Proxy\n",
    "VR implementations will need access to sequences and sequence identifiers. Sequences are used during normalization and during conversions with other formats. Sequence identifiers are necessary in order to translate identfiers from common forms to a digest-based identifier.\n",
    "\n",
    "The VR specification leaves the choice of those data sources to the implementations.  In vr-python, `ga4gh.vr.extras.dataproxy` provides an abstract base class as a basis for data source adapters.  One source is [SeqRepo](https://github.com/biocommons/biocommons.seqrepo/), which is used below.  (An adapter based on the GA4GH refget specification exists, but is pending necessary changes to the refget interface to provide accession-based lookups.)\n",
    "\n",
    "SeqRepo: [github](https://github.com/biocommons/biocommons.seqrepo/) | [data snapshots](http://dl.biocommons.org/seqrepo/) | [seqrepo-rest-service @ github](https://github.com/biocommons/seqrepo-rest-service) | [seqrepo-rest-service docker images](https://cloud.docker.com/u/biocommons/repository/docker/biocommons/seqrepo-rest-service)\n",
    "\n",
    "RefGet: [spec](https://samtools.github.io/hts-specs/refget.html) | [perl server](https://github.com/andrewyatz/refget-server-perl)"
   ]
  },
  {
   "cell_type": "code",
   "execution_count": 1,
   "metadata": {},
   "outputs": [],
   "source": [
    "from ga4gh.core import ga4gh_digest\n",
    "from ga4gh.vr import __version__, ga4gh_identify, ga4gh_serialize, models, normalize\n",
    "from ga4gh.vr.extras.dataproxy import SeqRepoRESTDataProxy\n",
    "\n",
    "seqrepo_rest_service_url = \"http://localhost:5000/seqrepo\""
   ]
  },
  {
   "cell_type": "code",
   "execution_count": 2,
   "metadata": {},
   "outputs": [],
   "source": [
    "# Requires seqrepo REST interface is running on this URL (e.g., using docker image)\n",
    "dp = SeqRepoRESTDataProxy(base_url=seqrepo_rest_service_url)"
   ]
  },
  {
   "cell_type": "code",
   "execution_count": 3,
   "metadata": {},
   "outputs": [
    {
     "name": "stderr",
     "output_type": "stream",
     "text": [
      "2019-06-18 15:33:20 snafu ga4gh.vr.extras.dataproxy[23548] INFO Fetching http://localhost:5000/seqrepo/1/metadata/RefSeq:NM_000551.3\n"
     ]
    },
    {
     "data": {
      "text/plain": [
       "{'added': '2016-08-24T05:03:11Z',\n",
       " 'aliases': ['MD5:215137b1973c1a5afcf86be7d999574a',\n",
       "  'RefSeq:NM_000551.3',\n",
       "  'SEGUID:T12L0p2X5E8DbnL0+SwI4Wc1S6g',\n",
       "  'SHA1:4f5d8bd29d97e44f036e72f4f92c08e167354ba8',\n",
       "  'VMC:GS_v_QTc1p-MUYdgrRv4LMT6ByXIOsdw3C_',\n",
       "  'ga4gh:SQ/v_QTc1p-MUYdgrRv4LMT6ByXIOsdw3C_',\n",
       "  'TRUNC512:bff413735a7e31461d82b46fe0b313e81c9720eb1dc370bf',\n",
       "  'gi:319655736'],\n",
       " 'alphabet': 'ACGT',\n",
       " 'length': 4560}"
      ]
     },
     "execution_count": 3,
     "metadata": {},
     "output_type": "execute_result"
    }
   ],
   "source": [
    "dp.get_metadata(\"refseq:NM_000551.3\")"
   ]
  },
  {
   "cell_type": "code",
   "execution_count": 4,
   "metadata": {},
   "outputs": [
    {
     "name": "stderr",
     "output_type": "stream",
     "text": [
      "2019-06-18 15:33:20 snafu ga4gh.vr.extras.dataproxy[23548] INFO Fetching http://localhost:5000/seqrepo/1/sequence/VMC:GS_v_QTc1p-MUYdgrRv4LMT6ByXIOsdw3C_\n"
     ]
    },
    {
     "data": {
      "text/plain": [
       "'CCTCGCCTCCGTTACAACGGCCTACGGTGCTGGAGGATCCTTCTGCGCAC...'"
      ]
     },
     "execution_count": 4,
     "metadata": {},
     "output_type": "execute_result"
    }
   ],
   "source": [
    "dp.get_sequence(\"ga4gh:SQ/v_QTc1p-MUYdgrRv4LMT6ByXIOsdw3C_\", start=0, end=50) + \"...\""
   ]
  },
  {
   "cell_type": "markdown",
   "metadata": {},
   "source": [
    "## Format translator\n",
    "ga4gh.vr.extras.translator translates various formats into VR representations.\n",
    "\n",
    "<br>\n",
    "<div>\n",
    "    <div style=\"border-radius: 10px; width: 80%; margin: 0 auto; padding: 5px; background: #d9ead3; border: 2pt solid #274e13; color: #274e13\">\n",
    "    <span style=\"font-size: 200%\">🚀</span> The examples below use the same variant in 4 formats: HGVS, beacon, spdi, and VCF/gnomAD. Notice that the resulting Allele objects and computed identifiers are identical.</b>\n",
    "    </div>\n",
    "</div>\n"
   ]
  },
  {
   "cell_type": "code",
   "execution_count": 5,
   "metadata": {},
   "outputs": [
    {
     "name": "stderr",
     "output_type": "stream",
     "text": [
      "2019-06-18 15:33:20 snafu hgvs[23548] INFO hgvs 1.3.0.post0; released: False\n"
     ]
    }
   ],
   "source": [
    "from ga4gh.vr.extras.translator import Translator\n",
    "tlr = Translator(data_proxy=dp)"
   ]
  },
  {
   "cell_type": "code",
   "execution_count": 6,
   "metadata": {},
   "outputs": [
    {
     "name": "stderr",
     "output_type": "stream",
     "text": [
      "2019-06-18 15:33:20 snafu ga4gh.vr.extras.translator[23548] INFO Creating  parser\n",
      "2019-06-18 15:33:22 snafu ga4gh.vr.extras.dataproxy[23548] INFO Fetching http://localhost:5000/seqrepo/1/metadata/RefSeq:NC_000013.11\n"
     ]
    },
    {
     "data": {
      "text/plain": [
       "{'id': 'ga4gh:VA/n9ax-9x6gOC0OEt73VMYqCBfqfxG1XUH',\n",
       " 'location': {'id': 'ga4gh:SL/v9K0mcjQVugxTDIcdi7GBJ_R6fZ1lsYq',\n",
       "  'interval': {'end': 32936732, 'start': 32936731, 'type': 'SimpleInterval'},\n",
       "  'sequence_id': 'ga4gh:SQ/_0wi-qoDrvram155UmcSC-zA5ZK4fpLT',\n",
       "  'type': 'SequenceLocation'},\n",
       " 'state': {'sequence': 'C', 'type': 'SequenceState'},\n",
       " 'type': 'Allele'}"
      ]
     },
     "execution_count": 6,
     "metadata": {},
     "output_type": "execute_result"
    }
   ],
   "source": [
    "a = tlr.from_hgvs(\"NC_000013.11:g.32936732G>C\")\n",
    "a.as_dict()"
   ]
  },
  {
   "cell_type": "code",
   "execution_count": 7,
   "metadata": {},
   "outputs": [
    {
     "name": "stderr",
     "output_type": "stream",
     "text": [
      "2019-06-18 15:33:22 snafu ga4gh.vr.extras.dataproxy[23548] INFO Fetching http://localhost:5000/seqrepo/1/metadata/GRCh38:13\n"
     ]
    },
    {
     "data": {
      "text/plain": [
       "{'id': 'ga4gh:VA/n9ax-9x6gOC0OEt73VMYqCBfqfxG1XUH',\n",
       " 'location': {'id': 'ga4gh:SL/v9K0mcjQVugxTDIcdi7GBJ_R6fZ1lsYq',\n",
       "  'interval': {'end': 32936732, 'start': 32936731, 'type': 'SimpleInterval'},\n",
       "  'sequence_id': 'ga4gh:SQ/_0wi-qoDrvram155UmcSC-zA5ZK4fpLT',\n",
       "  'type': 'SequenceLocation'},\n",
       " 'state': {'sequence': 'C', 'type': 'SequenceState'},\n",
       " 'type': 'Allele'}"
      ]
     },
     "execution_count": 7,
     "metadata": {},
     "output_type": "execute_result"
    }
   ],
   "source": [
    "# from_beacon: Translate from beacon's form\n",
    "a = tlr.from_beacon(\"13 : 32936732 G > C\")\n",
    "a.as_dict()"
   ]
  },
  {
   "cell_type": "code",
   "execution_count": 8,
   "metadata": {},
   "outputs": [
    {
     "data": {
      "text/plain": [
       "{'id': 'ga4gh:VA/n9ax-9x6gOC0OEt73VMYqCBfqfxG1XUH',\n",
       " 'location': {'id': 'ga4gh:SL/v9K0mcjQVugxTDIcdi7GBJ_R6fZ1lsYq',\n",
       "  'interval': {'end': 32936732, 'start': 32936731, 'type': 'SimpleInterval'},\n",
       "  'sequence_id': 'ga4gh:SQ/_0wi-qoDrvram155UmcSC-zA5ZK4fpLT',\n",
       "  'type': 'SequenceLocation'},\n",
       " 'state': {'sequence': 'C', 'type': 'SequenceState'},\n",
       " 'type': 'Allele'}"
      ]
     },
     "execution_count": 8,
     "metadata": {},
     "output_type": "execute_result"
    }
   ],
   "source": [
    "# SPDI uses 0-based coordinates\n",
    "a = tlr.from_spdi(\"NC_000013.11:32936731:1:C\")\n",
    "a.as_dict()"
   ]
  },
  {
   "cell_type": "code",
   "execution_count": 9,
   "metadata": {},
   "outputs": [
    {
     "data": {
      "text/plain": [
       "{'id': 'ga4gh:VA/n9ax-9x6gOC0OEt73VMYqCBfqfxG1XUH',\n",
       " 'location': {'id': 'ga4gh:SL/v9K0mcjQVugxTDIcdi7GBJ_R6fZ1lsYq',\n",
       "  'interval': {'end': 32936732, 'start': 32936731, 'type': 'SimpleInterval'},\n",
       "  'sequence_id': 'ga4gh:SQ/_0wi-qoDrvram155UmcSC-zA5ZK4fpLT',\n",
       "  'type': 'SequenceLocation'},\n",
       " 'state': {'sequence': 'C', 'type': 'SequenceState'},\n",
       " 'type': 'Allele'}"
      ]
     },
     "execution_count": 9,
     "metadata": {},
     "output_type": "execute_result"
    }
   ],
   "source": [
    "a = tlr.from_vcf(\"13-32936732-G-C\")   # gnomAD-style expression\n",
    "a.as_dict()"
   ]
  },
  {
   "cell_type": "markdown",
   "metadata": {},
   "source": [
    "## Detailed HGVS Examples\n",
    "These examples were contributed by Ronak Patel to assess the [ClinGen Allele Registry](https://reg.clinicalgenome.org/) implementation of VR."
   ]
  },
  {
   "cell_type": "code",
   "execution_count": 10,
   "metadata": {},
   "outputs": [],
   "source": [
    "hgvs_exprs = [\n",
    "    \"NC_000013.11:g.32936732C=\",\n",
    "    \"NC_000007.14:g.55181320A>T\",\n",
    "    \"NC_000007.14:g.55181220del\",\n",
    "    \"NC_000007.14:g.55181230_55181231insGGCT\"\n",
    "]"
   ]
  },
  {
   "cell_type": "code",
   "execution_count": 11,
   "metadata": {
    "scrolled": false
   },
   "outputs": [
    {
     "name": "stderr",
     "output_type": "stream",
     "text": [
      "2019-06-18 15:33:22 snafu ga4gh.vr.extras.dataproxy[23548] INFO Fetching http://localhost:5000/seqrepo/1/sequence/NC_000013.11\n"
     ]
    },
    {
     "data": {
      "text/html": [
       "<table><tr style='background:#ffc'> <th colspan=2 style='text-align:left'><pre>NC_000013.11:g.32936732C=</pre></th> </tr><tr> <th>json</th> <td style='text-align:left'><pre>{'id': 'ga4gh:VA/n9ax-9x6gOC0OEt73VMYqCBfqfxG1XUH',\n",
       " 'location': {'id': 'ga4gh:SL/v9K0mcjQVugxTDIcdi7GBJ_R6fZ1lsYq',\n",
       "              'interval': {'end': 32936732,\n",
       "                           'start': 32936731,\n",
       "                           'type': 'SimpleInterval'},\n",
       "              'sequence_id': 'ga4gh:SQ/_0wi-qoDrvram155UmcSC-zA5ZK4fpLT',\n",
       "              'type': 'SequenceLocation'},\n",
       " 'state': {'sequence': 'C', 'type': 'SequenceState'},\n",
       " 'type': 'Allele'}</pre></td> </tr><tr> <th>ga4gh identifier</th> <td style='text-align:left'><pre>ga4gh:VA/n9ax-9x6gOC0OEt73VMYqCBfqfxG1XUH</pre></td> </tr><tr> <th>ga4gh serialization (allele)</th> <td style='text-align:left'><pre>b'{\"location\":\"v9K0mcjQVugxTDIcdi7GBJ_R6fZ1lsYq\",\"state\":{\"sequence\":\"C\",\"type\":\"SequenceState\"},\"type\":\"Allele\"}'</pre></td> </tr><tr> <th>ga4gh serialization (location)</th> <td style='text-align:left'><pre>b'{\"interval\":{\"end\":32936732,\"start\":32936731,\"type\":\"SimpleInterval\"},\"sequence_id\":\"_0wi-qoDrvram155UmcSC-zA5ZK4fpLT\",\"type\":\"SequenceLocation\"}'</pre></td> </tr></table>"
      ],
      "text/plain": [
       "<IPython.core.display.HTML object>"
      ]
     },
     "metadata": {},
     "output_type": "display_data"
    },
    {
     "name": "stderr",
     "output_type": "stream",
     "text": [
      "2019-06-18 15:33:22 snafu ga4gh.vr.extras.dataproxy[23548] INFO Fetching http://localhost:5000/seqrepo/1/metadata/RefSeq:NC_000007.14\n"
     ]
    },
    {
     "data": {
      "text/html": [
       "<table><tr style='background:#ffc'> <th colspan=2 style='text-align:left'><pre>NC_000007.14:g.55181320A>T</pre></th> </tr><tr> <th>json</th> <td style='text-align:left'><pre>{'id': 'ga4gh:VA/vU0meY5wGjpyRLCjSxCfb2Jlruyn2adL',\n",
       " 'location': {'id': 'ga4gh:SL/5D9eG-ev4fA7mYIpOpDEe-4Am1lzPZlQ',\n",
       "              'interval': {'end': 55181320,\n",
       "                           'start': 55181319,\n",
       "                           'type': 'SimpleInterval'},\n",
       "              'sequence_id': 'ga4gh:SQ/F-LrLMe1SRpfUZHkQmvkVKFEGaoDeHul',\n",
       "              'type': 'SequenceLocation'},\n",
       " 'state': {'sequence': 'T', 'type': 'SequenceState'},\n",
       " 'type': 'Allele'}</pre></td> </tr><tr> <th>ga4gh identifier</th> <td style='text-align:left'><pre>ga4gh:VA/vU0meY5wGjpyRLCjSxCfb2Jlruyn2adL</pre></td> </tr><tr> <th>ga4gh serialization (allele)</th> <td style='text-align:left'><pre>b'{\"location\":\"5D9eG-ev4fA7mYIpOpDEe-4Am1lzPZlQ\",\"state\":{\"sequence\":\"T\",\"type\":\"SequenceState\"},\"type\":\"Allele\"}'</pre></td> </tr><tr> <th>ga4gh serialization (location)</th> <td style='text-align:left'><pre>b'{\"interval\":{\"end\":55181320,\"start\":55181319,\"type\":\"SimpleInterval\"},\"sequence_id\":\"F-LrLMe1SRpfUZHkQmvkVKFEGaoDeHul\",\"type\":\"SequenceLocation\"}'</pre></td> </tr></table>"
      ],
      "text/plain": [
       "<IPython.core.display.HTML object>"
      ]
     },
     "metadata": {},
     "output_type": "display_data"
    },
    {
     "data": {
      "text/html": [
       "<table><tr style='background:#ffc'> <th colspan=2 style='text-align:left'><pre>NC_000007.14:g.55181220del</pre></th> </tr><tr> <th>json</th> <td style='text-align:left'><pre>{'id': 'ga4gh:VA/csOXic4ezsVVEPJjM7jdcx4cCYuWNvFx',\n",
       " 'location': {'id': 'ga4gh:SL/eDAO6enI-Mok9nCCJotVmsKzi0vwBF9t',\n",
       "              'interval': {'end': 55181220,\n",
       "                           'start': 55181219,\n",
       "                           'type': 'SimpleInterval'},\n",
       "              'sequence_id': 'ga4gh:SQ/F-LrLMe1SRpfUZHkQmvkVKFEGaoDeHul',\n",
       "              'type': 'SequenceLocation'},\n",
       " 'state': {'sequence': '', 'type': 'SequenceState'},\n",
       " 'type': 'Allele'}</pre></td> </tr><tr> <th>ga4gh identifier</th> <td style='text-align:left'><pre>ga4gh:VA/csOXic4ezsVVEPJjM7jdcx4cCYuWNvFx</pre></td> </tr><tr> <th>ga4gh serialization (allele)</th> <td style='text-align:left'><pre>b'{\"location\":\"eDAO6enI-Mok9nCCJotVmsKzi0vwBF9t\",\"state\":{\"sequence\":\"\",\"type\":\"SequenceState\"},\"type\":\"Allele\"}'</pre></td> </tr><tr> <th>ga4gh serialization (location)</th> <td style='text-align:left'><pre>b'{\"interval\":{\"end\":55181220,\"start\":55181219,\"type\":\"SimpleInterval\"},\"sequence_id\":\"F-LrLMe1SRpfUZHkQmvkVKFEGaoDeHul\",\"type\":\"SequenceLocation\"}'</pre></td> </tr></table>"
      ],
      "text/plain": [
       "<IPython.core.display.HTML object>"
      ]
     },
     "metadata": {},
     "output_type": "display_data"
    },
    {
     "data": {
      "text/html": [
       "<table><tr style='background:#ffc'> <th colspan=2 style='text-align:left'><pre>NC_000007.14:g.55181230_55181231insGGCT</pre></th> </tr><tr> <th>json</th> <td style='text-align:left'><pre>{'id': 'ga4gh:VA/mL71zVuJ7BKsB6U825nJuGv31S84puyd',\n",
       " 'location': {'id': 'ga4gh:SL/YRGVXC7g1ScsKl_z594KbS8FLflV3sLV',\n",
       "              'interval': {'end': 55181230,\n",
       "                           'start': 55181230,\n",
       "                           'type': 'SimpleInterval'},\n",
       "              'sequence_id': 'ga4gh:SQ/F-LrLMe1SRpfUZHkQmvkVKFEGaoDeHul',\n",
       "              'type': 'SequenceLocation'},\n",
       " 'state': {'sequence': 'GGCT', 'type': 'SequenceState'},\n",
       " 'type': 'Allele'}</pre></td> </tr><tr> <th>ga4gh identifier</th> <td style='text-align:left'><pre>ga4gh:VA/mL71zVuJ7BKsB6U825nJuGv31S84puyd</pre></td> </tr><tr> <th>ga4gh serialization (allele)</th> <td style='text-align:left'><pre>b'{\"location\":\"YRGVXC7g1ScsKl_z594KbS8FLflV3sLV\",\"state\":{\"sequence\":\"GGCT\",\"type\":\"SequenceState\"},\"type\":\"Allele\"}'</pre></td> </tr><tr> <th>ga4gh serialization (location)</th> <td style='text-align:left'><pre>b'{\"interval\":{\"end\":55181230,\"start\":55181230,\"type\":\"SimpleInterval\"},\"sequence_id\":\"F-LrLMe1SRpfUZHkQmvkVKFEGaoDeHul\",\"type\":\"SequenceLocation\"}'</pre></td> </tr></table>"
      ],
      "text/plain": [
       "<IPython.core.display.HTML object>"
      ]
     },
     "metadata": {},
     "output_type": "display_data"
    }
   ],
   "source": [
    "import pprint\n",
    "from IPython.display import HTML, display\n",
    "import tabulate\n",
    "\n",
    "def pre(o):\n",
    "    return f\"<pre>{o}</pre>\"\n",
    "def hrow(h):\n",
    "    return f\"<tr style='background:#ffc'> <th colspan=2 style='text-align:left'>{h}</th> </tr>\"\n",
    "def row(h, d):\n",
    "    return f\"<tr> <th>{h}</th> <td style='text-align:left'>{pre(d)}</td> </tr>\"\n",
    "\n",
    "table_blocks = []\n",
    "for hgvs_expr in hgvs_exprs:\n",
    "    a = tlr.from_hgvs(hgvs_expr)\n",
    "    table_blocks = (\n",
    "        hrow(pre(hgvs_expr)),\n",
    "        row(\"json\", pprint.pformat(a.as_dict())),\n",
    "        row(\"ga4gh identifier\", ga4gh_identify(a)),\n",
    "        row(\"ga4gh serialization (allele)\", ga4gh_serialize(a)),\n",
    "        row(\"ga4gh serialization (location)\", ga4gh_serialize(a.location)),\n",
    "    )\n",
    "    display(HTML(\"<table>\" + \"\".join(table_blocks) + \"</table>\"))"
   ]
  },
  {
   "cell_type": "code",
   "execution_count": null,
   "metadata": {},
   "outputs": [],
   "source": []
  }
 ],
 "metadata": {
  "kernelspec": {
   "display_name": "Python 3",
   "language": "python",
   "name": "python3"
  },
  "language_info": {
   "codemirror_mode": {
    "name": "ipython",
    "version": 3
   },
   "file_extension": ".py",
   "mimetype": "text/x-python",
   "name": "python",
   "nbconvert_exporter": "python",
   "pygments_lexer": "ipython3",
   "version": "3.7.3"
  }
 },
 "nbformat": 4,
 "nbformat_minor": 2
}
