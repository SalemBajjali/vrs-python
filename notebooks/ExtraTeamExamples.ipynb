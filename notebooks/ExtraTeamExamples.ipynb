{
 "cells": [
  {
   "cell_type": "code",
   "execution_count": 3,
   "metadata": {},
   "outputs": [
    {
     "name": "stderr",
     "output_type": "stream",
     "text": [
      "/Users/M278428/opt/anaconda3/envs/test_dev_vrs_installation/lib/python3.9/site-packages/python_jsonschema_objects/__init__.py:49: UserWarning: Schema version http://json-schema.org/draft-07/schema not recognized. Some keywords and features may not be supported.\n",
      "  warnings.warn(\n"
     ]
    }
   ],
   "source": [
    "from ga4gh.core import sha512t24u\n",
    "from ga4gh.core import ga4gh_digest, ga4gh_identify, ga4gh_serialize\n",
    "from ga4gh.vrs import __version__, models\n",
    "from ga4gh.vrs.dataproxy import SeqRepoRESTDataProxy\n",
    "import json"
   ]
  },
  {
   "cell_type": "code",
   "execution_count": 4,
   "metadata": {},
   "outputs": [],
   "source": [
    "# Requires seqrepo REST interface is running on this URL (e.g., using docker image)\n",
    "seqrepo_rest_service_url = \"https://services.genomicmedlab.org/seqrepo\"\n",
    "dp = SeqRepoRESTDataProxy(base_url=seqrepo_rest_service_url)"
   ]
  },
  {
   "cell_type": "code",
   "execution_count": 5,
   "metadata": {},
   "outputs": [],
   "source": [
    "def ppo(o, indent=2):\n",
    "    \"\"\"pretty print object as json\"\"\"\n",
    "    print(json.dumps(o.as_dict(), sort_keys=True, indent=indent))"
   ]
  },
  {
   "cell_type": "markdown",
   "metadata": {},
   "source": [
    "# Guide of Breaking down varation. \n",
    "\n",
    "## What time of varation is occuring? \n",
    "    - substitution, deletion, or insertion ?\n",
    "        - NOTE: this will help you identify how you will use interbase residue to calculate your start and end locaiton. \n",
    "        \n",
    "## Location\n",
    "    - Chromosome or Sequence level \n",
    "    - What location is present to infer from? \n",
    "        - Start \n",
    "        - End\n",
    "## State\n",
    "    - Literal, Derived, Repeated ? "
   ]
  },
  {
   "cell_type": "markdown",
   "metadata": {},
   "source": [
    "Citation:\n",
    "* These examples were contributed by Ronak Patel to assess the ClinGen Allele Registry implementation of VR. \n",
    "* https://github.com/ga4gh/vrs-python/blob/8161aef297b257fe118c1bcc306a456851a7df1e/notebooks/appendices/Contributed%20Tests.ipynb"
   ]
  },
  {
   "cell_type": "markdown",
   "metadata": {},
   "source": [
    "### Example 1: NC_000013.11:g.32936732C=\n",
    "\n",
    "Varation\n",
    "* “=” (equals) is used to indicate a sequence was tested but found unchanged; p.(Arg234=)\n",
    "* NOTE: Im assuming I treat this as a Substitution\n",
    "\n",
    "Location\n",
    "* Sequence Level\n",
    "* Start: 32936731\n",
    "* End: 32936732\n",
    "\n",
    "State\n",
    "* Literal: \"C\""
   ]
  },
  {
   "cell_type": "code",
   "execution_count": 6,
   "metadata": {},
   "outputs": [
    {
     "name": "stdout",
     "output_type": "stream",
     "text": [
      "{\n",
      "  \"location\": {\n",
      "    \"interval\": {\n",
      "      \"end\": {\n",
      "        \"type\": \"Number\",\n",
      "        \"value\": 32936732\n",
      "      },\n",
      "      \"start\": {\n",
      "        \"type\": \"Number\",\n",
      "        \"value\": 32936731\n",
      "      },\n",
      "      \"type\": \"SequenceInterval\"\n",
      "    },\n",
      "    \"sequence_id\": \"ga4gh:SQ._0wi-qoDrvram155UmcSC-zA5ZK4fpLT\",\n",
      "    \"type\": \"SequenceLocation\"\n",
      "  },\n",
      "  \"state\": {\n",
      "    \"sequence\": \"C\",\n",
      "    \"type\": \"LiteralSequenceExpression\"\n",
      "  },\n",
      "  \"type\": \"Allele\"\n",
      "}\n",
      "ga4gh:VA.DkZLLMnwoH6zIncSRh2c05nzCNLdTqHl\n"
     ]
    }
   ],
   "source": [
    "ex1_interval = models.SequenceInterval(start = models.Number(value= 32936731, type = \"Number\"),end = models.Number(value= 32936732, type = \"Number\"), type = \"SequenceInterval\")\n",
    "ex1_compid = dp.translate_sequence_identifier(\"NC_000013.11\", \"ga4gh\")\n",
    "ex1_location = models.SequenceLocation(\n",
    "    sequence_id = \"ga4gh:SQ._0wi-qoDrvram155UmcSC-zA5ZK4fpLT\",\n",
    "        interval = ex1_interval,\n",
    "        type = \"SequenceLocation\")\n",
    "ex1_state = models.LiteralSequenceExpression(sequence=\"C\", type=\"LiteralSequenceExpression\")\n",
    "ex1_allele = models.Allele(location = ex1_location, state = ex1_state, type = \"Allele\")\n",
    "ppo(ex1_allele)\n",
    "print(ga4gh_identify(ex1_allele))"
   ]
  },
  {
   "cell_type": "markdown",
   "metadata": {},
   "source": [
    "### Example 2: NC_000007.14:g.55181320A>T\n",
    "\n",
    "Varation\n",
    "* “>” (greater than) is used to describe substitution variants (DNA and RNA level); g.12345A>T, r.123a>u (see DNA, RNA)\n",
    "* NOTE: Treat as a Substitution\n",
    "\n",
    "Location\n",
    "* Sequence Level\n",
    "* Start: 55181319\n",
    "* End: 55181320\n",
    "\n",
    "State\n",
    "* Literal: \"T\""
   ]
  },
  {
   "cell_type": "code",
   "execution_count": 7,
   "metadata": {},
   "outputs": [
    {
     "name": "stdout",
     "output_type": "stream",
     "text": [
      "['ga4gh:SQ.F-LrLMe1SRpfUZHkQmvkVKFEGaoDeHul']\n"
     ]
    }
   ],
   "source": [
    "ex2_compid = dp.translate_sequence_identifier(\"NC_000007.14\", \"ga4gh\")\n",
    "print(ex2_compid)"
   ]
  },
  {
   "cell_type": "code",
   "execution_count": 8,
   "metadata": {},
   "outputs": [
    {
     "name": "stdout",
     "output_type": "stream",
     "text": [
      "{\n",
      "  \"location\": {\n",
      "    \"interval\": {\n",
      "      \"end\": {\n",
      "        \"type\": \"Number\",\n",
      "        \"value\": 55181320\n",
      "      },\n",
      "      \"start\": {\n",
      "        \"type\": \"Number\",\n",
      "        \"value\": 55181319\n",
      "      },\n",
      "      \"type\": \"SequenceInterval\"\n",
      "    },\n",
      "    \"sequence_id\": \"ga4gh:SQ.F-LrLMe1SRpfUZHkQmvkVKFEGaoDeHul\",\n",
      "    \"type\": \"SequenceLocation\"\n",
      "  },\n",
      "  \"state\": {\n",
      "    \"sequence\": \"T\",\n",
      "    \"type\": \"LiteralSequenceExpression\"\n",
      "  },\n",
      "  \"type\": \"Allele\"\n",
      "}\n",
      "ga4gh:VA.5Z7gWQGUuGAPe4Pw2_kJvnkhS2Q5jRhY\n"
     ]
    }
   ],
   "source": [
    "ex2_allele = models.Allele(\n",
    "\n",
    "    location = models.Location(\n",
    "        type = \"SequenceLocation\",\n",
    "        sequence_id = \"ga4gh:SQ.F-LrLMe1SRpfUZHkQmvkVKFEGaoDeHul\",\n",
    "        interval = models.SequenceInterval(\n",
    "            start = models.Number(value = 55181319, type = \"Number\"),\n",
    "            end = models.Number(value = 55181320, type = \"Number\")\n",
    "        )\n",
    "    ),\n",
    "\n",
    "    state = models.LiteralSequenceExpression(sequence = \"T\",type = \"LiteralSequenceExpression\"),\n",
    "\n",
    "    type = \"Allele\"\n",
    ")\n",
    "\n",
    "ppo(ex2_allele)\n",
    "print(ga4gh_identify(ex2_allele))"
   ]
  },
  {
   "cell_type": "markdown",
   "metadata": {},
   "source": [
    "### Example 3: NC_000007.14:g.55181220del\n",
    "\n",
    "Varation\n",
    "* “del” indicates a deletion; c.76delA\n",
    "* NOTE: Treat as a Del\n",
    "\n",
    "Location\n",
    "* Sequence Level\n",
    "* Start: 55181219\n",
    "* End: 55181220\n",
    "\n",
    "State\n",
    "* Literal: \" \""
   ]
  },
  {
   "cell_type": "code",
   "execution_count": 9,
   "metadata": {},
   "outputs": [
    {
     "name": "stdout",
     "output_type": "stream",
     "text": [
      "['ga4gh:SQ.F-LrLMe1SRpfUZHkQmvkVKFEGaoDeHul']\n"
     ]
    }
   ],
   "source": [
    "ex3_compID = dp.translate_sequence_identifier(\"NC_000007.14\", \"ga4gh\")\n",
    "print(ex3_compID)"
   ]
  },
  {
   "cell_type": "code",
   "execution_count": 10,
   "metadata": {},
   "outputs": [
    {
     "name": "stdout",
     "output_type": "stream",
     "text": [
      "{\n",
      "  \"location\": {\n",
      "    \"interval\": {\n",
      "      \"end\": {\n",
      "        \"type\": \"Number\",\n",
      "        \"value\": 55181220\n",
      "      },\n",
      "      \"start\": {\n",
      "        \"type\": \"Number\",\n",
      "        \"value\": 55181219\n",
      "      },\n",
      "      \"type\": \"SequenceInterval\"\n",
      "    },\n",
      "    \"sequence_id\": \"ga4gh:SQ.F-LrLMe1SRpfUZHkQmvkVKFEGaoDeHul\",\n",
      "    \"type\": \"SequenceLocation\"\n",
      "  },\n",
      "  \"state\": {\n",
      "    \"sequence\": \"\",\n",
      "    \"type\": \"LiteralSequenceExpression\"\n",
      "  },\n",
      "  \"type\": \"Allele\"\n",
      "}\n",
      "ga4gh:VA.h6WuolTwZJYZh86qP2a8YVA1WXpHuY_X\n"
     ]
    }
   ],
   "source": [
    "ex3_allele = models.Allele(\n",
    "\n",
    "    location = models.SequenceLocation(\n",
    "        sequence_id = 'ga4gh:SQ.F-LrLMe1SRpfUZHkQmvkVKFEGaoDeHul',\n",
    "\n",
    "        interval = models.SequenceInterval(\n",
    "            start = models.Number(value = 55181219, type = \"Number\"),\n",
    "            end = models.Number(value = 55181220, type = \"Number\"),\n",
    "            type = \"SequenceInterval\" ),\n",
    "\n",
    "        type = \"SequenceLocation\",\n",
    "        ),\n",
    "\n",
    "    state = models.LiteralSequenceExpression(sequence = '', type = \"LiteralSequenceExpression\"),\n",
    "\n",
    "    type = 'Allele'\n",
    ")\n",
    "\n",
    "ppo(ex3_allele)\n",
    "print(ga4gh_identify(ex3_allele))"
   ]
  },
  {
   "cell_type": "markdown",
   "metadata": {},
   "source": [
    "### Example 4: NC_000007.14:g.55181230_55181231insGGCT\n",
    "\n",
    "Varation\n",
    "* “ins” indicates an insertion; c.76_77insGm -- (duplicating insertions are described as duplications, not as insertions)\n",
    "* NOTE: Treat as a insertion\n",
    "\n",
    "Location\n",
    "* Sequence Level\n",
    "* Start: 55181230\n",
    "* End: 55181230\n",
    "\n",
    "State\n",
    "* Literal: \"GGCT\""
   ]
  },
  {
   "cell_type": "code",
   "execution_count": 11,
   "metadata": {},
   "outputs": [
    {
     "name": "stdout",
     "output_type": "stream",
     "text": [
      "['ga4gh:SQ.F-LrLMe1SRpfUZHkQmvkVKFEGaoDeHul']\n"
     ]
    }
   ],
   "source": [
    "ex4_compID = dp.translate_sequence_identifier(\"NC_000007.14\", \"ga4gh\")\n",
    "print(ex4_compID)"
   ]
  },
  {
   "cell_type": "code",
   "execution_count": 12,
   "metadata": {},
   "outputs": [
    {
     "name": "stdout",
     "output_type": "stream",
     "text": [
      "{\n",
      "  \"location\": {\n",
      "    \"interval\": {\n",
      "      \"end\": {\n",
      "        \"type\": \"Number\",\n",
      "        \"value\": 55181230\n",
      "      },\n",
      "      \"start\": {\n",
      "        \"type\": \"Number\",\n",
      "        \"value\": 55181230\n",
      "      },\n",
      "      \"type\": \"SequenceInterval\"\n",
      "    },\n",
      "    \"sequence_id\": \"ga4gh:SQ.F-LrLMe1SRpfUZHkQmvkVKFEGaoDeHul\",\n",
      "    \"type\": \"SequenceLocation\"\n",
      "  },\n",
      "  \"state\": {\n",
      "    \"sequence\": \"GGCT\",\n",
      "    \"type\": \"LiteralSequenceExpression\"\n",
      "  },\n",
      "  \"type\": \"Allele\"\n",
      "}\n",
      "ga4gh:VA.JKGCs07cFu2wlDydCAe2ea06jMFXyK56\n"
     ]
    }
   ],
   "source": [
    "ex4_allele = models.Allele(\n",
    "    type = 'Allele',\n",
    "\n",
    "    location = models.SequenceLocation(\n",
    "        type = 'SequenceLocation',\n",
    "        sequence_id = 'ga4gh:SQ.F-LrLMe1SRpfUZHkQmvkVKFEGaoDeHul',\n",
    "        interval = models.SequenceInterval(\n",
    "            type = 'SequenceInterval',\n",
    "            start = models.Number(value = 55181230, type = 'Number'),\n",
    "            end = models.Number(value = 55181230, type = 'Number'),\n",
    "        )\n",
    "    ),\n",
    "\n",
    "    state = models.LiteralSequenceExpression(sequence = 'GGCT',type = 'LiteralSequenceExpression')        \n",
    "    )\n",
    "\n",
    "ppo(ex4_allele)\n",
    "print(ga4gh_identify(ex4_allele))"
   ]
  },
  {
   "cell_type": "markdown",
   "metadata": {},
   "source": [
    "By default, Translator\n",
    "1) translates sequence identifiers to ga4gh digest-based identifiers,\n",
    "2) normalizes alleles\n",
    "3) adds a ga4gh identifier. These may be disabled as desired. (However, ga4gh_identify requires that all objects use identifiers, including sequence identifiers, in the ga4gh namespace.)\n"
   ]
  },
  {
   "cell_type": "code",
   "execution_count": 13,
   "metadata": {},
   "outputs": [],
   "source": [
    "from ga4gh.vrs.extras.translator import Translator\n"
   ]
  },
  {
   "cell_type": "code",
   "execution_count": null,
   "metadata": {},
   "outputs": [],
   "source": []
  },
  {
   "cell_type": "code",
   "execution_count": 14,
   "metadata": {},
   "outputs": [],
   "source": [
    "# taking all those examples that were manuly created and trying to use an automated way that was presented in the vrs-python notebooks\n",
    "\n",
    "tlr = Translator(data_proxy=dp,\n",
    "                 translate_sequence_identifiers=True,  # default\n",
    "                 normalize=True,                       # default\n",
    "                 identify=False)                        # default\n",
    "\n"
   ]
  },
  {
   "cell_type": "code",
   "execution_count": 17,
   "metadata": {},
   "outputs": [],
   "source": [
    "def pjson(o, indent=2):\n",
    "    \"\"\"pretty print object as json\"\"\"\n",
    "    return json.dumps(o.as_dict(), sort_keys=True, indent=indent)"
   ]
  },
  {
   "cell_type": "code",
   "execution_count": 24,
   "metadata": {},
   "outputs": [
    {
     "name": "stdout",
     "output_type": "stream",
     "text": [
      "ga4gh:VA.n5Q-4Nx8xGkaKZH8T2oWXHkdyacFA3pZ\n",
      "{\n",
      "  \"location\": {\n",
      "    \"interval\": {\n",
      "      \"end\": {\n",
      "        \"type\": \"Number\",\n",
      "        \"value\": 7674858\n",
      "      },\n",
      "      \"start\": {\n",
      "        \"type\": \"Number\",\n",
      "        \"value\": 7674857\n",
      "      },\n",
      "      \"type\": \"SequenceInterval\"\n",
      "    },\n",
      "    \"sequence_id\": \"ga4gh:SQ.dLZ15tNO1Ur0IcGjwc3Sdi_0A6Yf4zm7\",\n",
      "    \"type\": \"SequenceLocation\"\n",
      "  },\n",
      "  \"state\": {\n",
      "    \"sequence\": \"T\",\n",
      "    \"type\": \"LiteralSequenceExpression\"\n",
      "  },\n",
      "  \"type\": \"Allele\"\n",
      "}\n",
      "ga4gh:VA.DkZLLMnwoH6zIncSRh2c05nzCNLdTqHl\n",
      "{\n",
      "  \"location\": {\n",
      "    \"interval\": {\n",
      "      \"end\": {\n",
      "        \"type\": \"Number\",\n",
      "        \"value\": 32936732\n",
      "      },\n",
      "      \"start\": {\n",
      "        \"type\": \"Number\",\n",
      "        \"value\": 32936731\n",
      "      },\n",
      "      \"type\": \"SequenceInterval\"\n",
      "    },\n",
      "    \"sequence_id\": \"ga4gh:SQ._0wi-qoDrvram155UmcSC-zA5ZK4fpLT\",\n",
      "    \"type\": \"SequenceLocation\"\n",
      "  },\n",
      "  \"state\": {\n",
      "    \"sequence\": \"C\",\n",
      "    \"type\": \"LiteralSequenceExpression\"\n",
      "  },\n",
      "  \"type\": \"Allele\"\n",
      "}\n",
      "ga4gh:VA.dovgcwGwoUvhK3bWMzaoAuvKQrdkKYHG\n",
      "{\n",
      "  \"location\": {\n",
      "    \"interval\": {\n",
      "      \"end\": {\n",
      "        \"type\": \"Number\",\n",
      "        \"value\": 55516888\n",
      "      },\n",
      "      \"start\": {\n",
      "        \"type\": \"Number\",\n",
      "        \"value\": 55516887\n",
      "      },\n",
      "      \"type\": \"SequenceInterval\"\n",
      "    },\n",
      "    \"sequence_id\": \"ga4gh:SQ.Ya6Rs7DHhDeg7YaOSg1EoNi3U_nQ9SvO\",\n",
      "    \"type\": \"SequenceLocation\"\n",
      "  },\n",
      "  \"state\": {\n",
      "    \"sequence\": \"GA\",\n",
      "    \"type\": \"LiteralSequenceExpression\"\n",
      "  },\n",
      "  \"type\": \"Allele\"\n",
      "}\n"
     ]
    }
   ],
   "source": [
    "# hgvs_exprs = [\n",
    "#     \"NC_000013.11:g.32936732C=\",\n",
    "#     \"NC_000007.14:g.55181320A>T\",\n",
    "#     \"NC_000007.14:g.55181220del\",\n",
    "#     \"NC_000007.14:g.55181230_55181231insGGCT\"]\n",
    "\n",
    "test_exprs = [ \n",
    "    \"NC_000017.11:7674857:C:T\", # SPDI example \n",
    "    \"NC_000013.11:g.32936732C=\", #HGVS exapmle \n",
    "    \"1-55516888-G-GA\" # vcf format \n",
    "]\n",
    "\n",
    "\n",
    "for expr in test_exprs:\n",
    "    trans = tlr.translate_from(expr)\n",
    "    #trans = tlr.translate_from(expr,\"hgvs\")\n",
    "    vrs_id = ga4gh_identify(trans)\n",
    "    print(vrs_id, pjson(trans), sep = '\\n')\n",
    "\n",
    "\n",
    "# Need to do the vrs-python deployment, need to generate read the doc, generate the swagger UI, "
   ]
  },
  {
   "cell_type": "code",
   "execution_count": null,
   "metadata": {},
   "outputs": [],
   "source": [
    "import pandas as pd"
   ]
  },
  {
   "cell_type": "code",
   "execution_count": null,
   "metadata": {},
   "outputs": [],
   "source": [
    "df = pd.read_csv(\"~/Downloads/erepo.tabbed.txt\", sep='\\t')"
   ]
  },
  {
   "cell_type": "code",
   "execution_count": null,
   "metadata": {},
   "outputs": [],
   "source": [
    "def df_info(data):\n",
    "    print(data.shape)\n",
    "    print(data.columns)\n",
    "    return data.head()"
   ]
  },
  {
   "cell_type": "code",
   "execution_count": null,
   "metadata": {},
   "outputs": [],
   "source": [
    "df_info(df)"
   ]
  },
  {
   "cell_type": "code",
   "execution_count": null,
   "metadata": {},
   "outputs": [],
   "source": [
    "# Editing dataframe\n",
    "mini_data = df[[\"#Variation\",\"HGVS Expressions\"]]\n",
    "mini_data.columns = [\"variation\",'hgvs_exprs']\n",
    "mini_data.head()\n"
   ]
  },
  {
   "cell_type": "code",
   "execution_count": null,
   "metadata": {},
   "outputs": [],
   "source": [
    "print('Total Numbers of Nan in variation column = {}'.format(mini_data['variation'].isnull().sum()))\n",
    "# df = df[df['variation'].notna()] --> pulling the NAN values in Dataframe\n"
   ]
  },
  {
   "cell_type": "code",
   "execution_count": null,
   "metadata": {},
   "outputs": [],
   "source": [
    "mini_data.sample(n = 15)"
   ]
  },
  {
   "cell_type": "markdown",
   "metadata": {},
   "source": [
    "1) 1434 ---\tNM_004360.5(CDH1):c.1312del (p.Thr438fs)\n",
    "2) 4247\t--- NM_005629.4(SLC6A8):c.626_627del (p.Pro209fs)\n",
    "3) 3636\t--- NM_000277.3(PAH):c.1117G>A (p.Ala373Thr)\t\n",
    "4) 3509\t--- NM_000527.5(LDLR):c.895G>T (p.Ala299Ser)\n",
    "5) 3595\t--- NM_000261.2:c.1187_1189dup"
   ]
  },
  {
   "cell_type": "code",
   "execution_count": null,
   "metadata": {},
   "outputs": [],
   "source": [
    "# Sample dataframe\n",
    "testDF = mini_data.loc[[1434,4247,3636,3509,3595,3245],] # \n",
    "testDF"
   ]
  },
  {
   "cell_type": "code",
   "execution_count": null,
   "metadata": {},
   "outputs": [],
   "source": [
    "# creating a dictionary where the keys: varation and values: hgvs_exprs \n",
    "\n",
    "varList = list(testDF[\"variation\"])\n",
    "exprsList = list(testDF[\"hgvs_exprs\"])\n",
    "\n",
    "val_exp_dict = {}\n",
    "\n",
    "for i in varList:\n",
    "    for j in exprsList:\n",
    "        exprs = j.split(',')\n",
    "        val_exp_dict[i] = exprs"
   ]
  },
  {
   "cell_type": "code",
   "execution_count": null,
   "metadata": {},
   "outputs": [],
   "source": [
    "print('key: {}'.format(varList[5]))\n",
    "print('values: {}'.format(exprsList[5]))"
   ]
  },
  {
   "cell_type": "code",
   "execution_count": null,
   "metadata": {},
   "outputs": [],
   "source": [
    "clingenexamples = {\n",
    " 'NM_004360.5(CDH1)c.1312del (p.Thr438fs)' : ['ENST00000612417.4:c.1309del','NC_000016.9:g.68847387del', 'NM_004360.5:c.1309del'],\n",
    " 'NM_005629.4(SLC6A8):c.626_627del (p.Pro209fs)' : ['ENST00000253122.10:c.626_627del', 'NC_000023.11:g.153691535_153691536del','NM_005629.3:c.626_627del'],\n",
    " 'NM_000277.3(PAH):c.1117G>A (p.Ala373Thr)' : ['ENST00000635528.1:n.632G>A', 'NM_000277.3:c.1117G>A', 'NC_000012.12:g.102843728C>T'],\n",
    " 'NM_000527.5(LDLR):c.895G>T (p.Ala299Ser)' : ['ENST00000558013.5:c.895G>T', 'NM_000527.5:c.895G>T', 'NC_000019.10:g.11107469G>T'],\n",
    " 'NM_000261.2:c.1187_1189dup' : ['ENST00000037502.10:c.1187_1189dup', 'NM_000261.2:c.1187_1189dup', 'NC_000001.11:g.171636252_171636254dup'],\n",
    " 'NM_000051.4(ATM):c.5556_5557delinsGA (p.Asp1853Asn)' : ['ENST00000683174.1:n.7040_7041delinsGA', 'NM_000051.4:c.5556_5557delinsGA', 'NC_000011.10:g.108304734_108304735delinsGA']\n",
    " }\n",
    "\n",
    "\n",
    "print([x for x in varList])\n",
    "print('\\n')\n",
    "\n",
    "for x in clingenexamples:\n",
    "    for expr in clingenexamples[x]:\n",
    "\n",
    "        trans = tlr.translate_from(expr,\"hgvs\")\n",
    "        vrs_id = ga4gh_identify(trans)\n",
    "\n",
    "        print(vrs_id, pjson(trans), sep = '\\n')\n",
    "        print('\\n')\n",
    "\n",
    "\n"
   ]
  },
  {
   "cell_type": "code",
   "execution_count": null,
   "metadata": {},
   "outputs": [],
   "source": [
    "# come back to this idea\n",
    "\n",
    "# exprsLists = list(testDF[\"hgvs_exprs\"])\n",
    "\n",
    "# mylist = []\n",
    "\n",
    "# for exprs in exprsLists:\n",
    "#     values = exprs.strip().split(',')\n",
    "#     for x in values: \n",
    "#         val_nam = x.split('_')\n",
    "#         if (\"NM\" in val_nam[0]) or  (\"NC\" in val_nam[0]): \n",
    "#             mylist.append(x)"
   ]
  },
  {
   "cell_type": "code",
   "execution_count": null,
   "metadata": {},
   "outputs": [],
   "source": [
    "# Come back to this concept\n",
    "# Everything works, but there needs to be some edits\n",
    "# need to change that fact that I need to index the dictionary. \n",
    "# also some of the values cant be translated\n",
    "\n",
    "# refseq = []\n",
    "\n",
    "\n",
    "# for x in  val_exp_dict['NM_000261.2:c.1187_1189dup']:\n",
    "\n",
    "#     names = x.split('_',maxsplit = 1 )\n",
    "#     if (\"NM\" in names[0]) or  (\"NC\" in names[0]):\n",
    "#         refseq.append(x)\n",
    "# refseq\n",
    "\n",
    "\n",
    "# for expr in refseq:\n",
    "#     trans = tlr.translate_from(expr,\"hgvs\")\n",
    "#     vrs_id = ga4gh_identify(trans)\n",
    "#     print(vrs_id, pjson(trans), sep = '\\n')\n",
    "\n"
   ]
  }
 ],
 "metadata": {
  "kernelspec": {
   "display_name": "test_dev_vrs_installation",
   "language": "python",
   "name": "python3"
  },
  "language_info": {
   "codemirror_mode": {
    "name": "ipython",
    "version": 3
   },
   "file_extension": ".py",
   "mimetype": "text/x-python",
   "name": "python",
   "nbconvert_exporter": "python",
   "pygments_lexer": "ipython3",
   "version": "3.9.15 (main, Nov 24 2022, 08:29:02) \n[Clang 14.0.6 ]"
  },
  "orig_nbformat": 4,
  "vscode": {
   "interpreter": {
    "hash": "a30b347b13f228536c2496b7f4f50786235aa6365eee05630e208593ecef5121"
   }
  }
 },
 "nbformat": 4,
 "nbformat_minor": 2
}
