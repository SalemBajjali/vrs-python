{
 "cells": [
  {
   "cell_type": "markdown",
   "metadata": {},
   "source": [
    "# Inlined v. Referenced Objects\n",
    "This notebook exists to explore potential benefits and issues with supporting both inlined and referenced objects.\n",
    "\n",
    "![graphic](https://i.imgur.com/vBY3Pu8.png)"
   ]
  },
  {
   "cell_type": "code",
   "execution_count": 47,
   "metadata": {},
   "outputs": [],
   "source": [
    "from ga4gh.core import ga4gh_identify\n",
    "from ga4gh.vr import models\n",
    "from ga4gh.vr.extras.dataproxy import SeqRepoRESTDataProxy\n",
    "from ga4gh.vr.extras.translator import Translator\n",
    "\n",
    "from tabulate import tabulate\n",
    "from IPython.display import HTML, display\n",
    "def make_table(td, **kwargs):\n",
    "    display(HTML(tabulate(tablefmt=\"html\", tabular_data=td, headers=\"firstrow\", **kwargs)))\n",
    "\n",
    "seqrepo_rest_service_url = \"http://localhost:5000/seqrepo\"\n",
    "\n",
    "data_proxy = SeqRepoRESTDataProxy(base_url=seqrepo_rest_service_url)\n",
    "tlr = Translator(data_proxy=data_proxy)"
   ]
  },
  {
   "cell_type": "code",
   "execution_count": 2,
   "metadata": {},
   "outputs": [],
   "source": [
    "import traceback\n",
    "from IPython.core.magic import register_cell_magic\n",
    "\n",
    "@register_cell_magic\n",
    "def ignore_exceptions(line, cell):\n",
    "    try:\n",
    "        exec(cell)\n",
    "    except Exception as e:\n",
    "        print(f\"{type(e).__name__}: {e}\")"
   ]
  },
  {
   "cell_type": "markdown",
   "metadata": {},
   "source": [
    "## Review of basic operations"
   ]
  },
  {
   "cell_type": "code",
   "execution_count": 3,
   "metadata": {},
   "outputs": [
    {
     "data": {
      "text/plain": [
       "<Allele _id=<Literal<str> ga4gh:VA.mpIbo0Vv4HT-Oh3g5SWcuzAR2mue3yL-> location=<SequenceLocation _id=None interval=<SimpleInterval end=<Literal<int> 32936732> start=<Literal<int> 32936731> type=<Literal<str> SimpleInterval>> sequence_id=<Literal<str> ga4gh:SQ._0wi-qoDrvram155UmcSC-zA5ZK4fpLT> type=<Literal<str> SequenceLocation>> state=<SequenceState sequence=<Literal<str> A> type=<Literal<str> SequenceState>> type=<Literal<str> Allele>>"
      ]
     },
     "execution_count": 3,
     "metadata": {},
     "output_type": "execute_result"
    }
   ],
   "source": [
    "a = tlr.from_hgvs(\"NC_000013.11:g.32936732G>A\")\n",
    "a"
   ]
  },
  {
   "cell_type": "code",
   "execution_count": 4,
   "metadata": {},
   "outputs": [
    {
     "data": {
      "text/plain": [
       "{'_id': 'ga4gh:VA.mpIbo0Vv4HT-Oh3g5SWcuzAR2mue3yL-',\n",
       " 'location': {'interval': {'end': 32936732,\n",
       "   'start': 32936731,\n",
       "   'type': 'SimpleInterval'},\n",
       "  'sequence_id': 'ga4gh:SQ._0wi-qoDrvram155UmcSC-zA5ZK4fpLT',\n",
       "  'type': 'SequenceLocation'},\n",
       " 'state': {'sequence': 'A', 'type': 'SequenceState'},\n",
       " 'type': 'Allele'}"
      ]
     },
     "execution_count": 4,
     "metadata": {},
     "output_type": "execute_result"
    }
   ],
   "source": [
    "a_dict = a.as_dict()\n",
    "a_dict"
   ]
  },
  {
   "cell_type": "code",
   "execution_count": 5,
   "metadata": {},
   "outputs": [
    {
     "data": {
      "text/plain": [
       "<Allele _id=<Literal<str> ga4gh:VA.mpIbo0Vv4HT-Oh3g5SWcuzAR2mue3yL-> location=<SequenceLocation _id=None interval=<SimpleInterval end=<Literal<int> 32936732> start=<Literal<int> 32936731> type=<Literal<str> SimpleInterval>> sequence_id=<Literal<str> ga4gh:SQ._0wi-qoDrvram155UmcSC-zA5ZK4fpLT> type=<Literal<str> SequenceLocation>> state=<SequenceState sequence=<Literal<str> A> type=<Literal<str> SequenceState>> type=<Literal<str> Allele>>"
      ]
     },
     "execution_count": 5,
     "metadata": {},
     "output_type": "execute_result"
    }
   ],
   "source": [
    "a2 = models.Allele(**a_dict)\n",
    "a2"
   ]
  },
  {
   "cell_type": "code",
   "execution_count": 6,
   "metadata": {},
   "outputs": [
    {
     "data": {
      "text/plain": [
       "True"
      ]
     },
     "execution_count": 6,
     "metadata": {},
     "output_type": "execute_result"
    }
   ],
   "source": [
    "a == a2"
   ]
  },
  {
   "cell_type": "markdown",
   "metadata": {},
   "source": [
    "---\n",
    "## New: ability to replace inlined objects with referenced objects\n",
    "e.g., Previously, the value of Allele.location was required to be a subclass of Location. It may now be a Location subclass *or* a CURIE, which is expected to be a reference to a Location. "
   ]
  },
  {
   "cell_type": "code",
   "execution_count": 7,
   "metadata": {},
   "outputs": [
    {
     "data": {
      "text/plain": [
       "{'_id': 'ga4gh:VA.mpIbo0Vv4HT-Oh3g5SWcuzAR2mue3yL-',\n",
       " 'location': {'_id': 'ga4gh:VSL.v9K0mcjQVugxTDIcdi7GBJ_R6fZ1lsYq',\n",
       "  'interval': {'end': 32936732, 'start': 32936731, 'type': 'SimpleInterval'},\n",
       "  'sequence_id': 'ga4gh:SQ._0wi-qoDrvram155UmcSC-zA5ZK4fpLT',\n",
       "  'type': 'SequenceLocation'},\n",
       " 'state': {'sequence': 'A', 'type': 'SequenceState'},\n",
       " 'type': 'Allele'}"
      ]
     },
     "execution_count": 7,
     "metadata": {},
     "output_type": "execute_result"
    }
   ],
   "source": [
    "a_inlined = tlr.from_hgvs(\"NC_000013.11:g.32936732G>A\")\n",
    "a_inlined.location._id = ga4gh_identify(a_inlined.location)\n",
    "a_inlined.as_dict()"
   ]
  },
  {
   "cell_type": "code",
   "execution_count": 8,
   "metadata": {},
   "outputs": [
    {
     "data": {
      "text/plain": [
       "{'_id': 'ga4gh:VA.mpIbo0Vv4HT-Oh3g5SWcuzAR2mue3yL-',\n",
       " 'location': 'ga4gh:VSL.v9K0mcjQVugxTDIcdi7GBJ_R6fZ1lsYq',\n",
       " 'state': {'sequence': 'A', 'type': 'SequenceState'},\n",
       " 'type': 'Allele'}"
      ]
     },
     "execution_count": 8,
     "metadata": {},
     "output_type": "execute_result"
    }
   ],
   "source": [
    "# copy a_inlined, and replace inlined location with referenced location\n",
    "a_refd = models.Allele(**a_inlined.as_dict())\n",
    "a_refd.location = a_refd.location._id\n",
    "a_refd.as_dict()"
   ]
  },
  {
   "cell_type": "markdown",
   "metadata": {},
   "source": [
    "---\n",
    "## Concern: Usage complexity\n",
    "When `location` can be a CURIE, clients must be aware of the structure of that value."
   ]
  },
  {
   "cell_type": "code",
   "execution_count": 9,
   "metadata": {},
   "outputs": [
    {
     "data": {
      "text/plain": [
       "<SimpleInterval end=<Literal<int> 32936732> start=<Literal<int> 32936731> type=<Literal<str> SimpleInterval>>"
      ]
     },
     "execution_count": 9,
     "metadata": {},
     "output_type": "execute_result"
    }
   ],
   "source": [
    "a_inlined.location.interval"
   ]
  },
  {
   "cell_type": "code",
   "execution_count": 10,
   "metadata": {
    "scrolled": false
   },
   "outputs": [
    {
     "name": "stdout",
     "output_type": "stream",
     "text": [
      "AttributeError: '#/definitions/CURIE' object has no attribute 'interval'\n"
     ]
    }
   ],
   "source": [
    "%%ignore_exceptions\n",
    "a_refd.location.interval"
   ]
  },
  {
   "cell_type": "markdown",
   "metadata": {},
   "source": [
    "#### Is this really a new problem? No and yes.\n",
    "\n",
    "No: `Location` subclasses may have different types, so clients always needed to be type-aware.\n",
    "\n",
    "Yes: However, those types have always been distinguished by a `type` attribute. CURIEs don't have this."
   ]
  },
  {
   "cell_type": "code",
   "execution_count": 11,
   "metadata": {},
   "outputs": [
    {
     "data": {
      "text/plain": [
       "<Literal<str> SequenceLocation>"
      ]
     },
     "execution_count": 11,
     "metadata": {},
     "output_type": "execute_result"
    }
   ],
   "source": [
    "a_inlined.location.type"
   ]
  },
  {
   "cell_type": "code",
   "execution_count": 12,
   "metadata": {},
   "outputs": [
    {
     "data": {
      "text/plain": [
       "True"
      ]
     },
     "execution_count": 12,
     "metadata": {},
     "output_type": "execute_result"
    }
   ],
   "source": [
    "a_inlined.location.type == \"SequenceLocation\""
   ]
  },
  {
   "cell_type": "code",
   "execution_count": 13,
   "metadata": {},
   "outputs": [
    {
     "name": "stdout",
     "output_type": "stream",
     "text": [
      "AttributeError: '#/definitions/CURIE' object has no attribute 'type'\n"
     ]
    }
   ],
   "source": [
    "%%ignore_exceptions\n",
    "a_refd.location.type"
   ]
  },
  {
   "cell_type": "code",
   "execution_count": 14,
   "metadata": {},
   "outputs": [
    {
     "data": {
      "text/plain": [
       "abc.SequenceLocation"
      ]
     },
     "execution_count": 14,
     "metadata": {},
     "output_type": "execute_result"
    }
   ],
   "source": [
    "type(a_inlined.location)"
   ]
  },
  {
   "cell_type": "code",
   "execution_count": 15,
   "metadata": {},
   "outputs": [
    {
     "data": {
      "text/plain": [
       "python_jsonschema_objects.classbuilder.#/definitions/CURIE"
      ]
     },
     "execution_count": 15,
     "metadata": {},
     "output_type": "execute_result"
    }
   ],
   "source": [
    "type(a_refd.location)"
   ]
  },
  {
   "cell_type": "markdown",
   "metadata": {},
   "source": [
    "# Scraps"
   ]
  },
  {
   "cell_type": "code",
   "execution_count": 51,
   "metadata": {
    "scrolled": true
   },
   "outputs": [
    {
     "data": {
      "text/html": [
       "<table>\n",
       "<thead>\n",
       "<tr><th>attribute  </th><th>inlined                                                                                                                                                                                                                                                                       </th><th>referenced                                               </th></tr>\n",
       "</thead>\n",
       "<tbody>\n",
       "<tr><td>type       </td><td>Allele                                                                                                                                                                                                                                                                        </td><td>Allele                                                   </td></tr>\n",
       "<tr><td>state      </td><td>{<br>  \"sequence\": \"A\",<br>  \"type\": \"SequenceState\"<br>}                                                                                                                                                                                                                     </td><td>{<br>  \"sequence\": \"A\",<br>  \"type\": \"SequenceState\"<br>}</td></tr>\n",
       "<tr><td>location   </td><td>{<br>  \"_id\": \"ga4gh:VSL.v9K0mcjQVugxTDIcdi7GBJ_R6fZ1lsYq\",<br>  \"interval\": {<br>    \"end\": 32936732,<br>    \"start\": 32936731,<br>    \"type\": \"SimpleInterval\"<br>  },<br>  \"sequence_id\": \"ga4gh:SQ._0wi-qoDrvram155UmcSC-zA5ZK4fpLT\",<br>  \"type\": \"SequenceLocation\"<br>}</td><td>ga4gh:VSL.v9K0mcjQVugxTDIcdi7GBJ_R6fZ1lsYq               </td></tr>\n",
       "</tbody>\n",
       "</table>"
      ],
      "text/plain": [
       "<IPython.core.display.HTML object>"
      ]
     },
     "metadata": {},
     "output_type": "display_data"
    }
   ],
   "source": [
    "import json\n",
    "def pj(o): return json.dumps(o, indent=2).replace(\"\\n\",\"<br>\")\n",
    "td=[\n",
    "    \"attribute inlined referenced\".split(),\n",
    "    [\"type\", a_inlined.type._value, a_refd.type._value],\n",
    "    [\"state\", pj(a_inlined.state.as_dict()), pj(a_refd.state.as_dict())],\n",
    "    [\"location\", pj(a_inlined.location.as_dict()), a_refd.location.as_dict()],\n",
    "]\n",
    "make_table(td, colalign=(\"left\",\"left\",\"left\"))\n"
   ]
  },
  {
   "cell_type": "code",
   "execution_count": null,
   "metadata": {},
   "outputs": [],
   "source": []
  }
 ],
 "metadata": {
  "kernelspec": {
   "display_name": "Python 3",
   "language": "python",
   "name": "python3"
  },
  "language_info": {
   "codemirror_mode": {
    "name": "ipython",
    "version": 3
   },
   "file_extension": ".py",
   "mimetype": "text/x-python",
   "name": "python",
   "nbconvert_exporter": "python",
   "pygments_lexer": "ipython3",
   "version": "3.7.5"
  }
 },
 "nbformat": 4,
 "nbformat_minor": 2
}
