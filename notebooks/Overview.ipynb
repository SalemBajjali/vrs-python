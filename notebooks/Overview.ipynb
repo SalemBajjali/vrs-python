{
 "cells": [
  {
   "cell_type": "markdown",
   "metadata": {},
   "source": [
    "# GA4GH Variation Representation Overview\n",
    "\n",
    "This notebook provides an overview of all objects in the GA4GH VR schema. (GA4GH VR was formerly known as VMC. Renaming is in progress.)\n",
    "\n",
    "## Top-down view of the VR Schema\n",
    "\n",
    "The highest level objects of VR are Variation and VariationSet. Both are *abstract* objects. \n",
    "\n",
    "Conceptually, Variation can be any of the following:\n",
    "* Text -- a blob of text, used when a textual representation is not (yet) parseable\n",
    "* Allele -- contiguous state of a sequence or conceptual region\n",
    "* Haplotype -- a set of Alleles known to be in phase\n",
    "* Genotype -- a set of Haplotypes\n",
    "\n",
    "VariationSet -- is an arbitrary set of anything\n",
    "\n",
    "👉 The above hierarchy is being reevaluated.\n",
    "\n",
    "An Allele consists of a Location and State, which are both abstract concepts.\n",
    "\n",
    "Kinds of Locations:\n",
    "* SequenceLocation\n",
    "* CytobandLocation\n",
    "* GeneLocation\n",
    "\n",
    "Kinds of State:\n",
    "* SequenceState\n",
    "* CNVState\n",
    "\n"
   ]
  },
  {
   "cell_type": "markdown",
   "metadata": {},
   "source": [
    "---\n",
    "# Reference Implementation"
   ]
  },
  {
   "cell_type": "code",
   "execution_count": 1,
   "metadata": {},
   "outputs": [],
   "source": [
    "import vmc"
   ]
  },
  {
   "cell_type": "markdown",
   "metadata": {},
   "source": [
    "---\n",
    "# Functions\n",
    "VR defines functions that operate on some objects. They are demonstrated below."
   ]
  },
  {
   "cell_type": "markdown",
   "metadata": {},
   "source": [
    "## Digest\n",
    "The VMC digest is merely a convention for how to apply well-known existing technology to generating a unique fingerprint of a string object."
   ]
  },
  {
   "cell_type": "code",
   "execution_count": 2,
   "metadata": {},
   "outputs": [
    {
     "data": {
      "text/plain": [
       "'z4PhNX7vuL3xVChQ1m2AB9Yg5AULVxXc'"
      ]
     },
     "execution_count": 2,
     "metadata": {},
     "output_type": "execute_result"
    }
   ],
   "source": [
    "vmc.digest(\"\")"
   ]
  },
  {
   "cell_type": "code",
   "execution_count": 3,
   "metadata": {},
   "outputs": [
    {
     "data": {
      "text/plain": [
       "'z4PhNX7vuL3xVChQ'"
      ]
     },
     "execution_count": 3,
     "metadata": {},
     "output_type": "execute_result"
    }
   ],
   "source": [
    "vmc.digest(\"\", digest_size=12)"
   ]
  },
  {
   "cell_type": "code",
   "execution_count": 4,
   "metadata": {
    "scrolled": true
   },
   "outputs": [
    {
     "data": {
      "text/plain": [
       "'aKF498dAxcJAqme6QYQ7EZ07-fiw8Kw2'"
      ]
     },
     "execution_count": 4,
     "metadata": {},
     "output_type": "execute_result"
    }
   ],
   "source": [
    "vmc.digest(\"ACGT\")"
   ]
  },
  {
   "cell_type": "markdown",
   "metadata": {},
   "source": [
    "## Serialization"
   ]
  },
  {
   "cell_type": "markdown",
   "metadata": {},
   "source": [
    "## Computed Identifiers\n",
    "Generating a computed identifier involves running the digest algorithm above on a serialized object. Because it requires a VR object, the computed identifier is demonstrated below."
   ]
  },
  {
   "cell_type": "markdown",
   "metadata": {},
   "source": [
    "---\n",
    "# Text Variation\n",
    "\n",
    "In order to support variation descriptions that cannot be parsed, or cannot be parsed yet, the VR provides a Text schema object. The intention is to provide ids for *any* variation, particularly human descriptions of variation."
   ]
  },
  {
   "cell_type": "code",
   "execution_count": 3,
   "metadata": {},
   "outputs": [
    {
     "data": {
      "text/plain": [
       "{'definition': 'PTEN loss', 'type': 'Text'}"
      ]
     },
     "execution_count": 3,
     "metadata": {},
     "output_type": "execute_result"
    }
   ],
   "source": [
    "v = vmc.models.Text(definition=\"PTEN loss\")\n",
    "v.as_dict()"
   ]
  },
  {
   "cell_type": "code",
   "execution_count": 4,
   "metadata": {},
   "outputs": [
    {
     "data": {
      "text/plain": [
       "'VMC:GT_VX60NSGLem4X3Q8gnOSx48pZDCmJVSUk'"
      ]
     },
     "execution_count": 4,
     "metadata": {},
     "output_type": "execute_result"
    }
   ],
   "source": [
    "vmc.computed_id(v)"
   ]
  },
  {
   "cell_type": "markdown",
   "metadata": {},
   "source": [
    "---\n",
    "# Locations\n",
    "A Location is an *abstract* object that refer to contiguous regions of biological sequences. Concrete types of Locations are shown below.\n",
    "\n",
    "The most common Location is a SequenceLocation, i.e., a Region on a named sequence.\n",
    "Locations may also be more conceptual, such as a cytoband region or a gene.\n",
    "Any of these may be used as the Location for Variation."
   ]
  },
  {
   "cell_type": "markdown",
   "metadata": {},
   "source": [
    "## Regions\n",
    "\n",
    "Regions refer to contiguous spans of an implied sequence.\n",
    "Regions are not identifiable objects, so have no computed identifier defined."
   ]
  },
  {
   "cell_type": "markdown",
   "metadata": {},
   "source": [
    "### SimpleRegion"
   ]
  },
  {
   "cell_type": "code",
   "execution_count": 5,
   "metadata": {},
   "outputs": [
    {
     "data": {
      "text/plain": [
       "{'end': 43, 'start': 42, 'type': 'SimpleRegion'}"
      ]
     },
     "execution_count": 5,
     "metadata": {},
     "output_type": "execute_result"
    }
   ],
   "source": [
    "sr = vmc.models.SimpleRegion(start=42, end=43)\n",
    "sr.as_dict()"
   ]
  },
  {
   "cell_type": "code",
   "execution_count": 6,
   "metadata": {},
   "outputs": [
    {
     "data": {
      "text/plain": [
       "b'{\"end\":43,\"start\":42,\"type\":\"SimpleRegion\"}'"
      ]
     },
     "execution_count": 6,
     "metadata": {},
     "output_type": "execute_result"
    }
   ],
   "source": [
    "vmc.serialize(sr)"
   ]
  },
  {
   "cell_type": "markdown",
   "metadata": {},
   "source": [
    "### NestedRegion"
   ]
  },
  {
   "cell_type": "code",
   "execution_count": 7,
   "metadata": {},
   "outputs": [
    {
     "data": {
      "text/plain": [
       "{'inner': {'end': 30, 'start': 29, 'type': 'SimpleRegion'},\n",
       " 'outer': {'end': 39, 'start': 30, 'type': 'SimpleRegion'},\n",
       " 'type': 'NestedRegion'}"
      ]
     },
     "execution_count": 7,
     "metadata": {},
     "output_type": "execute_result"
    }
   ],
   "source": [
    "nr = vmc.models.NestedRegion(\n",
    "    inner=vmc.models.SimpleRegion(start=29,end=30),\n",
    "    outer=vmc.models.SimpleRegion(start=30,end=39))\n",
    "nr.as_dict()"
   ]
  },
  {
   "cell_type": "code",
   "execution_count": 8,
   "metadata": {},
   "outputs": [
    {
     "data": {
      "text/plain": [
       "b'{\"inner\":{\"end\":30,\"start\":29,\"type\":\"SimpleRegion\"},\"outer\":{\"end\":39,\"start\":30,\"type\":\"SimpleRegion\"},\"type\":\"NestedRegion\"}'"
      ]
     },
     "execution_count": 8,
     "metadata": {},
     "output_type": "execute_result"
    }
   ],
   "source": [
    "vmc.serialize(nr)"
   ]
  },
  {
   "cell_type": "markdown",
   "metadata": {},
   "source": [
    "### RangedRegion"
   ]
  },
  {
   "cell_type": "code",
   "execution_count": 9,
   "metadata": {},
   "outputs": [
    {
     "data": {
      "text/plain": [
       "{'end': {'end': 39, 'start': 30, 'type': 'SimpleRegion'},\n",
       " 'start': {'end': 29, 'start': 20, 'type': 'SimpleRegion'},\n",
       " 'type': 'RangedRegion'}"
      ]
     },
     "execution_count": 9,
     "metadata": {},
     "output_type": "execute_result"
    }
   ],
   "source": [
    "rr = vmc.models.RangedRegion(\n",
    "    start=vmc.models.SimpleRegion(start=20,end=29),\n",
    "    end=vmc.models.SimpleRegion(start=30,end=39))\n",
    "rr.as_dict()"
   ]
  },
  {
   "cell_type": "code",
   "execution_count": 10,
   "metadata": {},
   "outputs": [
    {
     "data": {
      "text/plain": [
       "b'{\"end\":{\"end\":39,\"start\":30,\"type\":\"SimpleRegion\"},\"start\":{\"end\":29,\"start\":20,\"type\":\"SimpleRegion\"},\"type\":\"RangedRegion\"}'"
      ]
     },
     "execution_count": 10,
     "metadata": {},
     "output_type": "execute_result"
    }
   ],
   "source": [
    "vmc.serialize(rr)"
   ]
  },
  {
   "cell_type": "markdown",
   "metadata": {},
   "source": [
    "### Future: ComplexRegion\n",
    "A complex region will support intronic offsets and relative locations (a la FALDO)"
   ]
  },
  {
   "cell_type": "markdown",
   "metadata": {},
   "source": [
    "### SequenceLocation"
   ]
  },
  {
   "cell_type": "code",
   "execution_count": 11,
   "metadata": {},
   "outputs": [
    {
     "data": {
      "text/plain": [
       "{'id': 'VMC:GL_yKxYQ4j-D1f43mjYbobEKk74CVfwSEQj',\n",
       " 'region': {'end': 43, 'start': 42, 'type': 'SimpleRegion'},\n",
       " 'sequence_id': 'NM_0001234.5',\n",
       " 'type': 'SequenceLocation'}"
      ]
     },
     "execution_count": 11,
     "metadata": {},
     "output_type": "execute_result"
    }
   ],
   "source": [
    "slsr = vmc.models.SequenceLocation(sequence_id=\"NM_0001234.5\", region=sr)\n",
    "slsr.id = vmc.computed_id(slsr)\n",
    "slsr.as_dict()"
   ]
  },
  {
   "cell_type": "code",
   "execution_count": 12,
   "metadata": {},
   "outputs": [
    {
     "data": {
      "text/plain": [
       "{'id': 'VMC:GL_y1KI63endgw2MbqVIy5n4Ef2BWbnEVH2',\n",
       " 'region': {'inner': {'end': 30, 'start': 29, 'type': 'SimpleRegion'},\n",
       "  'outer': {'end': 39, 'start': 30, 'type': 'SimpleRegion'},\n",
       "  'type': 'NestedRegion'},\n",
       " 'sequence_id': 'NM_0001234.5',\n",
       " 'type': 'SequenceLocation'}"
      ]
     },
     "execution_count": 12,
     "metadata": {},
     "output_type": "execute_result"
    }
   ],
   "source": [
    "slnr = vmc.models.SequenceLocation(sequence_id=\"NM_0001234.5\", region=nr)\n",
    "slnr.id = vmc.computed_id(slnr)\n",
    "slnr.as_dict()"
   ]
  },
  {
   "cell_type": "code",
   "execution_count": 13,
   "metadata": {
    "scrolled": true
   },
   "outputs": [
    {
     "data": {
      "text/plain": [
       "{'id': 'VMC:GL_SS97Ti3Tjad9M8GW1F0miTgS06RJ6fKB',\n",
       " 'region': {'end': {'end': 39, 'start': 30, 'type': 'SimpleRegion'},\n",
       "  'start': {'end': 29, 'start': 20, 'type': 'SimpleRegion'},\n",
       "  'type': 'RangedRegion'},\n",
       " 'sequence_id': 'NM_0001234.5',\n",
       " 'type': 'SequenceLocation'}"
      ]
     },
     "execution_count": 13,
     "metadata": {},
     "output_type": "execute_result"
    }
   ],
   "source": [
    "slrr = vmc.models.SequenceLocation(sequence_id=\"NM_0001234.5\", region=rr)\n",
    "slrr.id = vmc.computed_id(slrr)\n",
    "slrr.as_dict()"
   ]
  },
  {
   "cell_type": "markdown",
   "metadata": {},
   "source": [
    "### CytobandLocation"
   ]
  },
  {
   "cell_type": "code",
   "execution_count": 14,
   "metadata": {},
   "outputs": [
    {
     "data": {
      "text/plain": [
       "{'chr': '11',\n",
       " 'end': 'q23.1',\n",
       " 'id': 'VMC:GL_R2RiNOcD_3F-NNEQUrIst3M84LTsVQWF',\n",
       " 'start': 'q22.3',\n",
       " 'type': 'CytobandLocation'}"
      ]
     },
     "execution_count": 14,
     "metadata": {},
     "output_type": "execute_result"
    }
   ],
   "source": [
    "cbl = vmc.models.CytobandLocation(chr=\"11\", start=\"q22.3\", end=\"q23.1\")\n",
    "cbl.id = vmc.computed_id(cbl)\n",
    "cbl.as_dict()"
   ]
  },
  {
   "cell_type": "markdown",
   "metadata": {},
   "source": [
    "### GeneLocation"
   ]
  },
  {
   "cell_type": "code",
   "execution_count": 15,
   "metadata": {
    "scrolled": true
   },
   "outputs": [
    {
     "data": {
      "text/plain": [
       "{'gene': 'HGNC:MSH2',\n",
       " 'id': 'VMC:GL_HUswIoUpNqPZa2rBwJR_32At9A3wnWJJ',\n",
       " 'type': 'GeneLocation'}"
      ]
     },
     "execution_count": 15,
     "metadata": {},
     "output_type": "execute_result"
    }
   ],
   "source": [
    "gl = vmc.models.GeneLocation(gene=\"HGNC:MSH2\")\n",
    "gl.id = vmc.computed_id(gl)\n",
    "gl.as_dict()"
   ]
  },
  {
   "cell_type": "markdown",
   "metadata": {},
   "source": [
    "# Alleles\n",
    "\n",
    "An Allele is essentially just a pair of Location and State. The many possible Location and State types permit representing many flavors of variation."
   ]
  },
  {
   "cell_type": "markdown",
   "metadata": {},
   "source": [
    "### \"Simple\" sequence replacements\n",
    "This case covers any \"ref-alt\" style variation, which includes SNVs, MNVs, del, ins, and delins."
   ]
  },
  {
   "cell_type": "code",
   "execution_count": 16,
   "metadata": {},
   "outputs": [
    {
     "data": {
      "text/plain": [
       "{'id': 'VMC:GA_9Mhs4r1-HHJA29T1vccB13MyocdlVOsm',\n",
       " 'location': {'id': 'VMC:GL_yKxYQ4j-D1f43mjYbobEKk74CVfwSEQj',\n",
       "  'region': {'end': 43, 'start': 42, 'type': 'SimpleRegion'},\n",
       "  'sequence_id': 'NM_0001234.5',\n",
       "  'type': 'SequenceLocation'},\n",
       " 'state': {'sequence': 'A', 'type': 'SequenceState'},\n",
       " 'type': 'Allele'}"
      ]
     },
     "execution_count": 16,
     "metadata": {},
     "output_type": "execute_result"
    }
   ],
   "source": [
    "ss = vmc.models.SequenceState(sequence=\"A\")\n",
    "a = vmc.models.Allele(location=slsr, state=ss)\n",
    "a.id = vmc.computed_id(a)\n",
    "a.as_dict()"
   ]
  },
  {
   "cell_type": "markdown",
   "metadata": {},
   "source": [
    "## CNV of a simple SequenceLocation, copy location unknown/unspecified"
   ]
  },
  {
   "cell_type": "code",
   "execution_count": 17,
   "metadata": {
    "scrolled": true
   },
   "outputs": [
    {
     "data": {
      "text/plain": [
       "{'id': 'VMC:GA_jfxtN9iWJDjh1qt8i7sOuFAcSvhDhdvp',\n",
       " 'location': {'region': {'end': 30, 'start': 20, 'type': 'SimpleRegion'},\n",
       "  'sequence_id': 'NM_0001234.5',\n",
       "  'type': 'SequenceLocation'},\n",
       " 'state': {'copy_measure': 'TOTAL',\n",
       "  'max_copies': 5,\n",
       "  'min_copies': 3,\n",
       "  'type': 'CNVState'},\n",
       " 'type': 'Allele'}"
      ]
     },
     "execution_count": 17,
     "metadata": {},
     "output_type": "execute_result"
    }
   ],
   "source": [
    "sr = vmc.models.SimpleRegion(start=20,end=30)\n",
    "sl = vmc.models.SequenceLocation(sequence_id=\"NM_0001234.5\", region=sr)\n",
    "\n",
    "cnvstate = vmc.models.CNVState(min_copies=3, max_copies=5, copy_measure=\"TOTAL\")\n",
    "\n",
    "a = vmc.models.Allele(location=sl, state=cnvstate)\n",
    "a.id = vmc.computed_id(a)\n",
    "a.as_dict()"
   ]
  },
  {
   "cell_type": "markdown",
   "metadata": {},
   "source": [
    "## Same CNV, now with known location"
   ]
  },
  {
   "cell_type": "code",
   "execution_count": 18,
   "metadata": {},
   "outputs": [
    {
     "data": {
      "text/plain": [
       "{'id': 'VMC:GA_deCg4f_LrHcsfDTAg9y7AnWGKaPzhXby',\n",
       " 'location': {'region': {'end': 30, 'start': 20, 'type': 'SimpleRegion'},\n",
       "  'sequence_id': 'NM_0001234.5',\n",
       "  'type': 'SequenceLocation'},\n",
       " 'state': {'copy_measure': 'TOTAL',\n",
       "  'location': {'region': {'end': 30, 'start': 20, 'type': 'SimpleRegion'},\n",
       "   'sequence_id': 'NM_0001234.5',\n",
       "   'type': 'SequenceLocation'},\n",
       "  'max_copies': 5,\n",
       "  'min_copies': 3,\n",
       "  'type': 'CNVState'},\n",
       " 'type': 'Allele'}"
      ]
     },
     "execution_count": 18,
     "metadata": {},
     "output_type": "execute_result"
    }
   ],
   "source": [
    "sr = vmc.models.Region(start=20,end=30)\n",
    "sl = vmc.models.SequenceLocation(sequence_id=\"NM_0001234.5\", region=sr)\n",
    "\n",
    "# 👉 Note addition of location in CNVState\n",
    "# When CNV.location == Allele.location, CN is total copy number and copies are tandem\n",
    "cnvstate = vmc.models.CNVState(min_copies=3, max_copies=5, copy_measure=\"TOTAL\", location = sl)\n",
    "\n",
    "a = vmc.models.Allele(location=sl, state=cnvstate)\n",
    "a.id = vmc.computed_id(a)\n",
    "a.as_dict()"
   ]
  },
  {
   "cell_type": "markdown",
   "metadata": {},
   "source": [
    "## CNV at a Gene Location\n",
    "Because any Location may be used to define an Allele, it's straightforward to define gene copy number"
   ]
  },
  {
   "cell_type": "code",
   "execution_count": 19,
   "metadata": {
    "scrolled": true
   },
   "outputs": [
    {
     "data": {
      "text/plain": [
       "{'id': 'VMC:GA_TraGwt0_Ks5VSR7_DeLJnuIwHWEpJTov',\n",
       " 'location': {'gene': 'HGNC:MSH2', 'type': 'GeneLocation'},\n",
       " 'state': {'copy_measure': 'RELATIVE',\n",
       "  'max_copies': 5,\n",
       "  'min_copies': 3,\n",
       "  'type': 'CNVState'},\n",
       " 'type': 'Allele'}"
      ]
     },
     "execution_count": 19,
     "metadata": {},
     "output_type": "execute_result"
    }
   ],
   "source": [
    "gl = vmc.models.GeneLocation(gene=\"HGNC:MSH2\")\n",
    "\n",
    "cnvstate = vmc.models.CNVState(min_copies=3, max_copies=5, copy_measure=\"RELATIVE\")\n",
    "\n",
    "a = vmc.models.Allele(location=gl, state=cnvstate)\n",
    "a.id = vmc.computed_id(a)\n",
    "a.as_dict()"
   ]
  },
  {
   "cell_type": "markdown",
   "metadata": {},
   "source": [
    "### Gene Deletion\n",
    "\n",
    "🤔 Deletion could be a SequenceState(\"\"), or, in principle, CNVState(min_copies=0, max_copies=0). Need to provide guidance about which. For now, I'm using SequenceState(\"\"). "
   ]
  },
  {
   "cell_type": "code",
   "execution_count": 20,
   "metadata": {
    "scrolled": true
   },
   "outputs": [
    {
     "data": {
      "text/plain": [
       "{'id': 'VMC:GA_DBkbidc-OqU7-L4_p3b7StzPZ9jnSxPN',\n",
       " 'location': {'gene': 'HGNC:MSH2', 'type': 'GeneLocation'},\n",
       " 'state': {'sequence': '', 'type': 'SequenceState'},\n",
       " 'type': 'Allele'}"
      ]
     },
     "execution_count": 20,
     "metadata": {},
     "output_type": "execute_result"
    }
   ],
   "source": [
    "a = vmc.models.Allele(location=gl, state=vmc.models.SequenceState(sequence=\"\"))\n",
    "a.id = vmc.computed_id(a)\n",
    "a.as_dict()"
   ]
  },
  {
   "cell_type": "markdown",
   "metadata": {},
   "source": [
    "# Haplotypes\n",
    "A Haplotype is a collection of allele_ids, with optional specification for covered location and completeness"
   ]
  },
  {
   "cell_type": "code",
   "execution_count": 21,
   "metadata": {},
   "outputs": [
    {
     "data": {
      "text/plain": [
       "{'allele_ids': ['BOGUS:XX_WMv1y-3Q460hi_S3ND5N5Ct2Ci58TOZd',\n",
       "  'BOGUS:XX_jW7bSR3Obmx3IewIRSJkJMf6t7b73LVU',\n",
       "  'BOGUS:XX_23DL4svp8FvWdMrkhuOckbyjM-0I1Dov',\n",
       "  'BOGUS:XX_n363FutAEo79HhjNl7wea61SGc_tU40j'],\n",
       " 'completeness': 'PARTIAL',\n",
       " 'id': 'VMC:GH_d-arw1iegJ7WghhHiKzv90K0diZf-YTY',\n",
       " 'location_id': 'VMC:GL_yKxYQ4j-D1f43mjYbobEKk74CVfwSEQj',\n",
       " 'type': 'Haplotype'}"
      ]
     },
     "execution_count": 21,
     "metadata": {},
     "output_type": "execute_result"
    }
   ],
   "source": [
    "h = vmc.models.Haplotype(\n",
    "    location_id=slsr.id,\n",
    "    allele_ids=[\n",
    "    'BOGUS:XX_WMv1y-3Q460hi_S3ND5N5Ct2Ci58TOZd',\n",
    "    'BOGUS:XX_jW7bSR3Obmx3IewIRSJkJMf6t7b73LVU',\n",
    "    'BOGUS:XX_23DL4svp8FvWdMrkhuOckbyjM-0I1Dov',\n",
    "    'BOGUS:XX_n363FutAEo79HhjNl7wea61SGc_tU40j'],\n",
    "    completeness=\"PARTIAL\")\n",
    "h.id = vmc.computed_id(h)\n",
    "h.as_dict()"
   ]
  },
  {
   "cell_type": "markdown",
   "metadata": {},
   "source": [
    "# Genotypes\n",
    "A Genotype is a collection of Haplotypes_ids, with optional specification for completeness"
   ]
  },
  {
   "cell_type": "code",
   "execution_count": 22,
   "metadata": {},
   "outputs": [
    {
     "data": {
      "text/plain": [
       "{'completeness': 'PARTIAL',\n",
       " 'haplotype_ids': ['BOGUS:XX_WMv1y-3Q460hi_S3ND5N5Ct2Ci58TOZd',\n",
       "  'BOGUS:XX_jW7bSR3Obmx3IewIRSJkJMf6t7b73LVU',\n",
       "  'BOGUS:XX_23DL4svp8FvWdMrkhuOckbyjM-0I1Dov',\n",
       "  'BOGUS:XX_n363FutAEo79HhjNl7wea61SGc_tU40j'],\n",
       " 'id': 'VMC:GG_5IARhH263DsFl6P7WfCLAfqkcnCbl4tn',\n",
       " 'type': 'Genotype'}"
      ]
     },
     "execution_count": 22,
     "metadata": {},
     "output_type": "execute_result"
    }
   ],
   "source": [
    "g = vmc.models.Genotype(\n",
    "    haplotype_ids=[\n",
    "    'BOGUS:XX_WMv1y-3Q460hi_S3ND5N5Ct2Ci58TOZd',\n",
    "    'BOGUS:XX_jW7bSR3Obmx3IewIRSJkJMf6t7b73LVU',\n",
    "    'BOGUS:XX_23DL4svp8FvWdMrkhuOckbyjM-0I1Dov',\n",
    "    'BOGUS:XX_n363FutAEo79HhjNl7wea61SGc_tU40j'],\n",
    "    completeness=\"PARTIAL\")\n",
    "g.id = vmc.computed_id(g)\n",
    "g.as_dict()"
   ]
  },
  {
   "cell_type": "markdown",
   "metadata": {},
   "source": [
    "# VariationSet\n",
    "VariationSet is just a bucket of ids, which may not even exist."
   ]
  },
  {
   "cell_type": "code",
   "execution_count": 23,
   "metadata": {},
   "outputs": [
    {
     "data": {
      "text/plain": [
       "{'id': 'VMC:??_6m4w9eXBvYrs3FKOZq62E_955VZ7Oo7V',\n",
       " 'member_ids': ['BOGUS:XX_WMv1y-3Q460hi_S3ND5N5Ct2Ci58TOZd',\n",
       "  'BOGUS:XX_jW7bSR3Obmx3IewIRSJkJMf6t7b73LVU',\n",
       "  'BOGUS:XX_23DL4svp8FvWdMrkhuOckbyjM-0I1Dov',\n",
       "  'BOGUS:XX_n363FutAEo79HhjNl7wea61SGc_tU40j',\n",
       "  'BOGUS:XX_pel3HzoNSMCEvPoQQD-AOBE8I8s0eCn9',\n",
       "  'BOGUS:XX_X2x6a4Xvil365Ea-Po8WcuuQPWx973U8',\n",
       "  'BOGUS:XX_QHDx_0DbssgtGljy-K1q7WAcNkqD5TY-',\n",
       "  'BOGUS:XX_3x2p-8eCIc0pU-if_6CFBKGLziZRSWdz',\n",
       "  'BOGUS:XX_RXF8gSNDDyPQ0opTA8ordEE6hGGm2GYJ',\n",
       "  'BOGUS:XX_7tDaRPzXL4rfOLoYtRUUGCTy65ptDs8J'],\n",
       " 'type': 'VariationSet'}"
      ]
     },
     "execution_count": 23,
     "metadata": {},
     "output_type": "execute_result"
    }
   ],
   "source": [
    "vs = vmc.models.VariationSet(member_ids=[\n",
    "    'BOGUS:XX_WMv1y-3Q460hi_S3ND5N5Ct2Ci58TOZd',\n",
    "    'BOGUS:XX_jW7bSR3Obmx3IewIRSJkJMf6t7b73LVU',\n",
    "    'BOGUS:XX_23DL4svp8FvWdMrkhuOckbyjM-0I1Dov',\n",
    "    'BOGUS:XX_n363FutAEo79HhjNl7wea61SGc_tU40j',\n",
    "    'BOGUS:XX_pel3HzoNSMCEvPoQQD-AOBE8I8s0eCn9',\n",
    "    'BOGUS:XX_X2x6a4Xvil365Ea-Po8WcuuQPWx973U8',\n",
    "    'BOGUS:XX_QHDx_0DbssgtGljy-K1q7WAcNkqD5TY-',\n",
    "    'BOGUS:XX_3x2p-8eCIc0pU-if_6CFBKGLziZRSWdz',\n",
    "    'BOGUS:XX_RXF8gSNDDyPQ0opTA8ordEE6hGGm2GYJ',\n",
    "    'BOGUS:XX_7tDaRPzXL4rfOLoYtRUUGCTy65ptDs8J'])\n",
    "vs.id = vmc.computed_id(vs)\n",
    "vs.as_dict()"
   ]
  },
  {
   "cell_type": "markdown",
   "metadata": {},
   "source": [
    "---\n",
    "# vmc.extras"
   ]
  },
  {
   "cell_type": "markdown",
   "metadata": {},
   "source": [
    "## Format translator\n",
    "vmc.extras.translator translates various formats into VR representations"
   ]
  },
  {
   "cell_type": "code",
   "execution_count": 1,
   "metadata": {},
   "outputs": [],
   "source": [
    "from vmc.extras.translator import Translator\n",
    "tlr = Translator()"
   ]
  },
  {
   "cell_type": "code",
   "execution_count": 2,
   "metadata": {},
   "outputs": [
    {
     "data": {
      "text/plain": [
       "{'location': {'region': {'end': 32936732,\n",
       "   'start': 32936731,\n",
       "   'type': 'SimpleRegion'},\n",
       "  'sequence_id': 'GRCh38:13 ',\n",
       "  'type': 'SequenceLocation'},\n",
       " 'state': {'sequence': 'C', 'type': 'SequenceState'},\n",
       " 'type': 'Allele'}"
      ]
     },
     "execution_count": 2,
     "metadata": {},
     "output_type": "execute_result"
    }
   ],
   "source": [
    "a = tlr.from_beacon(\"13 : 32936732 G > C\")\n",
    "a.as_dict()"
   ]
  },
  {
   "cell_type": "code",
   "execution_count": 3,
   "metadata": {},
   "outputs": [
    {
     "data": {
      "text/plain": [
       "{'location': {'region': {'end': 55516888,\n",
       "   'start': 55516887,\n",
       "   'type': 'SimpleRegion'},\n",
       "  'sequence_id': 'GRCh38:1',\n",
       "  'type': 'SequenceLocation'},\n",
       " 'state': {'sequence': 'GA', 'type': 'SequenceState'},\n",
       " 'type': 'Allele'}"
      ]
     },
     "execution_count": 3,
     "metadata": {},
     "output_type": "execute_result"
    }
   ],
   "source": [
    "a = tlr.from_gnomad(\"1-55516888-G-GA\")\n",
    "a.as_dict()"
   ]
  },
  {
   "cell_type": "code",
   "execution_count": 4,
   "metadata": {},
   "outputs": [
    {
     "name": "stderr",
     "output_type": "stream",
     "text": [
      "WARNING:vmc.extras.translator:Creating parser\n"
     ]
    },
    {
     "data": {
      "text/plain": [
       "{'location': {'region': {'end': 22, 'start': 21, 'type': 'SimpleRegion'},\n",
       "  'sequence_id': 'refseq:NM_012345.6',\n",
       "  'type': 'SequenceLocation'},\n",
       " 'state': {'sequence': 'T', 'type': 'SequenceState'},\n",
       " 'type': 'Allele'}"
      ]
     },
     "execution_count": 4,
     "metadata": {},
     "output_type": "execute_result"
    }
   ],
   "source": [
    "a = tlr.from_hgvs(\"NM_012345.6:c.22A>T\")\n",
    "a.as_dict()"
   ]
  },
  {
   "cell_type": "code",
   "execution_count": 5,
   "metadata": {},
   "outputs": [
    {
     "data": {
      "text/plain": [
       "{'location': {'region': {'end': 22, 'start': 21, 'type': 'SimpleRegion'},\n",
       "  'sequence_id': 'refseq:NM_012345.6',\n",
       "  'type': 'SequenceLocation'},\n",
       " 'state': {'sequence': 'T', 'type': 'SequenceState'},\n",
       " 'type': 'Allele'}"
      ]
     },
     "execution_count": 5,
     "metadata": {},
     "output_type": "execute_result"
    }
   ],
   "source": [
    "a = tlr.from_spdi(\"NM_012345.6:21:1:T\")\n",
    "a.as_dict()"
   ]
  },
  {
   "cell_type": "markdown",
   "metadata": {},
   "source": [
    "## Translating sequence identifiers to VMC sequence identifiers\n",
    "Sequence lookup services are required to implement VMC operations, but the exact implementation is up to the implementer. The most important need is to translate sequence identifiers from RefSeq or other sources into VMC sequence identifiers."
   ]
  },
  {
   "cell_type": "code",
   "execution_count": 27,
   "metadata": {},
   "outputs": [
    {
     "data": {
      "text/plain": [
       "'VMC:GS_IIB53T8CNeJJdUqzn9V_JnRtQadwWCbl'"
      ]
     },
     "execution_count": 27,
     "metadata": {},
     "output_type": "execute_result"
    }
   ],
   "source": [
    "from vmc.extras.seqrepo import get_vmc_sequence_identifier\n",
    "get_vmc_sequence_identifier(\"RefSeq:NC_000019.10\")"
   ]
  }
 ],
 "metadata": {
  "kernelspec": {
   "display_name": "Python 3",
   "language": "python",
   "name": "python3"
  },
  "language_info": {
   "codemirror_mode": {
    "name": "ipython",
    "version": 3
   },
   "file_extension": ".py",
   "mimetype": "text/x-python",
   "name": "python",
   "nbconvert_exporter": "python",
   "pygments_lexer": "ipython3",
   "version": "3.7.1"
  }
 },
 "nbformat": 4,
 "nbformat_minor": 2
}
