{
 "cells": [
  {
   "cell_type": "markdown",
   "metadata": {},
   "source": [
    "# GA4GH Variation Representation Overview\n",
    "\n",
    "The GA4GH Variation Representation Specification consists of two components: a JSON schema that describes the structure of data, and conventions for how to use that structure to improve the consistency of sequence variation shared in the community.  A reference implementation in Python accompanies the specification and is demonstrated in this notebook.\n",
    "\n",
    "GA4GH VR was formerly known as the Variation Modelling Collaboration (VMC)."
   ]
  },
  {
   "cell_type": "markdown",
   "metadata": {},
   "source": [
    "## Using the Reference Implementation\n",
    "All publicly available functionality is accessed by importing from `ga4gh.vr`, as shown below."
   ]
  },
  {
   "cell_type": "code",
   "execution_count": 1,
   "metadata": {},
   "outputs": [],
   "source": [
    "from ga4gh.core import ga4gh_digest\n",
    "from ga4gh.vr import __version__, ga4gh_identify, ga4gh_serialize, models, normalize"
   ]
  },
  {
   "cell_type": "markdown",
   "metadata": {},
   "source": [
    "<br>\n",
    "<div>\n",
    "    <div style=\"border-radius: 10px; width: 80%; margin: 0 auto; padding: 5px; border: 2pt solid #660000; color: #660000; background: #f4cccc;\">\n",
    "    <span style=\"font-size: 200%\">⚠</span> Import only from <code>ga4gh.vr</code>.\n",
    "            Submodules contain implementation details that are likely to change without notice.\n",
    "    </div>\n",
    "</div>"
   ]
  },
  {
   "cell_type": "code",
   "execution_count": 2,
   "metadata": {},
   "outputs": [
    {
     "data": {
      "text/plain": [
       "'0.2.1.dev49+g5384bae.d20190618'"
      ]
     },
     "execution_count": 2,
     "metadata": {},
     "output_type": "execute_result"
    }
   ],
   "source": [
    "# You can see the version of ga4gh.vr like so:\n",
    "__version__"
   ]
  },
  {
   "cell_type": "markdown",
   "metadata": {},
   "source": [
    "## Top-Down View of VR Schema Classes\n",
    "\n",
    "The top-level VR classes are Location and Variation.  A Location describes *where* an event occurs.  Variation describes an event at a Location. Location and Variation are *abstract* objects — their purpose is to provide a framework for the way we think about variation, but they doen't represent any particular instance themselves. \n",
    "\n",
    "Currently, there is only one Location class: SequenceLocation, which defines a precise span on a named sequence. Future Location classes will include Cytoband Locations, Gene Locations, as well as SequenceLocations using fuzzy and/or intronic coordinates.\n",
    "\n",
    "There are two Variation subclasses: \n",
    "* Text -- a blob of text, used when a textual representation is not (yet) parseable\n",
    "* Allele -- contiguous state of a sequence or conceptual region\n",
    "Future kinds of Variation will support haplotypes, genotypes, and translocations/fusions.\n",
    "\n",
    "The top-level classes in VR are *identifiable*, meaning that VR proscribes how implementations can compute globally-consistent identifiers from the data.\n",
    "\n",
    "See <a href=\"ga4gh-vr-schema.svg\">this figure</a> for a schematic representation.\n"
   ]
  },
  {
   "cell_type": "markdown",
   "metadata": {},
   "source": [
    "### Locations\n",
    "A Location is an *abstract* object that refer to contiguous regions of biological sequences. Concrete types of Locations are shown below.\n",
    "\n",
    "The most common Location is a SequenceLocation, i.e., a Location based on a named sequence and an Interval on that sequence. Locations may also be conceptual or symbolic locations, such as a cytoband region or a gene.\n",
    "Any of these may be used as the Location for Variation."
   ]
  },
  {
   "cell_type": "markdown",
   "metadata": {},
   "source": [
    "#### SimpleInterval"
   ]
  },
  {
   "cell_type": "code",
   "execution_count": 3,
   "metadata": {},
   "outputs": [
    {
     "data": {
      "text/plain": [
       "{'end': 43, 'start': 42, 'type': 'SimpleInterval'}"
      ]
     },
     "execution_count": 3,
     "metadata": {},
     "output_type": "execute_result"
    }
   ],
   "source": [
    "simple_interval = models.SimpleInterval(start=42, end=43)\n",
    "simple_interval.as_dict()"
   ]
  },
  {
   "cell_type": "markdown",
   "metadata": {},
   "source": [
    "#### NestedInterval\n",
    "Document conversion with ranged format"
   ]
  },
  {
   "cell_type": "code",
   "execution_count": 4,
   "metadata": {},
   "outputs": [
    {
     "data": {
      "text/plain": [
       "{'inner': {'end': 30, 'start': 29, 'type': 'SimpleInterval'},\n",
       " 'outer': {'end': 39, 'start': 20, 'type': 'SimpleInterval'},\n",
       " 'type': 'NestedInterval'}"
      ]
     },
     "execution_count": 4,
     "metadata": {},
     "output_type": "execute_result"
    }
   ],
   "source": [
    "nested_interval = models.NestedInterval(\n",
    "    inner=models.SimpleInterval(start=29,end=30),\n",
    "    outer=models.SimpleInterval(start=20,end=39))\n",
    "nested_interval.as_dict()"
   ]
  },
  {
   "cell_type": "markdown",
   "metadata": {},
   "source": [
    "#### SequenceLocation"
   ]
  },
  {
   "cell_type": "code",
   "execution_count": 5,
   "metadata": {},
   "outputs": [
    {
     "data": {
      "text/plain": [
       "{'id': 'ga4gh:SL/UqdjWOolIz8Vxd5b14eVND0vw88q0vqr',\n",
       " 'interval': {'end': 43, 'start': 42, 'type': 'SimpleInterval'},\n",
       " 'sequence_id': 'refseq:NM_0001234.5',\n",
       " 'type': 'SequenceLocation'}"
      ]
     },
     "execution_count": 5,
     "metadata": {},
     "output_type": "execute_result"
    }
   ],
   "source": [
    "# A SequenceLocation based on a SimpleInterval\n",
    "sequence_location_si = models.SequenceLocation(\n",
    "    sequence_id=\"refseq:NM_0001234.5\",\n",
    "    interval=simple_interval)\n",
    "ga4gh_identify(sequence_location_si)\n",
    "sequence_location_si.as_dict()"
   ]
  },
  {
   "cell_type": "code",
   "execution_count": 6,
   "metadata": {},
   "outputs": [
    {
     "data": {
      "text/plain": [
       "{'id': 'ga4gh:SL/2MSDt5nZgycxhOVYPfzViwH4XzqgbU1_',\n",
       " 'interval': {'inner': {'end': 30, 'start': 29, 'type': 'SimpleInterval'},\n",
       "  'outer': {'end': 39, 'start': 20, 'type': 'SimpleInterval'},\n",
       "  'type': 'NestedInterval'},\n",
       " 'sequence_id': 'refseq:NM_0001234.5',\n",
       " 'type': 'SequenceLocation'}"
      ]
     },
     "execution_count": 6,
     "metadata": {},
     "output_type": "execute_result"
    }
   ],
   "source": [
    "# A SequenceLocation based on a NestedInterval\n",
    "sequence_location_ni = models.SequenceLocation(sequence_id=\"refseq:NM_0001234.5\", \n",
    "                                               interval=nested_interval)\n",
    "ga4gh_identify(sequence_location_ni)\n",
    "sequence_location_ni.as_dict()"
   ]
  },
  {
   "cell_type": "markdown",
   "metadata": {},
   "source": [
    "### Text Variation\n",
    "\n",
    "In order to support variation descriptions that cannot be parsed, or cannot be parsed yet, the VR provides a Text schema object. The intention is to provide ids for *any* variation, particularly human descriptions of variation."
   ]
  },
  {
   "cell_type": "code",
   "execution_count": 7,
   "metadata": {},
   "outputs": [
    {
     "data": {
      "text/plain": [
       "{'definition': 'PTEN loss', 'type': 'Text'}"
      ]
     },
     "execution_count": 7,
     "metadata": {},
     "output_type": "execute_result"
    }
   ],
   "source": [
    "text_variation = models.Text(definition=\"PTEN loss\")\n",
    "text_variation.as_dict()"
   ]
  },
  {
   "cell_type": "markdown",
   "metadata": {},
   "source": [
    "### Alleles\n",
    "\n",
    "An Allele is an asserion of a SequenceState at a Location. The many possible Location and SequenceState classes enable the representation of many kinds of Variation."
   ]
  },
  {
   "cell_type": "markdown",
   "metadata": {},
   "source": [
    "### \"Simple\" sequence replacements\n",
    "This case covers any \"ref-alt\" style variation, which includes SNVs, MNVs, del, ins, and delins."
   ]
  },
  {
   "cell_type": "code",
   "execution_count": 8,
   "metadata": {},
   "outputs": [
    {
     "data": {
      "text/plain": [
       "{'id': 'ga4gh:VA/C0e28xlAfc9LVvCj_2092gF28UbtP3oX',\n",
       " 'location': {'id': 'ga4gh:SL/UqdjWOolIz8Vxd5b14eVND0vw88q0vqr',\n",
       "  'interval': {'end': 43, 'start': 42, 'type': 'SimpleInterval'},\n",
       "  'sequence_id': 'refseq:NM_0001234.5',\n",
       "  'type': 'SequenceLocation'},\n",
       " 'state': {'sequence': 'A', 'type': 'SequenceState'},\n",
       " 'type': 'Allele'}"
      ]
     },
     "execution_count": 8,
     "metadata": {},
     "output_type": "execute_result"
    }
   ],
   "source": [
    "sequence_state = models.SequenceState(sequence=\"A\")\n",
    "allele = models.Allele(location=sequence_location_si, state=sequence_state)\n",
    "ga4gh_identify(allele)\n",
    "allele.as_dict()"
   ]
  },
  {
   "cell_type": "markdown",
   "metadata": {},
   "source": [
    "---\n",
    "## Functions\n",
    "Conventions in the VR specification are implemented through several algorithmic functions. They are:\n",
    "\n",
    "* `normalize`: Implements sequence normalization for ins and del variation.\n",
    "* `ga4gh_digest`: Implements a convention constructing and formatting digests for an object.\n",
    "* `serialize`: Implements object serialization based on a canonical form of JSON.\n",
    "* `identify`: Generates a computed identifier for an identifiable object.\n"
   ]
  },
  {
   "cell_type": "markdown",
   "metadata": {},
   "source": [
    "### normalize()\n",
    "VR Spec RECOMMENDS that variation is reported as \"expanded\" alleles. Expanded alleles capture the entire region of insertion/deletion amiguity, thereby facilitating comparisons that would otherwise require on-the-fly computations."
   ]
  },
  {
   "cell_type": "code",
   "execution_count": 9,
   "metadata": {},
   "outputs": [],
   "source": [
    "# Define a dinucleotide insertion on the following sequence at interbase (13, 13)\n",
    "sequence = \"CCCCCCCCACACACACACTAGCAGCAGCA\"\n",
    "#    0 1 2 3 4 5 6 7 8 9 0 1 2 3 4 5 6 7 8 9 0 1 2 3 4 5 6 7 8 9\n",
    "#     C C C C C C C C A C A C A C A C A C T A G C A G C A G C A\n",
    "#                              ^ insert CA here\n",
    "interval = (13, 13)\n",
    "alleles = (None, \"CA\")\n",
    "args = dict(sequence=sequence, interval=interval, alleles=alleles, bounds=(0,len(sequence)))"
   ]
  },
  {
   "cell_type": "code",
   "execution_count": 10,
   "metadata": {},
   "outputs": [
    {
     "data": {
      "text/plain": [
       "((7, 18), ('CACACACACAC', 'CACACACACACAC'))"
      ]
     },
     "execution_count": 10,
     "metadata": {},
     "output_type": "execute_result"
    }
   ],
   "source": [
    "# The expanded allele sequences\n",
    "normalize(**args, mode=\"EXPAND\")"
   ]
  },
  {
   "cell_type": "code",
   "execution_count": 11,
   "metadata": {},
   "outputs": [
    {
     "data": {
      "text/plain": [
       "((7, 7), ('', 'CA'))"
      ]
     },
     "execution_count": 11,
     "metadata": {},
     "output_type": "execute_result"
    }
   ],
   "source": [
    "# For comparison, the left and right shuffled alleles\n",
    "normalize(**args, mode=\"LEFTSHUFFLE\")"
   ]
  },
  {
   "cell_type": "code",
   "execution_count": 12,
   "metadata": {},
   "outputs": [
    {
     "data": {
      "text/plain": [
       "((18, 18), ('', 'AC'))"
      ]
     },
     "execution_count": 12,
     "metadata": {},
     "output_type": "execute_result"
    }
   ],
   "source": [
    "normalize(**args, mode=\"RIGHTSHUFFLE\")"
   ]
  },
  {
   "cell_type": "markdown",
   "metadata": {},
   "source": [
    "### ga4gh_digest()\n",
    "The `ga4gh_digest` is a convention for constructing unique identifiers from binary objects (as from serialization) using well-known SHA512 hashing and Base64 (i.e., base64url) encoding. "
   ]
  },
  {
   "cell_type": "code",
   "execution_count": 13,
   "metadata": {
    "scrolled": true
   },
   "outputs": [
    {
     "data": {
      "text/plain": [
       "'z4PhNX7vuL3xVChQ1m2AB9Yg5AULVxXc'"
      ]
     },
     "execution_count": 13,
     "metadata": {},
     "output_type": "execute_result"
    }
   ],
   "source": [
    "ga4gh_digest(b\"\")"
   ]
  },
  {
   "cell_type": "code",
   "execution_count": 14,
   "metadata": {
    "scrolled": true
   },
   "outputs": [
    {
     "data": {
      "text/plain": [
       "'aKF498dAxcJAqme6QYQ7EZ07-fiw8Kw2'"
      ]
     },
     "execution_count": 14,
     "metadata": {},
     "output_type": "execute_result"
    }
   ],
   "source": [
    "ga4gh_digest(b\"ACGT\")"
   ]
  },
  {
   "cell_type": "markdown",
   "metadata": {},
   "source": [
    "### ga4gh_serialize()\n",
    "Serialization is the process of converting an object to a *binary* representation for transmission or communication. In the context of generating GA4GH identifiers, serialization is a process to generate a *canonical* JSON form in order to generate a digest. The VR serialization is based on a JSON canonincialization scheme consistent with several existing proposals. See the spec for details.\n",
    "\n",
    "Because the serialization and digest methods are well-defined, groups with the same data will generate the same digests and computed identifiers.\n",
    "\n",
    "GA4GH serialization replaces inline identifiable objects with their digests in order to create a well-defined ordering. See the `location` property in the `Allele` example below.\n",
    "\n",
    "<br>\n",
    "<div>\n",
    "    <div style=\"border-radius: 10px; width: 80%; margin: 0 auto; padding: 5px; border: 2pt solid #660000; color: #660000; background: #f4cccc;\">\n",
    "        <span style=\"font-size: 200%\">⚠</span> Although JSON serialization and GA4GH canonical JSON serialization appear similar, they are NOT interchangeable and will generated different digests. GA4GH identifiers are defined <i>only</i> when used with GA4GH serialization process.\n",
    "    </div>\n",
    "</div>"
   ]
  },
  {
   "cell_type": "code",
   "execution_count": 15,
   "metadata": {},
   "outputs": [
    {
     "data": {
      "text/plain": [
       "{'id': 'ga4gh:VA/C0e28xlAfc9LVvCj_2092gF28UbtP3oX',\n",
       " 'location': {'id': 'ga4gh:SL/UqdjWOolIz8Vxd5b14eVND0vw88q0vqr',\n",
       "  'interval': {'end': 43, 'start': 42, 'type': 'SimpleInterval'},\n",
       "  'sequence_id': 'refseq:NM_0001234.5',\n",
       "  'type': 'SequenceLocation'},\n",
       " 'state': {'sequence': 'A', 'type': 'SequenceState'},\n",
       " 'type': 'Allele'}"
      ]
     },
     "execution_count": 15,
     "metadata": {},
     "output_type": "execute_result"
    }
   ],
   "source": [
    "# This is the \"simple\" allele defined above, repeated here for readability\n",
    "# Note that the location data is inlined\n",
    "allele.as_dict()"
   ]
  },
  {
   "cell_type": "code",
   "execution_count": 16,
   "metadata": {},
   "outputs": [
    {
     "data": {
      "text/plain": [
       "b'{\"location\":\"UqdjWOolIz8Vxd5b14eVND0vw88q0vqr\",\"state\":{\"sequence\":\"A\",\"type\":\"SequenceState\"},\"type\":\"Allele\"}'"
      ]
     },
     "execution_count": 16,
     "metadata": {},
     "output_type": "execute_result"
    }
   ],
   "source": [
    "# This is the serialized form. Notice that the inline `Location` instance was replaced with\n",
    "# its identifier and that the Allele id is not included. \n",
    "ga4gh_serialize(allele)"
   ]
  },
  {
   "cell_type": "markdown",
   "metadata": {},
   "source": [
    "### ga4gh_identify()\n",
    "VR computed identifiers are constructed from digests on serialized objects by prefixing a VR digest with a type-specific code."
   ]
  },
  {
   "cell_type": "code",
   "execution_count": 17,
   "metadata": {},
   "outputs": [
    {
     "data": {
      "text/plain": [
       "'C0e28xlAfc9LVvCj_2092gF28UbtP3oX'"
      ]
     },
     "execution_count": 17,
     "metadata": {},
     "output_type": "execute_result"
    }
   ],
   "source": [
    "# applying ga4gh_digest to the serialized allele returns a base64url-encoded digest\n",
    "ga4gh_digest( ga4gh_serialize(allele) )"
   ]
  },
  {
   "cell_type": "code",
   "execution_count": 18,
   "metadata": {},
   "outputs": [
    {
     "data": {
      "text/plain": [
       "'ga4gh:VA/C0e28xlAfc9LVvCj_2092gF28UbtP3oX'"
      ]
     },
     "execution_count": 18,
     "metadata": {},
     "output_type": "execute_result"
    }
   ],
   "source": [
    "# identify() uses this digest to construct a CURIE-formatted identifier.\n",
    "# The VA prefix identifies this object as a Variation Allele.\n",
    "ga4gh_identify(allele)"
   ]
  },
  {
   "cell_type": "markdown",
   "metadata": {},
   "source": [
    "---\n",
    "## ga4gh.vr.extras"
   ]
  },
  {
   "cell_type": "markdown",
   "metadata": {},
   "source": [
    "### Data Proxy\n",
    "VR implementations will need access to sequences and sequence identifiers. Sequences are used during normalization and during conversions with other formats. Sequence identifiers are necessary in order to translate identfiers from common forms to a digest-based identifier.\n",
    "\n",
    "The VR specification leaves the choice of those data sources to the implementations.  In vr-python, `ga4gh.vr.extras.dataproxy` provides an abstract base class as a basis for data source adapters.  One source is [SeqRepo](https://github.com/biocommons/biocommons.seqrepo/), which is used below.  (An adapter based on the GA4GH refget specification exists, but is pending necessary changes to the refget interface to provide accession-based lookups.)\n",
    "\n",
    "SeqRepo: [github](https://github.com/biocommons/biocommons.seqrepo/) | [data snapshots](http://dl.biocommons.org/seqrepo/) | [rest API github](https://github.com/biocommons/seqrepo-rest-service) | [rest API docker images](https://cloud.docker.com/u/biocommons/repository/docker/biocommons/seqrepo-rest-service)"
   ]
  },
  {
   "cell_type": "code",
   "execution_count": 19,
   "metadata": {},
   "outputs": [],
   "source": [
    "# Requires seqrepo REST interface is running on this URL (e.g., using docker image)\n",
    "seqrepo_rest_service_url = \"http://localhost:5000/seqrepo\"\n",
    "\n",
    "from ga4gh.vr.extras.dataproxy import SeqRepoRESTDataProxy\n",
    "dp = SeqRepoRESTDataProxy(base_url=seqrepo_rest_service_url)"
   ]
  },
  {
   "cell_type": "code",
   "execution_count": 20,
   "metadata": {},
   "outputs": [
    {
     "name": "stderr",
     "output_type": "stream",
     "text": [
      "2019-06-18 10:49:28 snafu ga4gh.vr.extras.dataproxy[14578] INFO Fetching http://localhost:5000/seqrepo/1/metadata/RefSeq:NM_000551.3\n"
     ]
    },
    {
     "data": {
      "text/plain": [
       "{'added': '2016-08-24T05:03:11Z',\n",
       " 'aliases': ['MD5:215137b1973c1a5afcf86be7d999574a',\n",
       "  'RefSeq:NM_000551.3',\n",
       "  'SEGUID:T12L0p2X5E8DbnL0+SwI4Wc1S6g',\n",
       "  'SHA1:4f5d8bd29d97e44f036e72f4f92c08e167354ba8',\n",
       "  'VMC:GS_v_QTc1p-MUYdgrRv4LMT6ByXIOsdw3C_',\n",
       "  'ga4gh:SQ/v_QTc1p-MUYdgrRv4LMT6ByXIOsdw3C_',\n",
       "  'TRUNC512:bff413735a7e31461d82b46fe0b313e81c9720eb1dc370bf',\n",
       "  'gi:319655736'],\n",
       " 'alphabet': 'ACGT',\n",
       " 'length': 4560}"
      ]
     },
     "execution_count": 20,
     "metadata": {},
     "output_type": "execute_result"
    }
   ],
   "source": [
    "dp.get_metadata(\"refseq:NM_000551.3\")"
   ]
  },
  {
   "cell_type": "code",
   "execution_count": 21,
   "metadata": {},
   "outputs": [
    {
     "name": "stderr",
     "output_type": "stream",
     "text": [
      "2019-06-18 10:49:28 snafu ga4gh.vr.extras.dataproxy[14578] INFO Fetching http://localhost:5000/seqrepo/1/sequence/VMC:GS_v_QTc1p-MUYdgrRv4LMT6ByXIOsdw3C_\n"
     ]
    },
    {
     "data": {
      "text/plain": [
       "'CCTCGCCTCCGTTACAACGGCCTACGGTGCTGGAGGATCCTTCTGCGCAC...'"
      ]
     },
     "execution_count": 21,
     "metadata": {},
     "output_type": "execute_result"
    }
   ],
   "source": [
    "dp.get_sequence(\"ga4gh:SQ/v_QTc1p-MUYdgrRv4LMT6ByXIOsdw3C_\", start=0, end=50) + \"...\""
   ]
  },
  {
   "cell_type": "markdown",
   "metadata": {},
   "source": [
    "### Format translator\n",
    "ga4gh.vr.extras.translator translates various formats into VR representations.\n",
    "\n",
    "<br>\n",
    "<div>\n",
    "    <div style=\"border-radius: 10px; width: 80%; margin: 0 auto; padding: 5px; background: #d9ead3; border: 2pt solid #274e13; color: #274e13\">\n",
    "    <span style=\"font-size: 200%\">🚀</span> The examples below use the same variant in 4 formats: HGVS, beacon, spdi, and VCF/gnomAD. Notice that the resulting Allele objects and computed identifiers are identical.</b>\n",
    "    </div>\n",
    "</div>\n"
   ]
  },
  {
   "cell_type": "code",
   "execution_count": 22,
   "metadata": {},
   "outputs": [
    {
     "name": "stderr",
     "output_type": "stream",
     "text": [
      "2019-06-18 10:49:28 snafu hgvs[14578] INFO hgvs 1.3.0.post0; released: False\n"
     ]
    }
   ],
   "source": [
    "from ga4gh.vr.extras.translator import Translator\n",
    "tlr = Translator(data_proxy=dp)"
   ]
  },
  {
   "cell_type": "code",
   "execution_count": 23,
   "metadata": {},
   "outputs": [
    {
     "name": "stderr",
     "output_type": "stream",
     "text": [
      "2019-06-18 10:49:28 snafu ga4gh.vr.extras.translator[14578] INFO Creating  parser\n",
      "2019-06-18 10:49:29 snafu ga4gh.vr.extras.dataproxy[14578] INFO Fetching http://localhost:5000/seqrepo/1/metadata/RefSeq:NC_000013.11\n"
     ]
    },
    {
     "data": {
      "text/plain": [
       "{'id': 'ga4gh:VA/cxH2DtdGp35-S0Eqj9Jf1-cH_yZiaf0U',\n",
       " 'location': {'id': 'ga4gh:SL/HTlh4NTzBViUK0P5ZMinx-YJuNvlBmht',\n",
       "  'interval': {'end': 32936732, 'start': 32936731, 'type': 'SimpleInterval'},\n",
       "  'sequence_id': 'ga4gh:SQ/_0wi-qoDrvram155UmcSC-zA5ZK4fpLT',\n",
       "  'type': 'SequenceLocation'},\n",
       " 'state': {'sequence': 'C', 'type': 'SequenceState'},\n",
       " 'type': 'Allele'}"
      ]
     },
     "execution_count": 23,
     "metadata": {},
     "output_type": "execute_result"
    }
   ],
   "source": [
    "a = tlr.from_hgvs(\"NC_000013.11:g.32936732G>C\")\n",
    "a.as_dict()"
   ]
  },
  {
   "cell_type": "code",
   "execution_count": 24,
   "metadata": {},
   "outputs": [
    {
     "name": "stderr",
     "output_type": "stream",
     "text": [
      "2019-06-18 10:49:29 snafu ga4gh.vr.extras.dataproxy[14578] INFO Fetching http://localhost:5000/seqrepo/1/metadata/GRCh38:13\n"
     ]
    },
    {
     "data": {
      "text/plain": [
       "{'id': 'ga4gh:VA/cxH2DtdGp35-S0Eqj9Jf1-cH_yZiaf0U',\n",
       " 'location': {'id': 'ga4gh:SL/HTlh4NTzBViUK0P5ZMinx-YJuNvlBmht',\n",
       "  'interval': {'end': 32936732, 'start': 32936731, 'type': 'SimpleInterval'},\n",
       "  'sequence_id': 'ga4gh:SQ/_0wi-qoDrvram155UmcSC-zA5ZK4fpLT',\n",
       "  'type': 'SequenceLocation'},\n",
       " 'state': {'sequence': 'C', 'type': 'SequenceState'},\n",
       " 'type': 'Allele'}"
      ]
     },
     "execution_count": 24,
     "metadata": {},
     "output_type": "execute_result"
    }
   ],
   "source": [
    "# from_beacon: Translate from beacon's form\n",
    "a = tlr.from_beacon(\"13 : 32936732 G > C\")\n",
    "a.as_dict()"
   ]
  },
  {
   "cell_type": "code",
   "execution_count": 25,
   "metadata": {},
   "outputs": [
    {
     "data": {
      "text/plain": [
       "{'id': 'ga4gh:VA/cxH2DtdGp35-S0Eqj9Jf1-cH_yZiaf0U',\n",
       " 'location': {'id': 'ga4gh:SL/HTlh4NTzBViUK0P5ZMinx-YJuNvlBmht',\n",
       "  'interval': {'end': 32936732, 'start': 32936731, 'type': 'SimpleInterval'},\n",
       "  'sequence_id': 'ga4gh:SQ/_0wi-qoDrvram155UmcSC-zA5ZK4fpLT',\n",
       "  'type': 'SequenceLocation'},\n",
       " 'state': {'sequence': 'C', 'type': 'SequenceState'},\n",
       " 'type': 'Allele'}"
      ]
     },
     "execution_count": 25,
     "metadata": {},
     "output_type": "execute_result"
    }
   ],
   "source": [
    "# SPDI uses 0-based coordinates\n",
    "a = tlr.from_spdi(\"NC_000013.11:32936731:1:C\")\n",
    "a.as_dict()"
   ]
  },
  {
   "cell_type": "code",
   "execution_count": 26,
   "metadata": {},
   "outputs": [
    {
     "data": {
      "text/plain": [
       "{'id': 'ga4gh:VA/cxH2DtdGp35-S0Eqj9Jf1-cH_yZiaf0U',\n",
       " 'location': {'id': 'ga4gh:SL/HTlh4NTzBViUK0P5ZMinx-YJuNvlBmht',\n",
       "  'interval': {'end': 32936732, 'start': 32936731, 'type': 'SimpleInterval'},\n",
       "  'sequence_id': 'ga4gh:SQ/_0wi-qoDrvram155UmcSC-zA5ZK4fpLT',\n",
       "  'type': 'SequenceLocation'},\n",
       " 'state': {'sequence': 'C', 'type': 'SequenceState'},\n",
       " 'type': 'Allele'}"
      ]
     },
     "execution_count": 26,
     "metadata": {},
     "output_type": "execute_result"
    }
   ],
   "source": [
    "a = tlr.from_vcf(\"13-32936732-G-C\")   # gnomAD-style expression\n",
    "a.as_dict()"
   ]
  }
 ],
 "metadata": {
  "kernelspec": {
   "display_name": "Python 3",
   "language": "python",
   "name": "python3"
  },
  "language_info": {
   "codemirror_mode": {
    "name": "ipython",
    "version": 3
   },
   "file_extension": ".py",
   "mimetype": "text/x-python",
   "name": "python",
   "nbconvert_exporter": "python",
   "pygments_lexer": "ipython3",
   "version": "3.7.3"
  }
 },
 "nbformat": 4,
 "nbformat_minor": 2
}
