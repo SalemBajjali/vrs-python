{
 "cells": [
  {
   "cell_type": "markdown",
   "metadata": {},
   "source": [
    "# GA4GH Variation Representation Overview\n",
    "\n",
    "This notebook provides an overview of all objects in the GA4GH VR schema. (GA4GH VR was formerly known as VMC. Renaming is in progress.)\n",
    "\n",
    "## Top-down view of the VR Schema\n",
    "\n",
    "The highest level objects of VR are Variation and VariationSet. Both are *abstract* objects. \n",
    "\n",
    "Conceptually, Variation can be any of the following:\n",
    "* Text -- a blob of text, used when a textual representation is not (yet) parseable\n",
    "* Allele -- contiguous state of a sequence or conceptual region\n",
    "* Haplotype -- a set of Alleles known to be in phase\n",
    "* Genotype -- a set of Haplotypes\n",
    "\n",
    "VariationSet -- is an arbitrary set of anything\n",
    "\n",
    "👉 The above hierarchy is being reevaluated.\n",
    "\n",
    "An Allele consists of a Location and State, which are both abstract concepts.\n",
    "\n",
    "Kinds of Locations:\n",
    "* SequenceLocation\n",
    "* CytobandLocation\n",
    "* GeneLocation\n",
    "\n",
    "Kinds of State:\n",
    "* SequenceState\n",
    "* CNVState\n",
    "\n",
    "\n",
    "<div id='svgWrapper'>\n",
    "    <img src='ga4gh-vr-schema.svg'/>\n",
    "</div>"
   ]
  },
  {
   "cell_type": "markdown",
   "metadata": {},
   "source": [
    "---\n",
    "# Reference Implementation"
   ]
  },
  {
   "cell_type": "code",
   "execution_count": 2,
   "metadata": {},
   "outputs": [],
   "source": [
    "from ga4gh.vr import models, serialize, computed_id, digest"
   ]
  },
  {
   "cell_type": "markdown",
   "metadata": {},
   "source": [
    "---\n",
    "# Functions\n",
    "VR defines functions that operate on some objects. They are demonstrated below."
   ]
  },
  {
   "cell_type": "markdown",
   "metadata": {},
   "source": [
    "The VR digest is a convention for constructing unique identifiers from binary objects (as from serialization) using well-known SHA512 hashing and Base64 (i.e., base64url) encoding. \n",
    "\n",
    "Serialization is the process of converting a VR object to a *binary* representation. \n",
    "\n",
    "VR computed identifiers are constructed from digests on serialized objects by prefixing a VR digest with a type-specific code."
   ]
  },
  {
   "cell_type": "code",
   "execution_count": 3,
   "metadata": {},
   "outputs": [
    {
     "data": {
      "text/plain": [
       "'z4PhNX7vuL3xVChQ1m2AB9Yg5AULVxXc'"
      ]
     },
     "execution_count": 3,
     "metadata": {},
     "output_type": "execute_result"
    }
   ],
   "source": [
    "digest(\"\")"
   ]
  },
  {
   "cell_type": "code",
   "execution_count": 4,
   "metadata": {
    "scrolled": true
   },
   "outputs": [
    {
     "data": {
      "text/plain": [
       "'aKF498dAxcJAqme6QYQ7EZ07-fiw8Kw2'"
      ]
     },
     "execution_count": 4,
     "metadata": {},
     "output_type": "execute_result"
    }
   ],
   "source": [
    "digest(\"ACGT\")"
   ]
  },
  {
   "cell_type": "markdown",
   "metadata": {},
   "source": [
    "---\n",
    "# Text Variation\n",
    "\n",
    "In order to support variation descriptions that cannot be parsed, or cannot be parsed yet, the VR provides a Text schema object. The intention is to provide ids for *any* variation, particularly human descriptions of variation.\n",
    "\n",
    "In this example, the `serialize`, `digest`, and `computed_id` functions are demonstrated."
   ]
  },
  {
   "cell_type": "code",
   "execution_count": 5,
   "metadata": {},
   "outputs": [
    {
     "data": {
      "text/plain": [
       "{'definition': 'PTEN loss', 'type': 'Text'}"
      ]
     },
     "execution_count": 5,
     "metadata": {},
     "output_type": "execute_result"
    }
   ],
   "source": [
    "v = models.Text(definition=\"PTEN loss\")\n",
    "v.as_dict()"
   ]
  },
  {
   "cell_type": "code",
   "execution_count": 6,
   "metadata": {},
   "outputs": [
    {
     "data": {
      "text/plain": [
       "b'{\"definition\":\"PTEN loss\",\"type\":\"Text\"}'"
      ]
     },
     "execution_count": 6,
     "metadata": {},
     "output_type": "execute_result"
    }
   ],
   "source": [
    "# serialize returns a deterministic json format. See the spec for details.\n",
    "serialize(v)"
   ]
  },
  {
   "cell_type": "code",
   "execution_count": 7,
   "metadata": {},
   "outputs": [
    {
     "data": {
      "text/plain": [
       "'VX60NSGLem4X3Q8gnOSx48pZDCmJVSUk'"
      ]
     },
     "execution_count": 7,
     "metadata": {},
     "output_type": "execute_result"
    }
   ],
   "source": [
    "# digest returns the digest for binary data\n",
    "digest(serialize(v))"
   ]
  },
  {
   "cell_type": "code",
   "execution_count": 8,
   "metadata": {},
   "outputs": [
    {
     "data": {
      "text/plain": [
       "'VMC:GT_VX60NSGLem4X3Q8gnOSx48pZDCmJVSUk'"
      ]
     },
     "execution_count": 8,
     "metadata": {},
     "output_type": "execute_result"
    }
   ],
   "source": [
    "# The computed_id is constructed from the digest\n",
    "computed_id(v)"
   ]
  },
  {
   "cell_type": "markdown",
   "metadata": {},
   "source": [
    "---\n",
    "# Locations\n",
    "A Location is an *abstract* object that refer to contiguous regions of biological sequences. Concrete types of Locations are shown below.\n",
    "\n",
    "The most common Location is a SequenceLocation, i.e., a Region on a named sequence.\n",
    "Locations may also be more conceptual, such as a cytoband region or a gene.\n",
    "Any of these may be used as the Location for Variation."
   ]
  },
  {
   "cell_type": "markdown",
   "metadata": {},
   "source": [
    "## Regions\n",
    "\n",
    "Regions refer to contiguous spans of an implied sequence.\n",
    "Regions are not identifiable objects, so have no computed identifier defined."
   ]
  },
  {
   "cell_type": "markdown",
   "metadata": {},
   "source": [
    "### SimpleInterval"
   ]
  },
  {
   "cell_type": "code",
   "execution_count": 11,
   "metadata": {},
   "outputs": [
    {
     "data": {
      "text/plain": [
       "b'{\"end\":43,\"start\":42,\"type\":\"SimpleInterval\"}'"
      ]
     },
     "execution_count": 11,
     "metadata": {},
     "output_type": "execute_result"
    }
   ],
   "source": [
    "si = models.SimpleInterval(start=42, end=43)\n",
    "serialize(si)"
   ]
  },
  {
   "cell_type": "markdown",
   "metadata": {},
   "source": [
    "### NestedInterval\n",
    "Document conversion with ranged format"
   ]
  },
  {
   "cell_type": "code",
   "execution_count": 12,
   "metadata": {},
   "outputs": [
    {
     "data": {
      "text/plain": [
       "b'{\"inner\":{\"end\":30,\"start\":29,\"type\":\"SimpleInterval\"},\"outer\":{\"end\":39,\"start\":30,\"type\":\"SimpleInterval\"},\"type\":\"NestedInterval\"}'"
      ]
     },
     "execution_count": 12,
     "metadata": {},
     "output_type": "execute_result"
    }
   ],
   "source": [
    "ni = models.NestedInterval(\n",
    "    inner=models.SimpleInterval(start=29,end=30),\n",
    "    outer=models.SimpleInterval(start=30,end=39))\n",
    "serialize(ni)"
   ]
  },
  {
   "cell_type": "markdown",
   "metadata": {},
   "source": [
    "### SequenceLocation"
   ]
  },
  {
   "cell_type": "code",
   "execution_count": 13,
   "metadata": {},
   "outputs": [
    {
     "data": {
      "text/plain": [
       "b'{\"interval\":{\"end\":43,\"start\":42,\"type\":\"SimpleInterval\"},\"sequence_id\":\"NM_0001234.5\",\"type\":\"SequenceLocation\"}'"
      ]
     },
     "execution_count": 13,
     "metadata": {},
     "output_type": "execute_result"
    }
   ],
   "source": [
    "slsi = models.SequenceLocation(\n",
    "    sequence_id=\"NM_0001234.5\",\n",
    "    interval=si)\n",
    "slsi.id = computed_id(slsi)\n",
    "serialize(slsi)"
   ]
  },
  {
   "cell_type": "code",
   "execution_count": 14,
   "metadata": {},
   "outputs": [
    {
     "data": {
      "text/plain": [
       "b'{\"interval\":{\"inner\":{\"end\":30,\"start\":29,\"type\":\"SimpleInterval\"},\"outer\":{\"end\":39,\"start\":30,\"type\":\"SimpleInterval\"},\"type\":\"NestedInterval\"},\"sequence_id\":\"NM_0001234.5\",\"type\":\"SequenceLocation\"}'"
      ]
     },
     "execution_count": 14,
     "metadata": {},
     "output_type": "execute_result"
    }
   ],
   "source": [
    "slni = models.SequenceLocation(sequence_id=\"NM_0001234.5\", interval=ni)\n",
    "slni.id = computed_id(slni)\n",
    "serialize(slni)"
   ]
  },
  {
   "cell_type": "markdown",
   "metadata": {},
   "source": [
    "### CytobandLocation"
   ]
  },
  {
   "cell_type": "code",
   "execution_count": 15,
   "metadata": {},
   "outputs": [
    {
     "data": {
      "text/plain": [
       "b'{\"chr\":\"11\",\"end\":\"q23.1\",\"start\":\"q22.3\",\"type\":\"CytobandLocation\"}'"
      ]
     },
     "execution_count": 15,
     "metadata": {},
     "output_type": "execute_result"
    }
   ],
   "source": [
    "cbl = models.CytobandLocation(chr=\"11\", start=\"q22.3\", end=\"q23.1\")\n",
    "cbl.id = computed_id(cbl)\n",
    "serialize(cbl)"
   ]
  },
  {
   "cell_type": "markdown",
   "metadata": {},
   "source": [
    "### GeneLocation"
   ]
  },
  {
   "cell_type": "code",
   "execution_count": 16,
   "metadata": {
    "scrolled": true
   },
   "outputs": [
    {
     "data": {
      "text/plain": [
       "b'{\"gene\":\"HGNC:MSH2\",\"type\":\"GeneLocation\"}'"
      ]
     },
     "execution_count": 16,
     "metadata": {},
     "output_type": "execute_result"
    }
   ],
   "source": [
    "gl = models.GeneLocation(gene=\"HGNC:MSH2\")\n",
    "gl.id = computed_id(gl)\n",
    "serialize(gl)"
   ]
  },
  {
   "cell_type": "markdown",
   "metadata": {},
   "source": [
    "# Alleles\n",
    "\n",
    "An Allele is essentially just a pair of Location and State. The many possible Location and State types permit representing many flavors of variation."
   ]
  },
  {
   "cell_type": "markdown",
   "metadata": {},
   "source": [
    "### \"Simple\" sequence replacements\n",
    "This case covers any \"ref-alt\" style variation, which includes SNVs, MNVs, del, ins, and delins."
   ]
  },
  {
   "cell_type": "code",
   "execution_count": 17,
   "metadata": {},
   "outputs": [
    {
     "data": {
      "text/plain": [
       "b'{\"location\":{\"id\":\"VMC:GL_8KJJStVL_dJigtK_AHyVp5AAipy1pMh8\",\"interval\":{\"end\":43,\"start\":42,\"type\":\"SimpleInterval\"},\"sequence_id\":\"NM_0001234.5\",\"type\":\"SequenceLocation\"},\"state\":{\"sequence\":\"A\",\"type\":\"SequenceState\"},\"type\":\"Allele\"}'"
      ]
     },
     "execution_count": 17,
     "metadata": {},
     "output_type": "execute_result"
    }
   ],
   "source": [
    "ss = models.SequenceState(sequence=\"A\")\n",
    "a = models.Allele(location=slsi, state=ss)\n",
    "a.id = computed_id(a)\n",
    "serialize(a)"
   ]
  },
  {
   "cell_type": "markdown",
   "metadata": {},
   "source": [
    "## EXPERIMENTAL: Copy Number Examples\n",
    "\n",
    "> **_NOTE_**:  The copy number model is under development. The intention below is to demonstrate how CNV structures might be incorporated into the existing schema, not the merits of the CNV support.\n"
   ]
  },
  {
   "cell_type": "markdown",
   "metadata": {},
   "source": [
    "### CNV of a simple SequenceLocation, copy location unknown/unspecified\n",
    "The only difference between this example and the above SequenceState example is that we use a new State subclass, CNVState."
   ]
  },
  {
   "cell_type": "code",
   "execution_count": null,
   "metadata": {
    "scrolled": true
   },
   "outputs": [],
   "source": [
    "si = models.SimpleInterval(start=20,end=30)\n",
    "sl = models.SequenceLocation(sequence_id=\"NM_0001234.5\", interval=si)\n",
    "\n",
    "cnvstate = models.CNVState(min_copies=3, max_copies=5, copy_measure=\"TOTAL\")\n",
    "\n",
    "a = models.Allele(location=sl, state=cnvstate)\n",
    "a.id = computed_id(a)\n",
    "a.as_dict()"
   ]
  },
  {
   "cell_type": "markdown",
   "metadata": {},
   "source": [
    "## Same CNV, now with known location"
   ]
  },
  {
   "cell_type": "code",
   "execution_count": null,
   "metadata": {},
   "outputs": [],
   "source": [
    "si = models.SimpleInterval(start=20,end=30)\n",
    "sl = models.SequenceLocation(sequence_id=\"NM_0001234.5\", interval=si)\n",
    "\n",
    "# 👉 Note addition of location in CNVState\n",
    "# When CNV.location == Allele.location, CN is total copy number and copies are tandem\n",
    "cnvstate = models.CNVState(min_copies=3, max_copies=5, copy_measure=\"TOTAL\", location = sl)\n",
    "\n",
    "a = models.Allele(location=sl, state=cnvstate)\n",
    "a.id = computed_id(a)\n",
    "a.as_dict()"
   ]
  },
  {
   "cell_type": "markdown",
   "metadata": {},
   "source": [
    "### CNV at a Gene Location\n",
    "\n",
    "Any Location subclass may be used to define an Allele. Below, a GeneLocation is used to define a gene-level CNV.\n",
    "\n",
    "The `ncbigene` CURIE prefix is taken from identifiers.org."
   ]
  },
  {
   "cell_type": "code",
   "execution_count": null,
   "metadata": {
    "scrolled": true
   },
   "outputs": [],
   "source": [
    "gl = models.GeneLocation(gene=\"ncbigene:1473\")\n",
    "\n",
    "cnvstate = models.CNVState(min_copies=3, max_copies=5, copy_measure=\"RELATIVE\")\n",
    "\n",
    "a = models.Allele(location=gl, state=cnvstate)\n",
    "a.id = computed_id(a)\n",
    "a.as_dict()"
   ]
  },
  {
   "cell_type": "markdown",
   "metadata": {},
   "source": [
    "### Gene Deletion\n",
    "\n",
    "STILL THINKING: Expressing gene-level deletion could use a SequenceState(\"\"), a CNVState(min_copies=0, max_copies=0), or create a new Deletion state. All have tradeoffs. Need to evaluate which minimizes the possibility of confusion."
   ]
  },
  {
   "cell_type": "code",
   "execution_count": null,
   "metadata": {
    "scrolled": true
   },
   "outputs": [],
   "source": [
    "a = models.Allele(location=gl, state=models.SequenceState(sequence=\"\"))\n",
    "a.id = computed_id(a)\n",
    "a.as_dict()"
   ]
  },
  {
   "cell_type": "markdown",
   "metadata": {},
   "source": [
    "# Haplotypes\n",
    "A Haplotype is a collection of allele_ids, with optional specification for covered location and completeness"
   ]
  },
  {
   "cell_type": "code",
   "execution_count": null,
   "metadata": {},
   "outputs": [],
   "source": [
    "h = models.Haplotype(\n",
    "    location_id=slsi.id,\n",
    "    allele_ids=[\n",
    "    'BOGUS:XX_WMv1y-3Q460hi_S3ND5N5Ct2Ci58TOZd',\n",
    "    'BOGUS:XX_jW7bSR3Obmx3IewIRSJkJMf6t7b73LVU',\n",
    "    'BOGUS:XX_23DL4svp8FvWdMrkhuOckbyjM-0I1Dov',\n",
    "    'BOGUS:XX_n363FutAEo79HhjNl7wea61SGc_tU40j'],\n",
    "    completeness=\"PARTIAL\")\n",
    "h.id = computed_id(h)\n",
    "h.as_dict()"
   ]
  },
  {
   "cell_type": "markdown",
   "metadata": {},
   "source": [
    "# Genotypes\n",
    "A Genotype is a collection of Haplotypes_ids, with optional specification for completeness"
   ]
  },
  {
   "cell_type": "code",
   "execution_count": null,
   "metadata": {},
   "outputs": [],
   "source": [
    "g = models.Genotype(\n",
    "    haplotype_ids=[\n",
    "    'BOGUS:XX_WMv1y-3Q460hi_S3ND5N5Ct2Ci58TOZd',\n",
    "    'BOGUS:XX_jW7bSR3Obmx3IewIRSJkJMf6t7b73LVU',\n",
    "    'BOGUS:XX_23DL4svp8FvWdMrkhuOckbyjM-0I1Dov',\n",
    "    'BOGUS:XX_n363FutAEo79HhjNl7wea61SGc_tU40j'],\n",
    "    completeness=\"PARTIAL\")\n",
    "g.id = computed_id(g)\n",
    "g.as_dict()"
   ]
  },
  {
   "cell_type": "markdown",
   "metadata": {},
   "source": [
    "# VariationSet\n",
    "VariationSet is just a bucket of ids, which may not even exist."
   ]
  },
  {
   "cell_type": "code",
   "execution_count": null,
   "metadata": {},
   "outputs": [],
   "source": [
    "vs = models.VariationSet(member_ids=[\n",
    "    'BOGUS:XX_WMv1y-3Q460hi_S3ND5N5Ct2Ci58TOZd',\n",
    "    'BOGUS:XX_jW7bSR3Obmx3IewIRSJkJMf6t7b73LVU',\n",
    "    'BOGUS:XX_23DL4svp8FvWdMrkhuOckbyjM-0I1Dov',\n",
    "    'BOGUS:XX_n363FutAEo79HhjNl7wea61SGc_tU40j',\n",
    "    'BOGUS:XX_pel3HzoNSMCEvPoQQD-AOBE8I8s0eCn9',\n",
    "    'BOGUS:XX_X2x6a4Xvil365Ea-Po8WcuuQPWx973U8',\n",
    "    'BOGUS:XX_QHDx_0DbssgtGljy-K1q7WAcNkqD5TY-',\n",
    "    'BOGUS:XX_3x2p-8eCIc0pU-if_6CFBKGLziZRSWdz',\n",
    "    'BOGUS:XX_RXF8gSNDDyPQ0opTA8ordEE6hGGm2GYJ',\n",
    "    'BOGUS:XX_7tDaRPzXL4rfOLoYtRUUGCTy65ptDs8J'])\n",
    "vs.id = computed_id(vs)\n",
    "vs.as_dict()"
   ]
  },
  {
   "cell_type": "markdown",
   "metadata": {},
   "source": [
    "---\n",
    "# ga4gh.vr.extras"
   ]
  },
  {
   "cell_type": "markdown",
   "metadata": {},
   "source": [
    "## Format translator\n",
    "ga4gh.vr.extras.translator translates various formats into VR representations"
   ]
  },
  {
   "cell_type": "code",
   "execution_count": null,
   "metadata": {},
   "outputs": [],
   "source": [
    "from ga4gh.vr.extras.translator import Translator\n",
    "tlr = Translator()"
   ]
  },
  {
   "cell_type": "code",
   "execution_count": null,
   "metadata": {},
   "outputs": [],
   "source": [
    "a = tlr.from_beacon(\"13 : 32936732 G > C\")\n",
    "a.as_dict()"
   ]
  },
  {
   "cell_type": "code",
   "execution_count": null,
   "metadata": {},
   "outputs": [],
   "source": [
    "a = tlr.from_hgvs(\"NM_012345.6:c.22A>T\")\n",
    "a.as_dict()"
   ]
  },
  {
   "cell_type": "code",
   "execution_count": null,
   "metadata": {},
   "outputs": [],
   "source": [
    "a = tlr.from_spdi(\"NM_012345.6:21:1:T\")\n",
    "a.as_dict()"
   ]
  },
  {
   "cell_type": "code",
   "execution_count": null,
   "metadata": {},
   "outputs": [],
   "source": [
    "a = tlr.from_vcf(\"1-55516888-G-GA\")   # gnomAD-style expression\n",
    "a.as_dict()"
   ]
  },
  {
   "cell_type": "markdown",
   "metadata": {},
   "source": [
    "## Feature \"Localizer\"\n",
    "Converts feature-based locations to SequenceLocations. Cytoband features are taken from UCSC."
   ]
  },
  {
   "cell_type": "code",
   "execution_count": null,
   "metadata": {},
   "outputs": [],
   "source": [
    "cbl = models.CytobandLocation(chr=\"11\", start=\"q22.3\", end=\"q23.1\")\n",
    "a = models.Allele(location=cbl, state=ss)\n",
    "\n",
    "from ga4gh.vr.extras.localizer import Localizer\n",
    "locr = Localizer(default_assembly_name=\"GRCh38\")\n",
    "\n",
    "aloc = locr.localize(a)\n",
    "aloc.as_dict()"
   ]
  },
  {
   "cell_type": "code",
   "execution_count": null,
   "metadata": {},
   "outputs": [],
   "source": []
  },
  {
   "cell_type": "markdown",
   "metadata": {},
   "source": [
    "## Translating sequence identifiers to VMC sequence identifiers\n",
    "Sequence lookup services are required to implement VMC operations, but the exact implementation is up to the implementer. The most important need is to translate sequence identifiers from RefSeq or other sources into VMC sequence identifiers."
   ]
  },
  {
   "cell_type": "code",
   "execution_count": null,
   "metadata": {},
   "outputs": [],
   "source": [
    "from ga4gh.vr.extras.seqrepo import get_vmc_sequence_identifier\n",
    "get_vmc_sequence_identifier(\"RefSeq:NC_000019.10\")"
   ]
  },
  {
   "cell_type": "code",
   "execution_count": null,
   "metadata": {},
   "outputs": [],
   "source": []
  }
 ],
 "metadata": {
  "kernelspec": {
   "display_name": "Python 3",
   "language": "python",
   "name": "python3"
  },
  "language_info": {
   "codemirror_mode": {
    "name": "ipython",
    "version": 3
   },
   "file_extension": ".py",
   "mimetype": "text/x-python",
   "name": "python",
   "nbconvert_exporter": "python",
   "pygments_lexer": "ipython3",
   "version": "3.7.3"
  }
 },
 "nbformat": 4,
 "nbformat_minor": 2
}
