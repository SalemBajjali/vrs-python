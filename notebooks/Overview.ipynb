{
 "cells": [
  {
   "cell_type": "markdown",
   "metadata": {},
   "source": [
    "# GA4GH Variation Representation Overview\n",
    "\n",
    "The GA4GH Variation Representation Specification consists of two components: a JSON schema that describes the structure of data, and conventions for how to use that structure to improve the consistency of sequence variation shared in the community.  A reference implementation in Python accompanies the specification and is demonstrated in this notebook.\n",
    "\n",
    "GA4GH VR was formerly known as the Variation Modelling Collaboration (VMC)."
   ]
  },
  {
   "cell_type": "markdown",
   "metadata": {},
   "source": [
    "## Using the Reference Implementation\n",
    "All publicly available functionality is accessed by importing from `ga4gh.vr`, as shown below."
   ]
  },
  {
   "cell_type": "code",
   "execution_count": 1,
   "metadata": {},
   "outputs": [],
   "source": [
    "from ga4gh.core import ga4gh_digest\n",
    "from ga4gh.vr import __version__, ga4gh_identify, ga4gh_serialize, models, normalize"
   ]
  },
  {
   "cell_type": "markdown",
   "metadata": {},
   "source": [
    "<br>\n",
    "<div>\n",
    "    <div style=\"border-radius: 10px; width: 80%; margin: 0 auto; padding: 5px; border: 2pt solid #660000; color: #660000; background: #f4cccc;\">\n",
    "    <span style=\"font-size: 200%\">⚠</span> Import only from <code>ga4gh.vr</code>.\n",
    "            Submodules contain implementation details that are likely to change without notice.\n",
    "    </div>\n",
    "</div>"
   ]
  },
  {
   "cell_type": "code",
   "execution_count": 2,
   "metadata": {},
   "outputs": [
    {
     "data": {
      "text/plain": [
       "'0.2.1.dev56+gfa705ba.d20190620'"
      ]
     },
     "execution_count": 2,
     "metadata": {},
     "output_type": "execute_result"
    }
   ],
   "source": [
    "# You can see the version of ga4gh.vr like so:\n",
    "__version__"
   ]
  },
  {
   "cell_type": "markdown",
   "metadata": {},
   "source": [
    "## Top-Down View of VR Schema Classes\n",
    "\n",
    "The top-level VR classes are Location and Variation.  A Location describes *where* an event occurs.  Variation describes an event at a Location. Location and Variation are *abstract* objects — their purpose is to provide a framework for the way we think about variation, but they doen't represent any particular instance themselves. \n",
    "\n",
    "Currently, there is only one Location class: SequenceLocation, which defines a precise span on a named sequence. Future Location classes will include Cytoband Locations, Gene Locations, as well as SequenceLocations using fuzzy and/or intronic coordinates.\n",
    "\n",
    "There are two Variation subclasses: \n",
    "* Text -- a blob of text, used when a textual representation is not (yet) parseable\n",
    "* Allele -- contiguous state of a sequence or conceptual region\n",
    "Future kinds of Variation will support haplotypes, genotypes, and translocations/fusions.\n",
    "\n",
    "The top-level classes in VR are *identifiable*, meaning that VR proscribes how implementations can compute globally-consistent identifiers from the data.\n",
    "\n",
    "See <a href=\"ga4gh-vr-schema.svg\">this figure</a> for a schematic representation.\n"
   ]
  },
  {
   "cell_type": "markdown",
   "metadata": {},
   "source": [
    "### Locations\n",
    "A Location is an *abstract* object that refer to contiguous regions of biological sequences. Concrete types of Locations are shown below.\n",
    "\n",
    "The most common Location is a SequenceLocation, i.e., a Location based on a named sequence and an Interval on that sequence. Locations may also be conceptual or symbolic locations, such as a cytoband region or a gene.\n",
    "Any of these may be used as the Location for Variation."
   ]
  },
  {
   "cell_type": "markdown",
   "metadata": {},
   "source": [
    "#### SimpleInterval"
   ]
  },
  {
   "cell_type": "code",
   "execution_count": 3,
   "metadata": {},
   "outputs": [
    {
     "data": {
      "text/plain": [
       "{'end': 43, 'start': 42, 'type': 'SimpleInterval'}"
      ]
     },
     "execution_count": 3,
     "metadata": {},
     "output_type": "execute_result"
    }
   ],
   "source": [
    "simple_interval = models.SimpleInterval(start=42, end=43)\n",
    "simple_interval.as_dict()"
   ]
  },
  {
   "cell_type": "markdown",
   "metadata": {},
   "source": [
    "#### SequenceLocation"
   ]
  },
  {
   "cell_type": "code",
   "execution_count": 4,
   "metadata": {},
   "outputs": [
    {
     "ename": "NameError",
     "evalue": "name 'is_ga4gh_identifer' is not defined",
     "output_type": "error",
     "traceback": [
      "\u001b[0;31m---------------------------------------------------------------------------\u001b[0m",
      "\u001b[0;31mNameError\u001b[0m                                 Traceback (most recent call last)",
      "\u001b[0;32m<ipython-input-4-39fef43e1fa2>\u001b[0m in \u001b[0;36m<module>\u001b[0;34m\u001b[0m\n\u001b[1;32m      3\u001b[0m     \u001b[0msequence_id\u001b[0m\u001b[0;34m=\u001b[0m\u001b[0;34m\"refseq:NM_0001234.5\"\u001b[0m\u001b[0;34m,\u001b[0m\u001b[0;34m\u001b[0m\u001b[0;34m\u001b[0m\u001b[0m\n\u001b[1;32m      4\u001b[0m     interval=simple_interval)\n\u001b[0;32m----> 5\u001b[0;31m \u001b[0mga4gh_identify\u001b[0m\u001b[0;34m(\u001b[0m\u001b[0msequence_location_si\u001b[0m\u001b[0;34m)\u001b[0m\u001b[0;34m\u001b[0m\u001b[0;34m\u001b[0m\u001b[0m\n\u001b[0m\u001b[1;32m      6\u001b[0m \u001b[0msequence_location_si\u001b[0m\u001b[0;34m.\u001b[0m\u001b[0mas_dict\u001b[0m\u001b[0;34m(\u001b[0m\u001b[0;34m)\u001b[0m\u001b[0;34m\u001b[0m\u001b[0;34m\u001b[0m\u001b[0m\n",
      "\u001b[0;32m~/projects/ga4gh/vr-python/src/ga4gh/vr/_internal/computed_identifier.py\u001b[0m in \u001b[0;36mga4gh_identify\u001b[0;34m(vro)\u001b[0m\n\u001b[1;32m     82\u001b[0m         \u001b[0;32mreturn\u001b[0m \u001b[0mstr\u001b[0m\u001b[0;34m(\u001b[0m\u001b[0mvro\u001b[0m\u001b[0;34m.\u001b[0m\u001b[0mid\u001b[0m\u001b[0;34m)\u001b[0m\u001b[0;34m\u001b[0m\u001b[0;34m\u001b[0m\u001b[0m\n\u001b[1;32m     83\u001b[0m     \u001b[0mpfx\u001b[0m \u001b[0;34m=\u001b[0m \u001b[0m_ga4gh_model_prefixes\u001b[0m\u001b[0;34m[\u001b[0m\u001b[0mtype\u001b[0m\u001b[0;34m(\u001b[0m\u001b[0mvro\u001b[0m\u001b[0;34m)\u001b[0m\u001b[0;34m]\u001b[0m\u001b[0;34m\u001b[0m\u001b[0;34m\u001b[0m\u001b[0m\n\u001b[0;32m---> 84\u001b[0;31m     \u001b[0mdigest\u001b[0m \u001b[0;34m=\u001b[0m \u001b[0mga4gh_digest\u001b[0m\u001b[0;34m(\u001b[0m\u001b[0mga4gh_serialize\u001b[0m\u001b[0;34m(\u001b[0m\u001b[0mvro\u001b[0m\u001b[0;34m)\u001b[0m\u001b[0;34m)\u001b[0m\u001b[0;34m\u001b[0m\u001b[0;34m\u001b[0m\u001b[0m\n\u001b[0m\u001b[1;32m     85\u001b[0m     \u001b[0mir\u001b[0m \u001b[0;34m=\u001b[0m \u001b[0;34mf\"{NAMESPACE}{PFX_REF_SEP}{pfx}{REF_SEP}{digest}\"\u001b[0m\u001b[0;34m\u001b[0m\u001b[0;34m\u001b[0m\u001b[0m\n\u001b[1;32m     86\u001b[0m     \u001b[0msetattr\u001b[0m\u001b[0;34m(\u001b[0m\u001b[0mvro\u001b[0m\u001b[0;34m,\u001b[0m \u001b[0;34m\"id\"\u001b[0m\u001b[0;34m,\u001b[0m \u001b[0mir\u001b[0m\u001b[0;34m)\u001b[0m\u001b[0;34m\u001b[0m\u001b[0;34m\u001b[0m\u001b[0m\n",
      "\u001b[0;32m~/projects/ga4gh/vr-python/src/ga4gh/vr/_internal/computed_identifier.py\u001b[0m in \u001b[0;36mga4gh_serialize\u001b[0;34m(vro)\u001b[0m\n\u001b[1;32m    120\u001b[0m     \u001b[0;31m#                          indent=None).encode(\"utf-8\")\u001b[0m\u001b[0;34m\u001b[0m\u001b[0;34m\u001b[0m\u001b[0;34m\u001b[0m\u001b[0m\n\u001b[1;32m    121\u001b[0m \u001b[0;34m\u001b[0m\u001b[0m\n\u001b[0;32m--> 122\u001b[0;31m     \u001b[0;32mreturn\u001b[0m \u001b[0mencode_canonical_json\u001b[0m\u001b[0;34m(\u001b[0m\u001b[0m_dictify\u001b[0m\u001b[0;34m(\u001b[0m\u001b[0mvro\u001b[0m\u001b[0;34m)\u001b[0m\u001b[0;34m)\u001b[0m\u001b[0;34m\u001b[0m\u001b[0;34m\u001b[0m\u001b[0m\n\u001b[0m\u001b[1;32m    123\u001b[0m \u001b[0;34m\u001b[0m\u001b[0m\n\u001b[1;32m    124\u001b[0m \u001b[0;34m\u001b[0m\u001b[0m\n",
      "\u001b[0;32m~/projects/ga4gh/vr-python/src/ga4gh/vr/_internal/computed_identifier.py\u001b[0m in \u001b[0;36m_dictify\u001b[0;34m(vro)\u001b[0m\n\u001b[1;32m    173\u001b[0m         \u001b[0;32mreturn\u001b[0m \u001b[0mvro\u001b[0m\u001b[0;34m\u001b[0m\u001b[0;34m\u001b[0m\u001b[0m\n\u001b[1;32m    174\u001b[0m \u001b[0;34m\u001b[0m\u001b[0m\n\u001b[0;32m--> 175\u001b[0;31m     \u001b[0;32mreturn\u001b[0m \u001b[0mdictify_inner\u001b[0m\u001b[0;34m(\u001b[0m\u001b[0mvro\u001b[0m\u001b[0;34m=\u001b[0m\u001b[0mvro\u001b[0m\u001b[0;34m,\u001b[0m \u001b[0menref\u001b[0m\u001b[0;34m=\u001b[0m\u001b[0;32mFalse\u001b[0m\u001b[0;34m)\u001b[0m  \u001b[0;31m# don't enref first\u001b[0m\u001b[0;34m\u001b[0m\u001b[0;34m\u001b[0m\u001b[0m\n\u001b[0m\u001b[1;32m    176\u001b[0m \u001b[0;34m\u001b[0m\u001b[0m\n\u001b[1;32m    177\u001b[0m \u001b[0;34m\u001b[0m\u001b[0m\n",
      "\u001b[0;32m~/projects/ga4gh/vr-python/src/ga4gh/vr/_internal/computed_identifier.py\u001b[0m in \u001b[0;36mdictify_inner\u001b[0;34m(vro, enref)\u001b[0m\n\u001b[1;32m    169\u001b[0m                 \u001b[0;32mreturn\u001b[0m \u001b[0m_id\u001b[0m\u001b[0;34m\u001b[0m\u001b[0;34m\u001b[0m\u001b[0m\n\u001b[1;32m    170\u001b[0m             return {k: dictify_inner(vro[k])\n\u001b[0;32m--> 171\u001b[0;31m                     \u001b[0;32mfor\u001b[0m \u001b[0mk\u001b[0m \u001b[0;32min\u001b[0m \u001b[0mvro\u001b[0m\u001b[0;34m\u001b[0m\u001b[0;34m\u001b[0m\u001b[0m\n\u001b[0m\u001b[1;32m    172\u001b[0m                     if k != \"id\" and vro[k] is not None}\n\u001b[1;32m    173\u001b[0m         \u001b[0;32mreturn\u001b[0m \u001b[0mvro\u001b[0m\u001b[0;34m\u001b[0m\u001b[0;34m\u001b[0m\u001b[0m\n",
      "\u001b[0;32m~/projects/ga4gh/vr-python/src/ga4gh/vr/_internal/computed_identifier.py\u001b[0m in \u001b[0;36m<dictcomp>\u001b[0;34m(.0)\u001b[0m\n\u001b[1;32m    170\u001b[0m             return {k: dictify_inner(vro[k])\n\u001b[1;32m    171\u001b[0m                     \u001b[0;32mfor\u001b[0m \u001b[0mk\u001b[0m \u001b[0;32min\u001b[0m \u001b[0mvro\u001b[0m\u001b[0;34m\u001b[0m\u001b[0;34m\u001b[0m\u001b[0m\n\u001b[0;32m--> 172\u001b[0;31m                     if k != \"id\" and vro[k] is not None}\n\u001b[0m\u001b[1;32m    173\u001b[0m         \u001b[0;32mreturn\u001b[0m \u001b[0mvro\u001b[0m\u001b[0;34m\u001b[0m\u001b[0;34m\u001b[0m\u001b[0m\n\u001b[1;32m    174\u001b[0m \u001b[0;34m\u001b[0m\u001b[0m\n",
      "\u001b[0;32m~/projects/ga4gh/vr-python/src/ga4gh/vr/_internal/computed_identifier.py\u001b[0m in \u001b[0;36mdictify_inner\u001b[0;34m(vro, enref)\u001b[0m\n\u001b[1;32m    169\u001b[0m                 \u001b[0;32mreturn\u001b[0m \u001b[0m_id\u001b[0m\u001b[0;34m\u001b[0m\u001b[0;34m\u001b[0m\u001b[0m\n\u001b[1;32m    170\u001b[0m             return {k: dictify_inner(vro[k])\n\u001b[0;32m--> 171\u001b[0;31m                     \u001b[0;32mfor\u001b[0m \u001b[0mk\u001b[0m \u001b[0;32min\u001b[0m \u001b[0mvro\u001b[0m\u001b[0;34m\u001b[0m\u001b[0;34m\u001b[0m\u001b[0m\n\u001b[0m\u001b[1;32m    172\u001b[0m                     if k != \"id\" and vro[k] is not None}\n\u001b[1;32m    173\u001b[0m         \u001b[0;32mreturn\u001b[0m \u001b[0mvro\u001b[0m\u001b[0;34m\u001b[0m\u001b[0;34m\u001b[0m\u001b[0m\n",
      "\u001b[0;32m~/projects/ga4gh/vr-python/src/ga4gh/vr/_internal/computed_identifier.py\u001b[0m in \u001b[0;36m<dictcomp>\u001b[0;34m(.0)\u001b[0m\n\u001b[1;32m    170\u001b[0m             return {k: dictify_inner(vro[k])\n\u001b[1;32m    171\u001b[0m                     \u001b[0;32mfor\u001b[0m \u001b[0mk\u001b[0m \u001b[0;32min\u001b[0m \u001b[0mvro\u001b[0m\u001b[0;34m\u001b[0m\u001b[0;34m\u001b[0m\u001b[0m\n\u001b[0;32m--> 172\u001b[0;31m                     if k != \"id\" and vro[k] is not None}\n\u001b[0m\u001b[1;32m    173\u001b[0m         \u001b[0;32mreturn\u001b[0m \u001b[0mvro\u001b[0m\u001b[0;34m\u001b[0m\u001b[0;34m\u001b[0m\u001b[0m\n\u001b[1;32m    174\u001b[0m \u001b[0;34m\u001b[0m\u001b[0m\n",
      "\u001b[0;32m~/projects/ga4gh/vr-python/src/ga4gh/vr/_internal/computed_identifier.py\u001b[0m in \u001b[0;36mdictify_inner\u001b[0;34m(vro, enref)\u001b[0m\n\u001b[1;32m    157\u001b[0m         \u001b[0;32mif\u001b[0m \u001b[0mis_literal\u001b[0m\u001b[0;34m(\u001b[0m\u001b[0mvro\u001b[0m\u001b[0;34m)\u001b[0m\u001b[0;34m:\u001b[0m\u001b[0;34m\u001b[0m\u001b[0;34m\u001b[0m\u001b[0m\n\u001b[1;32m    158\u001b[0m             \u001b[0mv\u001b[0m \u001b[0;34m=\u001b[0m \u001b[0mvro\u001b[0m\u001b[0;34m.\u001b[0m\u001b[0m_value\u001b[0m\u001b[0;34m\u001b[0m\u001b[0;34m\u001b[0m\u001b[0m\n\u001b[0;32m--> 159\u001b[0;31m             \u001b[0;32mif\u001b[0m \u001b[0mis_ga4gh_identifer\u001b[0m\u001b[0;34m(\u001b[0m\u001b[0mv\u001b[0m\u001b[0;34m)\u001b[0m\u001b[0;34m:\u001b[0m\u001b[0;34m\u001b[0m\u001b[0;34m\u001b[0m\u001b[0m\n\u001b[0m\u001b[1;32m    160\u001b[0m                 \u001b[0mv\u001b[0m \u001b[0;34m=\u001b[0m \u001b[0mv\u001b[0m\u001b[0;34m.\u001b[0m\u001b[0msplit\u001b[0m\u001b[0;34m(\u001b[0m\u001b[0mREF_SEP\u001b[0m\u001b[0;34m)\u001b[0m\u001b[0;34m[\u001b[0m\u001b[0;34m-\u001b[0m\u001b[0;36m1\u001b[0m\u001b[0;34m]\u001b[0m\u001b[0;34m\u001b[0m\u001b[0;34m\u001b[0m\u001b[0m\n\u001b[1;32m    161\u001b[0m             \u001b[0;32mreturn\u001b[0m \u001b[0mv\u001b[0m\u001b[0;34m\u001b[0m\u001b[0;34m\u001b[0m\u001b[0m\n",
      "\u001b[0;31mNameError\u001b[0m: name 'is_ga4gh_identifer' is not defined"
     ]
    }
   ],
   "source": [
    "# A SequenceLocation based on a SimpleInterval\n",
    "sequence_location_si = models.SequenceLocation(\n",
    "    sequence_id=\"refseq:NM_0001234.5\",\n",
    "    interval=simple_interval)\n",
    "ga4gh_identify(sequence_location_si)\n",
    "sequence_location_si.as_dict()"
   ]
  },
  {
   "cell_type": "markdown",
   "metadata": {},
   "source": [
    "### Text Variation\n",
    "\n",
    "In order to support variation descriptions that cannot be parsed, or cannot be parsed yet, the VR provides a Text schema object. The intention is to provide ids for *any* variation, particularly human descriptions of variation."
   ]
  },
  {
   "cell_type": "code",
   "execution_count": null,
   "metadata": {},
   "outputs": [],
   "source": [
    "text_variation = models.Text(definition=\"PTEN loss\")\n",
    "text_variation.as_dict()"
   ]
  },
  {
   "cell_type": "markdown",
   "metadata": {},
   "source": [
    "### Alleles\n",
    "\n",
    "An Allele is an asserion of a SequenceState at a Location. The many possible Location and SequenceState classes enable the representation of many kinds of Variation."
   ]
  },
  {
   "cell_type": "markdown",
   "metadata": {},
   "source": [
    "### \"Simple\" sequence replacements\n",
    "This case covers any \"ref-alt\" style variation, which includes SNVs, MNVs, del, ins, and delins."
   ]
  },
  {
   "cell_type": "code",
   "execution_count": null,
   "metadata": {},
   "outputs": [],
   "source": [
    "sequence_state = models.SequenceState(sequence=\"A\")\n",
    "allele = models.Allele(location=sequence_location_si, state=sequence_state)\n",
    "ga4gh_identify(allele)\n",
    "allele.as_dict()"
   ]
  },
  {
   "cell_type": "markdown",
   "metadata": {},
   "source": [
    "---\n",
    "## Functions\n",
    "Conventions in the VR specification are implemented through several algorithmic functions. They are:\n",
    "\n",
    "* `normalize`: Implements sequence normalization for ins and del variation.\n",
    "* `ga4gh_digest`: Implements a convention constructing and formatting digests for an object.\n",
    "* `serialize`: Implements object serialization based on a canonical form of JSON.\n",
    "* `identify`: Generates a computed identifier for an identifiable object.\n"
   ]
  },
  {
   "cell_type": "markdown",
   "metadata": {},
   "source": [
    "### normalize()\n",
    "VR Spec RECOMMENDS that variation is reported as \"expanded\" alleles. Expanded alleles capture the entire region of insertion/deletion amiguity, thereby facilitating comparisons that would otherwise require on-the-fly computations."
   ]
  },
  {
   "cell_type": "code",
   "execution_count": null,
   "metadata": {},
   "outputs": [],
   "source": [
    "# Define a dinucleotide insertion on the following sequence at interbase (13, 13)\n",
    "sequence = \"CCCCCCCCACACACACACTAGCAGCAGCA\"\n",
    "#    0 1 2 3 4 5 6 7 8 9 0 1 2 3 4 5 6 7 8 9 0 1 2 3 4 5 6 7 8 9\n",
    "#     C C C C C C C C A C A C A C A C A C T A G C A G C A G C A\n",
    "#                              ^ insert CA here\n",
    "interval = (13, 13)\n",
    "alleles = (None, \"CA\")\n",
    "args = dict(sequence=sequence, interval=interval, alleles=alleles, bounds=(0,len(sequence)))"
   ]
  },
  {
   "cell_type": "code",
   "execution_count": null,
   "metadata": {},
   "outputs": [],
   "source": [
    "# The expanded allele sequences\n",
    "normalize(**args, mode=\"EXPAND\")"
   ]
  },
  {
   "cell_type": "code",
   "execution_count": null,
   "metadata": {},
   "outputs": [],
   "source": [
    "# For comparison, the left and right shuffled alleles\n",
    "normalize(**args, mode=\"LEFTSHUFFLE\")"
   ]
  },
  {
   "cell_type": "code",
   "execution_count": null,
   "metadata": {},
   "outputs": [],
   "source": [
    "normalize(**args, mode=\"RIGHTSHUFFLE\")"
   ]
  },
  {
   "cell_type": "markdown",
   "metadata": {},
   "source": [
    "### ga4gh_digest()\n",
    "The `ga4gh_digest` is a convention for constructing unique identifiers from binary objects (as from serialization) using well-known SHA512 hashing and Base64 (i.e., base64url) encoding. "
   ]
  },
  {
   "cell_type": "code",
   "execution_count": null,
   "metadata": {
    "scrolled": true
   },
   "outputs": [],
   "source": [
    "ga4gh_digest(b\"\")"
   ]
  },
  {
   "cell_type": "code",
   "execution_count": null,
   "metadata": {
    "scrolled": true
   },
   "outputs": [],
   "source": [
    "ga4gh_digest(b\"ACGT\")"
   ]
  },
  {
   "cell_type": "markdown",
   "metadata": {},
   "source": [
    "### ga4gh_serialize()\n",
    "Serialization is the process of converting an object to a *binary* representation for transmission or communication. In the context of generating GA4GH identifiers, serialization is a process to generate a *canonical* JSON form in order to generate a digest. The VR serialization is based on a JSON canonincialization scheme consistent with several existing proposals. See the spec for details.\n",
    "\n",
    "Because the serialization and digest methods are well-defined, groups with the same data will generate the same digests and computed identifiers.\n",
    "\n",
    "GA4GH serialization replaces inline identifiable objects with their digests in order to create a well-defined ordering. See the `location` property in the `Allele` example below.\n",
    "\n",
    "<br>\n",
    "<div>\n",
    "    <div style=\"border-radius: 10px; width: 80%; margin: 0 auto; padding: 5px; border: 2pt solid #660000; color: #660000; background: #f4cccc;\">\n",
    "        <span style=\"font-size: 200%\">⚠</span> Although JSON serialization and GA4GH canonical JSON serialization appear similar, they are NOT interchangeable and will generated different digests. GA4GH identifiers are defined <i>only</i> when used with GA4GH serialization process.\n",
    "    </div>\n",
    "</div>"
   ]
  },
  {
   "cell_type": "code",
   "execution_count": null,
   "metadata": {},
   "outputs": [],
   "source": [
    "# This is the \"simple\" allele defined above, repeated here for readability\n",
    "# Note that the location data is inlined\n",
    "allele.as_dict()"
   ]
  },
  {
   "cell_type": "code",
   "execution_count": null,
   "metadata": {
    "scrolled": true
   },
   "outputs": [],
   "source": [
    "# This is the serialized form. Notice that the inline `Location` instance was replaced with\n",
    "# its identifier and that the Allele id is not included. \n",
    "ga4gh_serialize(allele)"
   ]
  },
  {
   "cell_type": "markdown",
   "metadata": {},
   "source": [
    "### ga4gh_identify()\n",
    "VR computed identifiers are constructed from digests on serialized objects by prefixing a VR digest with a type-specific code."
   ]
  },
  {
   "cell_type": "code",
   "execution_count": null,
   "metadata": {},
   "outputs": [],
   "source": [
    "# applying ga4gh_digest to the serialized allele returns a base64url-encoded digest\n",
    "ga4gh_digest( ga4gh_serialize(allele) )"
   ]
  },
  {
   "cell_type": "code",
   "execution_count": null,
   "metadata": {},
   "outputs": [],
   "source": [
    "# identify() uses this digest to construct a CURIE-formatted identifier.\n",
    "# The VA prefix identifies this object as a Variation Allele.\n",
    "ga4gh_identify(allele)"
   ]
  },
  {
   "cell_type": "code",
   "execution_count": null,
   "metadata": {},
   "outputs": [],
   "source": []
  },
  {
   "cell_type": "code",
   "execution_count": null,
   "metadata": {},
   "outputs": [],
   "source": []
  }
 ],
 "metadata": {
  "kernelspec": {
   "display_name": "Python 3",
   "language": "python",
   "name": "python3"
  },
  "language_info": {
   "codemirror_mode": {
    "name": "ipython",
    "version": 3
   },
   "file_extension": ".py",
   "mimetype": "text/x-python",
   "name": "python",
   "nbconvert_exporter": "python",
   "pygments_lexer": "ipython3",
   "version": "3.7.3"
  }
 },
 "nbformat": 4,
 "nbformat_minor": 2
}
