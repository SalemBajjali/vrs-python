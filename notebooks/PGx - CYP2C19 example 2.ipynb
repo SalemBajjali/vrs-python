{
 "cells": [
  {
   "cell_type": "code",
   "execution_count": 7,
   "id": "5040a57e-c81e-45da-9898-cba571ddd664",
   "metadata": {},
   "outputs": [],
   "source": [
    "from ga4gh.vrs import models, vrs_deref, vrs_enref\n",
    "from ga4gh.core import ga4gh_identify, ga4gh_serialize, ga4gh_digest, ga4gh_deref\n",
    "\n",
    "import json\n",
    "def ppo(o, indent=2):\n",
    "    \"\"\"pretty print object as json\"\"\"\n",
    "    print(json.dumps(o.as_dict(), sort_keys=True, indent=indent))\n",
    "    \n",
    "from ga4gh.vrs.dataproxy import SeqRepoRESTDataProxy\n",
    "from biocommons.seqrepo import SeqRepo\n",
    "from ga4gh.vrs.extras.translator import Translator"
   ]
  },
  {
   "cell_type": "code",
   "execution_count": 8,
   "id": "a8a856f9-2841-449c-8813-49d3364751cf",
   "metadata": {},
   "outputs": [],
   "source": [
    "seqrepo_rest_service_url = \"https://services.genomicmedlab.org/seqrepo\"\n",
    "dp = SeqRepoRESTDataProxy(base_url=seqrepo_rest_service_url)\n",
    "\n",
    "tlr = Translator(data_proxy=dp)"
   ]
  },
  {
   "cell_type": "markdown",
   "id": "77bd7e21-5491-4e8e-ad11-f44b8ceee1f6",
   "metadata": {},
   "source": [
    "## Representing PharmGKB CYP2C19*3/*4"
   ]
  },
  {
   "cell_type": "code",
   "execution_count": 9,
   "id": "940ae680-ca51-483e-91d2-33af495d5eb2",
   "metadata": {},
   "outputs": [],
   "source": [
    "# Haplotype 1: PharmGKB CYP2C19*3\n",
    "# H1 Allele 1: \"NC_000010.11:g.94780653G>A\"\n",
    "# H1 Allele 2: \"NC_000010.11:g.94842866A>G\"\n",
    "\n",
    "hgvs_expression1 = \"NC_000010.11:g.94780653G>A\"\n",
    "h1_allele1 = tlr.translate_from(hgvs_expression1,'hgvs')\n",
    "\n",
    "hgvs_expression2 = \"NC_000010.11:g.94842866A>G\"\n",
    "h1_allele2 = tlr.translate_from(hgvs_expression2,'hgvs')"
   ]
  },
  {
   "cell_type": "code",
   "execution_count": 10,
   "id": "a4050ee3-8365-4585-b58c-fed576cefc82",
   "metadata": {},
   "outputs": [],
   "source": [
    "#hgvs_expression = \"NC_000010.11:g.94761665G>A\""
   ]
  },
  {
   "cell_type": "code",
   "execution_count": 11,
   "id": "9212b8c9-42ed-4ce3-b2e3-0d92f908f500",
   "metadata": {},
   "outputs": [],
   "source": [
    "#h1_allele1 = tlr.translate_from(hgvs_expression,'hgvs')"
   ]
  },
  {
   "cell_type": "code",
   "execution_count": 12,
   "id": "e72c375d-149a-471b-ae0b-8c756fbca4c8",
   "metadata": {},
   "outputs": [],
   "source": [
    "# Haplotype 2: PharmGKB CYP2C19*4\n",
    "# H2 Allele 1: \"NC_000010.11:g.94761900C>T\"\n",
    "# H2 Allele 2: \"NC_000010.11:g.94762706A>G\"\n",
    "# H2 Allele 3: \"NC_000010.11:g.94842866A>G\"\n",
    "\n",
    "hgvs_expression1 = \"NC_000010.11:g.94761900C>T\"\n",
    "h2_allele1 = tlr.translate_from(hgvs_expression1,'hgvs')\n",
    "\n",
    "hgvs_expression2 = \"NC_000010.11:g.94762706A>G\"\n",
    "h2_allele2 = tlr.translate_from(hgvs_expression2,'hgvs')\n",
    "\n",
    "hgvs_expression3 = \"NC_000010.11:g.94842866A>G\"\n",
    "h2_allele3 = tlr.translate_from(hgvs_expression3, 'hgvs')"
   ]
  },
  {
   "cell_type": "code",
   "execution_count": 13,
   "id": "1fdf5a6e",
   "metadata": {},
   "outputs": [],
   "source": [
    "h1 = models.Haplotype(members=[h1_allele1, h1_allele2])"
   ]
  },
  {
   "cell_type": "code",
   "execution_count": 14,
   "id": "7708df8b-c79c-4460-b1ec-754d86c18ed0",
   "metadata": {},
   "outputs": [],
   "source": [
    "h2 = models.Haplotype(members=[h2_allele1, h2_allele2, h2_allele3])"
   ]
  },
  {
   "cell_type": "code",
   "execution_count": 15,
   "id": "3c43828a",
   "metadata": {},
   "outputs": [
    {
     "data": {
      "text/plain": [
       "<Haplotype _id=None members=<#/definitions/Haplotype/members_<anonymous_field>=[<Allele _id=<Literal<str> ga4gh:VA.jWqv036CdZJs4YjwEYptDIBcoT7Uxv5I> location=<SequenceLocation _id=None interval=<SequenceInterval end=<Number type=<Literal<str> Number> value=<Literal<int> 94761900>> start=<Number type=<Literal<str> Number> value=<Literal<int> 94761899>> type=<Literal<str> SequenceInterval>> sequence_id=<Literal<str> ga4gh:SQ.ss8r_wB0-b9r44TQTMmVTI92884QvBiB> type=<Literal<str> SequenceLocation>> state=<LiteralSequenceExpression sequence=<Literal<str> T> type=<Literal<str> LiteralSequenceExpression>> type=<Literal<str> Allele>>, <Allele _id=<Literal<str> ga4gh:VA.bUbyRF0WcbsoJIAJIe6e8YlBVjTrhjdh> location=<SequenceLocation _id=None interval=<SequenceInterval end=<Number type=<Literal<str> Number> value=<Literal<int> 94762706>> start=<Number type=<Literal<str> Number> value=<Literal<int> 94762705>> type=<Literal<str> SequenceInterval>> sequence_id=<Literal<str> ga4gh:SQ.ss8r_wB0-b9r44TQTMmVTI92884QvBiB> type=<Literal<str> SequenceLocation>> state=<LiteralSequenceExpression sequence=<Literal<str> G> type=<Literal<str> LiteralSequenceExpression>> type=<Literal<str> Allele>>, <Allele _id=<Literal<str> ga4gh:VA.geQCxa1Enel8UBUAQQ2-rbphDjIR-cq0> location=<SequenceLocation _id=None interval=<SequenceInterval end=<Number type=<Literal<str> Number> value=<Literal<int> 94842866>> start=<Number type=<Literal<str> Number> value=<Literal<int> 94842865>> type=<Literal<str> SequenceInterval>> sequence_id=<Literal<str> ga4gh:SQ.ss8r_wB0-b9r44TQTMmVTI92884QvBiB> type=<Literal<str> SequenceLocation>> state=<LiteralSequenceExpression sequence=<Literal<str> G> type=<Literal<str> LiteralSequenceExpression>> type=<Literal<str> Allele>>]> type=<Literal<str> Haplotype>>"
      ]
     },
     "execution_count": 15,
     "metadata": {},
     "output_type": "execute_result"
    }
   ],
   "source": [
    "h2"
   ]
  },
  {
   "cell_type": "code",
   "execution_count": 9,
   "id": "f42a39a6-5d60-4a4e-ada3-fed617e915e0",
   "metadata": {},
   "outputs": [
    {
     "data": {
      "text/plain": [
       "<Number type=<Literal<str> Number> value=<Literal<int> 1>>"
      ]
     },
     "execution_count": 9,
     "metadata": {},
     "output_type": "execute_result"
    }
   ],
   "source": [
    "models.Number(value=1)"
   ]
  },
  {
   "cell_type": "code",
   "execution_count": 10,
   "id": "0d34b047-487f-4388-ae58-de7034dd4631",
   "metadata": {},
   "outputs": [],
   "source": [
    "gt_mem1 = models.GenotypeMember(copies=models.Number(value=1), variation=h1_allele1)"
   ]
  },
  {
   "cell_type": "code",
   "execution_count": 11,
   "id": "95e96822-14cd-42a4-8cb4-854492b0eb04",
   "metadata": {},
   "outputs": [],
   "source": [
    "gt_mem2 = models.GenotypeMember(variation=h2, copies=models.Number(value=1))\n",
    "gt = models.Genotype(members=[gt_mem1, gt_mem2], copies=models.Number(value=2))"
   ]
  },
  {
   "cell_type": "code",
   "execution_count": 12,
   "id": "16b83ab6-989d-40f1-b5b5-6a8055fd2400",
   "metadata": {},
   "outputs": [
    {
     "name": "stdout",
     "output_type": "stream",
     "text": [
      "{\n",
      "  \"copies\": {\n",
      "    \"type\": \"Number\",\n",
      "    \"value\": 2\n",
      "  },\n",
      "  \"members\": [\n",
      "    {\n",
      "      \"copies\": {\n",
      "        \"type\": \"Number\",\n",
      "        \"value\": 1\n",
      "      },\n",
      "      \"type\": \"GenotypeMember\",\n",
      "      \"variation\": {\n",
      "        \"_id\": \"ga4gh:VA.3AIu_q8I6dxuX76aZIq43GvogEsLuvAN\",\n",
      "        \"location\": {\n",
      "          \"interval\": {\n",
      "            \"end\": {\n",
      "              \"type\": \"Number\",\n",
      "              \"value\": 94761665\n",
      "            },\n",
      "            \"start\": {\n",
      "              \"type\": \"Number\",\n",
      "              \"value\": 94761664\n",
      "            },\n",
      "            \"type\": \"SequenceInterval\"\n",
      "          },\n",
      "          \"sequence_id\": \"ga4gh:SQ.ss8r_wB0-b9r44TQTMmVTI92884QvBiB\",\n",
      "          \"type\": \"SequenceLocation\"\n",
      "        },\n",
      "        \"state\": {\n",
      "          \"sequence\": \"A\",\n",
      "          \"type\": \"LiteralSequenceExpression\"\n",
      "        },\n",
      "        \"type\": \"Allele\"\n",
      "      }\n",
      "    },\n",
      "    {\n",
      "      \"copies\": {\n",
      "        \"type\": \"Number\",\n",
      "        \"value\": 1\n",
      "      },\n",
      "      \"type\": \"GenotypeMember\",\n",
      "      \"variation\": {\n",
      "        \"members\": [\n",
      "          {\n",
      "            \"_id\": \"ga4gh:VA.bUbyRF0WcbsoJIAJIe6e8YlBVjTrhjdh\",\n",
      "            \"location\": {\n",
      "              \"interval\": {\n",
      "                \"end\": {\n",
      "                  \"type\": \"Number\",\n",
      "                  \"value\": 94762706\n",
      "                },\n",
      "                \"start\": {\n",
      "                  \"type\": \"Number\",\n",
      "                  \"value\": 94762705\n",
      "                },\n",
      "                \"type\": \"SequenceInterval\"\n",
      "              },\n",
      "              \"sequence_id\": \"ga4gh:SQ.ss8r_wB0-b9r44TQTMmVTI92884QvBiB\",\n",
      "              \"type\": \"SequenceLocation\"\n",
      "            },\n",
      "            \"state\": {\n",
      "              \"sequence\": \"G\",\n",
      "              \"type\": \"LiteralSequenceExpression\"\n",
      "            },\n",
      "            \"type\": \"Allele\"\n",
      "          },\n",
      "          {\n",
      "            \"_id\": \"ga4gh:VA.jWqv036CdZJs4YjwEYptDIBcoT7Uxv5I\",\n",
      "            \"location\": {\n",
      "              \"interval\": {\n",
      "                \"end\": {\n",
      "                  \"type\": \"Number\",\n",
      "                  \"value\": 94761900\n",
      "                },\n",
      "                \"start\": {\n",
      "                  \"type\": \"Number\",\n",
      "                  \"value\": 94761899\n",
      "                },\n",
      "                \"type\": \"SequenceInterval\"\n",
      "              },\n",
      "              \"sequence_id\": \"ga4gh:SQ.ss8r_wB0-b9r44TQTMmVTI92884QvBiB\",\n",
      "              \"type\": \"SequenceLocation\"\n",
      "            },\n",
      "            \"state\": {\n",
      "              \"sequence\": \"T\",\n",
      "              \"type\": \"LiteralSequenceExpression\"\n",
      "            },\n",
      "            \"type\": \"Allele\"\n",
      "          }\n",
      "        ],\n",
      "        \"type\": \"Haplotype\"\n",
      "      }\n",
      "    }\n",
      "  ],\n",
      "  \"type\": \"Genotype\"\n",
      "}\n"
     ]
    }
   ],
   "source": [
    "ppo(gt)"
   ]
  },
  {
   "cell_type": "code",
   "execution_count": 13,
   "id": "3d76fc5b-38e3-4f1c-8636-a77d92cf4ebf",
   "metadata": {},
   "outputs": [],
   "source": [
    "gt._id = ga4gh_identify(gt)"
   ]
  },
  {
   "cell_type": "code",
   "execution_count": 14,
   "id": "7eaf359b-b50b-4600-a3f0-8bf0d8d28aa7",
   "metadata": {},
   "outputs": [
    {
     "name": "stdout",
     "output_type": "stream",
     "text": [
      "{\n",
      "  \"_id\": \"ga4gh:GT.W2sHtmm7mse3anXQ3KvlVk1TL-YeA37b\",\n",
      "  \"copies\": {\n",
      "    \"type\": \"Number\",\n",
      "    \"value\": 2\n",
      "  },\n",
      "  \"members\": [\n",
      "    {\n",
      "      \"copies\": {\n",
      "        \"type\": \"Number\",\n",
      "        \"value\": 1\n",
      "      },\n",
      "      \"type\": \"GenotypeMember\",\n",
      "      \"variation\": {\n",
      "        \"_id\": \"ga4gh:VA.3AIu_q8I6dxuX76aZIq43GvogEsLuvAN\",\n",
      "        \"location\": {\n",
      "          \"interval\": {\n",
      "            \"end\": {\n",
      "              \"type\": \"Number\",\n",
      "              \"value\": 94761665\n",
      "            },\n",
      "            \"start\": {\n",
      "              \"type\": \"Number\",\n",
      "              \"value\": 94761664\n",
      "            },\n",
      "            \"type\": \"SequenceInterval\"\n",
      "          },\n",
      "          \"sequence_id\": \"ga4gh:SQ.ss8r_wB0-b9r44TQTMmVTI92884QvBiB\",\n",
      "          \"type\": \"SequenceLocation\"\n",
      "        },\n",
      "        \"state\": {\n",
      "          \"sequence\": \"A\",\n",
      "          \"type\": \"LiteralSequenceExpression\"\n",
      "        },\n",
      "        \"type\": \"Allele\"\n",
      "      }\n",
      "    },\n",
      "    {\n",
      "      \"copies\": {\n",
      "        \"type\": \"Number\",\n",
      "        \"value\": 1\n",
      "      },\n",
      "      \"type\": \"GenotypeMember\",\n",
      "      \"variation\": {\n",
      "        \"members\": [\n",
      "          {\n",
      "            \"_id\": \"ga4gh:VA.bUbyRF0WcbsoJIAJIe6e8YlBVjTrhjdh\",\n",
      "            \"location\": {\n",
      "              \"interval\": {\n",
      "                \"end\": {\n",
      "                  \"type\": \"Number\",\n",
      "                  \"value\": 94762706\n",
      "                },\n",
      "                \"start\": {\n",
      "                  \"type\": \"Number\",\n",
      "                  \"value\": 94762705\n",
      "                },\n",
      "                \"type\": \"SequenceInterval\"\n",
      "              },\n",
      "              \"sequence_id\": \"ga4gh:SQ.ss8r_wB0-b9r44TQTMmVTI92884QvBiB\",\n",
      "              \"type\": \"SequenceLocation\"\n",
      "            },\n",
      "            \"state\": {\n",
      "              \"sequence\": \"G\",\n",
      "              \"type\": \"LiteralSequenceExpression\"\n",
      "            },\n",
      "            \"type\": \"Allele\"\n",
      "          },\n",
      "          {\n",
      "            \"_id\": \"ga4gh:VA.jWqv036CdZJs4YjwEYptDIBcoT7Uxv5I\",\n",
      "            \"location\": {\n",
      "              \"interval\": {\n",
      "                \"end\": {\n",
      "                  \"type\": \"Number\",\n",
      "                  \"value\": 94761900\n",
      "                },\n",
      "                \"start\": {\n",
      "                  \"type\": \"Number\",\n",
      "                  \"value\": 94761899\n",
      "                },\n",
      "                \"type\": \"SequenceInterval\"\n",
      "              },\n",
      "              \"sequence_id\": \"ga4gh:SQ.ss8r_wB0-b9r44TQTMmVTI92884QvBiB\",\n",
      "              \"type\": \"SequenceLocation\"\n",
      "            },\n",
      "            \"state\": {\n",
      "              \"sequence\": \"T\",\n",
      "              \"type\": \"LiteralSequenceExpression\"\n",
      "            },\n",
      "            \"type\": \"Allele\"\n",
      "          }\n",
      "        ],\n",
      "        \"type\": \"Haplotype\"\n",
      "      }\n",
      "    }\n",
      "  ],\n",
      "  \"type\": \"Genotype\"\n",
      "}\n"
     ]
    }
   ],
   "source": [
    "ppo(gt)"
   ]
  },
  {
   "cell_type": "code",
   "execution_count": null,
   "id": "9c382b53-f9b2-4a28-8e07-638f90c7c147",
   "metadata": {},
   "outputs": [],
   "source": []
  }
 ],
 "metadata": {
  "kernelspec": {
   "display_name": "Python 3 (ipykernel)",
   "language": "python",
   "name": "python3"
  },
  "language_info": {
   "codemirror_mode": {
    "name": "ipython",
    "version": 3
   },
   "file_extension": ".py",
   "mimetype": "text/x-python",
   "name": "python",
   "nbconvert_exporter": "python",
   "pygments_lexer": "ipython3",
   "version": "3.9.13"
  },
  "vscode": {
   "interpreter": {
    "hash": "2c262631163a8d5a97052d31b1c65e0c1316d1246cb9cd8561df94c0f7601264"
   }
  }
 },
 "nbformat": 4,
 "nbformat_minor": 5
}
