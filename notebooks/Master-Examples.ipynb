{
 "cells": [
  {
   "cell_type": "markdown",
   "metadata": {},
   "source": [
    "# GA4GH VR Validation Tests\n",
    "This notebook is used to *generate* the tests in vr-spec/validation.yaml"
   ]
  },
  {
   "cell_type": "code",
   "execution_count": 1,
   "metadata": {},
   "outputs": [
    {
     "data": {
      "text/plain": [
       "'0.2.2.dev8+gfb89bc2.d20190731'"
      ]
     },
     "execution_count": 1,
     "metadata": {},
     "output_type": "execute_result"
    }
   ],
   "source": [
    "from ga4gh.core import ga4gh_digest, ga4gh_identify, ga4gh_serialize, sha512t24u\n",
    "from ga4gh.vr import __version__, models, normalize\n",
    "__version__"
   ]
  },
  {
   "cell_type": "code",
   "execution_count": 30,
   "metadata": {},
   "outputs": [],
   "source": [
    "import json\n",
    "import yaml\n",
    "def filter_dict(d):\n",
    "    try:\n",
    "        return {k: filter_dict(d[k])\n",
    "                for k in d\n",
    "                if not k.startswith(\"_\")}\n",
    "    except:\n",
    "        return d\n",
    "def as_str(s):\n",
    "    return s if isinstance(s, str) else s.decode()\n",
    "def dj(o):\n",
    "    \"\"\"print VR object as pretty formated json\"\"\"\n",
    "    print(json.dumps(filter_dict(o.as_dict()), indent=2, sort_keys=True))\n",
    "def dy(fns, o):\n",
    "    \"\"\"execute function f in fns on o, returning a yaml block representing the test\"\"\"\n",
    "    r = {\n",
    "        \"in\": o.as_dict(),\n",
    "        \"out\": {f.__name__: as_str(f(o)) for f in fns}\n",
    "    }\n",
    "    print(yaml.dump(filter_dict({o.type._value: {\"-\": r}})).replace(\"'-':\",\"-\"))"
   ]
  },
  {
   "cell_type": "markdown",
   "metadata": {},
   "source": [
    "----\n",
    "# Models"
   ]
  },
  {
   "cell_type": "markdown",
   "metadata": {},
   "source": [
    "## Locations"
   ]
  },
  {
   "cell_type": "markdown",
   "metadata": {},
   "source": [
    "### SimpleInterval"
   ]
  },
  {
   "cell_type": "code",
   "execution_count": 31,
   "metadata": {},
   "outputs": [
    {
     "name": "stdout",
     "output_type": "stream",
     "text": [
      "{\n",
      "  \"end\": 44908822,\n",
      "  \"start\": 44908821,\n",
      "  \"type\": \"SimpleInterval\"\n",
      "}\n"
     ]
    }
   ],
   "source": [
    "simple_interval = models.SimpleInterval(start=44908821, end=44908822)\n",
    "dj(simple_interval)"
   ]
  },
  {
   "cell_type": "markdown",
   "metadata": {},
   "source": [
    "### NestedInterval"
   ]
  },
  {
   "cell_type": "code",
   "execution_count": 32,
   "metadata": {},
   "outputs": [
    {
     "name": "stdout",
     "output_type": "stream",
     "text": [
      "{\n",
      "  \"inner\": {\n",
      "    \"end\": 44908821,\n",
      "    \"start\": 44908796,\n",
      "    \"type\": \"SimpleInterval\"\n",
      "  },\n",
      "  \"outer\": {\n",
      "    \"end\": 44908847,\n",
      "    \"start\": 44908822,\n",
      "    \"type\": \"SimpleInterval\"\n",
      "  },\n",
      "  \"type\": \"NestedInterval\"\n",
      "}\n"
     ]
    }
   ],
   "source": [
    "nested_interval = models.NestedInterval(\n",
    "    inner=models.SimpleInterval(start=44908821-25,end=44908821),\n",
    "    outer=models.SimpleInterval(start=44908822,end=44908822+25))\n",
    "dj(nested_interval)"
   ]
  },
  {
   "cell_type": "markdown",
   "metadata": {},
   "source": [
    "### SequenceLocation"
   ]
  },
  {
   "cell_type": "code",
   "execution_count": 26,
   "metadata": {},
   "outputs": [
    {
     "name": "stdout",
     "output_type": "stream",
     "text": [
      "{\n",
      "  \"interval\": {\n",
      "    \"end\": 44908822,\n",
      "    \"start\": 44908821,\n",
      "    \"type\": \"SimpleInterval\"\n",
      "  },\n",
      "  \"sequence_id\": \"ga4gh:SQ.IIB53T8CNeJJdUqzn9V_JnRtQadwWCbl\",\n",
      "  \"type\": \"SequenceLocation\"\n",
      "}\n"
     ]
    }
   ],
   "source": [
    "# A SequenceLocation based on a SimpleInterval\n",
    "sequence_location_si = models.SequenceLocation(\n",
    "    sequence_id=\"ga4gh:SQ.IIB53T8CNeJJdUqzn9V_JnRtQadwWCbl\",\n",
    "    interval=simple_interval)\n",
    "dj(sequence_location_si)"
   ]
  },
  {
   "cell_type": "code",
   "execution_count": 5,
   "metadata": {},
   "outputs": [
    {
     "data": {
      "text/plain": [
       "{'interval': {'inner': {'end': 44908821,\n",
       "   'start': 44908796,\n",
       "   'type': 'SimpleInterval'},\n",
       "  'outer': {'end': 44908847, 'start': 44908822, 'type': 'SimpleInterval'},\n",
       "  'type': 'NestedInterval'},\n",
       " 'sequence_id': 'ga4gh:SQ.IIB53T8CNeJJdUqzn9V_JnRtQadwWCbl',\n",
       " 'type': 'SequenceLocation'}"
      ]
     },
     "execution_count": 5,
     "metadata": {},
     "output_type": "execute_result"
    }
   ],
   "source": [
    "# A SequenceLocation based on a NestedInterval\n",
    "sequence_location_ni = models.SequenceLocation(sequence_id=\"ga4gh:SQ.IIB53T8CNeJJdUqzn9V_JnRtQadwWCbl\", \n",
    "                                               interval=nested_interval)\n",
    "sequence_location_ni.as_dict()"
   ]
  },
  {
   "cell_type": "markdown",
   "metadata": {},
   "source": [
    "## State"
   ]
  },
  {
   "cell_type": "markdown",
   "metadata": {},
   "source": [
    "### SequenceState"
   ]
  },
  {
   "cell_type": "code",
   "execution_count": 28,
   "metadata": {},
   "outputs": [
    {
     "name": "stdout",
     "output_type": "stream",
     "text": [
      "{\n",
      "  \"sequence\": \"T\",\n",
      "  \"type\": \"SequenceState\"\n",
      "}\n"
     ]
    }
   ],
   "source": [
    "sequence_state = models.SequenceState(sequence=\"T\")\n",
    "dj(sequence_state)"
   ]
  },
  {
   "cell_type": "markdown",
   "metadata": {},
   "source": [
    "## Variation"
   ]
  },
  {
   "cell_type": "markdown",
   "metadata": {},
   "source": [
    "### Text"
   ]
  },
  {
   "cell_type": "code",
   "execution_count": 33,
   "metadata": {},
   "outputs": [
    {
     "name": "stdout",
     "output_type": "stream",
     "text": [
      "{\n",
      "  \"definition\": \"APOE loss\",\n",
      "  \"type\": \"Text\"\n",
      "}\n"
     ]
    }
   ],
   "source": [
    "text_variation = models.Text(definition=\"APOE loss\")\n",
    "dj(text_variation)"
   ]
  },
  {
   "cell_type": "markdown",
   "metadata": {},
   "source": [
    "### Allele"
   ]
  },
  {
   "cell_type": "code",
   "execution_count": 34,
   "metadata": {
    "scrolled": true
   },
   "outputs": [
    {
     "name": "stdout",
     "output_type": "stream",
     "text": [
      "{\n",
      "  \"location\": {\n",
      "    \"interval\": {\n",
      "      \"end\": 44908822,\n",
      "      \"start\": 44908821,\n",
      "      \"type\": \"SimpleInterval\"\n",
      "    },\n",
      "    \"sequence_id\": \"ga4gh:SQ.IIB53T8CNeJJdUqzn9V_JnRtQadwWCbl\",\n",
      "    \"type\": \"SequenceLocation\"\n",
      "  },\n",
      "  \"state\": {\n",
      "    \"sequence\": \"T\",\n",
      "    \"type\": \"SequenceState\"\n",
      "  },\n",
      "  \"type\": \"Allele\"\n",
      "}\n"
     ]
    }
   ],
   "source": [
    "allele = models.Allele(location=sequence_location_si,\n",
    "                       state=models.SequenceState(sequence=\"T\"))\n",
    "dj(allele)"
   ]
  },
  {
   "cell_type": "markdown",
   "metadata": {},
   "source": [
    "----\n",
    "# Functions"
   ]
  },
  {
   "cell_type": "markdown",
   "metadata": {},
   "source": [
    "### Digest serialization (`ga4gh_serialize`)\n",
    "\n",
    "The ga4gh digest serialization form is like json, but it the specification ensures that all implementations will produce the same binary payload."
   ]
  },
  {
   "cell_type": "code",
   "execution_count": 36,
   "metadata": {},
   "outputs": [
    {
     "data": {
      "text/plain": [
       "b'{\"location\":\"u5fspwVbQ79QkX6GHLF8tXPCAXFJqRPx\",\"state\":{\"sequence\":\"T\",\"type\":\"SequenceState\"},\"type\":\"Allele\"}'"
      ]
     },
     "execution_count": 36,
     "metadata": {},
     "output_type": "execute_result"
    }
   ],
   "source": [
    "allele = models.Allele(location=models.SequenceLocation(\n",
    "    sequence_id=\"ga4gh:SQ.IIB53T8CNeJJdUqzn9V_JnRtQadwWCbl\",\n",
    "    interval=simple_interval),\n",
    "    state=models.SequenceState(sequence=\"T\"))\n",
    "ga4gh_serialize(allele)"
   ]
  },
  {
   "cell_type": "code",
   "execution_count": 38,
   "metadata": {},
   "outputs": [
    {
     "name": "stdout",
     "output_type": "stream",
     "text": [
      "{\n",
      "  \"location\": {\n",
      "    \"interval\": {\n",
      "      \"end\": 44908822,\n",
      "      \"start\": 44908821,\n",
      "      \"type\": \"SimpleInterval\"\n",
      "    },\n",
      "    \"sequence_id\": \"ga4gh:SQ.IIB53T8CNeJJdUqzn9V_JnRtQadwWCbl\",\n",
      "    \"type\": \"SequenceLocation\"\n",
      "  },\n",
      "  \"state\": {\n",
      "    \"sequence\": \"T\",\n",
      "    \"type\": \"SequenceState\"\n",
      "  },\n",
      "  \"type\": \"Allele\"\n",
      "}\n"
     ]
    }
   ],
   "source": [
    "dj(allele)"
   ]
  },
  {
   "cell_type": "markdown",
   "metadata": {},
   "source": [
    "### Truncated Digest (`ga4gh_digest`)\n",
    "VR computed identifiers are constructed from digests on serialized objects by prefixing a VR digest with a type-specific code."
   ]
  },
  {
   "cell_type": "code",
   "execution_count": 10,
   "metadata": {},
   "outputs": [
    {
     "data": {
      "text/plain": [
       "'EgHPXXhULTwoP4-ACfs-YCXaeUQJBjH_'"
      ]
     },
     "execution_count": 10,
     "metadata": {},
     "output_type": "execute_result"
    }
   ],
   "source": [
    "# applying ga4gh_digest to the serialized allele returns a base64url-encoded digest\n",
    "ga4gh_digest(allele)"
   ]
  },
  {
   "cell_type": "code",
   "execution_count": 11,
   "metadata": {},
   "outputs": [
    {
     "data": {
      "text/plain": [
       "'EgHPXXhULTwoP4-ACfs-YCXaeUQJBjH_'"
      ]
     },
     "execution_count": 11,
     "metadata": {},
     "output_type": "execute_result"
    }
   ],
   "source": [
    "# Which is equivalent to\n",
    "sha512t24u(ga4gh_serialize(allele))"
   ]
  },
  {
   "cell_type": "markdown",
   "metadata": {},
   "source": [
    "### Computed Identifier (`ga4gh_identify`)"
   ]
  },
  {
   "cell_type": "code",
   "execution_count": 12,
   "metadata": {},
   "outputs": [
    {
     "data": {
      "text/plain": [
       "'ga4gh:VA.EgHPXXhULTwoP4-ACfs-YCXaeUQJBjH_'"
      ]
     },
     "execution_count": 12,
     "metadata": {},
     "output_type": "execute_result"
    }
   ],
   "source": [
    "ga4gh_identify(allele)"
   ]
  },
  {
   "cell_type": "markdown",
   "metadata": {},
   "source": [
    "----\n",
    "# Validation examples"
   ]
  },
  {
   "cell_type": "markdown",
   "metadata": {},
   "source": [
    "## models.yaml"
   ]
  },
  {
   "cell_type": "code",
   "execution_count": 18,
   "metadata": {},
   "outputs": [
    {
     "name": "stdout",
     "output_type": "stream",
     "text": [
      "SimpleInterval:\n",
      "  -\n",
      "    in:\n",
      "      end: 44908822\n",
      "      start: 44908821\n",
      "      type: SimpleInterval\n",
      "    out:\n",
      "      ga4gh_serialize: '{\"end\":44908822,\"start\":44908821,\"type\":\"SimpleInterval\"}'\n",
      "\n",
      "NestedInterval:\n",
      "  -\n",
      "    in:\n",
      "      inner:\n",
      "        end: 44908821\n",
      "        start: 44908796\n",
      "        type: SimpleInterval\n",
      "      outer:\n",
      "        end: 44908847\n",
      "        start: 44908822\n",
      "        type: SimpleInterval\n",
      "      type: NestedInterval\n",
      "    out:\n",
      "      ga4gh_serialize: '{\"inner\":{\"end\":44908821,\"start\":44908796,\"type\":\"SimpleInterval\"},\"outer\":{\"end\":44908847,\"start\":44908822,\"type\":\"SimpleInterval\"},\"type\":\"NestedInterval\"}'\n",
      "\n",
      "SequenceLocation:\n",
      "  -\n",
      "    in:\n",
      "      interval:\n",
      "        end: 44908822\n",
      "        start: 44908821\n",
      "        type: SimpleInterval\n",
      "      sequence_id: ga4gh:SQ.IIB53T8CNeJJdUqzn9V_JnRtQadwWCbl\n",
      "      type: SequenceLocation\n",
      "    out:\n",
      "      ga4gh_serialize: '{\"interval\":{\"end\":44908822,\"start\":44908821,\"type\":\"SimpleInterval\"},\"sequence_id\":\"IIB53T8CNeJJdUqzn9V_JnRtQadwWCbl\",\"type\":\"SequenceLocation\"}'\n",
      "\n",
      "SequenceLocation:\n",
      "  -\n",
      "    in:\n",
      "      interval:\n",
      "        inner:\n",
      "          end: 44908821\n",
      "          start: 44908796\n",
      "          type: SimpleInterval\n",
      "        outer:\n",
      "          end: 44908847\n",
      "          start: 44908822\n",
      "          type: SimpleInterval\n",
      "        type: NestedInterval\n",
      "      sequence_id: ga4gh:SQ.IIB53T8CNeJJdUqzn9V_JnRtQadwWCbl\n",
      "      type: SequenceLocation\n",
      "    out:\n",
      "      ga4gh_serialize: '{\"interval\":{\"inner\":{\"end\":44908821,\"start\":44908796,\"type\":\"SimpleInterval\"},\"outer\":{\"end\":44908847,\"start\":44908822,\"type\":\"SimpleInterval\"},\"type\":\"NestedInterval\"},\"sequence_id\":\"IIB53T8CNeJJdUqzn9V_JnRtQadwWCbl\",\"type\":\"SequenceLocation\"}'\n",
      "\n",
      "Allele:\n",
      "  -\n",
      "    in:\n",
      "      location:\n",
      "        interval:\n",
      "          end: 44908822\n",
      "          start: 44908821\n",
      "          type: SimpleInterval\n",
      "        sequence_id: ga4gh:SQ.IIB53T8CNeJJdUqzn9V_JnRtQadwWCbl\n",
      "        type: SequenceLocation\n",
      "      state:\n",
      "        sequence: T\n",
      "        type: SequenceState\n",
      "      type: Allele\n",
      "    out:\n",
      "      ga4gh_digest: EgHPXXhULTwoP4-ACfs-YCXaeUQJBjH_\n",
      "      ga4gh_identify: ga4gh:VA.EgHPXXhULTwoP4-ACfs-YCXaeUQJBjH_\n",
      "      ga4gh_serialize: '{\"location\":\"u5fspwVbQ79QkX6GHLF8tXPCAXFJqRPx\",\"state\":{\"sequence\":\"T\",\"type\":\"SequenceState\"},\"type\":\"Allele\"}'\n",
      "\n"
     ]
    }
   ],
   "source": [
    "for o in [simple_interval, nested_interval, sequence_location_si, sequence_location_ni]:\n",
    "    dy([ga4gh_serialize], o)\n",
    "for o in [allele]:\n",
    "    dy([ga4gh_serialize, ga4gh_digest, ga4gh_identify], o)"
   ]
  },
  {
   "cell_type": "code",
   "execution_count": null,
   "metadata": {},
   "outputs": [],
   "source": []
  },
  {
   "cell_type": "code",
   "execution_count": null,
   "metadata": {},
   "outputs": [],
   "source": []
  }
 ],
 "metadata": {
  "kernelspec": {
   "display_name": "Python 3",
   "language": "python",
   "name": "python3"
  },
  "language_info": {
   "codemirror_mode": {
    "name": "ipython",
    "version": 3
   },
   "file_extension": ".py",
   "mimetype": "text/x-python",
   "name": "python",
   "nbconvert_exporter": "python",
   "pygments_lexer": "ipython3",
   "version": "3.7.3"
  }
 },
 "nbformat": 4,
 "nbformat_minor": 2
}
