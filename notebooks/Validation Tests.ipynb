{
 "cells": [
  {
   "cell_type": "markdown",
   "metadata": {},
   "source": [
    "# GA4GH VR Validation Tests\n",
    "This notebook is used to craft the tests. The tests themselves are in vr-schema/validation. "
   ]
  },
  {
   "cell_type": "code",
   "execution_count": 1,
   "metadata": {},
   "outputs": [
    {
     "data": {
      "text/plain": [
       "'0.2.1.dev7+gff304e9'"
      ]
     },
     "execution_count": 1,
     "metadata": {},
     "output_type": "execute_result"
    }
   ],
   "source": [
    "from ga4gh.vr import ga4gh_digest, identify, models, serialize, __version__\n",
    "__version__"
   ]
  },
  {
   "cell_type": "code",
   "execution_count": 2,
   "metadata": {},
   "outputs": [],
   "source": [
    "import yaml\n",
    "def filter_keys(o, exclude_keys):\n",
    "    try:\n",
    "        return {k: filter_keys(o[k], exclude_keys)\n",
    "                for k in o\n",
    "                if k not in exclude_keys}\n",
    "    except:\n",
    "        return o\n",
    "def dy(f, o):\n",
    "    r = {\n",
    "        \"in\": o.as_dict(),\n",
    "        \"out\": {f.__name__: f(o).decode()}\n",
    "    }\n",
    "    print(yaml.dump(filter_keys({o.type._value: {\"-\": r}}, [\"id\"])).replace(\"'-':\",\"-\"))"
   ]
  },
  {
   "cell_type": "markdown",
   "metadata": {},
   "source": [
    "# Functions\n",
    "## ga4gh_digest"
   ]
  },
  {
   "cell_type": "code",
   "execution_count": 11,
   "metadata": {
    "scrolled": false
   },
   "outputs": [
    {
     "data": {
      "text/plain": [
       "'z4PhNX7vuL3xVChQ1m2AB9Yg5AULVxXc'"
      ]
     },
     "execution_count": 11,
     "metadata": {},
     "output_type": "execute_result"
    }
   ],
   "source": [
    "ga4gh_digest(b\"\")"
   ]
  },
  {
   "cell_type": "code",
   "execution_count": 12,
   "metadata": {
    "scrolled": true
   },
   "outputs": [
    {
     "data": {
      "text/plain": [
       "'aKF498dAxcJAqme6QYQ7EZ07-fiw8Kw2'"
      ]
     },
     "execution_count": 12,
     "metadata": {},
     "output_type": "execute_result"
    }
   ],
   "source": [
    "ga4gh_digest(b\"ACGT\")"
   ]
  },
  {
   "cell_type": "markdown",
   "metadata": {},
   "source": [
    "## translate_sequence_identifier"
   ]
  },
  {
   "cell_type": "code",
   "execution_count": 5,
   "metadata": {},
   "outputs": [],
   "source": [
    "# A seqrepo REST interface must be running on this URL:\n",
    "seqrepo_rest_service_url = \"http://localhost:5000/seqrepo\"\n",
    "from ga4gh.vr.extras.dataproxy import SeqRepoRESTDataProxy\n",
    "dp = SeqRepoRESTDataProxy(base_url=seqrepo_rest_service_url)\n",
    "\n",
    "def translate_sequence_identifier(ir):\n",
    "    return dp.translate_sequence_identifier(ir)"
   ]
  },
  {
   "cell_type": "code",
   "execution_count": 7,
   "metadata": {},
   "outputs": [
    {
     "name": "stderr",
     "output_type": "stream",
     "text": [
      "2019-05-29 21:19:35 snafu ga4gh.vr.extras.dataproxy[25334] INFO Fetching http://localhost:5000/seqrepo/1/metadata/RefSeq:NC_000019.10\n"
     ]
    },
    {
     "data": {
      "text/plain": [
       "'ga4gh:SQIIB53T8CNeJJdUqzn9V_JnRtQadwWCbl'"
      ]
     },
     "execution_count": 7,
     "metadata": {},
     "output_type": "execute_result"
    }
   ],
   "source": [
    "translate_sequence_identifier(\"refseq:NC_000019.10\")"
   ]
  },
  {
   "cell_type": "code",
   "execution_count": 8,
   "metadata": {},
   "outputs": [
    {
     "name": "stderr",
     "output_type": "stream",
     "text": [
      "2019-05-29 21:20:15 snafu ga4gh.vr.extras.dataproxy[25334] INFO Fetching http://localhost:5000/seqrepo/1/metadata/VMC:GS_IIB53T8CNeJJdUqzn9V_JnRtQadwWCbl\n"
     ]
    },
    {
     "data": {
      "text/plain": [
       "{'added': '2016-08-24T08:19:02Z',\n",
       " 'aliases': ['Ensembl-79:19',\n",
       "  'Ensembl-80:19',\n",
       "  'Ensembl-81:19',\n",
       "  'Ensembl-82:19',\n",
       "  'Ensembl-83:19',\n",
       "  'Ensembl-84:19',\n",
       "  'Ensembl-85:19',\n",
       "  'GRCh38:19',\n",
       "  'GRCh38:chr19',\n",
       "  'GRCh38.p1:19',\n",
       "  'GRCh38.p1:chr19',\n",
       "  'GRCh38.p10:19',\n",
       "  'GRCh38.p10:chr19',\n",
       "  'GRCh38.p11:19',\n",
       "  'GRCh38.p11:chr19',\n",
       "  'GRCh38.p12:19',\n",
       "  'GRCh38.p12:chr19',\n",
       "  'GRCh38.p2:19',\n",
       "  'GRCh38.p2:chr19',\n",
       "  'GRCh38.p3:19',\n",
       "  'GRCh38.p3:chr19',\n",
       "  'GRCh38.p4:19',\n",
       "  'GRCh38.p4:chr19',\n",
       "  'GRCh38.p5:19',\n",
       "  'GRCh38.p5:chr19',\n",
       "  'GRCh38.p6:19',\n",
       "  'GRCh38.p6:chr19',\n",
       "  'GRCh38.p7:19',\n",
       "  'GRCh38.p7:chr19',\n",
       "  'GRCh38.p8:19',\n",
       "  'GRCh38.p8:chr19',\n",
       "  'GRCh38.p9:19',\n",
       "  'GRCh38.p9:chr19',\n",
       "  'MD5:b0eba2c7bb5c953d1e06a508b5e487de',\n",
       "  'RefSeq:NC_000019.10',\n",
       "  'SEGUID:AHxM5/L8jIX08UhBBkKXkiO5rhY',\n",
       "  'SHA1:007c4ce7f2fc8c85f4f148410642979223b9ae16',\n",
       "  'VMC:GS_IIB53T8CNeJJdUqzn9V_JnRtQadwWCbl',\n",
       "  'ga4gh:SQIIB53T8CNeJJdUqzn9V_JnRtQadwWCbl',\n",
       "  'TRUNC512:208079dd3f0235e249754ab39fd57f26746d41a7705826e5',\n",
       "  'genbank:CM000681.2'],\n",
       " 'alphabet': 'ACGNT',\n",
       " 'length': 58617616}"
      ]
     },
     "execution_count": 8,
     "metadata": {},
     "output_type": "execute_result"
    }
   ],
   "source": [
    "dp.get_metadata('ga4gh:SQIIB53T8CNeJJdUqzn9V_JnRtQadwWCbl')"
   ]
  },
  {
   "cell_type": "markdown",
   "metadata": {},
   "source": [
    "# Models"
   ]
  },
  {
   "cell_type": "code",
   "execution_count": 3,
   "metadata": {},
   "outputs": [
    {
     "data": {
      "text/plain": [
       "{'end': 43, 'start': 42, 'type': 'SimpleInterval'}"
      ]
     },
     "execution_count": 3,
     "metadata": {},
     "output_type": "execute_result"
    }
   ],
   "source": [
    "simple_interval = models.SimpleInterval(start=42, end=43)\n",
    "simple_interval.as_dict()"
   ]
  },
  {
   "cell_type": "code",
   "execution_count": 4,
   "metadata": {},
   "outputs": [
    {
     "data": {
      "text/plain": [
       "{'inner': {'end': 30, 'start': 29, 'type': 'SimpleInterval'},\n",
       " 'outer': {'end': 39, 'start': 30, 'type': 'SimpleInterval'},\n",
       " 'type': 'NestedInterval'}"
      ]
     },
     "execution_count": 4,
     "metadata": {},
     "output_type": "execute_result"
    }
   ],
   "source": [
    "nested_interval = models.NestedInterval(\n",
    "    inner=models.SimpleInterval(start=29,end=30),\n",
    "    outer=models.SimpleInterval(start=30,end=39))\n",
    "nested_interval.as_dict()"
   ]
  },
  {
   "cell_type": "code",
   "execution_count": 5,
   "metadata": {},
   "outputs": [
    {
     "data": {
      "text/plain": [
       "{'id': 'ga4gh:SL8KJJStVL_dJigtK_AHyVp5AAipy1pMh8',\n",
       " 'interval': {'end': 43, 'start': 42, 'type': 'SimpleInterval'},\n",
       " 'sequence_id': 'NM_0001234.5',\n",
       " 'type': 'SequenceLocation'}"
      ]
     },
     "execution_count": 5,
     "metadata": {},
     "output_type": "execute_result"
    }
   ],
   "source": [
    "# A SequenceLocation based on a SimpleInterval\n",
    "sequence_location_si = models.SequenceLocation(\n",
    "    sequence_id=\"NM_0001234.5\",\n",
    "    interval=simple_interval)\n",
    "sequence_location_si.id = identify(sequence_location_si)\n",
    "sequence_location_si.as_dict()"
   ]
  },
  {
   "cell_type": "code",
   "execution_count": 6,
   "metadata": {},
   "outputs": [
    {
     "data": {
      "text/plain": [
       "{'id': 'ga4gh:SLwezY6icAjjBfaJMJ_Wf6BUsoxoMcmRdS',\n",
       " 'interval': {'inner': {'end': 30, 'start': 29, 'type': 'SimpleInterval'},\n",
       "  'outer': {'end': 39, 'start': 30, 'type': 'SimpleInterval'},\n",
       "  'type': 'NestedInterval'},\n",
       " 'sequence_id': 'NM_0001234.5',\n",
       " 'type': 'SequenceLocation'}"
      ]
     },
     "execution_count": 6,
     "metadata": {},
     "output_type": "execute_result"
    }
   ],
   "source": [
    "# A SequenceLocation based on a NestedInterval\n",
    "sequence_location_ni = models.SequenceLocation(sequence_id=\"NM_0001234.5\", \n",
    "                                               interval=nested_interval)\n",
    "sequence_location_ni.id = identify(sequence_location_ni)\n",
    "sequence_location_ni.as_dict()"
   ]
  },
  {
   "cell_type": "code",
   "execution_count": 7,
   "metadata": {},
   "outputs": [
    {
     "data": {
      "text/plain": [
       "{'chr': '11',\n",
       " 'end': 'q23.1',\n",
       " 'id': 'ga4gh:CLR2RiNOcD_3F-NNEQUrIst3M84LTsVQWF',\n",
       " 'start': 'q22.3',\n",
       " 'type': 'CytobandLocation'}"
      ]
     },
     "execution_count": 7,
     "metadata": {},
     "output_type": "execute_result"
    }
   ],
   "source": [
    "cytoband_location = models.CytobandLocation(chr=\"11\", start=\"q22.3\", end=\"q23.1\")\n",
    "cytoband_location.id = identify(cytoband_location)\n",
    "cytoband_location.as_dict()"
   ]
  },
  {
   "cell_type": "code",
   "execution_count": 8,
   "metadata": {
    "scrolled": true
   },
   "outputs": [
    {
     "data": {
      "text/plain": [
       "{'gene': 'HGNC:MSH2',\n",
       " 'id': 'ga4gh:GLHUswIoUpNqPZa2rBwJR_32At9A3wnWJJ',\n",
       " 'type': 'GeneLocation'}"
      ]
     },
     "execution_count": 8,
     "metadata": {},
     "output_type": "execute_result"
    }
   ],
   "source": [
    "gene_location = models.GeneLocation(gene=\"HGNC:MSH2\")\n",
    "gene_location.id = identify(gene_location)\n",
    "gene_location.as_dict()"
   ]
  },
  {
   "cell_type": "code",
   "execution_count": 9,
   "metadata": {},
   "outputs": [
    {
     "data": {
      "text/plain": [
       "{'definition': 'PTEN loss', 'type': 'Text'}"
      ]
     },
     "execution_count": 9,
     "metadata": {},
     "output_type": "execute_result"
    }
   ],
   "source": [
    "text_variation = models.Text(definition=\"PTEN loss\")\n",
    "text_variation.as_dict()"
   ]
  },
  {
   "cell_type": "code",
   "execution_count": 10,
   "metadata": {},
   "outputs": [
    {
     "data": {
      "text/plain": [
       "{'id': 'ga4gh:VAV_LNMpD_7BfTlhBpvndEghNZlrQA7yXi',\n",
       " 'location': {'id': 'ga4gh:SL8KJJStVL_dJigtK_AHyVp5AAipy1pMh8',\n",
       "  'interval': {'end': 43, 'start': 42, 'type': 'SimpleInterval'},\n",
       "  'sequence_id': 'NM_0001234.5',\n",
       "  'type': 'SequenceLocation'},\n",
       " 'state': {'sequence': 'A', 'type': 'SequenceState'},\n",
       " 'type': 'Allele'}"
      ]
     },
     "execution_count": 10,
     "metadata": {},
     "output_type": "execute_result"
    }
   ],
   "source": [
    "sequence_state = models.SequenceState(sequence=\"A\")\n",
    "allele = models.Allele(location=sequence_location_si, state=sequence_state)\n",
    "allele.id = identify(allele)\n",
    "allele.as_dict()"
   ]
  },
  {
   "cell_type": "markdown",
   "metadata": {},
   "source": [
    "### serialize()"
   ]
  },
  {
   "cell_type": "code",
   "execution_count": 13,
   "metadata": {},
   "outputs": [
    {
     "data": {
      "text/plain": [
       "{'id': 'ga4gh:VAV_LNMpD_7BfTlhBpvndEghNZlrQA7yXi',\n",
       " 'location': {'id': 'ga4gh:SL8KJJStVL_dJigtK_AHyVp5AAipy1pMh8',\n",
       "  'interval': {'end': 43, 'start': 42, 'type': 'SimpleInterval'},\n",
       "  'sequence_id': 'NM_0001234.5',\n",
       "  'type': 'SequenceLocation'},\n",
       " 'state': {'sequence': 'A', 'type': 'SequenceState'},\n",
       " 'type': 'Allele'}"
      ]
     },
     "execution_count": 13,
     "metadata": {},
     "output_type": "execute_result"
    }
   ],
   "source": [
    "# This is the allele defined above. Notice that `location` is defined inline\n",
    "allele.as_dict()"
   ]
  },
  {
   "cell_type": "code",
   "execution_count": 14,
   "metadata": {},
   "outputs": [
    {
     "data": {
      "text/plain": [
       "b'{\"location\":\"ga4gh:SL8KJJStVL_dJigtK_AHyVp5AAipy1pMh8\",\"state\":{\"sequence\":\"A\",\"type\":\"SequenceState\"},\"type\":\"Allele\"}'"
      ]
     },
     "execution_count": 14,
     "metadata": {},
     "output_type": "execute_result"
    }
   ],
   "source": [
    "# This is the serialized form. Notice that the inline `Location` instance was replaced with\n",
    "# its identifier and that the Allele id is not included. \n",
    "serialize(allele)"
   ]
  },
  {
   "cell_type": "markdown",
   "metadata": {},
   "source": [
    "### identify()\n",
    "VR computed identifiers are constructed from digests on serialized objects by prefixing a VR digest with a type-specific code."
   ]
  },
  {
   "cell_type": "code",
   "execution_count": 15,
   "metadata": {},
   "outputs": [
    {
     "data": {
      "text/plain": [
       "'V_LNMpD_7BfTlhBpvndEghNZlrQA7yXi'"
      ]
     },
     "execution_count": 15,
     "metadata": {},
     "output_type": "execute_result"
    }
   ],
   "source": [
    "# applying ga4gh_digest to the serialized allele returns a base64url-encoded digest\n",
    "ga4gh_digest( serialize(allele) )"
   ]
  },
  {
   "cell_type": "code",
   "execution_count": 16,
   "metadata": {},
   "outputs": [
    {
     "data": {
      "text/plain": [
       "'ga4gh:VAV_LNMpD_7BfTlhBpvndEghNZlrQA7yXi'"
      ]
     },
     "execution_count": 16,
     "metadata": {},
     "output_type": "execute_result"
    }
   ],
   "source": [
    "# identify() uses this digest to construct a CURIE-formatted identifier.\n",
    "# The VA prefix identifies this object as a Variation Allele.\n",
    "identify(allele)"
   ]
  },
  {
   "cell_type": "code",
   "execution_count": 18,
   "metadata": {},
   "outputs": [
    {
     "name": "stderr",
     "output_type": "stream",
     "text": [
      "2019-05-29 19:06:57 snafu ga4gh.vr.extras.dataproxy[2487] INFO Fetching http://localhost:5000/seqrepo/1/metadata/RefSeq:NM_000551.3\n"
     ]
    },
    {
     "data": {
      "text/plain": [
       "{'added': '2016-08-24T05:03:11Z',\n",
       " 'aliases': ['MD5:215137b1973c1a5afcf86be7d999574a',\n",
       "  'RefSeq:NM_000551.3',\n",
       "  'SEGUID:T12L0p2X5E8DbnL0+SwI4Wc1S6g',\n",
       "  'SHA1:4f5d8bd29d97e44f036e72f4f92c08e167354ba8',\n",
       "  'VMC:GS_v_QTc1p-MUYdgrRv4LMT6ByXIOsdw3C_',\n",
       "  'ga4gh:SQv_QTc1p-MUYdgrRv4LMT6ByXIOsdw3C_',\n",
       "  'TRUNC512:bff413735a7e31461d82b46fe0b313e81c9720eb1dc370bf',\n",
       "  'gi:319655736'],\n",
       " 'alphabet': 'ACGT',\n",
       " 'length': 4560}"
      ]
     },
     "execution_count": 18,
     "metadata": {},
     "output_type": "execute_result"
    }
   ],
   "source": [
    "dp.get_metadata(\"refseq:NM_000551.3\")"
   ]
  },
  {
   "cell_type": "code",
   "execution_count": 19,
   "metadata": {},
   "outputs": [
    {
     "name": "stderr",
     "output_type": "stream",
     "text": [
      "2019-05-29 19:06:57 snafu ga4gh.vr.extras.dataproxy[2487] INFO Fetching http://localhost:5000/seqrepo/1/sequence/VMC:GS_v_QTc1p-MUYdgrRv4LMT6ByXIOsdw3C_\n"
     ]
    },
    {
     "data": {
      "text/plain": [
       "'CCTCGCCTCCGTTACAACGGCCTACGGTGCTGGAGGATCCTTCTGCGCAC...'"
      ]
     },
     "execution_count": 19,
     "metadata": {},
     "output_type": "execute_result"
    }
   ],
   "source": [
    "dp.get_sequence(\"ga4gh:SQv_QTc1p-MUYdgrRv4LMT6ByXIOsdw3C_\", start=0, end=50) + \"...\""
   ]
  },
  {
   "cell_type": "code",
   "execution_count": 20,
   "metadata": {},
   "outputs": [
    {
     "name": "stderr",
     "output_type": "stream",
     "text": [
      "2019-05-29 19:06:57 snafu hgvs[2487] INFO hgvs 1.3.0.post0; released: False\n"
     ]
    }
   ],
   "source": [
    "from ga4gh.vr.extras.translator import Translator\n",
    "tlr = Translator(data_proxy=dp)"
   ]
  },
  {
   "cell_type": "code",
   "execution_count": 21,
   "metadata": {},
   "outputs": [
    {
     "name": "stderr",
     "output_type": "stream",
     "text": [
      "2019-05-29 19:06:57 snafu ga4gh.vr.extras.translator[2487] INFO Creating  parser\n",
      "2019-05-29 19:06:59 snafu ga4gh.vr.extras.dataproxy[2487] INFO Fetching http://localhost:5000/seqrepo/1/metadata/RefSeq:NC_000013.11\n"
     ]
    },
    {
     "data": {
      "text/plain": [
       "{'id': 'ga4gh:VAJBgSI1HBdpOYUNCWtRGwzhLtNrcdXAk8',\n",
       " 'location': {'id': 'ga4gh:SL0FXQTd1CoM6ElQtD7qK1Ge6XGYhH6OZt',\n",
       "  'interval': {'end': 32936732, 'start': 32936731, 'type': 'SimpleInterval'},\n",
       "  'sequence_id': 'ga4gh:SQ_0wi-qoDrvram155UmcSC-zA5ZK4fpLT',\n",
       "  'type': 'SequenceLocation'},\n",
       " 'state': {'sequence': 'C', 'type': 'SequenceState'},\n",
       " 'type': 'Allele'}"
      ]
     },
     "execution_count": 21,
     "metadata": {},
     "output_type": "execute_result"
    }
   ],
   "source": [
    "a = tlr.from_hgvs(\"NC_000013.11:g.32936732G>C\")\n",
    "a.as_dict()"
   ]
  },
  {
   "cell_type": "code",
   "execution_count": 22,
   "metadata": {},
   "outputs": [
    {
     "name": "stderr",
     "output_type": "stream",
     "text": [
      "2019-05-29 19:06:59 snafu ga4gh.vr.extras.dataproxy[2487] INFO Fetching http://localhost:5000/seqrepo/1/metadata/GRCh38:13\n"
     ]
    },
    {
     "data": {
      "text/plain": [
       "{'id': 'ga4gh:VAJBgSI1HBdpOYUNCWtRGwzhLtNrcdXAk8',\n",
       " 'location': {'id': 'ga4gh:SL0FXQTd1CoM6ElQtD7qK1Ge6XGYhH6OZt',\n",
       "  'interval': {'end': 32936732, 'start': 32936731, 'type': 'SimpleInterval'},\n",
       "  'sequence_id': 'ga4gh:SQ_0wi-qoDrvram155UmcSC-zA5ZK4fpLT',\n",
       "  'type': 'SequenceLocation'},\n",
       " 'state': {'sequence': 'C', 'type': 'SequenceState'},\n",
       " 'type': 'Allele'}"
      ]
     },
     "execution_count": 22,
     "metadata": {},
     "output_type": "execute_result"
    }
   ],
   "source": [
    "# from_beacon: Translate from beacon's form\n",
    "a = tlr.from_beacon(\"13 : 32936732 G > C\")\n",
    "a.as_dict()"
   ]
  },
  {
   "cell_type": "code",
   "execution_count": 23,
   "metadata": {},
   "outputs": [
    {
     "data": {
      "text/plain": [
       "{'id': 'ga4gh:VAJBgSI1HBdpOYUNCWtRGwzhLtNrcdXAk8',\n",
       " 'location': {'id': 'ga4gh:SL0FXQTd1CoM6ElQtD7qK1Ge6XGYhH6OZt',\n",
       "  'interval': {'end': 32936732, 'start': 32936731, 'type': 'SimpleInterval'},\n",
       "  'sequence_id': 'ga4gh:SQ_0wi-qoDrvram155UmcSC-zA5ZK4fpLT',\n",
       "  'type': 'SequenceLocation'},\n",
       " 'state': {'sequence': 'C', 'type': 'SequenceState'},\n",
       " 'type': 'Allele'}"
      ]
     },
     "execution_count": 23,
     "metadata": {},
     "output_type": "execute_result"
    }
   ],
   "source": [
    "# SPDI uses 0-based coordinates\n",
    "a = tlr.from_spdi(\"NC_000013.11:32936731:1:C\")\n",
    "a.as_dict()"
   ]
  },
  {
   "cell_type": "code",
   "execution_count": 24,
   "metadata": {},
   "outputs": [
    {
     "data": {
      "text/plain": [
       "{'id': 'ga4gh:VAJBgSI1HBdpOYUNCWtRGwzhLtNrcdXAk8',\n",
       " 'location': {'id': 'ga4gh:SL0FXQTd1CoM6ElQtD7qK1Ge6XGYhH6OZt',\n",
       "  'interval': {'end': 32936732, 'start': 32936731, 'type': 'SimpleInterval'},\n",
       "  'sequence_id': 'ga4gh:SQ_0wi-qoDrvram155UmcSC-zA5ZK4fpLT',\n",
       "  'type': 'SequenceLocation'},\n",
       " 'state': {'sequence': 'C', 'type': 'SequenceState'},\n",
       " 'type': 'Allele'}"
      ]
     },
     "execution_count": 24,
     "metadata": {},
     "output_type": "execute_result"
    }
   ],
   "source": [
    "a = tlr.from_vcf(\"13-32936732-G-C\")   # gnomAD-style expression\n",
    "a.as_dict()"
   ]
  },
  {
   "cell_type": "markdown",
   "metadata": {},
   "source": [
    "# Validation examples"
   ]
  },
  {
   "cell_type": "code",
   "execution_count": 87,
   "metadata": {},
   "outputs": [
    {
     "name": "stdout",
     "output_type": "stream",
     "text": [
      "SimpleInterval:\n",
      "  -\n",
      "    in:\n",
      "      end: 43\n",
      "      start: 42\n",
      "      type: SimpleInterval\n",
      "    out:\n",
      "      serialize: '{\"end\":43,\"start\":42,\"type\":\"SimpleInterval\"}'\n",
      "\n",
      "NestedInterval:\n",
      "  -\n",
      "    in:\n",
      "      inner:\n",
      "        end: 30\n",
      "        start: 29\n",
      "        type: SimpleInterval\n",
      "      outer:\n",
      "        end: 39\n",
      "        start: 30\n",
      "        type: SimpleInterval\n",
      "      type: NestedInterval\n",
      "    out:\n",
      "      serialize: '{\"inner\":{\"end\":30,\"start\":29,\"type\":\"SimpleInterval\"},\"outer\":{\"end\":39,\"start\":30,\"type\":\"SimpleInterval\"},\"type\":\"NestedInterval\"}'\n",
      "\n",
      "SequenceLocation:\n",
      "  -\n",
      "    in:\n",
      "      interval:\n",
      "        end: 43\n",
      "        start: 42\n",
      "        type: SimpleInterval\n",
      "      sequence_id: NM_0001234.5\n",
      "      type: SequenceLocation\n",
      "    out:\n",
      "      serialize: '{\"interval\":{\"end\":43,\"start\":42,\"type\":\"SimpleInterval\"},\"sequence_id\":\"NM_0001234.5\",\"type\":\"SequenceLocation\"}'\n",
      "\n",
      "SequenceLocation:\n",
      "  -\n",
      "    in:\n",
      "      interval:\n",
      "        inner:\n",
      "          end: 30\n",
      "          start: 29\n",
      "          type: SimpleInterval\n",
      "        outer:\n",
      "          end: 39\n",
      "          start: 30\n",
      "          type: SimpleInterval\n",
      "        type: NestedInterval\n",
      "      sequence_id: NM_0001234.5\n",
      "      type: SequenceLocation\n",
      "    out:\n",
      "      serialize: '{\"interval\":{\"inner\":{\"end\":30,\"start\":29,\"type\":\"SimpleInterval\"},\"outer\":{\"end\":39,\"start\":30,\"type\":\"SimpleInterval\"},\"type\":\"NestedInterval\"},\"sequence_id\":\"NM_0001234.5\",\"type\":\"SequenceLocation\"}'\n",
      "\n",
      "CytobandLocation:\n",
      "  -\n",
      "    in:\n",
      "      chr: '11'\n",
      "      end: q23.1\n",
      "      start: q22.3\n",
      "      type: CytobandLocation\n",
      "    out:\n",
      "      serialize: '{\"chr\":\"11\",\"end\":\"q23.1\",\"start\":\"q22.3\",\"type\":\"CytobandLocation\"}'\n",
      "\n",
      "GeneLocation:\n",
      "  -\n",
      "    in:\n",
      "      gene: HGNC:MSH2\n",
      "      type: GeneLocation\n",
      "    out:\n",
      "      serialize: '{\"gene\":\"HGNC:MSH2\",\"type\":\"GeneLocation\"}'\n",
      "\n",
      "Allele:\n",
      "  -\n",
      "    in:\n",
      "      location:\n",
      "        interval:\n",
      "          end: 43\n",
      "          start: 42\n",
      "          type: SimpleInterval\n",
      "        sequence_id: NM_0001234.5\n",
      "        type: SequenceLocation\n",
      "      state:\n",
      "        sequence: A\n",
      "        type: SequenceState\n",
      "      type: Allele\n",
      "    out:\n",
      "      serialize: '{\"location\":\"ga4gh:SL8KJJStVL_dJigtK_AHyVp5AAipy1pMh8\",\"state\":{\"sequence\":\"A\",\"type\":\"SequenceState\"},\"type\":\"Allele\"}'\n",
      "\n"
     ]
    }
   ],
   "source": [
    "for o in [simple_interval, nested_interval, sequence_location_si, sequence_location_ni, cytoband_location, gene_location, allele]:\n",
    "    dy(serialize, o)"
   ]
  },
  {
   "cell_type": "code",
   "execution_count": null,
   "metadata": {},
   "outputs": [],
   "source": []
  }
 ],
 "metadata": {
  "kernelspec": {
   "display_name": "Python 3",
   "language": "python",
   "name": "python3"
  },
  "language_info": {
   "codemirror_mode": {
    "name": "ipython",
    "version": 3
   },
   "file_extension": ".py",
   "mimetype": "text/x-python",
   "name": "python",
   "nbconvert_exporter": "python",
   "pygments_lexer": "ipython3",
   "version": "3.7.3"
  }
 },
 "nbformat": 4,
 "nbformat_minor": 2
}
