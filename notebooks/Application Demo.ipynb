{
 "cells": [
  {
   "cell_type": "markdown",
   "metadata": {},
   "source": [
    "# Application Demo\n",
    "Demonstrates how VMC might be used in conjunction with application-specific data\n",
    "\n",
    "---"
   ]
  },
  {
   "cell_type": "code",
   "execution_count": 20,
   "metadata": {},
   "outputs": [],
   "source": [
    "import json\n",
    "\n",
    "from support.vmchelper import VMCHelper \n",
    "from support.utils import json_pretty_format\n",
    "\n",
    "def opp(o):\n",
    "    \"\"\"object pretty print -- prints any VMC object\"\"\"\n",
    "    print(json_pretty_format(o.serialize()))"
   ]
  },
  {
   "cell_type": "code",
   "execution_count": 29,
   "metadata": {},
   "outputs": [],
   "source": [
    "class App:\n",
    "    def __init__(self):\n",
    "        self.vmcdata = VMCHelper()\n",
    "        self.annotations = {}\n",
    "\n",
    "    def as_json(self):\n",
    "        return json.dumps({\n",
    "            \"appinfo\": {\"what\": \"ever\"},\n",
    "            \"vmcbundle\": self.vmcdata.as_bundle(),\n",
    "            \"annotations\": self.annotations\n",
    "        })\n",
    "    \n",
    "    def get_record(self, id):\n",
    "        \"\"\"given variation id, return dictionary of all associated data\"\"\"\n",
    "        return {\n",
    "            \"type\": \"Allele\",\n",
    "            \"object\": \"Allele(...)\",\n",
    "            \"pop_freq\": \"{CEU: }\",\n",
    "            \"ann key\": \"value from id lookup in annotations\"\n",
    "        }\n",
    "    \n",
    "app = App()"
   ]
  },
  {
   "cell_type": "code",
   "execution_count": 26,
   "metadata": {},
   "outputs": [],
   "source": [
    "# *1: https://www.pharmgkb.org/haplotype/PA165819268\n",
    "# *3A: https://www.pharmgkb.org/haplotype/PA165819270\n",
    "# *3B: https://www.pharmgkb.org/haplotype/PA165819271\n",
    "# *3C: https://www.pharmgkb.org/haplotype/PA165819272\n",
    "\n",
    "# TPMT_hgvs_alleles\n",
    "rs1142345T = \"NC_000006.11:g.18130918=\"\n",
    "rs1142345C = \"NC_000006.11:g.18130918T>C\"\n",
    "rs1800460C = \"NC_000006.11:g.18139228=\"\n",
    "rs1800460T = \"NC_000006.11:g.18139228C>T\"\n",
    "\n",
    "TPMT_hgvs_haplotypes = {\n",
    "    \"TPMT*1\": [rs1142345T, rs1800460C],\n",
    "    \"TPMT*3A\": [rs1142345C, rs1800460T],\n",
    "    \"TPMT*3B\": [rs1800460T],\n",
    "    \"TPMT*3C\": [rs1142345C],\n",
    "}\n",
    "\n",
    "# Data from CPIC via Bob Freimuth (thanks!)\n",
    "pop_labels = \"CEU MED SA AFR\".split()\n",
    "pop_freq = {\n",
    "    \"TPMT*1\": dict(zip(pop_labels, [0.95726, 0.96081, 0.95233, 0.93901])),\n",
    "    \"TPMT*3A\": dict(zip(pop_labels, [0.0356, 0.0254, 0.0287, 0.00198])),\n",
    "    \"TPMT*3B\": dict(zip(pop_labels, [0.000561, 0.00426, 0.000486, 0])),\n",
    "    \"TPMT*3C\": dict(zip(pop_labels, [0.004205, 00.00545, 0.00924, 0.0495])),\n",
    "}"
   ]
  },
  {
   "cell_type": "code",
   "execution_count": 27,
   "metadata": {},
   "outputs": [],
   "source": [
    "app.annotations[\"pop_freq\"] = {}\n",
    "for hapname in \"TPMT*1 TPMT*3A TPMT*3B TPMT*3C\".split():\n",
    "    haplotype = app.vmcdata.add_hgvs_haplotype(TPMT_hgvs_haplotypes[hapname])\n",
    "    app.vmcdata.identifiers[haplotype.id].add(hapname)\n",
    "    app.annotations[\"pop_freq\"][haplotype.id] = pop_freq[hapname]"
   ]
  },
  {
   "cell_type": "code",
   "execution_count": 28,
   "metadata": {},
   "outputs": [
    {
     "data": {
      "text/plain": [
       "'{\"appinfo\": {\"what\": \"ever\"}, \"annotations\": {\"pop_freq\": {\"VMC:GH_BsOxQ7mEbHhNXNkpiDrEHzFbYQ9oA4dB\": {\"CEU\": 0.95726, \"MED\": 0.96081, \"SA\": 0.95233, \"AFR\": 0.93901}, \"VMC:GH_kxTWlh02KybqQybArmci5ScJbwNcTNlC\": {\"CEU\": 0.0356, \"MED\": 0.0254, \"SA\": 0.0287, \"AFR\": 0.00198}, \"VMC:GH_Pi0KRfcBXsMlBW2th1tBNul53qJ5P_TM\": {\"CEU\": 0.000561, \"MED\": 0.00426, \"SA\": 0.000486, \"AFR\": 0}, \"VMC:GH_EepV7kZVXZ-FfWA7lRgvVTdxQVMS8ozR\": {\"CEU\": 0.004205, \"MED\": 0.00545, \"SA\": 0.00924, \"AFR\": 0.0495}}}}'"
      ]
     },
     "execution_count": 28,
     "metadata": {},
     "output_type": "execute_result"
    }
   ],
   "source": [
    "app.as_json()"
   ]
  },
  {
   "cell_type": "code",
   "execution_count": null,
   "metadata": {},
   "outputs": [],
   "source": []
  }
 ],
 "metadata": {
  "kernelspec": {
   "display_name": "Python 3",
   "language": "python",
   "name": "python3"
  },
  "language_info": {
   "codemirror_mode": {
    "name": "ipython",
    "version": 3
   },
   "file_extension": ".py",
   "mimetype": "text/x-python",
   "name": "python",
   "nbconvert_exporter": "python",
   "pygments_lexer": "ipython3",
   "version": "3.6.5"
  }
 },
 "nbformat": 4,
 "nbformat_minor": 2
}
