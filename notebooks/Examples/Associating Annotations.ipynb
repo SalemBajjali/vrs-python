{
 "cells": [
  {
   "cell_type": "markdown",
   "metadata": {},
   "source": [
    "# Associating Annotions with VR Objects\n",
    "\n",
    "This notebook demonstrates how to associate information with VR objects.\n",
    "\n",
    "Information is never embedded within VR objects. Instead, it is associated with those objects by means of their ids.  This approach to annotations scales better in size and distributes better across multiple data sources."
   ]
  },
  {
   "cell_type": "code",
   "execution_count": 1,
   "metadata": {},
   "outputs": [],
   "source": [
    "import collections\n",
    "from ga4gh.vr import ga4gh_identify, models\n",
    "from ga4gh.vr.extras.dataproxy import SeqRepoRESTDataProxy\n",
    "from ga4gh.vr.extras.translator import Translator\n",
    "\n",
    "# Requires seqrepo REST interface is running on this URL (e.g., using docker image)\n",
    "seqrepo_rest_service_url = \"http://localhost:5000/seqrepo\"\n",
    "dp = SeqRepoRESTDataProxy(base_url=seqrepo_rest_service_url)\n",
    "\n",
    "tlr = Translator(data_proxy=dp)"
   ]
  },
  {
   "cell_type": "code",
   "execution_count": 2,
   "metadata": {},
   "outputs": [],
   "source": [
    "data = (\n",
    "    (\"rs7412C\",   \"NC_000019.10:g.44908822=\"),\n",
    "    (\"rs7412T\",   \"NC_000019.10:g.44908822C>T\"),\n",
    "    (\"rs429358C\", \"NC_000019.10:g.44908684=\"),\n",
    "    (\"rs429358T\", \"NC_000019.10:g.44908684T>C\")\n",
    ")"
   ]
  },
  {
   "cell_type": "code",
   "execution_count": 3,
   "metadata": {},
   "outputs": [],
   "source": [
    "alleles = {}\n",
    "rs_names = {}\n",
    "hgvs_names = collections.defaultdict(lambda: dict())\n",
    "for rs, hgvs_expr in data:\n",
    "    allele = tlr.from_hgvs(hgvs_expr)\n",
    "    allele_id = ga4gh_identify(allele)\n",
    "    alleles[allele_id] = allele\n",
    "    hgvs_names[allele_id][\"GRCh38\"] = hgvs_expr\n",
    "    rs_names[allele_id] = rs\n",
    "\n",
    "rs_to_id = {r: i for i, r in rs_names.items()}"
   ]
  },
  {
   "cell_type": "code",
   "execution_count": 4,
   "metadata": {},
   "outputs": [],
   "source": [
    "freqs = {\n",
    "    \"gnomad\": {\n",
    "        \"global\": {\n",
    "            rs_to_id[\"rs7412C\"]: 0.9385,\n",
    "            rs_to_id[\"rs7412T\"]: 0.0615,\n",
    "            rs_to_id[\"rs429358C\"]: 0.1385,\n",
    "            rs_to_id[\"rs429358T\"]: 0.8615,\n",
    "        }\n",
    "    }\n",
    "}"
   ]
  },
  {
   "cell_type": "code",
   "execution_count": 5,
   "metadata": {},
   "outputs": [],
   "source": [
    "doc = {\n",
    "    \"alleles\": alleles,\n",
    "    \"hgvs_names\": hgvs_names,\n",
    "    \"rs_names\": rs_names,\n",
    "    \"freqs\": freqs\n",
    "}"
   ]
  },
  {
   "cell_type": "code",
   "execution_count": 6,
   "metadata": {},
   "outputs": [],
   "source": [
    "# For the benefit of pretty printing, let's replace the allele objects with their dict representations\n",
    "doc[\"alleles\"] = {i: a.as_dict() for i, a in doc[\"alleles\"].items()}"
   ]
  },
  {
   "cell_type": "code",
   "execution_count": 7,
   "metadata": {},
   "outputs": [
    {
     "name": "stdout",
     "output_type": "stream",
     "text": [
      "{\n",
      "  \"alleles\": {\n",
      "    \"ga4gh:VA.UUvQpMYU5x8XXBS-RhBhmipTWe2AALzj\": {\n",
      "      \"_digest\": \"UUvQpMYU5x8XXBS-RhBhmipTWe2AALzj\",\n",
      "      \"location\": {\n",
      "        \"_digest\": \"u5fspwVbQ79QkX6GHLF8tXPCAXFJqRPx\",\n",
      "        \"interval\": {\n",
      "          \"end\": 44908822,\n",
      "          \"start\": 44908821,\n",
      "          \"type\": \"SimpleInterval\"\n",
      "        },\n",
      "        \"sequence_id\": \"ga4gh:SQ.IIB53T8CNeJJdUqzn9V_JnRtQadwWCbl\",\n",
      "        \"type\": \"SequenceLocation\"\n",
      "      },\n",
      "      \"state\": {\n",
      "        \"sequence\": \"C\",\n",
      "        \"type\": \"SequenceState\"\n",
      "      },\n",
      "      \"type\": \"Allele\"\n",
      "    },\n",
      "    \"ga4gh:VA.EgHPXXhULTwoP4-ACfs-YCXaeUQJBjH_\": {\n",
      "      \"_digest\": \"EgHPXXhULTwoP4-ACfs-YCXaeUQJBjH_\",\n",
      "      \"location\": {\n",
      "        \"_digest\": \"u5fspwVbQ79QkX6GHLF8tXPCAXFJqRPx\",\n",
      "        \"interval\": {\n",
      "          \"end\": 44908822,\n",
      "          \"start\": 44908821,\n",
      "          \"type\": \"SimpleInterval\"\n",
      "        },\n",
      "        \"sequence_id\": \"ga4gh:SQ.IIB53T8CNeJJdUqzn9V_JnRtQadwWCbl\",\n",
      "        \"type\": \"SequenceLocation\"\n",
      "      },\n",
      "      \"state\": {\n",
      "        \"sequence\": \"T\",\n",
      "        \"type\": \"SequenceState\"\n",
      "      },\n",
      "      \"type\": \"Allele\"\n",
      "    },\n",
      "    \"ga4gh:VA.LQrGFIOAP8wEAybwNBo8pJ3yIG7tXWoh\": {\n",
      "      \"_digest\": \"LQrGFIOAP8wEAybwNBo8pJ3yIG7tXWoh\",\n",
      "      \"location\": {\n",
      "        \"_digest\": \"emmUme_DvPnWg476971oqQpVPXkQU9YF\",\n",
      "        \"interval\": {\n",
      "          \"end\": 44908684,\n",
      "          \"start\": 44908683,\n",
      "          \"type\": \"SimpleInterval\"\n",
      "        },\n",
      "        \"sequence_id\": \"ga4gh:SQ.IIB53T8CNeJJdUqzn9V_JnRtQadwWCbl\",\n",
      "        \"type\": \"SequenceLocation\"\n",
      "      },\n",
      "      \"state\": {\n",
      "        \"sequence\": \"T\",\n",
      "        \"type\": \"SequenceState\"\n",
      "      },\n",
      "      \"type\": \"Allele\"\n",
      "    },\n",
      "    \"ga4gh:VA.iXjilHZiyCEoD3wVMPMXG3B8BtYfL88H\": {\n",
      "      \"_digest\": \"iXjilHZiyCEoD3wVMPMXG3B8BtYfL88H\",\n",
      "      \"location\": {\n",
      "        \"_digest\": \"emmUme_DvPnWg476971oqQpVPXkQU9YF\",\n",
      "        \"interval\": {\n",
      "          \"end\": 44908684,\n",
      "          \"start\": 44908683,\n",
      "          \"type\": \"SimpleInterval\"\n",
      "        },\n",
      "        \"sequence_id\": \"ga4gh:SQ.IIB53T8CNeJJdUqzn9V_JnRtQadwWCbl\",\n",
      "        \"type\": \"SequenceLocation\"\n",
      "      },\n",
      "      \"state\": {\n",
      "        \"sequence\": \"C\",\n",
      "        \"type\": \"SequenceState\"\n",
      "      },\n",
      "      \"type\": \"Allele\"\n",
      "    }\n",
      "  },\n",
      "  \"hgvs_names\": {\n",
      "    \"ga4gh:VA.UUvQpMYU5x8XXBS-RhBhmipTWe2AALzj\": {\n",
      "      \"GRCh38\": \"NC_000019.10:g.44908822=\"\n",
      "    },\n",
      "    \"ga4gh:VA.EgHPXXhULTwoP4-ACfs-YCXaeUQJBjH_\": {\n",
      "      \"GRCh38\": \"NC_000019.10:g.44908822C>T\"\n",
      "    },\n",
      "    \"ga4gh:VA.LQrGFIOAP8wEAybwNBo8pJ3yIG7tXWoh\": {\n",
      "      \"GRCh38\": \"NC_000019.10:g.44908684=\"\n",
      "    },\n",
      "    \"ga4gh:VA.iXjilHZiyCEoD3wVMPMXG3B8BtYfL88H\": {\n",
      "      \"GRCh38\": \"NC_000019.10:g.44908684T>C\"\n",
      "    }\n",
      "  },\n",
      "  \"rs_names\": {\n",
      "    \"ga4gh:VA.UUvQpMYU5x8XXBS-RhBhmipTWe2AALzj\": \"rs7412C\",\n",
      "    \"ga4gh:VA.EgHPXXhULTwoP4-ACfs-YCXaeUQJBjH_\": \"rs7412T\",\n",
      "    \"ga4gh:VA.LQrGFIOAP8wEAybwNBo8pJ3yIG7tXWoh\": \"rs429358C\",\n",
      "    \"ga4gh:VA.iXjilHZiyCEoD3wVMPMXG3B8BtYfL88H\": \"rs429358T\"\n",
      "  },\n",
      "  \"freqs\": {\n",
      "    \"gnomad\": {\n",
      "      \"global\": {\n",
      "        \"ga4gh:VA.UUvQpMYU5x8XXBS-RhBhmipTWe2AALzj\": 0.9385,\n",
      "        \"ga4gh:VA.EgHPXXhULTwoP4-ACfs-YCXaeUQJBjH_\": 0.0615,\n",
      "        \"ga4gh:VA.LQrGFIOAP8wEAybwNBo8pJ3yIG7tXWoh\": 0.1385,\n",
      "        \"ga4gh:VA.iXjilHZiyCEoD3wVMPMXG3B8BtYfL88H\": 0.8615\n",
      "      }\n",
      "    }\n",
      "  }\n",
      "}\n"
     ]
    }
   ],
   "source": [
    "import json\n",
    "print(json.dumps(doc, indent=2))"
   ]
  },
  {
   "cell_type": "code",
   "execution_count": null,
   "metadata": {},
   "outputs": [],
   "source": []
  }
 ],
 "metadata": {
  "kernelspec": {
   "display_name": "Python 3",
   "language": "python",
   "name": "python3"
  },
  "language_info": {
   "codemirror_mode": {
    "name": "ipython",
    "version": 3
   },
   "file_extension": ".py",
   "mimetype": "text/x-python",
   "name": "python",
   "nbconvert_exporter": "python",
   "pygments_lexer": "ipython3",
   "version": "3.7.3"
  }
 },
 "nbformat": 4,
 "nbformat_minor": 2
}
