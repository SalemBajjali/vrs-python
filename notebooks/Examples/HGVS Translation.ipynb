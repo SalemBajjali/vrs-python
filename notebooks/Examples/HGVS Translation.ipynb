{
 "cells": [
  {
   "cell_type": "markdown",
   "metadata": {},
   "source": [
    "This notebook demonstrates the mechanics of translating an HGVS expression to a VR representation for educational purposes. Users who wish to translate HGVS or other expressions routinely should use ga4gh.vr.extras.translator."
   ]
  },
  {
   "cell_type": "code",
   "execution_count": 1,
   "metadata": {},
   "outputs": [],
   "source": [
    "# We'll translate this expression to VR:\n",
    "hgvs_expr = \"NC_000013.11:g.32936732G>C\""
   ]
  },
  {
   "cell_type": "code",
   "execution_count": 2,
   "metadata": {},
   "outputs": [],
   "source": [
    "import json\n",
    "def dj(o):\n",
    "    print(json.dumps(o.as_dict(), indent=2, sort_keys=True))"
   ]
  },
  {
   "cell_type": "code",
   "execution_count": 3,
   "metadata": {},
   "outputs": [
    {
     "data": {
      "text/plain": [
       "{'location': {'interval': {'end': 32936732,\n",
       "   'start': 32936731,\n",
       "   'type': 'SimpleInterval'},\n",
       "  'sequence_id': 'refseq:NC_000013.11',\n",
       "  'type': 'SequenceLocation'},\n",
       " 'state': {'sequence': 'C', 'type': 'SequenceState'},\n",
       " 'type': 'Allele'}"
      ]
     },
     "execution_count": 3,
     "metadata": {},
     "output_type": "execute_result"
    }
   ],
   "source": [
    "# 1. Translate the HGVS expression manually\n",
    "\n",
    "from ga4gh.vr import models\n",
    "\n",
    "allele = models.Allele(\n",
    "    location = models.SequenceLocation(\n",
    "        sequence_id = \"refseq:NC_000013.11\",\n",
    "        interval = models.SimpleInterval(\n",
    "            start = 32936731,\n",
    "            end = 32936732\n",
    "        )\n",
    "    ),\n",
    "    state = models.SequenceState(\n",
    "        sequence = \"C\"\n",
    "    )\n",
    ")\n",
    "\n",
    "allele.as_dict()"
   ]
  },
  {
   "cell_type": "code",
   "execution_count": 4,
   "metadata": {},
   "outputs": [
    {
     "data": {
      "text/plain": [
       "{'location': {'interval': {'end': 32936732,\n",
       "   'start': 32936731,\n",
       "   'type': 'SimpleInterval'},\n",
       "  'sequence_id': 'ga4gh:SQ._0wi-qoDrvram155UmcSC-zA5ZK4fpLT',\n",
       "  'type': 'SequenceLocation'},\n",
       " 'state': {'sequence': 'C', 'type': 'SequenceState'},\n",
       " 'type': 'Allele'}"
      ]
     },
     "execution_count": 4,
     "metadata": {},
     "output_type": "execute_result"
    }
   ],
   "source": [
    "# 2. Replace the RefSeq sequence with a GA4GH sequence id\n",
    "# Implementations choose how to provide sequence and sequence accession services\n",
    "# The following uses the seqrepo REST interface (https://github.com/biocommons/seqrepo-rest-service/)\n",
    "\n",
    "from ga4gh.vr.extras.dataproxy import SeqRepoRESTDataProxy\n",
    "seqrepo_rest_service_url = \"http://localhost:5000/seqrepo\"\n",
    "dp = SeqRepoRESTDataProxy(base_url=seqrepo_rest_service_url)\n",
    "\n",
    "# In general, one identifier may be related to many others in another namespace\n",
    "# Therefore, translate_sequence_identifier() returns a list.\n",
    "# Because there will be only 1 ga4gh sequence digest, we choose the first\n",
    "# and then replace the sequence id in allele.location.\n",
    "\n",
    "refseq_ir = str(allele.location.sequence_id)\n",
    "ga4gh_ir = dp.translate_sequence_identifier(refseq_ir, \"ga4gh\")[0]\n",
    "allele.location.sequence_id = ga4gh_ir\n",
    "allele.as_dict()"
   ]
  },
  {
   "cell_type": "code",
   "execution_count": 5,
   "metadata": {},
   "outputs": [
    {
     "data": {
      "text/plain": [
       "b'{\"location\":\"v9K0mcjQVugxTDIcdi7GBJ_R6fZ1lsYq\",\"state\":{\"sequence\":\"C\",\"type\":\"SequenceState\"},\"type\":\"Allele\"}'"
      ]
     },
     "execution_count": 5,
     "metadata": {},
     "output_type": "execute_result"
    }
   ],
   "source": [
    "# Sidebar: serialization\n",
    "from ga4gh.core import ga4gh_serialize\n",
    "ga4gh_serialize(allele)"
   ]
  },
  {
   "cell_type": "code",
   "execution_count": 6,
   "metadata": {},
   "outputs": [
    {
     "data": {
      "text/plain": [
       "b'n9ax-9x6gOC0OEt73VMYqCBfqfxG1XUH'"
      ]
     },
     "execution_count": 6,
     "metadata": {},
     "output_type": "execute_result"
    }
   ],
   "source": [
    "import hashlib, base64\n",
    "blob = ga4gh_serialize(allele)\n",
    "base64.urlsafe_b64encode(hashlib.sha512(blob).digest()[:24])"
   ]
  },
  {
   "cell_type": "code",
   "execution_count": 7,
   "metadata": {},
   "outputs": [
    {
     "data": {
      "text/plain": [
       "'ga4gh:VA.n9ax-9x6gOC0OEt73VMYqCBfqfxG1XUH'"
      ]
     },
     "execution_count": 7,
     "metadata": {},
     "output_type": "execute_result"
    }
   ],
   "source": [
    "# 3. Generated the computed identifier\n",
    "# ga4gh_identify() serializes the object and computes the identifier\n",
    "# (ga4gh_serialize and ga4gh_digest are called internally)\n",
    "\n",
    "from ga4gh.core import ga4gh_identify\n",
    "ga4gh_identify(allele)"
   ]
  },
  {
   "cell_type": "code",
   "execution_count": 8,
   "metadata": {},
   "outputs": [
    {
     "name": "stdout",
     "output_type": "stream",
     "text": [
      "{\n",
      "  \"_id\": \"ga4gh:VA.n9ax-9x6gOC0OEt73VMYqCBfqfxG1XUH\",\n",
      "  \"location\": {\n",
      "    \"interval\": {\n",
      "      \"end\": 32936732,\n",
      "      \"start\": 32936731,\n",
      "      \"type\": \"SimpleInterval\"\n",
      "    },\n",
      "    \"sequence_id\": \"ga4gh:SQ._0wi-qoDrvram155UmcSC-zA5ZK4fpLT\",\n",
      "    \"type\": \"SequenceLocation\"\n",
      "  },\n",
      "  \"state\": {\n",
      "    \"sequence\": \"C\",\n",
      "    \"type\": \"SequenceState\"\n",
      "  },\n",
      "  \"type\": \"Allele\"\n",
      "}\n"
     ]
    }
   ],
   "source": [
    "allele._id = ga4gh_identify(allele)\n",
    "dj(allele)"
   ]
  },
  {
   "cell_type": "code",
   "execution_count": 9,
   "metadata": {},
   "outputs": [
    {
     "data": {
      "text/plain": [
       "{'_id': 'ga4gh:VA.n9ax-9x6gOC0OEt73VMYqCBfqfxG1XUH',\n",
       " 'location': {'interval': {'end': 32936732,\n",
       "   'start': 32936731,\n",
       "   'type': 'SimpleInterval'},\n",
       "  'sequence_id': 'ga4gh:SQ._0wi-qoDrvram155UmcSC-zA5ZK4fpLT',\n",
       "  'type': 'SequenceLocation'},\n",
       " 'state': {'sequence': 'C', 'type': 'SequenceState'},\n",
       " 'type': 'Allele',\n",
       " 'id': 'ga4gh:VA.n9ax-9x6gOC0OEt73VMYqCBfqfxG1XUH'}"
      ]
     },
     "execution_count": 9,
     "metadata": {},
     "output_type": "execute_result"
    }
   ],
   "source": [
    "allele_d = allele.as_dict()\n",
    "allele_d[\"id\"] = ga4gh_identify(allele)\n",
    "allele_d"
   ]
  },
  {
   "cell_type": "markdown",
   "metadata": {},
   "source": [
    "# Using ga4gh.vr.extras.translator\n",
    "\n",
    "The VR Translator imports HGVS, SPDI, Beacon, and VCF formats, and appropriate handles more complex cases than shown above."
   ]
  },
  {
   "cell_type": "code",
   "execution_count": 19,
   "metadata": {},
   "outputs": [],
   "source": [
    "from ga4gh.vr.extras.translator import Translator\n",
    "tlr = Translator(data_proxy=dp)"
   ]
  },
  {
   "cell_type": "code",
   "execution_count": 26,
   "metadata": {},
   "outputs": [
    {
     "data": {
      "text/plain": [
       "{'location': {'interval': {'end': 32936735,\n",
       "   'start': 32936731,\n",
       "   'type': 'SimpleInterval'},\n",
       "  'sequence_id': 'ga4gh:SQ._0wi-qoDrvram155UmcSC-zA5ZK4fpLT',\n",
       "  'type': 'SequenceLocation'},\n",
       " 'state': {'sequence': 'C', 'type': 'SequenceState'},\n",
       " 'type': 'Allele'}"
      ]
     },
     "execution_count": 26,
     "metadata": {},
     "output_type": "execute_result"
    }
   ],
   "source": [
    "# Translate HGVS → VR Allele\n",
    "allele = tlr.from_hgvs(hgvs_expr)\n",
    "allele.as_dict()"
   ]
  },
  {
   "cell_type": "code",
   "execution_count": 33,
   "metadata": {},
   "outputs": [
    {
     "data": {
      "text/plain": [
       "['a5437debe2ef9c9ef8f3ea2874ae1d82:g.32936732_32936735delinsC',\n",
       " 'SQ._0wi-qoDrvram155UmcSC-zA5ZK4fpLT:g.32936732_32936735delinsC',\n",
       " 'GS__0wi-qoDrvram155UmcSC-zA5ZK4fpLT:g.32936732_32936735delinsC',\n",
       " 'da80c1b72d32295f701e8ee083e06df9f3e08b9a:g.32936732_32936735delinsC',\n",
       " 'ff4c22faaa03aefada9b5e795267120becc0e592b87e92d3:g.32936732_32936735delinsC',\n",
       " 'CM000675.2:g.32936732_32936735delinsC',\n",
       " 'NC_000013.11:g.32936732_32936735delinsC',\n",
       " '2oDBty0yKV9wHo7gg+Bt+fPgi5o:g.32936732_32936735delinsC']"
      ]
     },
     "execution_count": 33,
     "metadata": {},
     "output_type": "execute_result"
    }
   ],
   "source": [
    "# And translate VR Allele → HGVS\n",
    "# Because a GA4GH sequence identifier may have many aliases, we return a list\n",
    "# of HGVS expressions for each of the aliases\n",
    "tlr.to_hgvs(allele)"
   ]
  },
  {
   "cell_type": "code",
   "execution_count": 34,
   "metadata": {},
   "outputs": [
    {
     "data": {
      "text/plain": [
       "['NC_000013.11:g.32936732_32936735delinsC']"
      ]
     },
     "execution_count": 34,
     "metadata": {},
     "output_type": "execute_result"
    }
   ],
   "source": [
    "# Most commonly, we'll want expressions from a well-known authority like RefSeq\n",
    "# Again, there might in general be multiple `refseq` expressions\n",
    "tlr.to_hgvs(allele, \"refseq\")"
   ]
  },
  {
   "cell_type": "code",
   "execution_count": 36,
   "metadata": {},
   "outputs": [
    {
     "data": {
      "text/plain": [
       "['13:g.32936732_32936735delinsC', 'chr13:g.32936732_32936735delinsC']"
      ]
     },
     "execution_count": 36,
     "metadata": {},
     "output_type": "execute_result"
    }
   ],
   "source": [
    "# GRC namespaces is handled as a special case: Because aliases are shared \n",
    "# between GRCh releases, they're shown only on request\n",
    "tlr.to_hgvs(allele, \"GRCh38\")"
   ]
  },
  {
   "cell_type": "code",
   "execution_count": 40,
   "metadata": {},
   "outputs": [
    {
     "name": "stdout",
     "output_type": "stream",
     "text": [
      "✔ NC_000013.11:g.32936732C>G\n",
      "  → ga4gh:VA.gvCtR5KLdng5G31DwajXiH6S3Gjhm5fh\n",
      "  → ['NC_000013.11:g.32936732C>G']\n",
      "✔ NC_000013.11:g.32936732_32936733del\n",
      "  → ga4gh:VA.yOoxi7-uUnJyn4QkQ23h6RJuT4Zqarow\n",
      "  → ['NC_000013.11:g.32936732_32936733del']\n",
      "✔ NC_000013.11:g.32936732_32936737del\n",
      "  → ga4gh:VA.nJqbt_W7xV07irZ_F5mtsh5e5dkq9dBW\n",
      "  → ['NC_000013.11:g.32936732_32936737del']\n",
      "✔ NC_000013.11:g.32936732_32936733insC\n",
      "  → ga4gh:VA.JEUN0DVx2gySgRhNDqlKYqehZxgKKlsY\n",
      "  → ['NC_000013.11:g.32936732_32936733insC']\n",
      "✔ NC_000013.11:g.32936732_32936733delinsC\n",
      "  → ga4gh:VA.cT0SNJb9bxB_KIhu2s6j37ZbTWaU4ozJ\n",
      "  → ['NC_000013.11:g.32936732_32936733delinsC']\n",
      "✔ NC_000013.11:g.32936732_32936735delinsC\n",
      "  → ga4gh:VA.6ZgsF2lSBqMKcGL-xV-SUSrwN_UQTndJ\n",
      "  → ['NC_000013.11:g.32936732_32936735delinsC']\n"
     ]
    }
   ],
   "source": [
    "# Round-trip test: HGVS → VR Allele → HGVS[]\n",
    "for hgvs_expr in (\n",
    "    \"NC_000013.11:g.32936732C>G\",\n",
    "    \"NC_000013.11:g.32936732_32936733del\",\n",
    "    \"NC_000013.11:g.32936732_32936737del\",\n",
    "    \"NC_000013.11:g.32936732_32936733insC\",\n",
    "    \"NC_000013.11:g.32936732_32936733delinsC\",\n",
    "    \"NC_000013.11:g.32936732_32936735delinsC\",\n",
    "):\n",
    "    a = tlr.from_hgvs(hgvs_expr)\n",
    "    he = tlr.to_hgvs(a, \"refseq\")\n",
    "    chk = \"✔\" if hgvs_expr in he else \"✘\"\n",
    "    print(f\"{chk} {hgvs_expr}\\n  → {ga4gh_identify(a)}\\n  → {he}\")"
   ]
  },
  {
   "cell_type": "code",
   "execution_count": null,
   "metadata": {},
   "outputs": [],
   "source": []
  }
 ],
 "metadata": {
  "kernelspec": {
   "display_name": "Python 3",
   "language": "python",
   "name": "python3"
  },
  "language_info": {
   "codemirror_mode": {
    "name": "ipython",
    "version": 3
   },
   "file_extension": ".py",
   "mimetype": "text/x-python",
   "name": "python",
   "nbconvert_exporter": "python",
   "pygments_lexer": "ipython3",
   "version": "3.7.5"
  }
 },
 "nbformat": 4,
 "nbformat_minor": 2
}
