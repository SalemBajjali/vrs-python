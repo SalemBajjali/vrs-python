{
 "cells": [
  {
   "cell_type": "markdown",
   "metadata": {},
   "source": [
    "# Inlined and Referenced Objects\n",
    "\n",
    "## Replacing Identifiable Objects with their Identifiers\n",
    "\n",
    "As an example, `Allele` contains a `location`, which must be `oneOf` 1) a subclass of `Location`, or 2) a `CURIE`.\n",
    "\n",
    "Attributes that may be either objects or object identifiers are called _referable attributes_. When a referable attribute contains an object, the object is said to be _inlined_ ; when it is an identifier, it said to be _referenced_. \n",
    "\n",
    "`vr-python` provides code to convert referable attributes between their inlined and referenced forms. Replacing an inlined object with a referenced form is provided by `ga4gh_enref`, and replacing references with their inlined form is provided by `ga4gh_deref`.\n",
    "\n",
    "Dereferencing an object requires having an _object store_ that converts GA4GH identifiers into GA4GH VR objects. In the simplest case, this may be a Python dictionary.  The `vr-python` implementation includes a Redis-backed object store that provides high-performance object retrieval.\n",
    "\n",
    "![graphic](https://i.imgur.com/vBY3Pu8.png)"
   ]
  },
  {
   "cell_type": "code",
   "execution_count": 1,
   "metadata": {},
   "outputs": [],
   "source": [
    "from ga4gh.core import ga4gh_deref, ga4gh_enref, ga4gh_identify\n",
    "from ga4gh.vr import models, class_refatt_map\n",
    "\n",
    "import json\n",
    "def ppo(o):\n",
    "    \"\"\"pretty print object as json\"\"\"\n",
    "    print(json.dumps(o.as_dict(), indent=2))"
   ]
  },
  {
   "cell_type": "code",
   "execution_count": 2,
   "metadata": {},
   "outputs": [],
   "source": [
    "# A sample Allele\n",
    "allele_dict = {\n",
    "    'location': {\n",
    "        'interval': {\n",
    "            'end': 32936732,\n",
    "            'start': 32936731,\n",
    "            'type': 'SimpleInterval'},\n",
    "        'sequence_id': 'ga4gh:SQ._0wi-qoDrvram155UmcSC-zA5ZK4fpLT',\n",
    "        'type': 'SequenceLocation'},\n",
    "    'state': {\n",
    "        'sequence': 'A',\n",
    "        'type': 'SequenceState'},\n",
    "    'type': 'Allele'}"
   ]
  },
  {
   "cell_type": "code",
   "execution_count": 3,
   "metadata": {},
   "outputs": [
    {
     "name": "stdout",
     "output_type": "stream",
     "text": [
      "{\n",
      "  \"_id\": \"ga4gh:VA.mpIbo0Vv4HT-Oh3g5SWcuzAR2mue3yL-\",\n",
      "  \"location\": {\n",
      "    \"_id\": \"ga4gh:VSL.v9K0mcjQVugxTDIcdi7GBJ_R6fZ1lsYq\",\n",
      "    \"interval\": {\n",
      "      \"end\": 32936732,\n",
      "      \"start\": 32936731,\n",
      "      \"type\": \"SimpleInterval\"\n",
      "    },\n",
      "    \"sequence_id\": \"ga4gh:SQ._0wi-qoDrvram155UmcSC-zA5ZK4fpLT\",\n",
      "    \"type\": \"SequenceLocation\"\n",
      "  },\n",
      "  \"state\": {\n",
      "    \"sequence\": \"A\",\n",
      "    \"type\": \"SequenceState\"\n",
      "  },\n",
      "  \"type\": \"Allele\"\n",
      "}\n"
     ]
    }
   ],
   "source": [
    "allele = models.Allele(**allele_dict)\n",
    "allele._id = ga4gh_identify(allele)\n",
    "allele.location._id = ga4gh_identify(allele.location)\n",
    "ppo(allele)"
   ]
  },
  {
   "cell_type": "markdown",
   "metadata": {},
   "source": [
    "## ga4gh_enref and ga4gh_deref using a Python dictionary"
   ]
  },
  {
   "cell_type": "code",
   "execution_count": 4,
   "metadata": {},
   "outputs": [],
   "source": [
    "object_store = {}"
   ]
  },
  {
   "cell_type": "code",
   "execution_count": 5,
   "metadata": {},
   "outputs": [
    {
     "name": "stdout",
     "output_type": "stream",
     "text": [
      "{\n",
      "  \"_id\": \"ga4gh:VA.mpIbo0Vv4HT-Oh3g5SWcuzAR2mue3yL-\",\n",
      "  \"location\": \"ga4gh:VSL.v9K0mcjQVugxTDIcdi7GBJ_R6fZ1lsYq\",\n",
      "  \"state\": {\n",
      "    \"sequence\": \"A\",\n",
      "    \"type\": \"SequenceState\"\n",
      "  },\n",
      "  \"type\": \"Allele\"\n",
      "}\n"
     ]
    }
   ],
   "source": [
    "allele_refd = ga4gh_enref(allele, cra_map=class_refatt_map, object_store=object_store)\n",
    "ppo(allele_refd)"
   ]
  },
  {
   "cell_type": "code",
   "execution_count": 6,
   "metadata": {},
   "outputs": [
    {
     "data": {
      "text/plain": [
       "{'ga4gh:VSL.v9K0mcjQVugxTDIcdi7GBJ_R6fZ1lsYq': <SequenceLocation _id=<Literal<str> ga4gh:VSL.v9K0mcjQVugxTDIcdi7GBJ_R6fZ1lsYq> interval=<SimpleInterval end=<Literal<int> 32936732> start=<Literal<int> 32936731> type=<Literal<str> SimpleInterval>> sequence_id=<Literal<str> ga4gh:SQ._0wi-qoDrvram155UmcSC-zA5ZK4fpLT> type=<Literal<str> SequenceLocation>>}"
      ]
     },
     "execution_count": 6,
     "metadata": {},
     "output_type": "execute_result"
    }
   ],
   "source": [
    "object_store"
   ]
  },
  {
   "cell_type": "code",
   "execution_count": 7,
   "metadata": {},
   "outputs": [
    {
     "data": {
      "text/plain": [
       "<SequenceLocation _id=<Literal<str> ga4gh:VSL.v9K0mcjQVugxTDIcdi7GBJ_R6fZ1lsYq> interval=<SimpleInterval end=<Literal<int> 32936732> start=<Literal<int> 32936731> type=<Literal<str> SimpleInterval>> sequence_id=<Literal<str> ga4gh:SQ._0wi-qoDrvram155UmcSC-zA5ZK4fpLT> type=<Literal<str> SequenceLocation>>"
      ]
     },
     "execution_count": 7,
     "metadata": {},
     "output_type": "execute_result"
    }
   ],
   "source": [
    "object_store[\"ga4gh:VSL.v9K0mcjQVugxTDIcdi7GBJ_R6fZ1lsYq\"]"
   ]
  },
  {
   "cell_type": "code",
   "execution_count": 8,
   "metadata": {},
   "outputs": [
    {
     "name": "stdout",
     "output_type": "stream",
     "text": [
      "{\n",
      "  \"_id\": \"ga4gh:VA.mpIbo0Vv4HT-Oh3g5SWcuzAR2mue3yL-\",\n",
      "  \"location\": {\n",
      "    \"_id\": \"ga4gh:VSL.v9K0mcjQVugxTDIcdi7GBJ_R6fZ1lsYq\",\n",
      "    \"interval\": {\n",
      "      \"end\": 32936732,\n",
      "      \"start\": 32936731,\n",
      "      \"type\": \"SimpleInterval\"\n",
      "    },\n",
      "    \"sequence_id\": \"ga4gh:SQ._0wi-qoDrvram155UmcSC-zA5ZK4fpLT\",\n",
      "    \"type\": \"SequenceLocation\"\n",
      "  },\n",
      "  \"state\": {\n",
      "    \"sequence\": \"A\",\n",
      "    \"type\": \"SequenceState\"\n",
      "  },\n",
      "  \"type\": \"Allele\"\n",
      "}\n"
     ]
    }
   ],
   "source": [
    "allele_inld = ga4gh_deref(allele_refd, cra_map=class_refatt_map, object_store=object_store)\n",
    "ppo(allele_inld)"
   ]
  },
  {
   "cell_type": "markdown",
   "metadata": {},
   "source": [
    "## ga4gh_enref and ga4gh_deref using a Redis database\n",
    "\n",
    "The RedisObjectStore provides a dict-like interface (i.e., a `collections.abc.MutableMapping` interface) backed by Redis."
   ]
  },
  {
   "cell_type": "code",
   "execution_count": 9,
   "metadata": {},
   "outputs": [],
   "source": [
    "import redis\n",
    "from ga4gh.vr.extras.redisobjectstore import RedisObjectStore"
   ]
  },
  {
   "cell_type": "code",
   "execution_count": 10,
   "metadata": {},
   "outputs": [],
   "source": [
    "ros = RedisObjectStore(redis=redis.Redis(db=15), models=models)"
   ]
  },
  {
   "cell_type": "code",
   "execution_count": 11,
   "metadata": {},
   "outputs": [
    {
     "data": {
      "text/plain": [
       "{'_id': 'ga4gh:VA.mpIbo0Vv4HT-Oh3g5SWcuzAR2mue3yL-',\n",
       " 'location': 'ga4gh:VSL.v9K0mcjQVugxTDIcdi7GBJ_R6fZ1lsYq',\n",
       " 'state': {'sequence': 'A', 'type': 'SequenceState'},\n",
       " 'type': 'Allele'}"
      ]
     },
     "execution_count": 11,
     "metadata": {},
     "output_type": "execute_result"
    }
   ],
   "source": [
    "allele_refd = ga4gh_enref(allele, cra_map=class_refatt_map, object_store=ros)\n",
    "allele_refd.as_dict()"
   ]
  },
  {
   "cell_type": "code",
   "execution_count": 12,
   "metadata": {},
   "outputs": [
    {
     "data": {
      "text/plain": [
       "{'_id': 'ga4gh:VA.mpIbo0Vv4HT-Oh3g5SWcuzAR2mue3yL-',\n",
       " 'location': {'_id': 'ga4gh:VSL.v9K0mcjQVugxTDIcdi7GBJ_R6fZ1lsYq',\n",
       "  'interval': {'end': 32936732, 'start': 32936731, 'type': 'SimpleInterval'},\n",
       "  'sequence_id': 'ga4gh:SQ._0wi-qoDrvram155UmcSC-zA5ZK4fpLT',\n",
       "  'type': 'SequenceLocation'},\n",
       " 'state': {'sequence': 'A', 'type': 'SequenceState'},\n",
       " 'type': 'Allele'}"
      ]
     },
     "execution_count": 12,
     "metadata": {},
     "output_type": "execute_result"
    }
   ],
   "source": [
    "allele_inld = ga4gh_deref(allele_refd, cra_map=class_refatt_map, object_store=ros)\n",
    "allele_inld.as_dict()"
   ]
  },
  {
   "cell_type": "code",
   "execution_count": 13,
   "metadata": {},
   "outputs": [],
   "source": [
    "# Other objects can be stored also\n",
    "ros[allele._id] = allele"
   ]
  },
  {
   "cell_type": "code",
   "execution_count": 14,
   "metadata": {},
   "outputs": [
    {
     "data": {
      "text/plain": [
       "['ga4gh:VA.mpIbo0Vv4HT-Oh3g5SWcuzAR2mue3yL-',\n",
       " 'ga4gh:VSL.v9K0mcjQVugxTDIcdi7GBJ_R6fZ1lsYq']"
      ]
     },
     "execution_count": 14,
     "metadata": {},
     "output_type": "execute_result"
    }
   ],
   "source": [
    "list(ros.keys())"
   ]
  },
  {
   "cell_type": "code",
   "execution_count": null,
   "metadata": {},
   "outputs": [],
   "source": []
  }
 ],
 "metadata": {
  "kernelspec": {
   "display_name": "Python 3",
   "language": "python",
   "name": "python3"
  },
  "language_info": {
   "codemirror_mode": {
    "name": "ipython",
    "version": 3
   },
   "file_extension": ".py",
   "mimetype": "text/x-python",
   "name": "python",
   "nbconvert_exporter": "python",
   "pygments_lexer": "ipython3",
   "version": "3.7.5"
  }
 },
 "nbformat": 4,
 "nbformat_minor": 2
}
