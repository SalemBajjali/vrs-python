{
 "cells": [
  {
   "cell_type": "markdown",
   "metadata": {},
   "source": [
    "# Abundance and Repeats Development Notebook\n",
    "\n",
    "This notebook demonstrates two new and related VRS concepts, Repeats and Abundance.  The corresponding schema \n",
    "(currently) exists only in the vr-spec develop branch. It also requires an up-to-date vrs-python package.\n",
    "\n",
    "## Repeats\n",
    "Repeats repesent tandem copies of any length (VRS does not specify arbitrary thresholds). Because they are tandem by definition, they are effectively an alternative representation for SequenceState Alleles. Therefore, they are implemented using an alternative RepeatState applied to a Location. Because they are Alleles, they apply to any valid Allele location.\n",
    "\n",
    "\n",
    "## Abundance\n",
    "Abundance is a systemic state that captures the amount of a \"subject\" location throughout the genome/transcriptome/proteome.\n",
    "\n",
    "Intended subjects are:\n",
    "* SequenceLocations\n",
    "* TranscriptLocations\n",
    "* ChromosomeLocations\n",
    "* GeneLocations (a quasi-location of a gene)\n",
    "\n",
    "Amounts may be:\n",
    "* Absolute copy count range\n",
    "* Relative copy count range, with reference\n",
    "* Qualitative copy count (e.g., \"greater than\"), with reference\n",
    "\n",
    "The intention is to allow all combinations of entities and amount specifications.\n",
    "\n",
    "Issues/questions:\n",
    "* What are possible references? \"diploid\" (incl female X), \"haploid\" (X, Y in males)"
   ]
  },
  {
   "cell_type": "code",
   "execution_count": 1,
   "metadata": {},
   "outputs": [],
   "source": [
    "from ga4gh.core import ga4gh_identify, ga4gh_serialize\n",
    "from ga4gh.vrs import models\n",
    "from nbsupport import ppo"
   ]
  },
  {
   "cell_type": "markdown",
   "metadata": {},
   "source": [
    "# New Location Classes"
   ]
  },
  {
   "cell_type": "markdown",
   "metadata": {},
   "source": [
    "## NestedInterval and SequenceLocations"
   ]
  },
  {
   "cell_type": "code",
   "execution_count": 2,
   "metadata": {},
   "outputs": [],
   "source": [
    "ni = models.NestedInterval(\n",
    "    inner = models.SimpleInterval(start=20, end=30),\n",
    "    outer = models.SimpleInterval(start=10, end=40)\n",
    ")"
   ]
  },
  {
   "cell_type": "code",
   "execution_count": 3,
   "metadata": {},
   "outputs": [
    {
     "name": "stdout",
     "output_type": "stream",
     "text": [
      "{\n",
      "  \"inner\": {\n",
      "    \"end\": 30,\n",
      "    \"start\": 20,\n",
      "    \"type\": \"SimpleInterval\"\n",
      "  },\n",
      "  \"outer\": {\n",
      "    \"end\": 40,\n",
      "    \"start\": 10,\n",
      "    \"type\": \"SimpleInterval\"\n",
      "  },\n",
      "  \"type\": \"NestedInterval\"\n",
      "}\n"
     ]
    }
   ],
   "source": [
    "ppo(ni)"
   ]
  },
  {
   "cell_type": "code",
   "execution_count": 4,
   "metadata": {},
   "outputs": [
    {
     "name": "stdout",
     "output_type": "stream",
     "text": [
      "{\n",
      "  \"inner\": {\n",
      "    \"end\": 30,\n",
      "    \"start\": 20,\n",
      "    \"type\": \"SimpleInterval\"\n",
      "  },\n",
      "  \"outer\": {\n",
      "    \"end\": null,\n",
      "    \"start\": null,\n",
      "    \"type\": \"SimpleInterval\"\n",
      "  },\n",
      "  \"type\": \"NestedInterval\"\n",
      "}\n"
     ]
    }
   ],
   "source": [
    "ni.outer.start = ni.outer.end = None\n",
    "ppo(ni)"
   ]
  },
  {
   "cell_type": "code",
   "execution_count": 5,
   "metadata": {},
   "outputs": [],
   "source": [
    "sl = models.SequenceLocation(\n",
    "    sequence_id = \"ga4gh:SQ.0123abcd\",\n",
    "    interval = ni)"
   ]
  },
  {
   "cell_type": "code",
   "execution_count": 6,
   "metadata": {},
   "outputs": [
    {
     "name": "stdout",
     "output_type": "stream",
     "text": [
      "{\n",
      "  \"interval\": {\n",
      "    \"inner\": {\n",
      "      \"end\": 30,\n",
      "      \"start\": 20,\n",
      "      \"type\": \"SimpleInterval\"\n",
      "    },\n",
      "    \"outer\": {\n",
      "      \"end\": null,\n",
      "      \"start\": null,\n",
      "      \"type\": \"SimpleInterval\"\n",
      "    },\n",
      "    \"type\": \"NestedInterval\"\n",
      "  },\n",
      "  \"sequence_id\": \"ga4gh:SQ.0123abcd\",\n",
      "  \"type\": \"SequenceLocation\"\n",
      "}\n"
     ]
    }
   ],
   "source": [
    "ppo(sl)"
   ]
  },
  {
   "cell_type": "code",
   "execution_count": 7,
   "metadata": {},
   "outputs": [
    {
     "data": {
      "text/plain": [
       "'ga4gh:VSL.QcNBGSvsJwz-J7LoT6BaH9ZyI_l0gKnd'"
      ]
     },
     "execution_count": 7,
     "metadata": {},
     "output_type": "execute_result"
    }
   ],
   "source": [
    "ga4gh_identify(sl)"
   ]
  },
  {
   "cell_type": "markdown",
   "metadata": {},
   "source": [
    "## GeneLocation\n",
    "\n",
    "GeneLocation is the conceptual location of an entire Gene.\n"
   ]
  },
  {
   "cell_type": "markdown",
   "metadata": {},
   "source": [
    "## TranscriptLocation"
   ]
  },
  {
   "cell_type": "markdown",
   "metadata": {},
   "source": [
    "# New Variation Classes"
   ]
  },
  {
   "cell_type": "markdown",
   "metadata": {},
   "source": [
    "## Repeats"
   ]
  },
  {
   "cell_type": "markdown",
   "metadata": {},
   "source": [
    "## Abundance"
   ]
  },
  {
   "cell_type": "code",
   "execution_count": 8,
   "metadata": {},
   "outputs": [
    {
     "data": {
      "text/plain": [
       "{'amount': {'min': 5, 'max': 10},\n",
       " 'location': {'interval': {'inner': {'end': 30,\n",
       "    'start': 20,\n",
       "    'type': 'SimpleInterval'},\n",
       "   'outer': {'end': None, 'start': None, 'type': 'SimpleInterval'},\n",
       "   'type': 'NestedInterval'},\n",
       "  'sequence_id': 'ga4gh:SQ.0123abcd',\n",
       "  'type': 'SequenceLocation'},\n",
       " 'type': 'Abundance'}"
      ]
     },
     "execution_count": 8,
     "metadata": {},
     "output_type": "execute_result"
    }
   ],
   "source": [
    "ab = models.Abundance(location=sl, amount={\"min\": 5, \"max\": 10})\n",
    "ab.as_dict()"
   ]
  },
  {
   "cell_type": "code",
   "execution_count": 9,
   "metadata": {},
   "outputs": [
    {
     "data": {
      "text/plain": [
       "'ga4gh:VAB.NPxwy8GeFWFktfuscbnsC2eTint0x3Bc'"
      ]
     },
     "execution_count": 9,
     "metadata": {},
     "output_type": "execute_result"
    }
   ],
   "source": [
    "ga4gh_identify(ab)"
   ]
  },
  {
   "cell_type": "code",
   "execution_count": null,
   "metadata": {},
   "outputs": [],
   "source": []
  }
 ],
 "metadata": {
  "kernelspec": {
   "display_name": "Python 3",
   "language": "python",
   "name": "python3"
  },
  "language_info": {
   "codemirror_mode": {
    "name": "ipython",
    "version": 3
   },
   "file_extension": ".py",
   "mimetype": "text/x-python",
   "name": "python",
   "nbconvert_exporter": "python",
   "pygments_lexer": "ipython3",
   "version": "3.8.5"
  },
  "toc": {
   "base_numbering": 1,
   "nav_menu": {},
   "number_sections": false,
   "sideBar": true,
   "skip_h1_title": false,
   "title_cell": "Table of Contents",
   "title_sidebar": "Contents",
   "toc_cell": false,
   "toc_position": {
    "height": "calc(100% - 180px)",
    "left": "10px",
    "top": "150px",
    "width": "241.594px"
   },
   "toc_section_display": true,
   "toc_window_display": true
  }
 },
 "nbformat": 4,
 "nbformat_minor": 4
}
