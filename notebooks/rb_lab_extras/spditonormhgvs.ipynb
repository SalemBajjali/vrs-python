{
 "cells": [
  {
   "cell_type": "code",
   "execution_count": 9,
   "metadata": {},
   "outputs": [],
   "source": [
    "from ga4gh.vrs.utils.hgvs_tools import HgvsTools\n",
    "from bioutils.accessions import coerce_namespace\n",
    "import hgvs.parser\n",
    "import hgvs.location\n",
    "import hgvs.posedit\n",
    "import hgvs.edit\n",
    "import hgvs.sequencevariant\n",
    "import hgvs.dataproviders.uta"
   ]
  },
  {
   "cell_type": "code",
   "execution_count": 1,
   "metadata": {},
   "outputs": [
    {
     "name": "stderr",
     "output_type": "stream",
     "text": [
      "Removing allOf attribute from AbsoluteCopyNumber to avoid python-jsonschema-objects error.\n",
      "Removing allOf attribute from SequenceInterval to avoid python-jsonschema-objects error.\n",
      "Removing allOf attribute from RepeatedSequenceExpression to avoid python-jsonschema-objects error.\n",
      "/infodev1/cim/Salem/miniconda3vrs/envs/vrsproject/lib/python3.9/site-packages/python_jsonschema_objects/__init__.py:49: UserWarning: Schema version http://json-schema.org/draft-07/schema not recognized. Some keywords and features may not be supported.\n",
      "  warnings.warn(\n"
     ]
    }
   ],
   "source": [
    "from ga4gh.vrs.dataproxy import SeqRepoRESTDataProxy\n",
    "from biocommons.seqrepo import SeqRepo\n",
    "\n",
    "seqrepo_rest_service_url = \"https://services.genomicmedlab.org/seqrepo\"\n",
    "dp = SeqRepoRESTDataProxy(base_url=seqrepo_rest_service_url)"
   ]
  },
  {
   "cell_type": "code",
   "execution_count": 2,
   "metadata": {},
   "outputs": [],
   "source": [
    "example = 'NC_000016.10:1510991:GG:G'"
   ]
  },
  {
   "cell_type": "code",
   "execution_count": 16,
   "metadata": {},
   "outputs": [],
   "source": [
    "def ir_stype(a):\n",
    "    if a.startswith(\"refseq:NM_\"):\n",
    "        return \"n\"\n",
    "    if a.startswith(\"refseq:NP_\"):\n",
    "        return \"p\"\n",
    "    if a.startswith(\"refseq:NG_\"):\n",
    "        return \"g\"\n",
    "    if a.startswith(\"refseq:NC_\"):\n",
    "        return \"g\"\n",
    "    if a.startswith(\"GRCh\"):\n",
    "        return \"g\"\n",
    "    return None"
   ]
  },
  {
   "cell_type": "code",
   "execution_count": 3,
   "metadata": {},
   "outputs": [],
   "source": [
    "sequence_id = 'NC_000016.10'\n",
    "start, end = 1510991-10, 1510991+10"
   ]
  },
  {
   "cell_type": "code",
   "execution_count": null,
   "metadata": {},
   "outputs": [],
   "source": [
    "dp.get_sequence(sequence_id,start,end)"
   ]
  },
  {
   "cell_type": "code",
   "execution_count": 5,
   "metadata": {},
   "outputs": [],
   "source": [
    "if start == end:    # insert: hgvs uses *exclusive coords*\n",
    "    ref = None\n",
    "    end += 1\n",
    "else:               # else: hgvs uses *inclusive coords*\n",
    "    ref = dp.get_sequence(sequence_id, start, end)\n",
    "    start += 1"
   ]
  },
  {
   "cell_type": "code",
   "execution_count": 6,
   "metadata": {},
   "outputs": [
    {
     "name": "stdout",
     "output_type": "stream",
     "text": [
      "NC_000016.10 1510982 1511001\n"
     ]
    }
   ],
   "source": [
    "print(sequence_id,start,end)"
   ]
  },
  {
   "cell_type": "code",
   "execution_count": 11,
   "metadata": {},
   "outputs": [
    {
     "name": "stdout",
     "output_type": "stream",
     "text": [
      "1510982_1511001\n"
     ]
    }
   ],
   "source": [
    "ival = hgvs.location.Interval(\n",
    "    start=hgvs.location.SimplePosition(base=start),\n",
    "    end=hgvs.location.SimplePosition(base=end))\n",
    "print(ival)"
   ]
  },
  {
   "cell_type": "code",
   "execution_count": 13,
   "metadata": {},
   "outputs": [
    {
     "name": "stdout",
     "output_type": "stream",
     "text": [
      "del\n"
     ]
    }
   ],
   "source": [
    "# TODO: checking what the state of the mutaiton is. because im trying to do something different than vrs i need to figure out how to do it. \n",
    "# alt = str(vo.state.sequence) or None  # \"\" => None\n",
    "\n",
    "edit = hgvs.edit.NARefAlt(ref=ref, alt=None)\n",
    "print(edit)"
   ]
  },
  {
   "cell_type": "code",
   "execution_count": 14,
   "metadata": {},
   "outputs": [],
   "source": [
    "posedit = hgvs.posedit.PosEdit(pos=ival, edit=edit)\n",
    "var = hgvs.sequencevariant.SequenceVariant(\n",
    "    ac=None,\n",
    "    type='stype',\n",
    "    posedit=posedit)\n"
   ]
  },
  {
   "cell_type": "code",
   "execution_count": 15,
   "metadata": {},
   "outputs": [
    {
     "name": "stdout",
     "output_type": "stream",
     "text": [
      "1510982_1511001del\n",
      "g.1510982_1511001del\n"
     ]
    }
   ],
   "source": [
    "print(posedit)\n",
    "print(var)"
   ]
  },
  {
   "cell_type": "code",
   "execution_count": 21,
   "metadata": {},
   "outputs": [],
   "source": [
    "from ga4gh.vrs.extras.translator import Translator\n",
    "tlr = Translator(data_proxy=dp,\n",
    "                 translate_sequence_identifiers=True,  # default\n",
    "                 normalize=True,                       # default\n",
    "                 identify=True)                        # default"
   ]
  },
  {
   "cell_type": "code",
   "execution_count": 26,
   "metadata": {},
   "outputs": [
    {
     "name": "stdout",
     "output_type": "stream",
     "text": [
      "[]\n"
     ]
    }
   ],
   "source": [
    "namespace = 'refseq'\n",
    "hgvs_exprs = []\n",
    "for alias in dp.translate_sequence_identifier(sequence_id,'hgvs'):\n",
    "    ns, a = alias.split(\":\")\n",
    "    # skip GRCh accessions unless specifically requested\n",
    "    # because they are ambiguous without their namespace,\n",
    "    # which can't be included in HGVS expressions\n",
    "    # TODO: use default_assembly_name here\n",
    "    if ns.startswith(\"GRC\") and namespace is None:\n",
    "        continue\n",
    "\n",
    "    if not (any(a.startswith(pfx) for pfx in (\"NM\", \"NP\", \"NC\", \"NG\"))):\n",
    "        continue\n",
    "\n",
    "    var.ac = a\n",
    "\n",
    "    try:\n",
    "        if not namespace.startswith(\"GRC\"):\n",
    "            # if the namespace is GRC, can't normalize, since hgvs can't deal with it\n",
    "            hgvs_tools = tlr._get_hgvs_tools()\n",
    "            parsed = hgvs_tools.parse(str(var))\n",
    "            var = hgvs_tools.normalize(parsed)\n",
    "\n",
    "        hgvs_exprs += [str(var)]\n",
    "    except hgvs.exceptions.HGVSDataNotAvailableError:\n",
    "        print(f\"No data found for accession {a}\")\n",
    "\n",
    "print(hgvs_exprs) "
   ]
  },
  {
   "cell_type": "code",
   "execution_count": null,
   "metadata": {},
   "outputs": [],
   "source": []
  }
 ],
 "metadata": {
  "kernelspec": {
   "display_name": "vrsproject",
   "language": "python",
   "name": "python3"
  },
  "language_info": {
   "codemirror_mode": {
    "name": "ipython",
    "version": 3
   },
   "file_extension": ".py",
   "mimetype": "text/x-python",
   "name": "python",
   "nbconvert_exporter": "python",
   "pygments_lexer": "ipython3",
   "version": "3.9.0"
  },
  "orig_nbformat": 4,
  "vscode": {
   "interpreter": {
    "hash": "56f07a5380f7b0d56c2c6b05df547d12669f1587ac652dca84424c7aa32eca36"
   }
  }
 },
 "nbformat": 4,
 "nbformat_minor": 2
}
