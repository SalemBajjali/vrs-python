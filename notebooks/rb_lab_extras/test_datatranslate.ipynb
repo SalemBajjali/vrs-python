{
 "cells": [
  {
   "cell_type": "markdown",
   "metadata": {},
   "source": [
    "import hgvs\n",
    "from hgvs.easy import *\n",
    "https://stackoverflow.com/questions/62807717/how-can-i-solve-postgresql-scram-authentication-problem"
   ]
  },
  {
   "cell_type": "code",
   "execution_count": null,
   "metadata": {},
   "outputs": [],
   "source": [
    "# resources \n",
    "# https://github.com/ga4gh/vrs-python/blob/a40fa88f75983fc65ec8da92d044bff67b307175/notebooks/HGVS%20Translation.ipynb\n",
    "# https://github.com/ga4gh/vrs-python/blob/main/notebooks/Extras.ipynb\n",
    "# https://github.com/ga4gh/vrs-python/blob/a23bfcb41176e702523e5f457cf28cc8087f2fd4/src/ga4gh/vrs/extras/variation_normalizer_rest_dp.py"
   ]
  },
  {
   "cell_type": "code",
   "execution_count": null,
   "metadata": {},
   "outputs": [
    {
     "ename": "",
     "evalue": "",
     "output_type": "error",
     "traceback": [
      "\u001b[1;31mFailed to start the Kernel. \n",
      "\u001b[1;31mActivating extension 'ms-python.python' failed: TelemetrySender.sendEventData must be a function. \n",
      "\u001b[1;31mView Jupyter <a href='command:jupyter.viewOutput'>log</a> for further details."
     ]
    }
   ],
   "source": [
    "from ga4gh.vrs import __version__, models, normalize\n",
    "from ga4gh.core import ga4gh_digest, ga4gh_identify, ga4gh_serialize\n",
    "from ga4gh.vrs.dataproxy import SeqRepoRESTDataProxy\n",
    "from biocommons.seqrepo import SeqRepo\n",
    "import json\n",
    "from ga4gh.vrs.extras.variation_normalizer_rest_dp import VariationNormalizerRESTDataProxy\n",
    "from variation_services_rest_db import VariationServicesRESTDataProxy\n",
    "vnorm = VariationNormalizerRESTDataProxy()\n",
    "vs = VariationServicesRESTDataProxy()"
   ]
  },
  {
   "cell_type": "code",
   "execution_count": null,
   "metadata": {},
   "outputs": [],
   "source": [
    "def pjson(o, indent=2):\n",
    "    \"\"\"pretty print object as json\"\"\"\n",
    "    return json.dumps(o.as_dict(), sort_keys=True, indent=indent)"
   ]
  },
  {
   "cell_type": "code",
   "execution_count": null,
   "metadata": {},
   "outputs": [],
   "source": [
    "def ppo(o, indent=2):\n",
    "    \"\"\"pretty print object as json\"\"\"\n",
    "    return json.dumps(o.as_dict(), sort_keys=True, indent=indent)"
   ]
  },
  {
   "cell_type": "code",
   "execution_count": 5,
   "metadata": {},
   "outputs": [],
   "source": [
    "seqrepo_rest_service_url = \"https://services.genomicmedlab.org/seqrepo\"\n",
    "dp = SeqRepoRESTDataProxy(base_url=seqrepo_rest_service_url)"
   ]
  },
  {
   "cell_type": "code",
   "execution_count": 3,
   "metadata": {},
   "outputs": [],
   "source": [
    "from ga4gh.vrs.extras.translator import Translator\n",
    "tlr = Translator(data_proxy=dp,\n",
    "                 translate_sequence_identifiers=True,  # default\n",
    "                 normalize=True,                       # default\n",
    "                 identify=True)                        # default"
   ]
  },
  {
   "cell_type": "code",
   "execution_count": null,
   "metadata": {},
   "outputs": [],
   "source": [
    "# input SPDI nomenclature \n",
    "#spdi_ex = 'NC_000006.12:31574704:C:T' # other example \"NC_000006.12:31574704:C:T\", NC_000019.10:44908821:1:T\n",
    "# spdi_exprs =[\n",
    "#     \"NC_000017.11:7674796:T:A\", # TP53\n",
    "#     \"NC_000006.12:31574704:C:T\", # TNF \n",
    "#     \"NC_000019.10:44908821:C:T\", # APOE\n",
    "#     \"NC_000019.10:41354681:C:T\" # TGFB1 \n",
    "# ] "
   ]
  },
  {
   "cell_type": "code",
   "execution_count": null,
   "metadata": {},
   "outputs": [],
   "source": [
    "# test = 'NG_012345.1,4,1,'\n",
    "# refseq,pos,ref,alt = test.split(',')\n",
    "# spdi_test_example = '{}:{}:{}:{}'.format(refseq,pos,ref,alt)\n",
    "# print(spdi_test_example)"
   ]
  },
  {
   "cell_type": "code",
   "execution_count": null,
   "metadata": {},
   "outputs": [],
   "source": [
    "#allele = tlr.translate_from(spdi_test_example)\n",
    "# # output VRS-Allele-Object\n",
    "# allele.as_dict()"
   ]
  },
  {
   "cell_type": "code",
   "execution_count": null,
   "metadata": {},
   "outputs": [],
   "source": [
    "# not this method is replacing translate_to\n",
    "# HGVS Normalized\n",
    "# vnorm.to_hgvs(allele, 'refseq')"
   ]
  },
  {
   "cell_type": "code",
   "execution_count": 4,
   "metadata": {},
   "outputs": [],
   "source": [
    "import csv\n",
    "# Load the test_spdi table\n",
    "with open('/infodev1/cim/Salem/ga4ghprojects/vrs-python/notebooks/data/spdi_test_data.csv', 'r') as f:\n",
    "    reader = csv.reader(f)\n",
    "    spdi_id_list = []\n",
    "    for row in reader:\n",
    "        records = spdi_id_list.append(':'.join(row))\n",
    "\n",
    "header = spdi_id_list.pop(0)\n"
   ]
  },
  {
   "cell_type": "code",
   "execution_count": null,
   "metadata": {},
   "outputs": [],
   "source": [
    "# def ppo(o):\n",
    "#     \"\"\"pretty print object as json\"\"\"\n",
    "#     print(json.dumps(o.as_dict(), indent=2))\n",
    "\n",
    "# alleles = []\n",
    "# vrs_id = []\n",
    "# vrs_alleles = []\n",
    "# for expr in spdi_id_list:\n",
    "#     try:\n",
    "#         trans = tlr.translate_from(expr)\n",
    "#         alleles.append(trans)\n",
    "#         vrs_id.append(ga4gh_identify(trans))\n",
    "#         vrs_alleles.append(pjson(trans))\n",
    "#         #print(vrs_id, pjson(trans), sep = '\\n')\n",
    "#     except:\n",
    "#         #print('{0} {1}'.format('ERROR in the syntext',expr))\n",
    "#         alleles.append('{0} {1}'.format('ERROR in the syntext',expr))"
   ]
  },
  {
   "cell_type": "code",
   "execution_count": 5,
   "metadata": {},
   "outputs": [
    {
     "data": {
      "text/plain": [
       "['NG_012345.1:4:1:T',\n",
       " 'NG_012345.1:4:1:',\n",
       " 'NG_012345.1:4:0:T',\n",
       " 'NG_012345::0:T',\n",
       " 'NC_000010.11:87925523:C:G']"
      ]
     },
     "execution_count": 5,
     "metadata": {},
     "output_type": "execute_result"
    }
   ],
   "source": [
    "spdi_id_list"
   ]
  },
  {
   "cell_type": "code",
   "execution_count": 9,
   "metadata": {},
   "outputs": [
    {
     "name": "stdout",
     "output_type": "stream",
     "text": [
      "['NG_012345.1:g.5G>T', 'NG_012345.1:g.5del', 'NG_012345.1:g.4_5insT', 'ERROR in the syntext NG_012345::0:T', 'NC_000010.11:g.87925524C>G']\n"
     ]
    }
   ],
   "source": [
    "rshifthgvs = []\n",
    "\n",
    "for spdi_expr in spdi_id_list:\n",
    "    try: \n",
    "        # Converting a allele in SPDI syntax to the right-shifted HGVS notation\n",
    "        rshifthgvs.append(vs.spdi2hgvs(spdi_expr))\n",
    "    except: \n",
    "        rshifthgvs.append('{0} {1}'.format('ERROR in the syntext',spdi_expr))\n",
    "\n",
    "print(rshifthgvs)"
   ]
  },
  {
   "cell_type": "code",
   "execution_count": null,
   "metadata": {},
   "outputs": [],
   "source": [
    "alleles = []\n",
    "\n",
    "for expr in spdi_id_list:\n",
    "    try:\n",
    "        trans = tlr.translate_from(expr)\n",
    "        #vrs_allele_dict[ga4gh_identify(trans)] = pjson(trans)\n",
    "        alleles.append(trans)\n",
    "        #print(vrs_id, pjson(trans), sep = '\\n')\n",
    "    except:\n",
    "        #print('{0} {1}'.format('ERROR in the syntext',expr))\n",
    "        alleles.append('{0} {1}'.format('ERROR in the syntext',expr))\n",
    "        #vrs_allele_dict[\"ERROR in the syntext\"] = expr\n",
    "print(alleles)"
   ]
  },
  {
   "cell_type": "code",
   "execution_count": null,
   "metadata": {},
   "outputs": [],
   "source": [
    "vrs_allele_dict = {}\n",
    "\n",
    "for expr in spdi_id_list:\n",
    "    try:\n",
    "        trans = tlr.translate_from(expr)\n",
    "        # TODO: make sure this json.dumps is actually working\n",
    "        vrs_allele_dict[ga4gh_identify(trans)] = json.dumps(trans.as_dict())\n",
    "    except:\n",
    "        vrs_allele_dict[\"ERROR in the syntext\"] = expr\n",
    "\n",
    "print(vrs_allele_dict.keys())"
   ]
  },
  {
   "cell_type": "code",
   "execution_count": null,
   "metadata": {},
   "outputs": [],
   "source": [
    "norm_hgvs_exprs = []\n",
    "for allele in alleles:\n",
    "    if isinstance(allele, str):\n",
    "        norm_hgvs_exprs.append('[{0} {1}]'.format('ERROR in the syntext',expr))\n",
    "    else: \n",
    "        vrs_allele = vnorm.to_hgvs(allele, 'refseq')\n",
    "        norm_hgvs_exprs.append(vrs_allele)\n",
    "        \n",
    "print(norm_hgvs_exprs)"
   ]
  },
  {
   "cell_type": "code",
   "execution_count": null,
   "metadata": {},
   "outputs": [],
   "source": [
    "# spdi_id_list,vrs_allele_dict.keys(),vrs_allele_dict,rshifthgvs,norm_hgvs_exprs"
   ]
  },
  {
   "cell_type": "code",
   "execution_count": null,
   "metadata": {},
   "outputs": [],
   "source": [
    "# print(norm_hgvs_exprs)"
   ]
  },
  {
   "cell_type": "code",
   "execution_count": null,
   "metadata": {},
   "outputs": [],
   "source": [
    "print( len(alleles),len(vrs_allele_dict.keys()), len(norm_hgvs_exprs) )"
   ]
  },
  {
   "cell_type": "code",
   "execution_count": null,
   "metadata": {},
   "outputs": [],
   "source": [
    "import pandas as pd\n",
    "\n",
    "mydict = {'spdi_expression': spdi_id_list,\n",
    "          #'ga4gh_identifier': vrs_allele_dict.keys(),\n",
    "        'rightshift_hgvs_expression': rshifthgvs, \n",
    "        'normalized_hgvs_expressions': norm_hgvs_exprs}\n",
    "\n",
    "\n",
    "df1 = pd.DataFrame(mydict)\n",
    " \n",
    "df1"
   ]
  },
  {
   "cell_type": "code",
   "execution_count": null,
   "metadata": {},
   "outputs": [],
   "source": [
    "df2 = pd.DataFrame(vrs_allele_dict.items(), columns=['ga4gh_id','vrs_allele_obejct'])\n",
    "df2"
   ]
  },
  {
   "cell_type": "code",
   "execution_count": null,
   "metadata": {},
   "outputs": [],
   "source": [
    "frames = [df1, df2]\n",
    "\n",
    "result = pd.concat(frames,axis = 1)"
   ]
  },
  {
   "cell_type": "code",
   "execution_count": null,
   "metadata": {},
   "outputs": [],
   "source": [
    "look in to this"
   ]
  },
  {
   "cell_type": "code",
   "execution_count": null,
   "metadata": {},
   "outputs": [],
   "source": [
    "from IPython.display import HTML, display\n",
    "import tabulate"
   ]
  },
  {
   "cell_type": "code",
   "execution_count": null,
   "metadata": {},
   "outputs": [],
   "source": [
    "# Translator with default behaviors disabled\n",
    "tlr2 = Translator(data_proxy=dp,\n",
    "                  translate_sequence_identifiers=True,\n",
    "                  normalize=False,\n",
    "                  identify=False)"
   ]
  },
  {
   "cell_type": "code",
   "execution_count": null,
   "metadata": {},
   "outputs": [],
   "source": [
    "hgvs_expr_test = 'NG_012345.1:g.5G>T'\n",
    "header = \"normalize= sequence_id interval alt hgvs\".split()\n",
    "table = [header]\n",
    "for normalize in (False, True):\n",
    "    tlr2.normalize = normalize\n",
    "    a = tlr2.translate_from(hgvs_expr_test, \"hgvs\")\n",
    "    row = [tlr2.normalize,\n",
    "           a.location.sequence_id,\n",
    "           f\"{a.location.interval.start.value},{a.location.interval.end.value}\",\n",
    "           a.state.sequence,\n",
    "           #tlr2.translate_to(a, 'hgvs')[0]\n",
    "           vnorm.to_hgvs(a)[0]\n",
    "          ]\n",
    "    table += [row]\n",
    "display(HTML(tabulate.tabulate(table, tablefmt='html')))"
   ]
  },
  {
   "cell_type": "code",
   "execution_count": null,
   "metadata": {},
   "outputs": [],
   "source": [
    "# result.to_csv('/infodev1/cim/Salem/ga4ghprojects/vrs-python/notebooks/data/output_test.csv') "
   ]
  },
  {
   "cell_type": "code",
   "execution_count": null,
   "metadata": {},
   "outputs": [],
   "source": [
    "#print(json.dumps(df2.vrs_allele_obejct[0]))"
   ]
  },
  {
   "cell_type": "code",
   "execution_count": null,
   "metadata": {},
   "outputs": [],
   "source": [
    "# norm_hgvs_exprs = []\n",
    "# for allele in alleles:\n",
    "#     if type(allele) == \"abc.Allele\":\n",
    "#         vrs_allele = vnorm.to_hgvs(allele, 'refseq')\n",
    "#         norm_hgvs_exprs.append(vrs_allele)\n",
    "#         print(vrs_allele)\n",
    "#     else: \n",
    "#          norm_hgvs_exprs.append(allele)"
   ]
  }
 ],
 "metadata": {
  "kernelspec": {
   "display_name": "vrsproject",
   "language": "python",
   "name": "python3"
  },
  "language_info": {
   "codemirror_mode": {
    "name": "ipython",
    "version": 3
   },
   "file_extension": ".py",
   "mimetype": "text/x-python",
   "name": "python",
   "nbconvert_exporter": "python",
   "pygments_lexer": "ipython3",
   "version": "3.9.0"
  },
  "orig_nbformat": 4,
  "vscode": {
   "interpreter": {
    "hash": "56f07a5380f7b0d56c2c6b05df547d12669f1587ac652dca84424c7aa32eca36"
   }
  }
 },
 "nbformat": 4,
 "nbformat_minor": 2
}
