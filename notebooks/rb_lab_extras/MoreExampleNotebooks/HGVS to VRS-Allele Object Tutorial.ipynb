{
 "cells": [
  {
   "cell_type": "markdown",
   "id": "7cd095cb",
   "metadata": {},
   "source": [
    "# This notebook will break down how to convert HGVS nomenclature to VRS-Allele Objects"
   ]
  },
  {
   "cell_type": "code",
   "execution_count": 8,
   "id": "6d7779fe",
   "metadata": {},
   "outputs": [],
   "source": [
    "from ga4gh.core import sha512t24u\n",
    "from ga4gh.core import ga4gh_digest, ga4gh_identify, ga4gh_serialize\n",
    "from ga4gh.vrs import __version__, models\n",
    "from ga4gh.vrs.dataproxy import SeqRepoRESTDataProxy\n",
    "import json\n",
    "from ga4gh.vrs.extras.translator import Translator"
   ]
  },
  {
   "cell_type": "code",
   "execution_count": 9,
   "id": "c5844776",
   "metadata": {},
   "outputs": [],
   "source": [
    "def ppo(o, indent=2):\n",
    "    \"\"\"pretty print object as json\"\"\"\n",
    "    print(json.dumps(o.as_dict(), sort_keys=True, indent=indent))\n",
    "def pjson(o, indent=2):\n",
    "    \"\"\"pretty print object as json\"\"\"\n",
    "    return json.dumps(o.as_dict(), sort_keys=True, indent=indent)"
   ]
  },
  {
   "cell_type": "code",
   "execution_count": 10,
   "id": "2021038d",
   "metadata": {},
   "outputs": [],
   "source": [
    "# Requires seqrepo REST interface is running on this URL (e.g., using docker image)\n",
    "seqrepo_rest_service_url = \"https://services.genomicmedlab.org/seqrepo\"\n",
    "dp = SeqRepoRESTDataProxy(base_url=seqrepo_rest_service_url)"
   ]
  },
  {
   "cell_type": "code",
   "execution_count": 11,
   "id": "a93ed3a9",
   "metadata": {},
   "outputs": [],
   "source": [
    "tlr = Translator(data_proxy=dp,\n",
    "                 translate_sequence_identifiers=True,  # default\n",
    "                 normalize=True,                       # default\n",
    "                 identify=False)                        # default\n",
    "\n"
   ]
  },
  {
   "cell_type": "code",
   "execution_count": 12,
   "id": "d6c0b98e",
   "metadata": {},
   "outputs": [],
   "source": [
    "# list of hgvs expressions\n",
    "hgvs_exprs = [\n",
    "    \"NC_000013.11:g.32936732C=\",\n",
    "    #\"NC_000007.14:g.55181320A>T\",\n",
    "    \"NC_000007.14\",\n",
    "    \"NC_000007.14:g.55181220del\",\n",
    "    \"NC_000007.14:g.55181230_55181231insGGCT\"]\n",
    "\n",
    "\n",
    "\n",
    "\n",
    "\n",
    "# \"NC_000013 . 11 : g . 32936732 C = \""
   ]
  },
  {
   "cell_type": "code",
   "execution_count": 13,
   "id": "856cf1e7",
   "metadata": {},
   "outputs": [
    {
     "name": "stdout",
     "output_type": "stream",
     "text": [
      "ga4gh:VA.DkZLLMnwoH6zIncSRh2c05nzCNLdTqHl\n",
      "{\n",
      "  \"location\": {\n",
      "    \"interval\": {\n",
      "      \"end\": {\n",
      "        \"type\": \"Number\",\n",
      "        \"value\": 32936732\n",
      "      },\n",
      "      \"start\": {\n",
      "        \"type\": \"Number\",\n",
      "        \"value\": 32936731\n",
      "      },\n",
      "      \"type\": \"SequenceInterval\"\n",
      "    },\n",
      "    \"sequence_id\": \"ga4gh:SQ._0wi-qoDrvram155UmcSC-zA5ZK4fpLT\",\n",
      "    \"type\": \"SequenceLocation\"\n",
      "  },\n",
      "  \"state\": {\n",
      "    \"sequence\": \"C\",\n",
      "    \"type\": \"LiteralSequenceExpression\"\n",
      "  },\n",
      "  \"type\": \"Allele\"\n",
      "}\n",
      "ERROR in the syntext NC_000007.14\n",
      "ga4gh:VA.h6WuolTwZJYZh86qP2a8YVA1WXpHuY_X\n",
      "{\n",
      "  \"location\": {\n",
      "    \"interval\": {\n",
      "      \"end\": {\n",
      "        \"type\": \"Number\",\n",
      "        \"value\": 55181220\n",
      "      },\n",
      "      \"start\": {\n",
      "        \"type\": \"Number\",\n",
      "        \"value\": 55181219\n",
      "      },\n",
      "      \"type\": \"SequenceInterval\"\n",
      "    },\n",
      "    \"sequence_id\": \"ga4gh:SQ.F-LrLMe1SRpfUZHkQmvkVKFEGaoDeHul\",\n",
      "    \"type\": \"SequenceLocation\"\n",
      "  },\n",
      "  \"state\": {\n",
      "    \"sequence\": \"\",\n",
      "    \"type\": \"LiteralSequenceExpression\"\n",
      "  },\n",
      "  \"type\": \"Allele\"\n",
      "}\n",
      "ga4gh:VA.JKGCs07cFu2wlDydCAe2ea06jMFXyK56\n",
      "{\n",
      "  \"location\": {\n",
      "    \"interval\": {\n",
      "      \"end\": {\n",
      "        \"type\": \"Number\",\n",
      "        \"value\": 55181230\n",
      "      },\n",
      "      \"start\": {\n",
      "        \"type\": \"Number\",\n",
      "        \"value\": 55181230\n",
      "      },\n",
      "      \"type\": \"SequenceInterval\"\n",
      "    },\n",
      "    \"sequence_id\": \"ga4gh:SQ.F-LrLMe1SRpfUZHkQmvkVKFEGaoDeHul\",\n",
      "    \"type\": \"SequenceLocation\"\n",
      "  },\n",
      "  \"state\": {\n",
      "    \"sequence\": \"GGCT\",\n",
      "    \"type\": \"LiteralSequenceExpression\"\n",
      "  },\n",
      "  \"type\": \"Allele\"\n",
      "}\n"
     ]
    }
   ],
   "source": [
    "for expr in hgvs_exprs:\n",
    "    try:\n",
    "        trans = tlr.translate_from(expr)\n",
    "        vrs_id = ga4gh_identify(trans)\n",
    "        print(vrs_id, pjson(trans), sep = '\\n')\n",
    "    except:\n",
    "        print('{0} {1}'.format('ERROR in the syntext',expr,))\n",
    "\n"
   ]
  },
  {
   "cell_type": "code",
   "execution_count": 15,
   "id": "debd7794",
   "metadata": {},
   "outputs": [],
   "source": [
    "import hgvs"
   ]
  },
  {
   "cell_type": "code",
   "execution_count": null,
   "id": "24427e81",
   "metadata": {},
   "outputs": [],
   "source": [
    "sequence"
   ]
  }
 ],
 "metadata": {
  "kernelspec": {
   "display_name": "vrsproject",
   "language": "python",
   "name": "python3"
  },
  "language_info": {
   "codemirror_mode": {
    "name": "ipython",
    "version": 3
   },
   "file_extension": ".py",
   "mimetype": "text/x-python",
   "name": "python",
   "nbconvert_exporter": "python",
   "pygments_lexer": "ipython3",
   "version": "3.9.0"
  },
  "toc": {
   "base_numbering": 1,
   "nav_menu": {},
   "number_sections": true,
   "sideBar": true,
   "skip_h1_title": false,
   "title_cell": "Table of Contents",
   "title_sidebar": "Contents",
   "toc_cell": false,
   "toc_position": {},
   "toc_section_display": true,
   "toc_window_display": false
  },
  "vscode": {
   "interpreter": {
    "hash": "56f07a5380f7b0d56c2c6b05df547d12669f1587ac652dca84424c7aa32eca36"
   }
  }
 },
 "nbformat": 4,
 "nbformat_minor": 5
}
