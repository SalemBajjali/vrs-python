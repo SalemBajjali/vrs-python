{
 "cells": [
  {
   "cell_type": "code",
   "execution_count": null,
   "metadata": {},
   "outputs": [],
   "source": [
    "# https://github.com/ncbi/dbsnp/blob/master/tutorials/Variation%20Services/Jupyter_Notebook/spdi_batch.ipynb\n",
    "\n",
    "# import requests\n",
    "# import json\n",
    "# import sys"
   ]
  },
  {
   "cell_type": "code",
   "execution_count": null,
   "metadata": {},
   "outputs": [],
   "source": [
    "#api_rootURL = 'https://api.ncbi.nlm.nih.gov/variation/v0/'"
   ]
  },
  {
   "cell_type": "code",
   "execution_count": null,
   "metadata": {},
   "outputs": [],
   "source": [
    "# def apiRequest(url):\n",
    "#     try:\n",
    "#         r = requests.get(url)\n",
    "#     except requests.exceptions.Timeout:\n",
    "#         # Maybe set up for a retry, or continue in a retry loop\n",
    "#         print(\"ERROR: Timeout\")\n",
    "#     except requests.exceptions.TooManyRedirects:\n",
    "#         # Tell the user their URL was bad and try a different one\n",
    "#         print(\"ERROR: bad url =\" + url)\n",
    "#     except requests.exceptions.RequestException as e:\n",
    "#         # catastrophic error. bail.\n",
    "#         print(e)\n",
    "#         sys.exit(1)\n",
    "#     if (r.status_code == 200):\n",
    "#         return r\n",
    "#     else:\n",
    "#         print(\"ERROR: status code = \" + str(r.status_code))\n",
    "#         return None\n",
    "    \n",
    "# def req2spdi(req):\n",
    "#     reqjson = json.loads(req.text)\n",
    "#     spdiobj = reqjson['data']['spdis'][0]\n",
    "#     spdi = ':'.join([\n",
    "#         spdiobj['seq_id'],\n",
    "#         str(spdiobj['position']),\n",
    "#         spdiobj['deleted_sequence'],\n",
    "#         spdiobj['inserted_sequence']])\n",
    "#     return spdi\n",
    "    \n",
    "# usefull when you want want to compare spdi and hgvs expression. can be done in a list or VCF file.\n",
    "# def batchHGVS(infile, handler=0):\n",
    "#     for hgvs in infile:\n",
    "#         hgvs = hgvs.rstrip()\n",
    "#         url = api_rootURL + 'hgvs/' + hgvs + '/contextuals'\n",
    "#         req = apiRequest(url)\n",
    "#         if req and handler:\n",
    "#             handler(hgvs, req)\n",
    "#         elif req:\n",
    "#             spdi = req2spdi(req)\n",
    "#             print(hgvs + \"\\t\" + spdi)\n",
    "\n",
    "# just one inpute \n",
    "# def batchHGVS():\n",
    "#     expression = expr.rstrip()\n",
    "#     #url = f\"{api_rootURL} + 'hgvs/' + {expression} + '/contextuals' \" \n",
    "#     url = api_rootURL + 'hgvs/' + expression + '/contextuals'\n",
    "#     req = apiRequest(url)\n",
    "#     if req: \n",
    "#         print(expression)"
   ]
  },
  {
   "cell_type": "code",
   "execution_count": null,
   "metadata": {},
   "outputs": [],
   "source": [
    "# This works dont touch!!!!!!!!!! \n",
    "\n",
    "# Created new function: this is /spdi/{spdi}/hgvs\n",
    "\n",
    "# def spdi2hgvs(spdi):\n",
    "#     url = api_rootURL + 'spdi/' + spdi + '/hgvs'\n",
    "#     req = apiRequest(url)\n",
    "#     if req:\n",
    "#         return json.loads(req.text)['data']['hgvs']\n",
    "#     else:\n",
    "#         return [\"no hgvs found\"]\n",
    "\n",
    "# def spdi2hgvs(spdi):\n",
    "#     selfapi = 'https://api.ncbi.nlm.nih.gov/variation/v0/'\n",
    "\n",
    "#     r = requests.get(\n",
    "#         url = \"{}spdi/{}/hgvs\".format(selfapi,spdi),\n",
    "#         headers={ \"Content-Type\": \"application/json; charset=utf-8\" }\n",
    "#     )\n",
    "\n",
    "#     if r.status_code == 200:\n",
    "#         return json.loads(r.text)['data']['hgvs'] \n",
    "#     else:\n",
    "#         raise requests.HTTPError(f\"Variation normalizer returned the status code: {r.status_code}.\")\n",
    "\n",
    "# def hgvs2spdi(expr, assembly ='GCF_000001405.38'):\n",
    "#     selfapi = 'https://api.ncbi.nlm.nih.gov/variation/v0/'\n",
    "    \n",
    "#     r = requests.get(\n",
    "#         url = \"{}hgvs/{}/contextuals?assembly={}\".format(selfapi,expr,assembly),\n",
    "#         headers={ \"Content-Type\": \"application/json; charset=utf-8\" }\n",
    "#     )\n",
    "\n",
    "#     if r.status_code == 200:\n",
    "#         reqjson = json.loads(r.text)\n",
    "#         spdiobj = reqjson['data']['spdis'][0]\n",
    "#         spdi = ':'.join([\n",
    "#             spdiobj['seq_id'],\n",
    "#             str(spdiobj['position']),\n",
    "#             spdiobj['deleted_sequence'],\n",
    "#             spdiobj['inserted_sequence']])\n",
    "#         return spdi\n",
    "#     else:\n",
    "#         raise requests.HTTPError(f\"Variation normalizer returned the status code: {r.status_code}.\")\n",
    "\n",
    "\n",
    "# # test \n",
    "# spdi2hgvs(\"NC_000001.10:12345:1:A\")"
   ]
  },
  {
   "cell_type": "code",
   "execution_count": null,
   "metadata": {},
   "outputs": [],
   "source": [
    "# import requests\n",
    "# import json\n",
    "# import sys\n",
    "\n",
    "# class vstestclass():\n",
    "\n",
    "#     def __init__(self) -> None:\n",
    "#         self.api = 'https://api.ncbi.nlm.nih.gov/variation/v0/'\n",
    "\n",
    "#     def spdi2hgvs(self,spdi):\n",
    "        \n",
    "\n",
    "#         r = requests.get(\n",
    "#             url = \"{}spdi/{}/hgvs\".format(self.api,spdi),\n",
    "#             headers={ \"Content-Type\": \"application/json; charset=utf-8\" }\n",
    "#         )\n",
    "\n",
    "#         if r.status_code == 200:\n",
    "#             return json.loads(r.text)['data']['hgvs'] \n",
    "#         else:\n",
    "#             raise requests.HTTPError(f\"Variation normalizer returned the status code: {r.status_code}.\")\n",
    "\n",
    "#     def hgvs2spdi(self,expr, assembly ='GCF_000001405.38'):\n",
    "        \n",
    "#         r = requests.get(\n",
    "#             url = \"{}hgvs/{}/contextuals?assembly={}\".format(self.api,expr,assembly),\n",
    "#             headers={ \"Content-Type\": \"application/json; charset=utf-8\" }\n",
    "#         )\n",
    "\n",
    "#         if r.status_code == 200:\n",
    "#             reqjson = json.loads(r.text)\n",
    "#             spdiobj = reqjson['data']['spdis'][0]\n",
    "#             spdi = ':'.join([\n",
    "#                 spdiobj['seq_id'],\n",
    "#                 str(spdiobj['position']),\n",
    "#                 spdiobj['deleted_sequence'],\n",
    "#                 spdiobj['inserted_sequence']])\n",
    "#             return spdi\n",
    "#         else:\n",
    "#             raise requests.HTTPError(f\"Variation normalizer returned the status code: {r.status_code}.\")"
   ]
  },
  {
   "cell_type": "code",
   "execution_count": null,
   "metadata": {},
   "outputs": [],
   "source": [
    "import requests\n",
    "import json\n",
    "import sys\n",
    "\n",
    "# Useful links: \n",
    "    # https://ngdc.cncb.ac.cn/gwh/assembly/history\n",
    "    # https://api.ncbi.nlm.nih.gov/variation/v0/\n",
    "    # https://github.com/ncbi/dbsnp\n",
    "    # https://github.com/ncbi/dbsnp/blob/master/tutorials/Variation%20Services/Jupyter_Notebook/spdi_batch.ipynb\n",
    "\n",
    "class VariationServicesRESTDataProxy:\n",
    "    \"\"\"\n",
    "    Rest data proxy for Variation Services API\n",
    "    \"\"\"\n",
    "    def __init__(self) -> None:\n",
    "        \"\"\"\n",
    "        Initialize class with the API URL\n",
    "        \"\"\"\n",
    "        self.api = 'https://api.ncbi.nlm.nih.gov/variation/v0/'\n",
    "\n",
    "# TODO: change the name of this function, not the best name \n",
    "    def spdi_syntex(self,r):\n",
    "        reqjson = json.loads(r.text)\n",
    "        spdiobjs = reqjson['data']['spdis'] #[0] Index at first position for the first spdi object. \n",
    "        expr_list = []\n",
    "        for spdiobj in spdiobjs:\n",
    "            spdi = ':'.join([\n",
    "                spdiobj['seq_id'],\n",
    "                str(spdiobj['position']),\n",
    "                spdiobj['deleted_sequence'],\n",
    "                spdiobj['inserted_sequence']])\n",
    "            expr_list.append(spdi)\n",
    "        return expr_list\n",
    "\n",
    "    def spdi2hgvs(self,spdi):\n",
    "        \"\"\"\n",
    "        Converting a allele in SPDI syntax to the right-shifted HGVS notation\n",
    "        \"\"\"\n",
    "    \n",
    "        r = requests.get(\n",
    "            url = \"{}spdi/{}/hgvs\".format(self.api,spdi),\n",
    "            headers={ \"Content-Type\": \"application/json; charset=utf-8\" }\n",
    "        )\n",
    "\n",
    "        if r.status_code == 200:\n",
    "            return json.loads(r.text)['data']['hgvs'] \n",
    "        else:\n",
    "            raise requests.HTTPError(f\"Variation Services returned the status code: {r.status_code}.\")\n",
    "        \n",
    "    def hgvs2spdi(self,expr, assembly ='GCF_000001405.38'):\n",
    "        \"\"\"\n",
    "        Convert HGVS notation to allele in SPDI syntax \n",
    "        \"\"\"\n",
    "        \n",
    "        r = requests.get(\n",
    "            url = \"{}hgvs/{}/contextuals?assembly={}\".format(self.api,expr,assembly),\n",
    "            headers={ \"Content-Type\": \"application/json; charset=utf-8\" }\n",
    "        )\n",
    "\n",
    "        if r.status_code == 200:\n",
    "            return self.spdi_syntex(r)\n",
    "            # reqjson = json.loads(r.text)\n",
    "            # spdiobjs = reqjson['data']['spdis'] #[0] Index at first position for the first spdi object. \n",
    "            # expr_list = []\n",
    "            # for spdiobj in spdiobjs:\n",
    "            #     spdi = ':'.join([\n",
    "            #         spdiobj['seq_id'],\n",
    "            #         str(spdiobj['position']),\n",
    "            #         spdiobj['deleted_sequence'],\n",
    "            #         spdiobj['inserted_sequence']])\n",
    "            #     expr_list.append(spdi)\n",
    "            # return expr_list\n",
    "        \n",
    "        else:\n",
    "            raise requests.HTTPError(f\"Variation Services returned the status code: {r.status_code}.\")"
   ]
  },
  {
   "cell_type": "code",
   "execution_count": null,
   "metadata": {},
   "outputs": [],
   "source": [
    "# def spdi_syntex(r):\n",
    "#     reqjson = json.loads(r.text)\n",
    "#     spdiobjs = reqjson['data']['spdis'] #[0] Index at first position for the first spdi object. \n",
    "#     expr_list = []\n",
    "#     for spdiobj in spdiobjs:\n",
    "#         spdi = ':'.join([\n",
    "#             spdiobj['seq_id'],\n",
    "#             str(spdiobj['position']),\n",
    "#             spdiobj['deleted_sequence'],\n",
    "#             spdiobj['inserted_sequence']])\n",
    "#         expr_list.append(spdi)\n",
    "#     return expr_list"
   ]
  },
  {
   "cell_type": "code",
   "execution_count": 1,
   "metadata": {},
   "outputs": [],
   "source": [
    "from variation_services_rest_db import VariationServicesRESTDataProxy"
   ]
  },
  {
   "cell_type": "code",
   "execution_count": 2,
   "metadata": {},
   "outputs": [],
   "source": [
    "test_vs = VariationServicesRESTDataProxy()"
   ]
  },
  {
   "cell_type": "code",
   "execution_count": 3,
   "metadata": {},
   "outputs": [
    {
     "data": {
      "text/plain": [
       "['NC_000001.10:12345:C:A']"
      ]
     },
     "execution_count": 3,
     "metadata": {},
     "output_type": "execute_result"
    }
   ],
   "source": [
    "#test_vs.spdi2hgvs('NC_000001.10:12345:1:A')\n",
    "test_vs.hgvs2spdi('NC_000001.10:g.12346C>A')\n",
    "#test_vs.hgvs2spdi('NC_012920.1:m.961delTins')\n"
   ]
  },
  {
   "cell_type": "code",
   "execution_count": 4,
   "metadata": {},
   "outputs": [
    {
     "data": {
      "text/plain": [
       "['NC_012920.1:960:T:C',\n",
       " 'NC_012920.1:960:T:TT',\n",
       " 'NC_012920.1:960:T:TTT',\n",
       " 'NC_012920.1:960:T:TTTT',\n",
       " 'NC_012920.1:960:T:TTTTT',\n",
       " 'NC_012920.1:960:T:TTTTTT',\n",
       " 'NC_012920.1:960:T:TTTTTTT']"
      ]
     },
     "execution_count": 4,
     "metadata": {},
     "output_type": "execute_result"
    }
   ],
   "source": [
    "test_vs.hgvs2spdi('NC_012920.1:m.961delTinsC(2_7)')"
   ]
  },
  {
   "cell_type": "code",
   "execution_count": null,
   "metadata": {},
   "outputs": [],
   "source": [
    "# mylist = []\n",
    "# for x in test_vs.hgvs2spdi('NC_012920.1:m.961delTinsC(2_7)'): \n",
    "#     spdi = ':'.join([\n",
    "#         x['seq_id'],\n",
    "#         str(x['position']),\n",
    "#         x['deleted_sequence'],\n",
    "#         x['inserted_sequence']])\n",
    "#     mylist.append(spdi)\n",
    "\n",
    "# print(mylist)"
   ]
  },
  {
   "cell_type": "code",
   "execution_count": 16,
   "metadata": {},
   "outputs": [],
   "source": [
    "from ga4gh.vrs.dataproxy import SeqRepoRESTDataProxy\n",
    "seqrepo_rest_service_url = \"https://services.genomicmedlab.org/seqrepo\"\n",
    "dp = SeqRepoRESTDataProxy(base_url=seqrepo_rest_service_url)"
   ]
  },
  {
   "cell_type": "code",
   "execution_count": 17,
   "metadata": {},
   "outputs": [],
   "source": [
    "def get_sequence(identifier, start=None, end=None):\n",
    "    \"\"\"returns sequence for given identifier, optionally limited to interbase <start, end> interval\"\"\"\n",
    "    return dp.get_sequence(identifier, start, end)"
   ]
  },
  {
   "cell_type": "code",
   "execution_count": 21,
   "metadata": {},
   "outputs": [
    {
     "data": {
      "text/plain": [
       "'CCCCCTCCCC'"
      ]
     },
     "execution_count": 21,
     "metadata": {},
     "output_type": "execute_result"
    }
   ],
   "source": [
    "start, end = 960-5, 960+5\n",
    "get_sequence('NC_012920.1',start,end)"
   ]
  },
  {
   "cell_type": "code",
   "execution_count": null,
   "metadata": {},
   "outputs": [],
   "source": []
  }
 ],
 "metadata": {
  "kernelspec": {
   "display_name": "vrsproject",
   "language": "python",
   "name": "python3"
  },
  "language_info": {
   "codemirror_mode": {
    "name": "ipython",
    "version": 3
   },
   "file_extension": ".py",
   "mimetype": "text/x-python",
   "name": "python",
   "nbconvert_exporter": "python",
   "pygments_lexer": "ipython3",
   "version": "3.9.0"
  },
  "orig_nbformat": 4,
  "vscode": {
   "interpreter": {
    "hash": "56f07a5380f7b0d56c2c6b05df547d12669f1587ac652dca84424c7aa32eca36"
   }
  }
 },
 "nbformat": 4,
 "nbformat_minor": 2
}
