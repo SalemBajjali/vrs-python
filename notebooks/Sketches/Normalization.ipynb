{
 "cells": [
  {
   "cell_type": "markdown",
   "metadata": {},
   "source": [
    "# Sequence Normalization\n",
    "\n",
    "```\n",
    "Signature:\n",
    "normalize(\n",
    "    sequence,\n",
    "    interval,\n",
    "    alleles,\n",
    "    mode=<Mode.EXPAND: 4>,\n",
    "    bounds=None,\n",
    "    anchor_length=0,\n",
    ")\n",
    "Docstring:\n",
    "normalizes the given alleles, returning a new interval and alleles.\n",
    "\n",
    "interval: location of alleles as (start, end) tuple, interbase coordiates\n",
    "alleles[]: array of sequence strings; first element is ref sequence and may be None\n",
    "bounds: maximal extent of normalization left and right; default to\n",
    "  (0, len(sequence)); must be provided if sequence doesn't support __len__\n",
    "sequence: the reference sequence\n",
    "mode: shuffle left (à la vcf), shuffle right (hgvs), extend (voca)\n",
    "anchor: 0 (# of bases left and right)\n",
    "```"
   ]
  },
  {
   "cell_type": "code",
   "execution_count": 16,
   "metadata": {},
   "outputs": [
    {
     "data": {
      "text/plain": [
       "'0.5.0.dev1'"
      ]
     },
     "execution_count": 16,
     "metadata": {},
     "output_type": "execute_result"
    }
   ],
   "source": [
    "# from ga4gh.vr import normalize\n",
    "from bioutils.normalize import normalize\n",
    "import bioutils\n",
    "bioutils.__version__"
   ]
  },
  {
   "cell_type": "code",
   "execution_count": 15,
   "metadata": {},
   "outputs": [],
   "source": [
    "#                        1                   2                   3\n",
    "#    0 1 2 3 4 5 6 7 8 9 0 1 2 3 4 5 6 7 8 9 0 1 2 3 4 5 6 7 8 9 0\n",
    "#     C C C C C C C C A C A C A C A C A C T A G C A G C A G C A\n",
    "sequence = \"CCCCCCCCACACACACACTAGCAGCAGCA\"\n",
    "sequence = \"CCCCCCCCACACACACACTAGCAGCAGCA\""
   ]
  },
  {
   "cell_type": "code",
   "execution_count": 14,
   "metadata": {},
   "outputs": [
    {
     "data": {
      "text/plain": [
       "((13, 13), ('', 'CA'))"
      ]
     },
     "execution_count": 14,
     "metadata": {},
     "output_type": "execute_result"
    }
   ],
   "source": [
    "normalize(sequence, interval=(13,13), alleles=(None, \"CA\"), mode=\"LEFTSHUFFLE\", bounds=(0,len(sequence)))"
   ]
  },
  {
   "cell_type": "code",
   "execution_count": 13,
   "metadata": {},
   "outputs": [],
   "source": []
  },
  {
   "cell_type": "code",
   "execution_count": null,
   "metadata": {},
   "outputs": [],
   "source": []
  }
 ],
 "metadata": {
  "kernelspec": {
   "display_name": "Python 3",
   "language": "python",
   "name": "python3"
  },
  "language_info": {
   "codemirror_mode": {
    "name": "ipython",
    "version": 3
   },
   "file_extension": ".py",
   "mimetype": "text/x-python",
   "name": "python",
   "nbconvert_exporter": "python",
   "pygments_lexer": "ipython3",
   "version": "3.7.3"
  }
 },
 "nbformat": 4,
 "nbformat_minor": 2
}
