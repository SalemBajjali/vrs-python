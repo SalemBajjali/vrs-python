{
 "cells": [
  {
   "cell_type": "markdown",
   "metadata": {},
   "source": [
    "# Sequence Normalization\n",
    "\n",
    "```\n",
    "Signature:\n",
    "normalize(\n",
    "    sequence,\n",
    "    interval,\n",
    "    alleles,\n",
    "    mode=<Mode.EXPAND: 4>,\n",
    "    bounds=None,\n",
    "    anchor_length=0,\n",
    ")\n",
    "Docstring:\n",
    "normalizes the given alleles, returning a new interval and alleles.\n",
    "\n",
    "interval: location of alleles as (start, end) tuple, interbase coordiates\n",
    "alleles[]: array of sequence strings; first element is ref sequence and may be None\n",
    "bounds: maximal extent of normalization left and right; default to\n",
    "  (0, len(sequence)); must be provided if sequence doesn't support __len__\n",
    "sequence: the reference sequence\n",
    "mode: shuffle left (à la vcf), shuffle right (hgvs), extend (voca)\n",
    "anchor: 0 (# of bases left and right)\n",
    "```"
   ]
  },
  {
   "cell_type": "code",
   "execution_count": 1,
   "metadata": {},
   "outputs": [],
   "source": [
    "from ga4gh.vr import normalize"
   ]
  },
  {
   "cell_type": "code",
   "execution_count": 2,
   "metadata": {},
   "outputs": [],
   "source": [
    "sequence = \"CCCCCCCCACACACACACTAGCAGCAGCA\"\n",
    "\n",
    "#                        1                   2                   3\n",
    "#    0 1 2 3 4 5 6 7 8 9 0 1 2 3 4 5 6 7 8 9 0 1 2 3 4 5 6 7 8 9 0\n",
    "#     C C C C C C C C A C A C A C A C A C T A G C A G C A G C A\n",
    "#               [3]^           ^      [4]^\n"
   ]
  },
  {
   "cell_type": "code",
   "execution_count": 3,
   "metadata": {},
   "outputs": [
    {
     "data": {
      "text/plain": [
       "((7, 7), ('', 'CA'))"
      ]
     },
     "execution_count": 3,
     "metadata": {},
     "output_type": "execute_result"
    }
   ],
   "source": [
    "normalize(sequence, interval=(13,13), alleles=(None, \"CA\"), mode=\"LEFTSHUFFLE\", bounds=(0,len(sequence)))"
   ]
  },
  {
   "cell_type": "code",
   "execution_count": 4,
   "metadata": {},
   "outputs": [
    {
     "data": {
      "text/plain": [
       "((18, 18), ('', 'AC'))"
      ]
     },
     "execution_count": 4,
     "metadata": {},
     "output_type": "execute_result"
    }
   ],
   "source": [
    "normalize(sequence, interval=(13,13), alleles=(None, \"CA\"), mode=\"RIGHTSHUFFLE\", bounds=(0,len(sequence)))"
   ]
  },
  {
   "cell_type": "code",
   "execution_count": 5,
   "metadata": {},
   "outputs": [
    {
     "data": {
      "text/plain": [
       "((15, 15), ('', 'CA'))"
      ]
     },
     "execution_count": 5,
     "metadata": {},
     "output_type": "execute_result"
    }
   ],
   "source": [
    "normalize(sequence, interval=(13,15), alleles=(None, \"CACA\"), mode=\"TRIMONLY\", bounds=(0,len(sequence)))"
   ]
  },
  {
   "cell_type": "code",
   "execution_count": 6,
   "metadata": {},
   "outputs": [
    {
     "data": {
      "text/plain": [
       "((6, 7), ('C', 'CCA'))"
      ]
     },
     "execution_count": 6,
     "metadata": {},
     "output_type": "execute_result"
    }
   ],
   "source": [
    "normalize(sequence, interval=(13,13), alleles=(None, \"CA\"), mode=\"VCF\", bounds=(0,len(sequence)))"
   ]
  },
  {
   "cell_type": "code",
   "execution_count": 7,
   "metadata": {},
   "outputs": [
    {
     "data": {
      "text/plain": [
       "((7, 18), ('CACACACACAC', 'CACACACACACAC'))"
      ]
     },
     "execution_count": 7,
     "metadata": {},
     "output_type": "execute_result"
    }
   ],
   "source": [
    "normalize(sequence, interval=(13,13), alleles=(None, \"CA\"), mode=\"EXPAND\", bounds=(0,len(sequence)))"
   ]
  },
  {
   "cell_type": "code",
   "execution_count": 8,
   "metadata": {},
   "outputs": [
    {
     "data": {
      "text/plain": [
       "((4, 21), ('CCCCACACACACACTAG', 'CCCCACACACACACACTAG'))"
      ]
     },
     "execution_count": 8,
     "metadata": {},
     "output_type": "execute_result"
    }
   ],
   "source": [
    "normalize(sequence, interval=(13,13), alleles=(None, \"CA\"), mode=\"EXPAND\", bounds=(0,len(sequence)), anchor_length=3)"
   ]
  }
 ],
 "metadata": {
  "kernelspec": {
   "display_name": "Python 3",
   "language": "python",
   "name": "python3"
  },
  "language_info": {
   "codemirror_mode": {
    "name": "ipython",
    "version": 3
   },
   "file_extension": ".py",
   "mimetype": "text/x-python",
   "name": "python",
   "nbconvert_exporter": "python",
   "pygments_lexer": "ipython3",
   "version": "3.7.3"
  }
 },
 "nbformat": 4,
 "nbformat_minor": 2
}
