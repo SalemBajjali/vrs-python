{
 "cells": [
  {
   "cell_type": "markdown",
   "metadata": {},
   "source": [
    "```\n",
    "                             rs7412 \n",
    "                             NC_000019.10:g.44908822\n",
    "                             NM_000041.3:c.526\n",
    "                             C          T\n",
    "rs429358                 C   APOE-ε4    APOE-ε1\n",
    "NC_000019.10:g.44908684  T   APOE-ε3    APOE-ε2\n",
    "NM_000041.3:c.388\n",
    "```"
   ]
  },
  {
   "cell_type": "code",
   "execution_count": 23,
   "metadata": {},
   "outputs": [],
   "source": [
    "apoe_alleles = {\n",
    "    'rs7412C': {'g37': 'NC_000019.9:g.45412079=',\n",
    "                'g38': 'NC_000019.10:g.44908822=',\n",
    "                'c': 'NM_000041.3:c.526=',\n",
    "                'p': 'NP_000032.1:p.Arg176='},\n",
    "    'rs7412T': {'g37': 'NC_000019.9:g.45412079C>T',\n",
    "                'g38': 'NC_000019.10:g.44908822C>T',\n",
    "                'c': 'NM_000041.3:c.526C>T',\n",
    "                'p': 'NP_000032.1:p.Arg176Cys'},\n",
    "    'rs429358T': {'g37': 'NC_000019.9:g.45411941=',\n",
    "                  'g38': 'NC_000019.10:g.44908684=',\n",
    "                  'c': 'NM_000041.3:c.388=',\n",
    "                  'p': 'NP_000032.1:p.Cys130='},\n",
    "    'rs429358C': {'g37': 'NC_000019.9:g.45411941T>C',\n",
    "                  'g38': 'NC_000019.10:g.44908684T>C',\n",
    "                  'c': 'NM_000041.3:c.388T>C',\n",
    "                  'p': 'NP_000032.1:p.Cys130Arg'}\n",
    "}\n",
    "apoe_haplotypes = {\n",
    "    \"ε1\": [\"rs429358C\", \"rs7412T\"],\n",
    "    \"ε2\": [\"rs429358T\", \"rs7412T\"],\n",
    "    \"ε3\": [\"rs429358T\", \"rs7412C\"],\n",
    "    \"ε4\": [\"rs429358C\", \"rs7412C\"],\n",
    "}"
   ]
  },
  {
   "cell_type": "code",
   "execution_count": 24,
   "metadata": {},
   "outputs": [],
   "source": [
    "from vmc.extra.bundlemanager import BundleManager\n",
    "vbm = BundleManager()"
   ]
  },
  {
   "cell_type": "markdown",
   "metadata": {},
   "source": [
    "# Alleles"
   ]
  },
  {
   "cell_type": "code",
   "execution_count": 25,
   "metadata": {},
   "outputs": [],
   "source": [
    "for vname, alleles in apoe_alleles.items():\n",
    "    for h in alleles.values():\n",
    "        a = vbm.add_hgvs_allele(h)"
   ]
  },
  {
   "cell_type": "code",
   "execution_count": 26,
   "metadata": {},
   "outputs": [
    {
     "data": {
      "text/plain": [
       "{'g37': {'ε1': ['NC_000019.9:g.45411941T>C', 'NC_000019.9:g.45412079C>T'],\n",
       "  'ε2': ['NC_000019.9:g.45411941=', 'NC_000019.9:g.45412079C>T'],\n",
       "  'ε3': ['NC_000019.9:g.45411941=', 'NC_000019.9:g.45412079='],\n",
       "  'ε4': ['NC_000019.9:g.45411941T>C', 'NC_000019.9:g.45412079=']},\n",
       " 'g38': {'ε1': ['NC_000019.10:g.44908684T>C', 'NC_000019.10:g.44908822C>T'],\n",
       "  'ε2': ['NC_000019.10:g.44908684=', 'NC_000019.10:g.44908822C>T'],\n",
       "  'ε3': ['NC_000019.10:g.44908684=', 'NC_000019.10:g.44908822='],\n",
       "  'ε4': ['NC_000019.10:g.44908684T>C', 'NC_000019.10:g.44908822=']},\n",
       " 'c': {'ε1': ['NM_000041.3:c.388T>C', 'NM_000041.3:c.526C>T'],\n",
       "  'ε2': ['NM_000041.3:c.388=', 'NM_000041.3:c.526C>T'],\n",
       "  'ε3': ['NM_000041.3:c.388=', 'NM_000041.3:c.526='],\n",
       "  'ε4': ['NM_000041.3:c.388T>C', 'NM_000041.3:c.526=']},\n",
       " 'p': {'ε1': ['NP_000032.1:p.Cys130Arg', 'NP_000032.1:p.Arg176Cys'],\n",
       "  'ε2': ['NP_000032.1:p.Cys130=', 'NP_000032.1:p.Arg176Cys'],\n",
       "  'ε3': ['NP_000032.1:p.Cys130=', 'NP_000032.1:p.Arg176='],\n",
       "  'ε4': ['NP_000032.1:p.Cys130Arg', 'NP_000032.1:p.Arg176=']}}"
      ]
     },
     "execution_count": 26,
     "metadata": {},
     "output_type": "execute_result"
    }
   ],
   "source": [
    "haplotypes_hgvs = {\n",
    "    t: {name: [apoe_alleles[vname][t] for vname in vnames] for name, vnames in apoe_haplotypes.items()}\n",
    "    for t in \"g37 g38 c p\".split()\n",
    "}\n",
    "haplotypes_hgvs"
   ]
  },
  {
   "cell_type": "code",
   "execution_count": null,
   "metadata": {},
   "outputs": [],
   "source": [
    "for t in [\"p\"]:\n",
    "    for name, hs in haplotypes_hgvs.items():\n",
    "        h = vbm.add_hgvs_haplotype(hs)\n",
    "        "
   ]
  }
 ],
 "metadata": {
  "kernelspec": {
   "display_name": "Python 3",
   "language": "python",
   "name": "python3"
  },
  "language_info": {
   "codemirror_mode": {
    "name": "ipython",
    "version": 3
   },
   "file_extension": ".py",
   "mimetype": "text/x-python",
   "name": "python",
   "nbconvert_exporter": "python",
   "pygments_lexer": "ipython3",
   "version": "3.6.5"
  }
 },
 "nbformat": 4,
 "nbformat_minor": 2
}
