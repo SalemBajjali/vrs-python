{
 "cells": [
  {
   "cell_type": "markdown",
   "metadata": {},
   "source": [
    "```\n",
    "                             rs7412 \n",
    "                             NC_000019.10:g.44908822\n",
    "                             NM_000041.3:c.526\n",
    "                             C          T\n",
    "rs429358                 C   APOE-ε4    APOE-ε1\n",
    "NC_000019.10:g.44908684  T   APOE-ε3    APOE-ε2\n",
    "NM_000041.3:c.388\n",
    "```"
   ]
  },
  {
   "cell_type": "code",
   "execution_count": 1,
   "metadata": {},
   "outputs": [],
   "source": [
    "apoe_alleles = {\n",
    "    'rs7412C': {'g37': 'NC_000019.9:g.45412079=',\n",
    "                'g38': 'NC_000019.10:g.44908822=',\n",
    "                'c': 'NM_000041.3:c.526=',\n",
    "                'p': 'NP_000032.1:p.Arg176='},\n",
    "    'rs7412T': {'g37': 'NC_000019.9:g.45412079C>T',\n",
    "                'g38': 'NC_000019.10:g.44908822C>T',\n",
    "                'c': 'NM_000041.3:c.526C>T',\n",
    "                'p': 'NP_000032.1:p.Arg176Cys'},\n",
    "    'rs429358T': {'g37': 'NC_000019.9:g.45411941=',\n",
    "                  'g38': 'NC_000019.10:g.44908684=',\n",
    "                  'c': 'NM_000041.3:c.388=',\n",
    "                  'p': 'NP_000032.1:p.Cys130='},\n",
    "    'rs429358C': {'g37': 'NC_000019.9:g.45411941T>C',\n",
    "                  'g38': 'NC_000019.10:g.44908684T>C',\n",
    "                  'c': 'NM_000041.3:c.388T>C',\n",
    "                  'p': 'NP_000032.1:p.Cys130Arg'}\n",
    "}\n",
    "apoe_haplotypes = {\n",
    "    \"ε1\": [\"rs429358C\", \"rs7412T\"],\n",
    "    \"ε2\": [\"rs429358T\", \"rs7412T\"],\n",
    "    \"ε3\": [\"rs429358T\", \"rs7412C\"],\n",
    "    \"ε4\": [\"rs429358C\", \"rs7412C\"],\n",
    "}"
   ]
  },
  {
   "cell_type": "code",
   "execution_count": 2,
   "metadata": {},
   "outputs": [],
   "source": [
    "from vmc.extra.bundlemanager import BundleManager\n",
    "vbm = BundleManager()"
   ]
  },
  {
   "cell_type": "markdown",
   "metadata": {},
   "source": [
    "# Alleles"
   ]
  },
  {
   "cell_type": "code",
   "execution_count": 3,
   "metadata": {},
   "outputs": [],
   "source": [
    "for vname, alleles in apoe_alleles.items():\n",
    "    for h in alleles.values():\n",
    "        a = vbm.add_hgvs_allele(h)"
   ]
  },
  {
   "cell_type": "code",
   "execution_count": 4,
   "metadata": {},
   "outputs": [
    {
     "data": {
      "text/plain": [
       "{'g37': {'ε1': ['NC_000019.9:g.45411941T>C', 'NC_000019.9:g.45412079C>T'],\n",
       "  'ε2': ['NC_000019.9:g.45411941=', 'NC_000019.9:g.45412079C>T'],\n",
       "  'ε3': ['NC_000019.9:g.45411941=', 'NC_000019.9:g.45412079='],\n",
       "  'ε4': ['NC_000019.9:g.45411941T>C', 'NC_000019.9:g.45412079=']},\n",
       " 'g38': {'ε1': ['NC_000019.10:g.44908684T>C', 'NC_000019.10:g.44908822C>T'],\n",
       "  'ε2': ['NC_000019.10:g.44908684=', 'NC_000019.10:g.44908822C>T'],\n",
       "  'ε3': ['NC_000019.10:g.44908684=', 'NC_000019.10:g.44908822='],\n",
       "  'ε4': ['NC_000019.10:g.44908684T>C', 'NC_000019.10:g.44908822=']},\n",
       " 'c': {'ε1': ['NM_000041.3:c.388T>C', 'NM_000041.3:c.526C>T'],\n",
       "  'ε2': ['NM_000041.3:c.388=', 'NM_000041.3:c.526C>T'],\n",
       "  'ε3': ['NM_000041.3:c.388=', 'NM_000041.3:c.526='],\n",
       "  'ε4': ['NM_000041.3:c.388T>C', 'NM_000041.3:c.526=']},\n",
       " 'p': {'ε1': ['NP_000032.1:p.Cys130Arg', 'NP_000032.1:p.Arg176Cys'],\n",
       "  'ε2': ['NP_000032.1:p.Cys130=', 'NP_000032.1:p.Arg176Cys'],\n",
       "  'ε3': ['NP_000032.1:p.Cys130=', 'NP_000032.1:p.Arg176='],\n",
       "  'ε4': ['NP_000032.1:p.Cys130Arg', 'NP_000032.1:p.Arg176=']}}"
      ]
     },
     "execution_count": 4,
     "metadata": {},
     "output_type": "execute_result"
    }
   ],
   "source": [
    "haplotypes_hgvs = {\n",
    "    t: {name: [apoe_alleles[vname][t] for vname in vnames] for name, vnames in apoe_haplotypes.items()}\n",
    "    for t in \"g37 g38 c p\".split()\n",
    "}\n",
    "haplotypes_hgvs"
   ]
  },
  {
   "cell_type": "code",
   "execution_count": 5,
   "metadata": {},
   "outputs": [
    {
     "ename": "HGVSParseError",
     "evalue": "ε1: char 3: end of input",
     "output_type": "error",
     "traceback": [
      "\u001b[0;31m---------------------------------------------------------------------------\u001b[0m",
      "\u001b[0;31mEOFError\u001b[0m                                  Traceback (most recent call last)",
      "\u001b[0;32m/home/reece/projects/vmc-python/venv/3.6/lib/python3.6/site-packages/hgvs/parser.py\u001b[0m in \u001b[0;36mrule_fxn\u001b[0;34m(s)\u001b[0m\n\u001b[1;32m    114\u001b[0m                 \u001b[0;32mtry\u001b[0m\u001b[0;34m:\u001b[0m\u001b[0;34m\u001b[0m\u001b[0;34m\u001b[0m\u001b[0m\n\u001b[0;32m--> 115\u001b[0;31m                     \u001b[0;32mreturn\u001b[0m \u001b[0mself\u001b[0m\u001b[0;34m.\u001b[0m\u001b[0m_grammar\u001b[0m\u001b[0;34m(\u001b[0m\u001b[0ms\u001b[0m\u001b[0;34m)\u001b[0m\u001b[0;34m.\u001b[0m\u001b[0m__getattr__\u001b[0m\u001b[0;34m(\u001b[0m\u001b[0mrule_name\u001b[0m\u001b[0;34m)\u001b[0m\u001b[0;34m(\u001b[0m\u001b[0;34m)\u001b[0m\u001b[0;34m\u001b[0m\u001b[0;34m\u001b[0m\u001b[0m\n\u001b[0m\u001b[1;32m    116\u001b[0m                 \u001b[0;32mexcept\u001b[0m \u001b[0mometa\u001b[0m\u001b[0;34m.\u001b[0m\u001b[0mruntime\u001b[0m\u001b[0;34m.\u001b[0m\u001b[0mParseError\u001b[0m \u001b[0;32mas\u001b[0m \u001b[0mexc\u001b[0m\u001b[0;34m:\u001b[0m\u001b[0;34m\u001b[0m\u001b[0;34m\u001b[0m\u001b[0m\n",
      "\u001b[0;32m/home/reece/projects/vmc-python/venv/3.6/lib/python3.6/site-packages/parsley.py\u001b[0m in \u001b[0;36minvokeRule\u001b[0;34m(*args, **kwargs)\u001b[0m\n\u001b[1;32m     97\u001b[0m                                      [[\"message\", \"expected EOF\"]], err.trail)\n\u001b[0;32m---> 98\u001b[0;31m             \u001b[0;32mraise\u001b[0m \u001b[0merr\u001b[0m\u001b[0;34m\u001b[0m\u001b[0;34m\u001b[0m\u001b[0m\n\u001b[0m\u001b[1;32m     99\u001b[0m         \u001b[0;32mreturn\u001b[0m \u001b[0minvokeRule\u001b[0m\u001b[0;34m\u001b[0m\u001b[0;34m\u001b[0m\u001b[0m\n",
      "\u001b[0;32m/home/reece/projects/vmc-python/venv/3.6/lib/python3.6/site-packages/ometa/runtime.py\u001b[0m in \u001b[0;36mmany\u001b[0;34m(self, fn, *initial)\u001b[0m\n\u001b[1;32m    553\u001b[0m                 \u001b[0mm\u001b[0m \u001b[0;34m=\u001b[0m \u001b[0mself\u001b[0m\u001b[0;34m.\u001b[0m\u001b[0minput\u001b[0m\u001b[0;34m\u001b[0m\u001b[0;34m\u001b[0m\u001b[0m\n\u001b[0;32m--> 554\u001b[0;31m                 \u001b[0mv\u001b[0m\u001b[0;34m,\u001b[0m \u001b[0m_\u001b[0m \u001b[0;34m=\u001b[0m \u001b[0mfn\u001b[0m\u001b[0;34m(\u001b[0m\u001b[0;34m)\u001b[0m\u001b[0;34m\u001b[0m\u001b[0;34m\u001b[0m\u001b[0m\n\u001b[0m\u001b[1;32m    555\u001b[0m                 \u001b[0mans\u001b[0m\u001b[0;34m.\u001b[0m\u001b[0mappend\u001b[0m\u001b[0;34m(\u001b[0m\u001b[0mv\u001b[0m\u001b[0;34m)\u001b[0m\u001b[0;34m\u001b[0m\u001b[0;34m\u001b[0m\u001b[0m\n",
      "\u001b[0;32m/pymeta_generated_code/pymeta_grammar__Grammar.py\u001b[0m in \u001b[0;36m_G_many1_863\u001b[0;34m()\u001b[0m\n\u001b[1;32m   2844\u001b[0m                     \u001b[0mself\u001b[0m\u001b[0;34m.\u001b[0m\u001b[0m_trace\u001b[0m\u001b[0;34m(\u001b[0m\u001b[0;34m'r letterOrDigi'\u001b[0m\u001b[0;34m,\u001b[0m \u001b[0;34m(\u001b[0m\u001b[0;36m11950\u001b[0m\u001b[0;34m,\u001b[0m \u001b[0;36m11964\u001b[0m\u001b[0;34m)\u001b[0m\u001b[0;34m,\u001b[0m \u001b[0mself\u001b[0m\u001b[0;34m.\u001b[0m\u001b[0minput\u001b[0m\u001b[0;34m.\u001b[0m\u001b[0mposition\u001b[0m\u001b[0;34m)\u001b[0m\u001b[0;34m\u001b[0m\u001b[0;34m\u001b[0m\u001b[0m\n\u001b[0;32m-> 2845\u001b[0;31m                     \u001b[0m_G_apply_864\u001b[0m\u001b[0;34m,\u001b[0m \u001b[0mlastError\u001b[0m \u001b[0;34m=\u001b[0m \u001b[0mself\u001b[0m\u001b[0;34m.\u001b[0m\u001b[0m_apply\u001b[0m\u001b[0;34m(\u001b[0m\u001b[0mself\u001b[0m\u001b[0;34m.\u001b[0m\u001b[0mrule_letterOrDigit\u001b[0m\u001b[0;34m,\u001b[0m \u001b[0;34m\"letterOrDigit\"\u001b[0m\u001b[0;34m,\u001b[0m \u001b[0;34m[\u001b[0m\u001b[0;34m]\u001b[0m\u001b[0;34m)\u001b[0m\u001b[0;34m\u001b[0m\u001b[0;34m\u001b[0m\u001b[0m\n\u001b[0m\u001b[1;32m   2846\u001b[0m                     \u001b[0mself\u001b[0m\u001b[0;34m.\u001b[0m\u001b[0mconsiderError\u001b[0m\u001b[0;34m(\u001b[0m\u001b[0mlastError\u001b[0m\u001b[0;34m,\u001b[0m \u001b[0;32mNone\u001b[0m\u001b[0;34m)\u001b[0m\u001b[0;34m\u001b[0m\u001b[0;34m\u001b[0m\u001b[0m\n",
      "\u001b[0;32m/home/reece/projects/vmc-python/venv/3.6/lib/python3.6/site-packages/ometa/runtime.py\u001b[0m in \u001b[0;36m_apply\u001b[0;34m(self, rule, ruleName, args)\u001b[0m\n\u001b[1;32m    494\u001b[0m                 memoRec = self.input.setMemo(ruleName,\n\u001b[0;32m--> 495\u001b[0;31m                                          [rule(), self.input])\n\u001b[0m\u001b[1;32m    496\u001b[0m             \u001b[0;32mexcept\u001b[0m \u001b[0mParseError\u001b[0m \u001b[0;32mas\u001b[0m \u001b[0me\u001b[0m\u001b[0;34m:\u001b[0m\u001b[0;34m\u001b[0m\u001b[0;34m\u001b[0m\u001b[0m\n",
      "\u001b[0;32m/home/reece/projects/vmc-python/venv/3.6/lib/python3.6/site-packages/ometa/runtime.py\u001b[0m in \u001b[0;36mletterOrDigit\u001b[0;34m(self)\u001b[0m\n\u001b[1;32m    779\u001b[0m         \"\"\"\n\u001b[0;32m--> 780\u001b[0;31m         \u001b[0mx\u001b[0m\u001b[0;34m,\u001b[0m \u001b[0me\u001b[0m \u001b[0;34m=\u001b[0m \u001b[0mself\u001b[0m\u001b[0;34m.\u001b[0m\u001b[0mrule_anything\u001b[0m\u001b[0;34m(\u001b[0m\u001b[0;34m)\u001b[0m\u001b[0;34m\u001b[0m\u001b[0;34m\u001b[0m\u001b[0m\n\u001b[0m\u001b[1;32m    781\u001b[0m         \u001b[0;32mif\u001b[0m \u001b[0mx\u001b[0m\u001b[0;34m.\u001b[0m\u001b[0misalnum\u001b[0m\u001b[0;34m(\u001b[0m\u001b[0;34m)\u001b[0m\u001b[0;34m:\u001b[0m\u001b[0;34m\u001b[0m\u001b[0;34m\u001b[0m\u001b[0m\n",
      "\u001b[0;32m/home/reece/projects/vmc-python/venv/3.6/lib/python3.6/site-packages/ometa/runtime.py\u001b[0m in \u001b[0;36mrule_anything\u001b[0;34m(self)\u001b[0m\n\u001b[1;32m    812\u001b[0m         \"\"\"\n\u001b[0;32m--> 813\u001b[0;31m         \u001b[0mh\u001b[0m\u001b[0;34m,\u001b[0m \u001b[0mp\u001b[0m \u001b[0;34m=\u001b[0m \u001b[0mself\u001b[0m\u001b[0;34m.\u001b[0m\u001b[0minput\u001b[0m\u001b[0;34m.\u001b[0m\u001b[0mhead\u001b[0m\u001b[0;34m(\u001b[0m\u001b[0;34m)\u001b[0m\u001b[0;34m\u001b[0m\u001b[0;34m\u001b[0m\u001b[0m\n\u001b[0m\u001b[1;32m    814\u001b[0m         \u001b[0mself\u001b[0m\u001b[0;34m.\u001b[0m\u001b[0minput\u001b[0m \u001b[0;34m=\u001b[0m \u001b[0mself\u001b[0m\u001b[0;34m.\u001b[0m\u001b[0minput\u001b[0m\u001b[0;34m.\u001b[0m\u001b[0mtail\u001b[0m\u001b[0;34m(\u001b[0m\u001b[0;34m)\u001b[0m\u001b[0;34m\u001b[0m\u001b[0;34m\u001b[0m\u001b[0m\n",
      "\u001b[0;32m/home/reece/projects/vmc-python/venv/3.6/lib/python3.6/site-packages/ometa/runtime.py\u001b[0m in \u001b[0;36mhead\u001b[0;34m(self)\u001b[0m\n\u001b[1;32m    236\u001b[0m                 \u001b[0mdata\u001b[0m \u001b[0;34m=\u001b[0m \u001b[0mself\u001b[0m\u001b[0;34m.\u001b[0m\u001b[0mdata\u001b[0m\u001b[0;34m\u001b[0m\u001b[0;34m\u001b[0m\u001b[0m\n\u001b[0;32m--> 237\u001b[0;31m             \u001b[0;32mraise\u001b[0m \u001b[0mEOFError\u001b[0m\u001b[0;34m(\u001b[0m\u001b[0mdata\u001b[0m\u001b[0;34m,\u001b[0m \u001b[0mself\u001b[0m\u001b[0;34m.\u001b[0m\u001b[0mposition\u001b[0m \u001b[0;34m+\u001b[0m \u001b[0;36m1\u001b[0m\u001b[0;34m)\u001b[0m\u001b[0;34m\u001b[0m\u001b[0;34m\u001b[0m\u001b[0m\n\u001b[0m\u001b[1;32m    238\u001b[0m         \u001b[0;32mreturn\u001b[0m \u001b[0mself\u001b[0m\u001b[0;34m.\u001b[0m\u001b[0mdata\u001b[0m\u001b[0;34m[\u001b[0m\u001b[0mself\u001b[0m\u001b[0;34m.\u001b[0m\u001b[0mposition\u001b[0m\u001b[0;34m]\u001b[0m\u001b[0;34m,\u001b[0m \u001b[0mself\u001b[0m\u001b[0;34m.\u001b[0m\u001b[0merror\u001b[0m\u001b[0;34m\u001b[0m\u001b[0;34m\u001b[0m\u001b[0m\n",
      "\u001b[0;31mEOFError\u001b[0m: \nε1\n^\nParse error at line 2, column 0: end of input. trail: [p_variant hgvs_variant]\n",
      "\nDuring handling of the above exception, another exception occurred:\n",
      "\u001b[0;31mHGVSParseError\u001b[0m                            Traceback (most recent call last)",
      "\u001b[0;32m<ipython-input-5-c52cd7ab611d>\u001b[0m in \u001b[0;36m<module>\u001b[0;34m()\u001b[0m\n\u001b[1;32m      1\u001b[0m \u001b[0;32mfor\u001b[0m \u001b[0mt\u001b[0m \u001b[0;32min\u001b[0m \u001b[0;34m[\u001b[0m\u001b[0;34m\"p\"\u001b[0m\u001b[0;34m]\u001b[0m\u001b[0;34m:\u001b[0m\u001b[0;34m\u001b[0m\u001b[0;34m\u001b[0m\u001b[0m\n\u001b[1;32m      2\u001b[0m     \u001b[0;32mfor\u001b[0m \u001b[0mname\u001b[0m\u001b[0;34m,\u001b[0m \u001b[0mhs\u001b[0m \u001b[0;32min\u001b[0m \u001b[0mhaplotypes_hgvs\u001b[0m\u001b[0;34m.\u001b[0m\u001b[0mitems\u001b[0m\u001b[0;34m(\u001b[0m\u001b[0;34m)\u001b[0m\u001b[0;34m:\u001b[0m\u001b[0;34m\u001b[0m\u001b[0;34m\u001b[0m\u001b[0m\n\u001b[0;32m----> 3\u001b[0;31m         \u001b[0mh\u001b[0m \u001b[0;34m=\u001b[0m \u001b[0mvbm\u001b[0m\u001b[0;34m.\u001b[0m\u001b[0madd_hgvs_haplotype\u001b[0m\u001b[0;34m(\u001b[0m\u001b[0mhs\u001b[0m\u001b[0;34m)\u001b[0m\u001b[0;34m\u001b[0m\u001b[0;34m\u001b[0m\u001b[0m\n\u001b[0m\u001b[1;32m      4\u001b[0m \u001b[0;34m\u001b[0m\u001b[0m\n",
      "\u001b[0;32m/home/reece/projects/vmc-python/vmc/extra/bundlemanager.py\u001b[0m in \u001b[0;36madd_hgvs_haplotype\u001b[0;34m(self, hgvs_alleles, completeness)\u001b[0m\n\u001b[1;32m     97\u001b[0m \u001b[0;34m\u001b[0m\u001b[0m\n\u001b[1;32m     98\u001b[0m     \u001b[0;32mdef\u001b[0m \u001b[0madd_hgvs_haplotype\u001b[0m\u001b[0;34m(\u001b[0m\u001b[0mself\u001b[0m\u001b[0;34m,\u001b[0m \u001b[0mhgvs_alleles\u001b[0m\u001b[0;34m,\u001b[0m \u001b[0mcompleteness\u001b[0m\u001b[0;34m=\u001b[0m\u001b[0;34m\"UNKNOWN\"\u001b[0m\u001b[0;34m)\u001b[0m\u001b[0;34m:\u001b[0m\u001b[0;34m\u001b[0m\u001b[0;34m\u001b[0m\u001b[0m\n\u001b[0;32m---> 99\u001b[0;31m         \u001b[0malleles\u001b[0m \u001b[0;34m=\u001b[0m \u001b[0;34m[\u001b[0m\u001b[0mself\u001b[0m\u001b[0;34m.\u001b[0m\u001b[0madd_hgvs_allele\u001b[0m\u001b[0;34m(\u001b[0m\u001b[0mhgvs_allele\u001b[0m\u001b[0;34m)\u001b[0m \u001b[0;32mfor\u001b[0m \u001b[0mhgvs_allele\u001b[0m \u001b[0;32min\u001b[0m \u001b[0mhgvs_alleles\u001b[0m\u001b[0;34m]\u001b[0m\u001b[0;34m\u001b[0m\u001b[0;34m\u001b[0m\u001b[0m\n\u001b[0m\u001b[1;32m    100\u001b[0m \u001b[0;34m\u001b[0m\u001b[0m\n\u001b[1;32m    101\u001b[0m         \u001b[0;31m# create location from bounding box around alleles\u001b[0m\u001b[0;34m\u001b[0m\u001b[0;34m\u001b[0m\u001b[0;34m\u001b[0m\u001b[0m\n",
      "\u001b[0;32m/home/reece/projects/vmc-python/vmc/extra/bundlemanager.py\u001b[0m in \u001b[0;36m<listcomp>\u001b[0;34m(.0)\u001b[0m\n\u001b[1;32m     97\u001b[0m \u001b[0;34m\u001b[0m\u001b[0m\n\u001b[1;32m     98\u001b[0m     \u001b[0;32mdef\u001b[0m \u001b[0madd_hgvs_haplotype\u001b[0m\u001b[0;34m(\u001b[0m\u001b[0mself\u001b[0m\u001b[0;34m,\u001b[0m \u001b[0mhgvs_alleles\u001b[0m\u001b[0;34m,\u001b[0m \u001b[0mcompleteness\u001b[0m\u001b[0;34m=\u001b[0m\u001b[0;34m\"UNKNOWN\"\u001b[0m\u001b[0;34m)\u001b[0m\u001b[0;34m:\u001b[0m\u001b[0;34m\u001b[0m\u001b[0;34m\u001b[0m\u001b[0m\n\u001b[0;32m---> 99\u001b[0;31m         \u001b[0malleles\u001b[0m \u001b[0;34m=\u001b[0m \u001b[0;34m[\u001b[0m\u001b[0mself\u001b[0m\u001b[0;34m.\u001b[0m\u001b[0madd_hgvs_allele\u001b[0m\u001b[0;34m(\u001b[0m\u001b[0mhgvs_allele\u001b[0m\u001b[0;34m)\u001b[0m \u001b[0;32mfor\u001b[0m \u001b[0mhgvs_allele\u001b[0m \u001b[0;32min\u001b[0m \u001b[0mhgvs_alleles\u001b[0m\u001b[0;34m]\u001b[0m\u001b[0;34m\u001b[0m\u001b[0;34m\u001b[0m\u001b[0m\n\u001b[0m\u001b[1;32m    100\u001b[0m \u001b[0;34m\u001b[0m\u001b[0m\n\u001b[1;32m    101\u001b[0m         \u001b[0;31m# create location from bounding box around alleles\u001b[0m\u001b[0;34m\u001b[0m\u001b[0;34m\u001b[0m\u001b[0;34m\u001b[0m\u001b[0m\n",
      "\u001b[0;32m/home/reece/projects/vmc-python/vmc/extra/bundlemanager.py\u001b[0m in \u001b[0;36madd_hgvs_allele\u001b[0;34m(self, hgvs_allele)\u001b[0m\n\u001b[1;32m     58\u001b[0m         \u001b[0mhp\u001b[0m \u001b[0;34m=\u001b[0m \u001b[0m_get_hgvs_parser\u001b[0m\u001b[0;34m(\u001b[0m\u001b[0;34m)\u001b[0m\u001b[0;34m\u001b[0m\u001b[0;34m\u001b[0m\u001b[0m\n\u001b[1;32m     59\u001b[0m \u001b[0;34m\u001b[0m\u001b[0m\n\u001b[0;32m---> 60\u001b[0;31m         \u001b[0msv\u001b[0m \u001b[0;34m=\u001b[0m \u001b[0mhp\u001b[0m\u001b[0;34m.\u001b[0m\u001b[0mparse_hgvs_variant\u001b[0m\u001b[0;34m(\u001b[0m\u001b[0mhgvs_allele\u001b[0m\u001b[0;34m)\u001b[0m\u001b[0;34m\u001b[0m\u001b[0;34m\u001b[0m\u001b[0m\n\u001b[0m\u001b[1;32m     61\u001b[0m \u001b[0;34m\u001b[0m\u001b[0m\n\u001b[1;32m     62\u001b[0m         \u001b[0mns\u001b[0m \u001b[0;34m=\u001b[0m \u001b[0minfer_namespace\u001b[0m\u001b[0;34m(\u001b[0m\u001b[0msv\u001b[0m\u001b[0;34m.\u001b[0m\u001b[0mac\u001b[0m\u001b[0;34m)\u001b[0m\u001b[0;34m\u001b[0m\u001b[0;34m\u001b[0m\u001b[0m\n",
      "\u001b[0;32m/home/reece/projects/vmc-python/venv/3.6/lib/python3.6/site-packages/hgvs/parser.py\u001b[0m in \u001b[0;36mrule_fxn\u001b[0;34m(s)\u001b[0m\n\u001b[1;32m    116\u001b[0m                 \u001b[0;32mexcept\u001b[0m \u001b[0mometa\u001b[0m\u001b[0;34m.\u001b[0m\u001b[0mruntime\u001b[0m\u001b[0;34m.\u001b[0m\u001b[0mParseError\u001b[0m \u001b[0;32mas\u001b[0m \u001b[0mexc\u001b[0m\u001b[0;34m:\u001b[0m\u001b[0;34m\u001b[0m\u001b[0;34m\u001b[0m\u001b[0m\n\u001b[1;32m    117\u001b[0m                     raise HGVSParseError(\"{s}: char {exc.position}: {reason}\".format(\n\u001b[0;32m--> 118\u001b[0;31m                         s=s, exc=exc, reason=exc.formatReason()))\n\u001b[0m\u001b[1;32m    119\u001b[0m \u001b[0;34m\u001b[0m\u001b[0m\n\u001b[1;32m    120\u001b[0m             \u001b[0mrule_fxn\u001b[0m\u001b[0;34m.\u001b[0m\u001b[0m__doc__\u001b[0m \u001b[0;34m=\u001b[0m \u001b[0;34m\"parse string s using `%s' rule\"\u001b[0m \u001b[0;34m%\u001b[0m \u001b[0mrule_name\u001b[0m\u001b[0;34m\u001b[0m\u001b[0;34m\u001b[0m\u001b[0m\n",
      "\u001b[0;31mHGVSParseError\u001b[0m: ε1: char 3: end of input"
     ]
    }
   ],
   "source": [
    "for t in [\"p\"]:\n",
    "    for name, hs in haplotypes_hgvs.items():\n",
    "        h = vbm.add_hgvs_haplotype(hs)\n",
    "        "
   ]
  },
  {
   "cell_type": "code",
   "execution_count": null,
   "metadata": {},
   "outputs": [],
   "source": []
  }
 ],
 "metadata": {
  "kernelspec": {
   "display_name": "Python 3",
   "language": "python",
   "name": "python3"
  },
  "language_info": {
   "codemirror_mode": {
    "name": "ipython",
    "version": 3
   },
   "file_extension": ".py",
   "mimetype": "text/x-python",
   "name": "python",
   "nbconvert_exporter": "python",
   "pygments_lexer": "ipython3",
   "version": "3.6.7rc1"
  }
 },
 "nbformat": 4,
 "nbformat_minor": 2
}
