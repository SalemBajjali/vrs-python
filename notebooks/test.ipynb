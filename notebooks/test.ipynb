{
 "cells": [
  {
   "cell_type": "code",
   "execution_count": null,
   "metadata": {},
   "outputs": [],
   "source": [
    "# Creating an environment variable in order to change schema locally\n",
    "from os import environ\n",
    "environ[\"VRS_SCHEMA_DIR\"]='/Users/M278428/Documents/vrs-project/vrs/schema'"
   ]
  },
  {
   "cell_type": "code",
   "execution_count": null,
   "metadata": {},
   "outputs": [],
   "source": [
    "from ga4gh.vrs import __version__, models\n",
    "import json"
   ]
  },
  {
   "cell_type": "code",
   "execution_count": null,
   "metadata": {},
   "outputs": [],
   "source": [
    "def ppo(o, indent=2):\n",
    "    \"\"\"pretty print object as json\"\"\"\n",
    "    print(json.dumps(o.as_dict(), sort_keys=True, indent=indent))"
   ]
  },
  {
   "cell_type": "markdown",
   "metadata": {},
   "source": [
    "Creating a new scheme names Salem, to test if setting the environment variable is working with the os package above. \n",
    "This scheme must be writting in json format."
   ]
  },
  {
   "cell_type": "code",
   "execution_count": null,
   "metadata": {},
   "outputs": [],
   "source": [
    "test1 = models.EstimatedRange(value= 7, comparator = \"<\")\n",
    "ppo(test1)"
   ]
  },
  {
   "cell_type": "code",
   "execution_count": null,
   "metadata": {},
   "outputs": [],
   "source": [
    "# Creating the Interval\n",
    "complex_seq_interval = models.SequenceInterval(start= models.DefiniteRange(min = 44908821-100, max=44908821),\n",
    "                                            end = models.EstimatedRange(value = 44908821, comparator = \">\"))\n",
    "\n",
    "ppo(complex_seq_interval)"
   ]
  },
  {
   "cell_type": "code",
   "execution_count": null,
   "metadata": {},
   "outputs": [],
   "source": [
    "# Creating the location \n",
    "complex_sequence_location = models.SequenceLocation(\n",
    "    sequence_id = 'ga4gh:SQ.IIB53T8CNeJJdUqzn9V_JnRtQadwWCbl',\n",
    "    interval = complex_seq_interval)\n",
    "\n",
    "ppo(complex_sequence_location)"
   ]
  },
  {
   "cell_type": "code",
   "execution_count": null,
   "metadata": {},
   "outputs": [],
   "source": [
    "# Creating the DerivedSequenceExpression\n",
    "dse = models.DerivedSequenceExpression(\n",
    "    # For location= we are using SequenceLocaiton as the value\n",
    "    location = complex_sequence_location,\n",
    "    reverse_complement = False)\n",
    "ppo(dse)"
   ]
  },
  {
   "cell_type": "code",
   "execution_count": null,
   "metadata": {},
   "outputs": [],
   "source": [
    "# Allele 1 with DerivedSequenceExpression\n",
    "a1 = models.Allele(\n",
    "    location = complex_sequence_location,\n",
    "    state = models.DerivedSequenceExpression(location = models.SequenceLocation(sequence_id = 'ga4gh:SQ.IIB53T8CNeJJdUqzn9V_JnRtQadwWCbl',\n",
    "        interval = models.SequenceInterval(start=models.Number(value=44908821), end=models.Number(value=44908822) )),\n",
    "    reverse_complement = False)\n",
    ")\n",
    "ppo(a1)"
   ]
  },
  {
   "cell_type": "code",
   "execution_count": null,
   "metadata": {},
   "outputs": [],
   "source": [
    "from ga4gh.core import ga4gh_identify, ga4gh_serialize"
   ]
  },
  {
   "cell_type": "code",
   "execution_count": null,
   "metadata": {},
   "outputs": [],
   "source": [
    "print(ga4gh_serialize(a1))\n",
    "\n",
    "a1_serialize = ga4gh_serialize(a1)"
   ]
  },
  {
   "cell_type": "code",
   "execution_count": null,
   "metadata": {},
   "outputs": [],
   "source": [
    "import base64, hashlib\n",
    "\n",
    "def sha512t24u(blob):\n",
    "        digest = hashlib.sha512(blob).digest()\n",
    "        tdigest = digest[:24]\n",
    "        tdigest_b64u = base64.urlsafe_b64encode(tdigest).decode(\"ASCII\")\n",
    "        return tdigest_b64u"
   ]
  },
  {
   "cell_type": "code",
   "execution_count": null,
   "metadata": {},
   "outputs": [],
   "source": [
    "sha512t24u(a1_serialize)"
   ]
  },
  {
   "cell_type": "markdown",
   "metadata": {},
   "source": [
    "# CURIE\n",
    "ga4gh:VA.euCMbl_Nilu_xGBd7OOUmkIYcBIu6mzC"
   ]
  },
  {
   "cell_type": "code",
   "execution_count": null,
   "metadata": {},
   "outputs": [],
   "source": [
    "ga4gh_identify(a1)"
   ]
  },
  {
   "cell_type": "code",
   "execution_count": null,
   "metadata": {},
   "outputs": [],
   "source": [
    "#testing to see if the way i build my curie is the same with ga4gh_identifier function\n",
    "ga4gh_identify(a1) == \"ga4gh:VA.euCMbl_Nilu_xGBd7OOUmkIYcBIu6mzC\""
   ]
  },
  {
   "cell_type": "markdown",
   "metadata": {},
   "source": [
    "NOTE: important to look at the development jupyter notebook"
   ]
  },
  {
   "cell_type": "markdown",
   "metadata": {},
   "source": [
    "## NOTE: \n",
    "- The scheme that I edited is currently in a new branch called: dev_salem_1.0\n",
    "- In order to push this so i can see it on github i would need to type: git push origin HEAD \n",
    "\n",
    "-Update\n",
    "- Read through http://json-schema.org/understanding-json-schema/index.html to understand schema\n",
    "- Tested new branch to see if salem schema still worked while i was in the new branch. \n",
    "- Creating new schema called EstimatedRange this is a spin-off of InefiniteRange. \n",
    "- Then I integrated EstimatedRange with SequenceInterval\n",
    "    - One thing that was difficult to understand was if then statement strucutres: so I need to review that. \n",
    "- looked at how to set up breaking points to debug code.\n",
    "\n",
    "MORE notes Thursday meeting:\n",
    "\n",
    "-VRS calls gene fusions\n",
    "    - part of what we are going to do is not just evaluate the VRS model, but we are going to create alternative and suggested approaches. \n",
    "    - start pushing the to the HL7 side."
   ]
  },
  {
   "cell_type": "markdown",
   "metadata": {},
   "source": [
    "Todo list: \n",
    "- create a branch off of the vrs repo \n",
    "    -Why?: This will allow me to change the scheme from the original cloned repo. Having the original schema in my local repo is important, so if I mess up, I can always reference it. \n",
    "\n",
    "- Learn the json Schema \n",
    "    -How?: Follow this tutorial that is provided on the ga4gh VRS website https://json-schema.org/\n",
    "\n",
    "- Start creating and modifying schemes for practice \n",
    "    -How?: Ask Dr. Freimuth if he has suggestions\n",
    "    Dr. Freimuth suggestions; \n",
    "    -create a new polymorphic options to the schema. \n",
    "    - find some place in the schema where number is used and see if it would accept number or Salem\n",
    "    - call it something else!!!! Note salem\n",
    "    - can we subsitute it ?, where number is acceppeted so we can use number or new data type\n",
    "\n",
    "- Learn the debugging stages  \n",
    "\n",
    "- Expected to be a salem class, take salem strucutre and see what the equvivlane python object would be. \n",
    "\n",
    "if we take this salem stcutre how does this translation to python class or python instances\n",
    "\n",
    "\n",
    "\n",
    "Accomplished so far?: \n",
    "- took two coursera courses regarding git hub and how to use it\n",
    "- was able to inditify how to change the schema locally \n",
    "- idefitied the difference using the schema on the notebook vs in .py file\n",
    "\n",
    "Long term goal: \n",
    "- how to modify the schema using the sublocal vrs repo, currently I am using the vrs repo module that is not inside the vrs-python repo.\n",
    "\n",
    "\n",
    "Other TODO list on the domain side: WORK ON THE back ground. \n",
    "\n",
    "- Fussion \n",
    "    - Understand the exisiting stable vrs schema\n",
    "    - read about the Fussions\n",
    "    - we ahve to evaluate a technical and domain perspective of the proposed fussions persective.\n",
    "\n",
    "- NOTE: Re-watch the epic persective. \n",
    "\n",
    "- DONT WORRY about the code when it comes to VICC, just worry on the domain knowledge.\n",
    "- go throught the proposed VRS exention on fussion and see if we agree or not\n",
    "- then we make proposed changes.\n",
    "\n",
    "- Comments: \n",
    "    - listen to what epic is talking about, but dont worry if it doesn't make sense. Let it go\n",
    "    - gene features- are concepts that he has worked on with VRS. \n",
    "        - there is a stable version of vrs, make sure I have a pretty good handle: how it works, what does it mean, \n",
    "        - then I can get familiar with other branches: like categorical varation and fussions.\n",
    "\n",
    "Connected to other allied health employes - make sure im hooked up in that community. (Dr.sija)\n",
    "    - jeff would be for the CIM\n",
    "        - slack group, email list, virtuial coffe hour\n",
    "        - get embedded- start forming relationships\n",
    "        - be able to identify colleges: example Git info\n",
    "    - Allied health employess: Everyone else \n",
    "    - Faculty = phd and md (faculty track)"
   ]
  },
  {
   "cell_type": "markdown",
   "metadata": {},
   "source": [
    "# Example for Team meeting "
   ]
  },
  {
   "cell_type": "code",
   "execution_count": 1,
   "metadata": {},
   "outputs": [
    {
     "name": "stderr",
     "output_type": "stream",
     "text": [
      "Removing allOf attribute from CopyNumber to avoid python-jsonschema-objects error.\n",
      "Removing allOf attribute from SequenceInterval to avoid python-jsonschema-objects error.\n",
      "Removing allOf attribute from RepeatedSequenceExpression to avoid python-jsonschema-objects error.\n",
      "/Users/M278428/opt/anaconda3/envs/dev_ga4gh/lib/python3.9/site-packages/python_jsonschema_objects/__init__.py:49: UserWarning: Schema version http://json-schema.org/draft-07/schema not recognized. Some keywords and features may not be supported.\n",
      "  warnings.warn(\n"
     ]
    }
   ],
   "source": [
    "from ga4gh.core import sha512t24u\n",
    "from ga4gh.core import ga4gh_digest, ga4gh_identify, ga4gh_serialize\n",
    "from ga4gh.vrs import __version__, models\n",
    "from ga4gh.vrs.dataproxy import SeqRepoRESTDataProxy\n",
    "import json"
   ]
  },
  {
   "cell_type": "code",
   "execution_count": 2,
   "metadata": {},
   "outputs": [],
   "source": [
    "# Requires seqrepo REST interface is running on this URL (e.g., using docker image)\n",
    "seqrepo_rest_service_url = \"https://services.genomicmedlab.org/seqrepo\"\n",
    "dp = SeqRepoRESTDataProxy(base_url=seqrepo_rest_service_url)"
   ]
  },
  {
   "cell_type": "code",
   "execution_count": 3,
   "metadata": {},
   "outputs": [],
   "source": [
    "def ppo(o, indent=2):\n",
    "    \"\"\"pretty print object as json\"\"\"\n",
    "    print(json.dumps(o.as_dict(), sort_keys=True, indent=indent))"
   ]
  },
  {
   "cell_type": "markdown",
   "metadata": {},
   "source": [
    "#### Example variant is NC_000019.10:g.44908822C>T.\n",
    "#### This will be represented as a molecular varation\n",
    "* Allele class of molecular varation\n",
    "    * includes a Location and State\n",
    "#### Information that we have:\n",
    "* substitution C --> T\n",
    "* position @ 44908822. "
   ]
  },
  {
   "cell_type": "code",
   "execution_count": 10,
   "metadata": {},
   "outputs": [
    {
     "name": "stdout",
     "output_type": "stream",
     "text": [
      "First the NC_000019.10 into a VRS computed identifier, Then use g.44908822C>T to fill out the rest of the class object allele!\n"
     ]
    }
   ],
   "source": [
    "variant = 'NC_000019.10:g.44908822C>T'\n",
    "\n",
    "ref_id, info = variant.split(\":\")\n",
    "print('First the {comp_id} into a VRS computed identifier, Then use {body} to fill out the rest of the class object allele!'.format(comp_id = ref_id,body = info))"
   ]
  },
  {
   "cell_type": "markdown",
   "metadata": {},
   "source": [
    "#### Step 1: Translate NC_000019.10 into a VRS computed Identifier which will represent out CURIE.\n",
    "* This CURIE will be used in SequenceLocation, in the sequence_id attribute."
   ]
  },
  {
   "cell_type": "code",
   "execution_count": 11,
   "metadata": {},
   "outputs": [
    {
     "name": "stdout",
     "output_type": "stream",
     "text": [
      "CURIE id: ['ga4gh:SQ.IIB53T8CNeJJdUqzn9V_JnRtQadwWCbl']\n"
     ]
    }
   ],
   "source": [
    "comp_id = dp.translate_sequence_identifier(ref_id, \"ga4gh\")\n",
    "print(\"CURIE id: {value}\".format(value= comp_id))"
   ]
  },
  {
   "cell_type": "markdown",
   "metadata": {},
   "source": [
    "#### Step 2: We are representing this variant as an Allele object. \n",
    "* Allele Objects have 2 attributes: Location and Sequence\n",
    "* SequenceLocation has 2 attributes: SequenceInterval and sequence_id\n",
    "    * SequenceInterval will represent the location of the substitution that is occuring using inter-base coordinates\n",
    "        * The start and end can be represented using 3 various classes: (Number, DefiniteRange, and IndefiniteRange)\n",
    "    * sequence_id is the CURIE that was created above."
   ]
  },
  {
   "cell_type": "code",
   "execution_count": 13,
   "metadata": {},
   "outputs": [
    {
     "name": "stdout",
     "output_type": "stream",
     "text": [
      "{\n",
      "  \"end\": {\n",
      "    \"type\": \"Number\",\n",
      "    \"value\": 44908822\n",
      "  },\n",
      "  \"start\": {\n",
      "    \"type\": \"Number\",\n",
      "    \"value\": 44908821\n",
      "  },\n",
      "  \"type\": \"SequenceInterval\"\n",
      "}\n",
      "None\n"
     ]
    }
   ],
   "source": [
    "# To create our Sequence locaiton object we need to construct our SequenceInterval object.\n",
    "\n",
    "myinterval =  models.SequenceInterval(start=models.Number(value=44908821, type=\"Number\"), \n",
    "                                   end=models.Number(value=44908822, type=\"Number\"), \n",
    "                                   type=\"SequenceInterval\")\n",
    "print(ppo(myinterval))"
   ]
  },
  {
   "cell_type": "markdown",
   "metadata": {},
   "source": [
    "#### Step 3: Combine our SequenceInterval and sequence_id to create the SequenceLocation Object."
   ]
  },
  {
   "cell_type": "code",
   "execution_count": 8,
   "metadata": {},
   "outputs": [
    {
     "name": "stdout",
     "output_type": "stream",
     "text": [
      "{\n",
      "  \"interval\": {\n",
      "    \"end\": {\n",
      "      \"type\": \"Number\",\n",
      "      \"value\": 44908822\n",
      "    },\n",
      "    \"start\": {\n",
      "      \"type\": \"Number\",\n",
      "      \"value\": 44908821\n",
      "    },\n",
      "    \"type\": \"SequenceInterval\"\n",
      "  },\n",
      "  \"sequence_id\": \"ga4gh:SQ.IIB53T8CNeJJdUqzn9V_JnRtQadwWCbl\",\n",
      "  \"type\": \"SequenceLocation\"\n",
      "}\n",
      "None\n"
     ]
    }
   ],
   "source": [
    "mylocation =  models.SequenceLocation( \n",
    "        sequence_id = 'ga4gh:SQ.IIB53T8CNeJJdUqzn9V_JnRtQadwWCbl',\n",
    "        interval = myinterval)\n",
    "print(ppo(mylocation))"
   ]
  },
  {
   "cell_type": "markdown",
   "metadata": {},
   "source": [
    "#### Step 4: Represent the State by using literalSequenceExpression"
   ]
  },
  {
   "cell_type": "code",
   "execution_count": 9,
   "metadata": {},
   "outputs": [],
   "source": [
    "mystate = models.LiteralSequenceExpression(sequence=\"T\", type=\"LiteralSequenceExpression\")"
   ]
  },
  {
   "cell_type": "markdown",
   "metadata": {},
   "source": [
    "#### Step 5: Combine the location and state objects to create the allele object. "
   ]
  },
  {
   "cell_type": "code",
   "execution_count": 14,
   "metadata": {},
   "outputs": [
    {
     "name": "stdout",
     "output_type": "stream",
     "text": [
      "{\n",
      "  \"location\": {\n",
      "    \"interval\": {\n",
      "      \"end\": {\n",
      "        \"type\": \"Number\",\n",
      "        \"value\": 44908822\n",
      "      },\n",
      "      \"start\": {\n",
      "        \"type\": \"Number\",\n",
      "        \"value\": 44908821\n",
      "      },\n",
      "      \"type\": \"SequenceInterval\"\n",
      "    },\n",
      "    \"sequence_id\": \"ga4gh:SQ.IIB53T8CNeJJdUqzn9V_JnRtQadwWCbl\",\n",
      "    \"type\": \"SequenceLocation\"\n",
      "  },\n",
      "  \"state\": {\n",
      "    \"sequence\": \"T\",\n",
      "    \"type\": \"LiteralSequenceExpression\"\n",
      "  },\n",
      "  \"type\": \"Allele\"\n",
      "}\n",
      "None\n"
     ]
    }
   ],
   "source": [
    "myallele = models.Allele(location = mylocation, state = mystate, type = \"Allele\")\n",
    "print(ppo(myallele))"
   ]
  },
  {
   "cell_type": "code",
   "execution_count": 15,
   "metadata": {},
   "outputs": [],
   "source": [
    "a1 = models.Allele(\n",
    "    location = models.SequenceLocation( \n",
    "        sequence_id = 'ga4gh:SQ.IIB53T8CNeJJdUqzn9V_JnRtQadwWCbl',\n",
    "        interval = models.SequenceInterval(start=models.Number(value=44908821, type=\"Number\"), \n",
    "                                   end=models.Number(value=44908822, type=\"Number\"), \n",
    "                                   type=\"SequenceInterval\")\n",
    "    ),\n",
    "    state=models.LiteralSequenceExpression(sequence=\"T\", type=\"LiteralSequenceExpression\"),\n",
    "    type=\"Allele\"\n",
    ")"
   ]
  },
  {
   "cell_type": "code",
   "execution_count": null,
   "metadata": {},
   "outputs": [],
   "source": [
    "ppo(a1)"
   ]
  },
  {
   "cell_type": "code",
   "execution_count": null,
   "metadata": {},
   "outputs": [],
   "source": [
    "#Testing if they are both the same objects\n",
    "print(myallele == a1)"
   ]
  },
  {
   "cell_type": "code",
   "execution_count": null,
   "metadata": {},
   "outputs": [],
   "source": []
  }
 ],
 "metadata": {
  "kernelspec": {
   "display_name": "Python 3.9.12 ('dev_ga4gh')",
   "language": "python",
   "name": "python3"
  },
  "language_info": {
   "codemirror_mode": {
    "name": "ipython",
    "version": 3
   },
   "file_extension": ".py",
   "mimetype": "text/x-python",
   "name": "python",
   "nbconvert_exporter": "python",
   "pygments_lexer": "ipython3",
   "version": "3.9.12"
  },
  "orig_nbformat": 4,
  "vscode": {
   "interpreter": {
    "hash": "ef3fda8021ed6ddb2e03d54c76fcd0ea63d7a9b4b6698faed9d9d4d95a801b2a"
   }
  }
 },
 "nbformat": 4,
 "nbformat_minor": 2
}
