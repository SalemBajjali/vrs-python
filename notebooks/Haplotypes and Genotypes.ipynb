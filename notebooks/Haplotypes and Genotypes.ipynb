{
 "cells": [
  {
   "cell_type": "markdown",
   "metadata": {},
   "source": [
    "# Haplotypes and Genotypes\n",
    "\n",
    "This notebook demonstrates VRS Haplotypes and Genotypes using ApoE alleles.\n",
    "\n",
    "The ApoE gene is associated with risks of Alzheimer's disease and hypercholesterolemia. Risk of AD is attributed to haplotypes comprised of two locations, [rs429358](https://www.ncbi.nlm.nih.gov/snp/rs429358) and [rs7412](https://www.ncbi.nlm.nih.gov/snp/rs7412), both of which are C/T transitions.  The four ApoE haplotypes are defined by the two states (C and T) at the two locations shown below. (Each location is shown with GRCh37 , GRCh38, and RefSeq transcript coordinates.) \n",
    "\n",
    "```\n",
    "                             rs7412 \n",
    "                             NC_000019.9:g.45411941\n",
    "                             NC_000019.10:g.44908822\n",
    "                             NM_000041.3:c.526\n",
    "rs429358                        C          T\n",
    "NC_000019.9:g.45412079   C   APOE-ε4    APOE-ε1\n",
    "NC_000019.10:g.44908684  T   APOE-ε3    APOE-ε2\n",
    "NM_000041.3:c.388\n",
    "```\n",
    "\n",
    "Links:\n",
    "* [NCBI APOE Gene record](https://ghr.nlm.nih.gov/gene/APOE)\n",
    "* [ClinVar APO E4 record](https://www.ncbi.nlm.nih.gov/clinvar/variation/441269/)\n",
    "* [Snpedia APOE page](http://snpedia.com/index.php/APOE)"
   ]
  },
  {
   "cell_type": "markdown",
   "metadata": {},
   "source": [
    "# Setup"
   ]
  },
  {
   "cell_type": "code",
   "execution_count": 1,
   "metadata": {},
   "outputs": [],
   "source": [
    "from ga4gh.vr import models, class_refatt_map\n",
    "from ga4gh.core import ga4gh_identify, ga4gh_serialize, ga4gh_digest, ga4gh_enref, ga4gh_deref\n",
    "\n",
    "import json\n",
    "def ppo(o, indent=2):\n",
    "    \"\"\"pretty print object as json\"\"\"\n",
    "    print(json.dumps(o.as_dict(), sort_keys=True, indent=indent))\n",
    "    \n",
    "object_store = {}\n",
    "def vr_enref(o): return ga4gh_enref(o, cra_map=class_refatt_map, object_store=object_store)\n",
    "def vr_deref(o): return ga4gh_deref(o, cra_map=class_refatt_map, object_store=object_store)"
   ]
  },
  {
   "cell_type": "markdown",
   "metadata": {},
   "source": [
    "## APOE Alleles\n",
    "Construct the four Alleles above on GRCh38."
   ]
  },
  {
   "cell_type": "code",
   "execution_count": 2,
   "metadata": {},
   "outputs": [],
   "source": [
    "# NC_000019.10 (GRCh38 chr 19 primary assembly) sequence id\n",
    "# Typically, this would provided by a sequence repository that\n",
    "# translates accessions into ga4gh sequence identifiers\n",
    "sequence_id = \"ga4gh:SQ.IIB53T8CNeJJdUqzn9V_JnRtQadwWCbl\""
   ]
  },
  {
   "cell_type": "code",
   "execution_count": 3,
   "metadata": {},
   "outputs": [],
   "source": [
    "locations = {\n",
    "    \"rs429358_38\": models.Location(\n",
    "        sequence_id = sequence_id,\n",
    "        interval = models.Interval(start=44908683, end=44908684)),\n",
    "    \"rs7412_38\": models.Location(\n",
    "        sequence_id = sequence_id,\n",
    "        interval=models.Interval(start=44908821, end=44908822))\n",
    "}"
   ]
  },
  {
   "cell_type": "code",
   "execution_count": 4,
   "metadata": {},
   "outputs": [],
   "source": [
    "alleles = {\n",
    "    \"rs429358_38_C\": models.Allele(location=locations[\"rs429358_38\"], state=models.SequenceState(sequence=\"C\")),\n",
    "    \"rs429358_38_T\": models.Allele(location=locations[\"rs429358_38\"], state=models.SequenceState(sequence=\"T\")),\n",
    "    \"rs7412_38_C\": models.Allele(location=locations[\"rs7412_38\"], state=models.SequenceState(sequence=\"C\")),\n",
    "    \"rs7412_38_T\": models.Allele(location=locations[\"rs7412_38\"], state=models.SequenceState(sequence=\"T\")),\n",
    "}"
   ]
  },
  {
   "cell_type": "markdown",
   "metadata": {},
   "source": [
    "# Quick Overview"
   ]
  },
  {
   "cell_type": "code",
   "execution_count": 5,
   "metadata": {
    "scrolled": true
   },
   "outputs": [
    {
     "name": "stdout",
     "output_type": "stream",
     "text": [
      "{\n",
      "  \"completeness\": \"UNKNOWN\",\n",
      "  \"members\": [\n",
      "    {\n",
      "      \"location\": {\n",
      "        \"interval\": {\n",
      "          \"end\": 44908684,\n",
      "          \"start\": 44908683,\n",
      "          \"type\": \"SimpleInterval\"\n",
      "        },\n",
      "        \"sequence_id\": \"ga4gh:SQ.IIB53T8CNeJJdUqzn9V_JnRtQadwWCbl\",\n",
      "        \"type\": \"SequenceLocation\"\n",
      "      },\n",
      "      \"state\": {\n",
      "        \"sequence\": \"C\",\n",
      "        \"type\": \"SequenceState\"\n",
      "      },\n",
      "      \"type\": \"Allele\"\n",
      "    },\n",
      "    {\n",
      "      \"location\": {\n",
      "        \"interval\": {\n",
      "          \"end\": 44908822,\n",
      "          \"start\": 44908821,\n",
      "          \"type\": \"SimpleInterval\"\n",
      "        },\n",
      "        \"sequence_id\": \"ga4gh:SQ.IIB53T8CNeJJdUqzn9V_JnRtQadwWCbl\",\n",
      "        \"type\": \"SequenceLocation\"\n",
      "      },\n",
      "      \"state\": {\n",
      "        \"sequence\": \"T\",\n",
      "        \"type\": \"SequenceState\"\n",
      "      },\n",
      "      \"type\": \"Allele\"\n",
      "    }\n",
      "  ],\n",
      "  \"type\": \"Haplotype\"\n",
      "}\n"
     ]
    }
   ],
   "source": [
    "# Create a haplotype\n",
    "hap1 = models.Haplotype(members=[alleles[\"rs429358_38_C\"], alleles[\"rs7412_38_T\"]])\n",
    "ppo(hap1)"
   ]
  },
  {
   "cell_type": "code",
   "execution_count": 6,
   "metadata": {},
   "outputs": [
    {
     "data": {
      "text/plain": [
       "'ga4gh:VH.ZJLc3-U--2-R3v_lt8fKqsgk7c2tOeP_'"
      ]
     },
     "execution_count": 6,
     "metadata": {},
     "output_type": "execute_result"
    }
   ],
   "source": [
    "# Generated a computed identifier for the Haplotype\n",
    "ga4gh_identify(hap1)"
   ]
  },
  {
   "cell_type": "code",
   "execution_count": 7,
   "metadata": {},
   "outputs": [
    {
     "data": {
      "text/plain": [
       "'ga4gh:VH.ZJLc3-U--2-R3v_lt8fKqsgk7c2tOeP_'"
      ]
     },
     "execution_count": 7,
     "metadata": {},
     "output_type": "execute_result"
    }
   ],
   "source": [
    "# The order of haplotype members does not change GA4GH Computed Identifier\n",
    "hap2 = models.Haplotype(members=[alleles[\"rs7412_38_T\"], alleles[\"rs429358_38_C\"]])\n",
    "ga4gh_identify(hap2)"
   ]
  },
  {
   "cell_type": "code",
   "execution_count": 8,
   "metadata": {},
   "outputs": [
    {
     "data": {
      "text/plain": [
       "'ga4gh:VG.TLzW4FHpcMUiUi6qARHvUS4VM0r6JOxk'"
      ]
     },
     "execution_count": 8,
     "metadata": {},
     "output_type": "execute_result"
    }
   ],
   "source": [
    "# Create a Genotype and generate a computed identifier\n",
    "gen1 = models.Genotype(members=[hap1, hap1])\n",
    "ga4gh_identify(gen1)"
   ]
  },
  {
   "cell_type": "code",
   "execution_count": 10,
   "metadata": {},
   "outputs": [
    {
     "name": "stdout",
     "output_type": "stream",
     "text": [
      "{\n",
      "  \"completeness\": \"UNKNOWN\",\n",
      "  \"members\": [\n",
      "    \"ga4gh:VA.iXjilHZiyCEoD3wVMPMXG3B8BtYfL88H\",\n",
      "    \"ga4gh:VA.EgHPXXhULTwoP4-ACfs-YCXaeUQJBjH_\"\n",
      "  ],\n",
      "  \"type\": \"Haplotype\"\n",
      "}\n"
     ]
    }
   ],
   "source": [
    "# Haplotypes and Genotypes may be referenced for more concise representations\n",
    "hap1r = vr_enref(hap1)\n",
    "ppo(hap1r)"
   ]
  },
  {
   "cell_type": "code",
   "execution_count": 11,
   "metadata": {},
   "outputs": [
    {
     "name": "stdout",
     "output_type": "stream",
     "text": [
      "{\n",
      "  \"members\": [\n",
      "    \"ga4gh:VH.ZJLc3-U--2-R3v_lt8fKqsgk7c2tOeP_\",\n",
      "    \"ga4gh:VH.ZJLc3-U--2-R3v_lt8fKqsgk7c2tOeP_\"\n",
      "  ],\n",
      "  \"type\": \"Genotype\"\n",
      "}\n"
     ]
    }
   ],
   "source": [
    "gen1r = vr_enref(gen1)\n",
    "ppo(gen1r)"
   ]
  },
  {
   "cell_type": "markdown",
   "metadata": {},
   "source": [
    "# SCRAPS BELOW\n",
    "\n",
    "## APOE Haplotypes"
   ]
  },
  {
   "cell_type": "code",
   "execution_count": null,
   "metadata": {},
   "outputs": [],
   "source": [
    "haplotypes = {\n",
    "    \"APOE-ε1\": models.Haplotype(members=[alleles[\"rs429358_38_C\"], alleles[\"rs7412_38_T\"]]),\n",
    "    \"APOE-ε2\": models.Haplotype(members=[alleles[\"rs429358_38_T\"], alleles[\"rs7412_38_T\"]]),\n",
    "    \"APOE-ε3\": models.Haplotype(members=[alleles[\"rs429358_38_T\"], alleles[\"rs7412_38_C\"]]),\n",
    "    \"APOE-ε4\": models.Haplotype(members=[alleles[\"rs429358_38_C\"], alleles[\"rs7412_38_C\"]]),\n",
    "}"
   ]
  },
  {
   "cell_type": "code",
   "execution_count": null,
   "metadata": {},
   "outputs": [],
   "source": [
    "ppo(haplotypes[\"APOE-ε1\"])"
   ]
  },
  {
   "cell_type": "code",
   "execution_count": null,
   "metadata": {},
   "outputs": [],
   "source": [
    "ga4gh_identify(haplotypes[\"APOE-ε1\"])"
   ]
  },
  {
   "cell_type": "markdown",
   "metadata": {},
   "source": [
    "## Genotypes"
   ]
  },
  {
   "cell_type": "code",
   "execution_count": null,
   "metadata": {},
   "outputs": [],
   "source": []
  }
 ],
 "metadata": {
  "kernelspec": {
   "display_name": "Python 3.7.5 64-bit ('3.7': venv)",
   "language": "python",
   "name": "python37564bit37venv34cfccb4effc4716b0fb002b86ef6b73"
  },
  "language_info": {
   "codemirror_mode": {
    "name": "ipython",
    "version": 3
   },
   "file_extension": ".py",
   "mimetype": "text/x-python",
   "name": "python",
   "nbconvert_exporter": "python",
   "pygments_lexer": "ipython3",
   "version": "3.7.5"
  }
 },
 "nbformat": 4,
 "nbformat_minor": 2
}
