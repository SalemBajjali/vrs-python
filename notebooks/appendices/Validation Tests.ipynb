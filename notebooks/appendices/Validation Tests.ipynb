{
 "cells": [
  {
   "cell_type": "markdown",
   "metadata": {},
   "source": [
    "# Validation Test Data\n",
    "This notebook generates validation data that appears in ga4gh/vmc/tests/validation.yaml."
   ]
  },
  {
   "cell_type": "code",
   "execution_count": 11,
   "metadata": {},
   "outputs": [],
   "source": [
    "import vmc"
   ]
  },
  {
   "cell_type": "markdown",
   "metadata": {},
   "source": [
    "---\n",
    "## VMC digest\n",
    "The VMC digest is merely a convention for how to apply well-known existing technology to generating a unique fingerprint of a string object."
   ]
  },
  {
   "cell_type": "code",
   "execution_count": 12,
   "metadata": {},
   "outputs": [
    {
     "data": {
      "text/plain": [
       "'z4PhNX7vuL3xVChQ1m2AB9Yg5AULVxXc'"
      ]
     },
     "execution_count": 12,
     "metadata": {},
     "output_type": "execute_result"
    }
   ],
   "source": [
    "vmc.digest(\"\")"
   ]
  },
  {
   "cell_type": "code",
   "execution_count": 13,
   "metadata": {},
   "outputs": [
    {
     "data": {
      "text/plain": [
       "'z4PhNX7vuL3xVChQ'"
      ]
     },
     "execution_count": 13,
     "metadata": {},
     "output_type": "execute_result"
    }
   ],
   "source": [
    "vmc.digest(\"\", digest_size=12)"
   ]
  },
  {
   "cell_type": "code",
   "execution_count": 14,
   "metadata": {},
   "outputs": [
    {
     "data": {
      "text/plain": [
       "'aKF498dAxcJAqme6QYQ7EZ07-fiw8Kw2'"
      ]
     },
     "execution_count": 14,
     "metadata": {},
     "output_type": "execute_result"
    }
   ],
   "source": [
    "vmc.digest(\"ACGT\")"
   ]
  },
  {
   "cell_type": "code",
   "execution_count": 15,
   "metadata": {},
   "outputs": [],
   "source": [
    "interval = vmc.models.Interval(start=10,end=11)\n",
    "location = vmc.models.Location(sequence_id=\"VMC:GS_bogus\", interval=interval)"
   ]
  },
  {
   "cell_type": "code",
   "execution_count": 16,
   "metadata": {},
   "outputs": [
    {
     "data": {
      "text/plain": [
       "'RDaX1nGMg7D4M_Y9tiBQ_zG32cNkgkXQ'"
      ]
     },
     "execution_count": 16,
     "metadata": {},
     "output_type": "execute_result"
    }
   ],
   "source": [
    "vmc.digest(vmc.serialize(location))"
   ]
  },
  {
   "cell_type": "code",
   "execution_count": 17,
   "metadata": {},
   "outputs": [
    {
     "data": {
      "text/plain": [
       "'RDaX1nGMg7D4M_Y9tiBQ_zG32cNkgkXQ'"
      ]
     },
     "execution_count": 17,
     "metadata": {},
     "output_type": "execute_result"
    }
   ],
   "source": [
    "vmc.digest(location)"
   ]
  },
  {
   "cell_type": "markdown",
   "metadata": {},
   "source": [
    "---\n",
    "## Translating sequence identifiers to VMC sequence identifiers\n",
    "Sequence lookup services are required to implement VMC operations, but the exact implementation is up to the implementer. The most important need is to translate sequence identifiers from RefSeq or other sources into VMC sequence identifiers."
   ]
  },
  {
   "cell_type": "code",
   "execution_count": 19,
   "metadata": {},
   "outputs": [
    {
     "data": {
      "text/plain": [
       "'VMC:GS_IIB53T8CNeJJdUqzn9V_JnRtQadwWCbl'"
      ]
     },
     "execution_count": 19,
     "metadata": {},
     "output_type": "execute_result"
    }
   ],
   "source": [
    "vmc.get_vmc_sequence_identifier(\"RefSeq:NC_000019.10\")"
   ]
  },
  {
   "cell_type": "code",
   "execution_count": 20,
   "metadata": {},
   "outputs": [
    {
     "data": {
      "text/plain": [
       "'VMC:GS_IIB53T8CNeJJdUqzn9V_JnRtQadwWCbl'"
      ]
     },
     "execution_count": 20,
     "metadata": {},
     "output_type": "execute_result"
    }
   ],
   "source": [
    "vmc.get_vmc_sequence_identifier(\"NC_000019.10\")"
   ]
  },
  {
   "cell_type": "markdown",
   "metadata": {},
   "source": [
    "---\n",
    "## Objects"
   ]
  },
  {
   "cell_type": "code",
   "execution_count": 30,
   "metadata": {},
   "outputs": [],
   "source": [
    "def dump(o): print(vmc.serialize(o)); print(vmc.digest(o)); print(vmc.ir_to_id(vmc.computed_identifier(o)))"
   ]
  },
  {
   "cell_type": "code",
   "execution_count": 22,
   "metadata": {},
   "outputs": [
    {
     "data": {
      "text/plain": [
       "'<Interval|44908683|44908684>'"
      ]
     },
     "execution_count": 22,
     "metadata": {},
     "output_type": "execute_result"
    }
   ],
   "source": [
    "interval = vmc.models.Interval(start=44908683, end=44908684)\n",
    "vmc.serialize(interval)"
   ]
  },
  {
   "cell_type": "code",
   "execution_count": 26,
   "metadata": {},
   "outputs": [
    {
     "name": "stdout",
     "output_type": "stream",
     "text": [
      "<Location|VMC:GS_IIB53T8CNeJJdUqzn9V_JnRtQadwWCbl|<Interval|44908683|44908684>>\n",
      "L1IS6jOwSUsOpKihGRcqxHul1IwbV-1s\n",
      "VMC:GL_L1IS6jOwSUsOpKihGRcqxHul1IwbV-1s\n"
     ]
    }
   ],
   "source": [
    "location = vmc.models.Location(sequence_id=\"VMC:GS_IIB53T8CNeJJdUqzn9V_JnRtQadwWCbl\", interval=interval)\n",
    "location.id = vmc.computed_id(location)\n",
    "dump(location)"
   ]
  },
  {
   "cell_type": "code",
   "execution_count": 29,
   "metadata": {},
   "outputs": [
    {
     "name": "stdout",
     "output_type": "stream",
     "text": [
      "<Allele|VMC:GL_L1IS6jOwSUsOpKihGRcqxHul1IwbV-1s|C>\n",
      "zsJuMckKGajqHCl16sxKQJtBMjGrFHHZ\n",
      "VMC:GA_zsJuMckKGajqHCl16sxKQJtBMjGrFHHZ\n"
     ]
    }
   ],
   "source": [
    "allele = vmc.models.Allele(location_id=\"VMC:GL_L1IS6jOwSUsOpKihGRcqxHul1IwbV-1s\", state=\"C\")\n",
    "allele.id = vmc.computed_id(allele)\n",
    "dump(allele)"
   ]
  },
  {
   "cell_type": "code",
   "execution_count": 32,
   "metadata": {},
   "outputs": [
    {
     "name": "stdout",
     "output_type": "stream",
     "text": [
      "<Haplotype||COMPLETE|[VMC:GA__8rLiy7YkQDNy-t536RpVFGxIDiWLr6J;VMC:GA_zsJuMckKGajqHCl16sxKQJtBMjGrFHHZ]>\n",
      "xk_4sKZKfwD7ol3H89mDShrBT3dfu5Aq\n",
      "VMC:GH_xk_4sKZKfwD7ol3H89mDShrBT3dfu5Aq\n"
     ]
    }
   ],
   "source": [
    "haplotype = vmc.models.Haplotype(completeness=\"COMPLETE\",\n",
    "                                 allele_ids=[\"VMC:GA_zsJuMckKGajqHCl16sxKQJtBMjGrFHHZ\", \n",
    "                                             \"VMC:GA__8rLiy7YkQDNy-t536RpVFGxIDiWLr6J\"])\n",
    "haplotype.id = vmc.computed_id(haplotype)\n",
    "dump(haplotype)"
   ]
  },
  {
   "cell_type": "code",
   "execution_count": 33,
   "metadata": {},
   "outputs": [
    {
     "name": "stdout",
     "output_type": "stream",
     "text": [
      "<Genotype|COMPLETE|[VMC:GH_xk_4sKZKfwD7ol3H89mDShrBT3dfu5Aq;VMC:GH_xk_4sKZKfwD7ol3H89mDShrBT3dfu5Aq]>\n",
      "Pv97fICMeVRmowtCwioFpoFmrsOkZ7es\n",
      "VMC:GG_Pv97fICMeVRmowtCwioFpoFmrsOkZ7es\n"
     ]
    }
   ],
   "source": [
    "genotype = vmc.models.Genotype(completeness=\"COMPLETE\",\n",
    "                               haplotype_ids=[\"VMC:GH_xk_4sKZKfwD7ol3H89mDShrBT3dfu5Aq\", \n",
    "                                              \"VMC:GH_xk_4sKZKfwD7ol3H89mDShrBT3dfu5Aq\"])\n",
    "genotype.id = vmc.computed_id(genotype)\n",
    "dump(genotype)"
   ]
  },
  {
   "cell_type": "code",
   "execution_count": null,
   "metadata": {},
   "outputs": [],
   "source": []
  }
 ],
 "metadata": {
  "kernelspec": {
   "display_name": "Python 3",
   "language": "python",
   "name": "python3"
  },
  "language_info": {
   "codemirror_mode": {
    "name": "ipython",
    "version": 3
   },
   "file_extension": ".py",
   "mimetype": "text/x-python",
   "name": "python",
   "nbconvert_exporter": "python",
   "pygments_lexer": "ipython3",
   "version": "3.6.7rc1"
  }
 },
 "nbformat": 4,
 "nbformat_minor": 2
}
