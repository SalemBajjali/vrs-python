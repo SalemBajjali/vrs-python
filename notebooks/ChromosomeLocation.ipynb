{
 "cells": [
  {
   "cell_type": "markdown",
   "metadata": {},
   "source": [
    "# ChromosomeLocations\n",
    "\n",
    "Feature-based locations are VRS Locations that are defined by reference to certain landmarks or features. The currently supported Feature-Based Locations are ChromosomeLocation and GeneLocation classes."
   ]
  },
  {
   "cell_type": "code",
   "execution_count": 1,
   "metadata": {},
   "outputs": [],
   "source": [
    "from ga4gh.vrs import models\n",
    "from ga4gh.core import ga4gh_identify, ga4gh_serialize"
   ]
  },
  {
   "cell_type": "markdown",
   "metadata": {},
   "source": [
    "## ChromosomeLocation"
   ]
  },
  {
   "cell_type": "code",
   "execution_count": 2,
   "metadata": {},
   "outputs": [
    {
     "data": {
      "text/plain": [
       "{'chr': '11',\n",
       " 'interval': {'end': 'q22.3', 'start': 'q22.2', 'type': 'NamedInterval'},\n",
       " 'species_id': 'taxonomy:9606',\n",
       " 'type': 'ChromosomeLocation'}"
      ]
     },
     "execution_count": 2,
     "metadata": {},
     "output_type": "execute_result"
    }
   ],
   "source": [
    "cbl = models.ChromosomeLocation(species_id=\"taxonomy:9606\",\n",
    "                                 chr=\"11\",\n",
    "                                 interval=models.NamedInterval(start=\"q22.2\", end=\"q22.3\"))\n",
    "cbl.as_dict()"
   ]
  },
  {
   "cell_type": "markdown",
   "metadata": {},
   "source": [
    "## Serialization and Identification"
   ]
  },
  {
   "cell_type": "code",
   "execution_count": 3,
   "metadata": {},
   "outputs": [
    {
     "data": {
      "text/plain": [
       "b'{\"chr\":\"11\",\"interval\":{\"end\":\"q22.3\",\"start\":\"q22.2\",\"type\":\"NamedInterval\"},\"species_id\":\"taxonomy:9606\",\"type\":\"ChromosomeLocation\"}'"
      ]
     },
     "execution_count": 3,
     "metadata": {},
     "output_type": "execute_result"
    }
   ],
   "source": [
    "ga4gh_serialize(cbl)"
   ]
  },
  {
   "cell_type": "code",
   "execution_count": 4,
   "metadata": {},
   "outputs": [
    {
     "data": {
      "text/plain": [
       "'ga4gh:VCL.8qcHl0xSz6PCwS7ZKQcj4hweFJhkosf-'"
      ]
     },
     "execution_count": 4,
     "metadata": {},
     "output_type": "execute_result"
    }
   ],
   "source": [
    "ga4gh_identify(cbl)"
   ]
  },
  {
   "cell_type": "markdown",
   "metadata": {},
   "source": [
    "### Localization"
   ]
  },
  {
   "cell_type": "code",
   "execution_count": 5,
   "metadata": {},
   "outputs": [],
   "source": [
    "from ga4gh.vrs.extras.localizer import Localizer\n",
    "lr = Localizer()"
   ]
  },
  {
   "cell_type": "code",
   "execution_count": 6,
   "metadata": {},
   "outputs": [
    {
     "data": {
      "text/plain": [
       "{'GRCh37': {'interval': {'end': 110400000,\n",
       "   'start': 102100000,\n",
       "   'type': 'SimpleInterval'},\n",
       "  'sequence_id': 'refseq:NC_000011.9',\n",
       "  'type': 'SequenceLocation'},\n",
       " 'GRCh38': {'interval': {'end': 110600000,\n",
       "   'start': 102300000,\n",
       "   'type': 'SimpleInterval'},\n",
       "  'sequence_id': 'refseq:NC_000011.10',\n",
       "  'type': 'SequenceLocation'}}"
      ]
     },
     "execution_count": 6,
     "metadata": {},
     "output_type": "execute_result"
    }
   ],
   "source": [
    "{assy: lr.localize_named_feature(cbl, assy).as_dict() for assy in (\"GRCh37\", \"GRCh38\")}"
   ]
  },
  {
   "cell_type": "code",
   "execution_count": null,
   "metadata": {},
   "outputs": [],
   "source": []
  }
 ],
 "metadata": {
  "kernelspec": {
   "display_name": "Python 3",
   "language": "python",
   "name": "python3"
  },
  "language_info": {
   "codemirror_mode": {
    "name": "ipython",
    "version": 3
   },
   "file_extension": ".py",
   "mimetype": "text/x-python",
   "name": "python",
   "nbconvert_exporter": "python",
   "pygments_lexer": "ipython3",
   "version": "3.8.2"
  }
 },
 "nbformat": 4,
 "nbformat_minor": 4
}
