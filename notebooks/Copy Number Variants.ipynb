{
 "cells": [
  {
   "cell_type": "markdown",
   "id": "a571038b",
   "metadata": {},
   "source": [
    "# How To Represent Copy Number Variants (CNVs)"
   ]
  },
  {
   "cell_type": "code",
   "execution_count": 7,
   "id": "786543b0",
   "metadata": {},
   "outputs": [],
   "source": [
    "from ga4gh.vrs import models\n",
    "from ga4gh.vrs.extras.translator import Translator\n",
    "from ga4gh.vrs.dataproxy import SeqRepoRESTDataProxy\n",
    "\n",
    "import json\n",
    "from IPython.display import Image\n",
    "\n"
   ]
  },
  {
   "cell_type": "code",
   "execution_count": 2,
   "id": "f9d3866c",
   "metadata": {},
   "outputs": [],
   "source": [
    "# a basic example. Gene APOE - apolipoprotein E has (at least) three copies:\n",
    "\n",
    "indefrange = models.IndefiniteRange(comparator=\">=\", value=3)\n",
    "\n",
    "apoe_cn = models.CopyNumber(copies = indefrange ,                         \n",
    "                            subject = models.Gene(gene_id=\"ncbigene:348\")\n",
    "                           )\n",
    "\n"
   ]
  },
  {
   "cell_type": "code",
   "execution_count": 3,
   "id": "95f64e9c",
   "metadata": {},
   "outputs": [
    {
     "name": "stdout",
     "output_type": "stream",
     "text": [
      "{\n",
      " \"type\": \"CopyNumber\",\n",
      " \"subject\": {\n",
      "  \"type\": \"Gene\",\n",
      "  \"gene_id\": \"ncbigene:348\"\n",
      " },\n",
      " \"copies\": {\n",
      "  \"type\": \"IndefiniteRange\",\n",
      "  \"value\": 3,\n",
      "  \"comparator\": \">=\"\n",
      " }\n",
      "}\n"
     ]
    }
   ],
   "source": [
    "print (json.dumps(apoe_cn.as_dict(), indent=1))"
   ]
  },
  {
   "cell_type": "markdown",
   "id": "61b1f0e6",
   "metadata": {},
   "source": [
    "## Example BRCA1 exon duplication\n",
    "![BRCA1 exon duplication](images/BRCA1_exon_dup.png)\n"
   ]
  },
  {
   "cell_type": "code",
   "execution_count": 4,
   "id": "843fb13d",
   "metadata": {
    "scrolled": true
   },
   "outputs": [
    {
     "name": "stdout",
     "output_type": "stream",
     "text": [
      "{\n",
      " \"type\": \"CopyNumber\",\n",
      " \"subject\": {\n",
      "  \"type\": \"DerivedSequenceExpression\",\n",
      "  \"location\": {\n",
      "   \"type\": \"SequenceLocation\",\n",
      "   \"sequence_id\": \"refseq:NC_000017.10\",\n",
      "   \"interval\": {\n",
      "    \"type\": \"SequenceInterval\",\n",
      "    \"start\": {\n",
      "     \"type\": \"Number\",\n",
      "     \"value\": 41209048\n",
      "    },\n",
      "    \"end\": {\n",
      "     \"type\": \"Number\",\n",
      "     \"value\": 41209172\n",
      "    }\n",
      "   }\n",
      "  },\n",
      "  \"reverse_complement\": false\n",
      " },\n",
      " \"copies\": {\n",
      "  \"type\": \"IndefiniteRange\",\n",
      "  \"value\": 3,\n",
      "  \"comparator\": \">=\"\n",
      " }\n",
      "}\n"
     ]
    }
   ],
   "source": [
    "# Let's define an exon that has three copies: \n",
    "# This exon has three copies, and we don't know the exact breakpoints.\n",
    "# They are somewhere in the intron (which did not get sequenced)\n",
    "# NC_000017.10:g.41209048-?_41209172+?dup\n",
    "\n",
    "# first let's specify the sequence interval and chromosome that got duplicated\n",
    "interval = models.SequenceInterval(start=models.Number(value=41209048), end=models.Number(value=41209172))\n",
    "location = models.SequenceLocation(interval=interval,\n",
    "                                  sequence_id=\"refseq:NC_000017.10\")\n",
    "\n",
    "# For a CNV we declare this derived from this location. \n",
    "# Use of DerivedSequenceExpression indicates that the derived sequence is approximately equivalent \n",
    "# to the reference indicated, and is typically used for describing large regions for variation concepts \n",
    "# where the exact sequence is inconsequential\n",
    "# Note, if we would KNOW the duplication is in tandem, we would use RepeatedSequenceExpression\n",
    "# but we actually don't know where in the genome the duplication was inserted in this case.\n",
    "derivedseq = models.DerivedSequenceExpression(location=location, reverse_complement=False)\n",
    "\n",
    "# and finally we express how many copies of this derived sequence can be found \n",
    "\n",
    "# note, we know there are at least 3 copies (but not 100% sure there might not be more.)\n",
    "# that means we use an IndefiniteRange and provide the comparator\n",
    "copies = models.IndefiniteRange(value=3, comparator=\">=\")\n",
    "\n",
    "# and finally this comes together as the CopyNumber object:\n",
    "cn = models.CopyNumber(copies=copies, subject = derivedseq)\n",
    "\n",
    "print (json.dumps(cn.as_dict(), indent=1))"
   ]
  },
  {
   "cell_type": "markdown",
   "id": "bcc5f0fc",
   "metadata": {},
   "source": [
    "## Example MME exon tandem duplication\n",
    "![MME exon tandem duplication](images/MME_exon_tandem_dup.png)\n",
    "\n",
    "\n",
    "Here a different example. This CNV event is known to be in tandem.\n"
   ]
  },
  {
   "cell_type": "code",
   "execution_count": 5,
   "id": "0692c207",
   "metadata": {},
   "outputs": [],
   "source": [
    "# let's start again with expressing the location which got duplicated.\n",
    "interval = models.SequenceInterval(start=models.Number(value=154886500), end=models.Number(value=41209172))\n",
    "location = models.SequenceLocation(interval=interval,\n",
    "                                  sequence_id=\"refseq:NC_000003.11\")"
   ]
  },
  {
   "cell_type": "code",
   "execution_count": 6,
   "id": "d74a47b2",
   "metadata": {},
   "outputs": [
    {
     "name": "stdout",
     "output_type": "stream",
     "text": [
      "{\n",
      " \"type\": \"CopyNumber\",\n",
      " \"subject\": {\n",
      "  \"type\": \"RepeatedSequenceExpression\",\n",
      "  \"seq_expr\": {\n",
      "   \"type\": \"DerivedSequenceExpression\",\n",
      "   \"location\": {\n",
      "    \"type\": \"SequenceLocation\",\n",
      "    \"sequence_id\": \"refseq:NC_000003.11\",\n",
      "    \"interval\": {\n",
      "     \"type\": \"SequenceInterval\",\n",
      "     \"start\": {\n",
      "      \"type\": \"Number\",\n",
      "      \"value\": 154886500\n",
      "     },\n",
      "     \"end\": {\n",
      "      \"type\": \"Number\",\n",
      "      \"value\": 41209172\n",
      "     }\n",
      "    }\n",
      "   },\n",
      "   \"reverse_complement\": false\n",
      "  },\n",
      "  \"count\": {\n",
      "   \"type\": \"IndefiniteRange\",\n",
      "   \"value\": 4,\n",
      "   \"comparator\": \">=\"\n",
      "  }\n",
      " },\n",
      " \"copies\": {\n",
      "  \"type\": \"IndefiniteRange\",\n",
      "  \"value\": 4,\n",
      "  \"comparator\": \">=\"\n",
      " }\n",
      "}\n"
     ]
    }
   ],
   "source": [
    "# in contrast to the previous example, where we were not confident about this being a tandem duplication event, here we are. \n",
    "# as such we use RepeatedSequenceExpression\n",
    "derivedseq = models.DerivedSequenceExpression(location=location, reverse_complement=False)\n",
    "\n",
    "cnv_count = models.IndefiniteRange(comparator=\">=\", value=4)\n",
    "\n",
    "repeatedexp = models.RepeatedSequenceExpression(seq_expr=derivedseq, count=cnv_count)\n",
    "\n",
    "# and finally this comes together as the CopyNumber object:\n",
    "tandem_cn = models.CopyNumber(copies=cnv_count, subject = repeatedexp)\n",
    "\n",
    "print (json.dumps(tandem_cn.as_dict(), indent=1))\n"
   ]
  },
  {
   "cell_type": "code",
   "execution_count": null,
   "id": "f7a38286",
   "metadata": {},
   "outputs": [],
   "source": []
  }
 ],
 "metadata": {
  "kernelspec": {
   "display_name": "Python 3 (ipykernel)",
   "language": "python",
   "name": "python3"
  },
  "language_info": {
   "codemirror_mode": {
    "name": "ipython",
    "version": 3
   },
   "file_extension": ".py",
   "mimetype": "text/x-python",
   "name": "python",
   "nbconvert_exporter": "python",
   "pygments_lexer": "ipython3",
   "version": "3.9.6"
  }
 },
 "nbformat": 4,
 "nbformat_minor": 5
}
