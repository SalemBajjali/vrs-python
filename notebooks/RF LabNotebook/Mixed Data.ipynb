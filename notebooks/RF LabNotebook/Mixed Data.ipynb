{
 "cells": [
  {
   "cell_type": "markdown",
   "id": "9e52a59e",
   "metadata": {},
   "source": [
    "## This notebook will break down how to convert mixed data to VRS-Allele Objects"
   ]
  },
  {
   "cell_type": "code",
   "execution_count": 5,
   "id": "2c271b75",
   "metadata": {},
   "outputs": [],
   "source": [
    "from ga4gh.core import sha512t24u\n",
    "from ga4gh.core import ga4gh_digest, ga4gh_identify, ga4gh_serialize\n",
    "from ga4gh.vrs import __version__, models\n",
    "from ga4gh.vrs.dataproxy import SeqRepoRESTDataProxy\n",
    "import json\n",
    "from ga4gh.vrs.extras.translator import Translator"
   ]
  },
  {
   "cell_type": "code",
   "execution_count": 6,
   "id": "c5844776",
   "metadata": {},
   "outputs": [],
   "source": [
    "def ppo(o, indent=2):\n",
    "    \"\"\"pretty print object as json\"\"\"\n",
    "    print(json.dumps(o.as_dict(), sort_keys=True, indent=indent))\n",
    "def pjson(o, indent=2):\n",
    "    \"\"\"pretty print object as json\"\"\"\n",
    "    return json.dumps(o.as_dict(), sort_keys=True, indent=indent)"
   ]
  },
  {
   "cell_type": "code",
   "execution_count": 7,
   "id": "420c64e8",
   "metadata": {},
   "outputs": [],
   "source": [
    "# Requires seqrepo REST interface is running on this URL (e.g., using docker image)\n",
    "seqrepo_rest_service_url = \"https://services.genomicmedlab.org/seqrepo\"\n",
    "dp = SeqRepoRESTDataProxy(base_url=seqrepo_rest_service_url)"
   ]
  },
  {
   "cell_type": "code",
   "execution_count": 8,
   "id": "a93ed3a9",
   "metadata": {},
   "outputs": [],
   "source": [
    "tlr = Translator(data_proxy=dp,\n",
    "                 translate_sequence_identifiers=True,  # default\n",
    "                 normalize=True,                       # default\n",
    "                 identify=False)                        # default\n",
    "\n"
   ]
  },
  {
   "cell_type": "code",
   "execution_count": 10,
   "id": "b58b83db",
   "metadata": {},
   "outputs": [],
   "source": [
    "# list of hgvs expressions\n",
    "mixed_exprs =[\n",
    "    \"NC_000007.14:g.55181320A>T\",\n",
    "    \"NC_000007.14:g.55181220del\", \n",
    "    \"NC_000019.10:44908821:C:T\", \n",
    "    \"NC_000019.10:41354681:C:T\",\n",
    "    \"7-140453136-A-A\", \n",
    "    \"16-2138199-GTGAG-G\" \n",
    "] "
   ]
  },
  {
   "cell_type": "code",
   "execution_count": 11,
   "id": "856cf1e7",
   "metadata": {},
   "outputs": [
    {
     "name": "stdout",
     "output_type": "stream",
     "text": [
      "ga4gh:VA.FIddvX-n3hQL-Sk5IfnzelQFU-eEr046\n",
      "{\n",
      "  \"location\": {\n",
      "    \"interval\": {\n",
      "      \"end\": {\n",
      "        \"type\": \"Number\",\n",
      "        \"value\": 7674797\n",
      "      },\n",
      "      \"start\": {\n",
      "        \"type\": \"Number\",\n",
      "        \"value\": 7674796\n",
      "      },\n",
      "      \"type\": \"SequenceInterval\"\n",
      "    },\n",
      "    \"sequence_id\": \"ga4gh:SQ.dLZ15tNO1Ur0IcGjwc3Sdi_0A6Yf4zm7\",\n",
      "    \"type\": \"SequenceLocation\"\n",
      "  },\n",
      "  \"state\": {\n",
      "    \"sequence\": \"A\",\n",
      "    \"type\": \"LiteralSequenceExpression\"\n",
      "  },\n",
      "  \"type\": \"Allele\"\n",
      "}\n",
      "ga4gh:VA.zzIpoHntS5efItp-Nse1SPqzmHlM4QcI\n",
      "{\n",
      "  \"location\": {\n",
      "    \"interval\": {\n",
      "      \"end\": {\n",
      "        \"type\": \"Number\",\n",
      "        \"value\": 31574705\n",
      "      },\n",
      "      \"start\": {\n",
      "        \"type\": \"Number\",\n",
      "        \"value\": 31574704\n",
      "      },\n",
      "      \"type\": \"SequenceInterval\"\n",
      "    },\n",
      "    \"sequence_id\": \"ga4gh:SQ.0iKlIQk2oZLoeOG9P1riRU6hvL5Ux8TV\",\n",
      "    \"type\": \"SequenceLocation\"\n",
      "  },\n",
      "  \"state\": {\n",
      "    \"sequence\": \"T\",\n",
      "    \"type\": \"LiteralSequenceExpression\"\n",
      "  },\n",
      "  \"type\": \"Allele\"\n",
      "}\n",
      "ga4gh:VA.CxiA_hvYbkD8Vqwjhx5AYuyul4mtlkpD\n",
      "{\n",
      "  \"location\": {\n",
      "    \"interval\": {\n",
      "      \"end\": {\n",
      "        \"type\": \"Number\",\n",
      "        \"value\": 44908822\n",
      "      },\n",
      "      \"start\": {\n",
      "        \"type\": \"Number\",\n",
      "        \"value\": 44908821\n",
      "      },\n",
      "      \"type\": \"SequenceInterval\"\n",
      "    },\n",
      "    \"sequence_id\": \"ga4gh:SQ.IIB53T8CNeJJdUqzn9V_JnRtQadwWCbl\",\n",
      "    \"type\": \"SequenceLocation\"\n",
      "  },\n",
      "  \"state\": {\n",
      "    \"sequence\": \"T\",\n",
      "    \"type\": \"LiteralSequenceExpression\"\n",
      "  },\n",
      "  \"type\": \"Allele\"\n",
      "}\n",
      "ga4gh:VA.Ew6otYIRsUmjRgfJzo7qGHjyEaP7xzNI\n",
      "{\n",
      "  \"location\": {\n",
      "    \"interval\": {\n",
      "      \"end\": {\n",
      "        \"type\": \"Number\",\n",
      "        \"value\": 41354682\n",
      "      },\n",
      "      \"start\": {\n",
      "        \"type\": \"Number\",\n",
      "        \"value\": 41354681\n",
      "      },\n",
      "      \"type\": \"SequenceInterval\"\n",
      "    },\n",
      "    \"sequence_id\": \"ga4gh:SQ.IIB53T8CNeJJdUqzn9V_JnRtQadwWCbl\",\n",
      "    \"type\": \"SequenceLocation\"\n",
      "  },\n",
      "  \"state\": {\n",
      "    \"sequence\": \"T\",\n",
      "    \"type\": \"LiteralSequenceExpression\"\n",
      "  },\n",
      "  \"type\": \"Allele\"\n",
      "}\n"
     ]
    }
   ],
   "source": [
    "for expr in mixed_exprs:\n",
    "    trans = tlr.translate_from(expr)\n",
    "    vrs_id = ga4gh_identify(trans)\n",
    "    print(vrs_id, pjson(trans), sep = '\\n')\n"
   ]
  },
  {
   "cell_type": "code",
   "execution_count": null,
   "id": "4e081380",
   "metadata": {},
   "outputs": [],
   "source": []
  }
 ],
 "metadata": {
  "kernelspec": {
   "display_name": "Python 3 (ipykernel)",
   "language": "python",
   "name": "python3"
  },
  "language_info": {
   "codemirror_mode": {
    "name": "ipython",
    "version": 3
   },
   "file_extension": ".py",
   "mimetype": "text/x-python",
   "name": "python",
   "nbconvert_exporter": "python",
   "pygments_lexer": "ipython3",
   "version": "3.9.15"
  },
  "toc": {
   "base_numbering": 1,
   "nav_menu": {},
   "number_sections": true,
   "sideBar": true,
   "skip_h1_title": false,
   "title_cell": "Table of Contents",
   "title_sidebar": "Contents",
   "toc_cell": false,
   "toc_position": {},
   "toc_section_display": true,
   "toc_window_display": false
  }
 },
 "nbformat": 4,
 "nbformat_minor": 5
}
