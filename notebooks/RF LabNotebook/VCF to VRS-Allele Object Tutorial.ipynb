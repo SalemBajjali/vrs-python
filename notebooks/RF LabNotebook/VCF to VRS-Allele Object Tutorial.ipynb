{
 "cells": [
  {
   "cell_type": "markdown",
   "id": "9e52a59e",
   "metadata": {},
   "source": [
    "## This notebook will break down how to convert VCF nomenclature to VRS-Allele Objects"
   ]
  },
  {
   "cell_type": "code",
   "execution_count": 3,
   "id": "2c271b75",
   "metadata": {},
   "outputs": [
    {
     "name": "stderr",
     "output_type": "stream",
     "text": [
      "Removing allOf attribute from AbsoluteCopyNumber to avoid python-jsonschema-objects error.\n",
      "Removing allOf attribute from SequenceInterval to avoid python-jsonschema-objects error.\n",
      "Removing allOf attribute from RepeatedSequenceExpression to avoid python-jsonschema-objects error.\n",
      "/infodev1/cim/Salem/miniconda3vrs/envs/vrsproject/lib/python3.9/site-packages/python_jsonschema_objects/__init__.py:49: UserWarning: Schema version http://json-schema.org/draft-07/schema not recognized. Some keywords and features may not be supported.\n",
      "  warnings.warn(\n"
     ]
    }
   ],
   "source": [
    "from ga4gh.core import sha512t24u\n",
    "from ga4gh.core import ga4gh_digest, ga4gh_identify, ga4gh_serialize\n",
    "from ga4gh.vrs import __version__, models\n",
    "from ga4gh.vrs.dataproxy import SeqRepoRESTDataProxy\n",
    "import json\n",
    "from ga4gh.vrs.extras.translator import Translator"
   ]
  },
  {
   "cell_type": "code",
   "execution_count": 4,
   "id": "c5844776",
   "metadata": {},
   "outputs": [],
   "source": [
    "def ppo(o, indent=2):\n",
    "    \"\"\"pretty print object as json\"\"\"\n",
    "    print(json.dumps(o.as_dict(), sort_keys=True, indent=indent))\n",
    "def pjson(o, indent=2):\n",
    "    \"\"\"pretty print object as json\"\"\"\n",
    "    return json.dumps(o.as_dict(), sort_keys=True, indent=indent)"
   ]
  },
  {
   "cell_type": "code",
   "execution_count": 5,
   "id": "420c64e8",
   "metadata": {},
   "outputs": [],
   "source": [
    "# Requires seqrepo REST interface is running on this URL (e.g., using docker image)\n",
    "seqrepo_rest_service_url = \"https://services.genomicmedlab.org/seqrepo\"\n",
    "dp = SeqRepoRESTDataProxy(base_url=seqrepo_rest_service_url)"
   ]
  },
  {
   "cell_type": "code",
   "execution_count": 6,
   "id": "a93ed3a9",
   "metadata": {},
   "outputs": [],
   "source": [
    "tlr = Translator(data_proxy=dp,\n",
    "                 translate_sequence_identifiers=True,  # default\n",
    "                 normalize=True,                       # default\n",
    "                 identify=False)                        # default\n",
    "\n"
   ]
  },
  {
   "cell_type": "code",
   "execution_count": 7,
   "id": "b58b83db",
   "metadata": {},
   "outputs": [],
   "source": [
    "# list of hgvs expressions\n",
    "vcf_exprs =[\n",
    "    \"7-7-helloworld-T\" # this has been fixed, it used to work but now it has been fixed.\n",
    "    \"7-140453136-A-T\",\n",
    "    \"7-55259515-T-G\", \n",
    "    \"7-140453136-A-A\", \n",
    "    \"16-2138199-GTGAG-G\"\n",
    "] "
   ]
  },
  {
   "cell_type": "code",
   "execution_count": 8,
   "id": "856cf1e7",
   "metadata": {},
   "outputs": [
    {
     "ename": "ValidationError",
     "evalue": "T7 does not match ^[A-Z*\\-]*$ \nwhile setting 'sequence' in LiteralSequenceExpression",
     "output_type": "error",
     "traceback": [
      "\u001b[0;31m---------------------------------------------------------------------------\u001b[0m",
      "\u001b[0;31mValidationError\u001b[0m                           Traceback (most recent call last)",
      "File \u001b[0;32m/infodev1/cim/Salem/miniconda3vrs/envs/vrsproject/lib/python3.9/site-packages/python_jsonschema_objects/classbuilder.py:201\u001b[0m, in \u001b[0;36mProtocolBase.__init__\u001b[0;34m(self, **props)\u001b[0m\n\u001b[1;32m    200\u001b[0m     \u001b[39mif\u001b[39;00m props[prop] \u001b[39mis\u001b[39;00m \u001b[39mnot\u001b[39;00m \u001b[39mNone\u001b[39;00m:\n\u001b[0;32m--> 201\u001b[0m         \u001b[39msetattr\u001b[39;49m(\u001b[39mself\u001b[39;49m, prop, props[prop])\n\u001b[1;32m    202\u001b[0m \u001b[39mexcept\u001b[39;00m validators\u001b[39m.\u001b[39mValidationError \u001b[39mas\u001b[39;00m e:\n",
      "File \u001b[0;32m/infodev1/cim/Salem/miniconda3vrs/envs/vrsproject/lib/python3.9/site-packages/python_jsonschema_objects/classbuilder.py:229\u001b[0m, in \u001b[0;36mProtocolBase.__setattr__\u001b[0;34m(self, name, val)\u001b[0m\n\u001b[1;32m    228\u001b[0m     prop \u001b[39m=\u001b[39m \u001b[39mgetattr\u001b[39m(\u001b[39mself\u001b[39m\u001b[39m.\u001b[39m\u001b[39m__class__\u001b[39m, \u001b[39mself\u001b[39m\u001b[39m.\u001b[39m__prop_names__[name])\n\u001b[0;32m--> 229\u001b[0m     prop\u001b[39m.\u001b[39;49m\u001b[39m__set__\u001b[39;49m(\u001b[39mself\u001b[39;49m, val)\n\u001b[1;32m    230\u001b[0m \u001b[39melse\u001b[39;00m:\n\u001b[1;32m    231\u001b[0m     \u001b[39m# This is an additional property of some kind\u001b[39;00m\n",
      "File \u001b[0;32m/infodev1/cim/Salem/miniconda3vrs/envs/vrsproject/lib/python3.9/site-packages/python_jsonschema_objects/descriptors.py:109\u001b[0m, in \u001b[0;36mAttributeDescriptor.__set__\u001b[0;34m(self, obj, val)\u001b[0m\n\u001b[1;32m    108\u001b[0m \u001b[39mif\u001b[39;00m \u001b[39mnot\u001b[39;00m \u001b[39misinstance\u001b[39m(val, info[\u001b[39m\"\u001b[39m\u001b[39mtype\u001b[39m\u001b[39m\"\u001b[39m]):\n\u001b[0;32m--> 109\u001b[0m     validator \u001b[39m=\u001b[39m info[\u001b[39m\"\u001b[39;49m\u001b[39mtype\u001b[39;49m\u001b[39m\"\u001b[39;49m](val)\n\u001b[1;32m    110\u001b[0m     validator\u001b[39m.\u001b[39mvalidate()\n",
      "File \u001b[0;32m/infodev1/cim/Salem/miniconda3vrs/envs/vrsproject/lib/python3.9/site-packages/python_jsonschema_objects/literals.py:45\u001b[0m, in \u001b[0;36mLiteralValue.__init__\u001b[0;34m(self, value, typ)\u001b[0m\n\u001b[1;32m     43\u001b[0m     \u001b[39mself\u001b[39m\u001b[39m.\u001b[39m_value \u001b[39m=\u001b[39m \u001b[39mself\u001b[39m\u001b[39m.\u001b[39mdefault()\n\u001b[0;32m---> 45\u001b[0m \u001b[39mself\u001b[39;49m\u001b[39m.\u001b[39;49mvalidate()\n",
      "File \u001b[0;32m/infodev1/cim/Salem/miniconda3vrs/envs/vrsproject/lib/python3.9/site-packages/python_jsonschema_objects/literals.py:85\u001b[0m, in \u001b[0;36mLiteralValue.validate\u001b[0;34m(self)\u001b[0m\n\u001b[1;32m     84\u001b[0m \u001b[39mif\u001b[39;00m validator \u001b[39mis\u001b[39;00m \u001b[39mnot\u001b[39;00m \u001b[39mNone\u001b[39;00m:\n\u001b[0;32m---> 85\u001b[0m     validator(paramval, \u001b[39mself\u001b[39;49m\u001b[39m.\u001b[39;49m_value, info)\n",
      "File \u001b[0;32m/infodev1/cim/Salem/miniconda3vrs/envs/vrsproject/lib/python3.9/site-packages/python_jsonschema_objects/validators.py:96\u001b[0m, in \u001b[0;36mpattern\u001b[0;34m(param, value, _)\u001b[0m\n\u001b[1;32m     95\u001b[0m \u001b[39mif\u001b[39;00m \u001b[39mnot\u001b[39;00m match:\n\u001b[0;32m---> 96\u001b[0m     \u001b[39mraise\u001b[39;00m ValidationError(\u001b[39m\"\u001b[39m\u001b[39m{0}\u001b[39;00m\u001b[39m does not match \u001b[39m\u001b[39m{1}\u001b[39;00m\u001b[39m\"\u001b[39m\u001b[39m.\u001b[39mformat(value, param))\n",
      "\u001b[0;31mValidationError\u001b[0m: T7 does not match ^[A-Z*\\-]*$",
      "\nDuring handling of the above exception, another exception occurred:\n",
      "\u001b[0;31mValidationError\u001b[0m                           Traceback (most recent call last)",
      "Cell \u001b[0;32mIn[8], line 2\u001b[0m\n\u001b[1;32m      1\u001b[0m \u001b[39mfor\u001b[39;00m expr \u001b[39min\u001b[39;00m vcf_exprs:\n\u001b[0;32m----> 2\u001b[0m     trans \u001b[39m=\u001b[39m tlr\u001b[39m.\u001b[39;49mtranslate_from(expr)\n\u001b[1;32m      3\u001b[0m     vrs_id \u001b[39m=\u001b[39m ga4gh_identify(trans)\n\u001b[1;32m      4\u001b[0m     \u001b[39mprint\u001b[39m(vrs_id, pjson(trans), sep \u001b[39m=\u001b[39m \u001b[39m'\u001b[39m\u001b[39m\\n\u001b[39;00m\u001b[39m'\u001b[39m)\n",
      "File \u001b[0;32m/infodev1/cim/Salem/miniconda3vrs/envs/vrsproject/lib/python3.9/site-packages/ga4gh/vrs/extras/translator.py:76\u001b[0m, in \u001b[0;36mTranslator.translate_from\u001b[0;34m(self, var, fmt)\u001b[0m\n\u001b[1;32m     73\u001b[0m     \u001b[39mreturn\u001b[39;00m o\n\u001b[1;32m     75\u001b[0m \u001b[39mfor\u001b[39;00m fmt, t \u001b[39min\u001b[39;00m \u001b[39mself\u001b[39m\u001b[39m.\u001b[39mfrom_translators\u001b[39m.\u001b[39mitems():\n\u001b[0;32m---> 76\u001b[0m     o \u001b[39m=\u001b[39m t(\u001b[39mself\u001b[39;49m, var)\n\u001b[1;32m     77\u001b[0m     \u001b[39mif\u001b[39;00m o:\n\u001b[1;32m     78\u001b[0m         \u001b[39mreturn\u001b[39;00m o\n",
      "File \u001b[0;32m/infodev1/cim/Salem/miniconda3vrs/envs/vrsproject/lib/python3.9/site-packages/ga4gh/vrs/extras/translator.py:186\u001b[0m, in \u001b[0;36mTranslator._from_gnomad\u001b[0;34m(self, gnomad_expr, assembly_name)\u001b[0m\n\u001b[1;32m    183\u001b[0m interval \u001b[39m=\u001b[39m models\u001b[39m.\u001b[39mSequenceInterval(start\u001b[39m=\u001b[39mmodels\u001b[39m.\u001b[39mNumber(value\u001b[39m=\u001b[39mstart),\n\u001b[1;32m    184\u001b[0m                                    end\u001b[39m=\u001b[39mmodels\u001b[39m.\u001b[39mNumber(value\u001b[39m=\u001b[39mend))\n\u001b[1;32m    185\u001b[0m location \u001b[39m=\u001b[39m models\u001b[39m.\u001b[39mSequenceLocation(sequence_id\u001b[39m=\u001b[39msequence_id, interval\u001b[39m=\u001b[39minterval)\n\u001b[0;32m--> 186\u001b[0m sstate \u001b[39m=\u001b[39m models\u001b[39m.\u001b[39;49mLiteralSequenceExpression(sequence\u001b[39m=\u001b[39;49mins_seq)\n\u001b[1;32m    187\u001b[0m allele \u001b[39m=\u001b[39m models\u001b[39m.\u001b[39mAllele(location\u001b[39m=\u001b[39mlocation, state\u001b[39m=\u001b[39msstate)\n\u001b[1;32m    188\u001b[0m allele \u001b[39m=\u001b[39m \u001b[39mself\u001b[39m\u001b[39m.\u001b[39m_post_process_imported_allele(allele)\n",
      "File \u001b[0;32m/infodev1/cim/Salem/miniconda3vrs/envs/vrsproject/lib/python3.9/site-packages/python_jsonschema_objects/classbuilder.py:205\u001b[0m, in \u001b[0;36mProtocolBase.__init__\u001b[0;34m(self, **props)\u001b[0m\n\u001b[1;32m    202\u001b[0m     \u001b[39mexcept\u001b[39;00m validators\u001b[39m.\u001b[39mValidationError \u001b[39mas\u001b[39;00m e:\n\u001b[1;32m    203\u001b[0m         \u001b[39mimport\u001b[39;00m \u001b[39msys\u001b[39;00m\n\u001b[0;32m--> 205\u001b[0m         \u001b[39mraise\u001b[39;00m six\u001b[39m.\u001b[39;49mreraise(\n\u001b[1;32m    206\u001b[0m             \u001b[39mtype\u001b[39;49m(e),\n\u001b[1;32m    207\u001b[0m             \u001b[39mtype\u001b[39;49m(e)(\n\u001b[1;32m    208\u001b[0m                 \u001b[39mstr\u001b[39;49m(e)\n\u001b[1;32m    209\u001b[0m                 \u001b[39m+\u001b[39;49m \u001b[39m\"\u001b[39;49m\u001b[39m \u001b[39;49m\u001b[39m\\n\u001b[39;49;00m\u001b[39mwhile setting \u001b[39;49m\u001b[39m'\u001b[39;49m\u001b[39m{0}\u001b[39;49;00m\u001b[39m'\u001b[39;49m\u001b[39m in \u001b[39;49m\u001b[39m{1}\u001b[39;49;00m\u001b[39m\"\u001b[39;49m\u001b[39m.\u001b[39;49mformat(\n\u001b[1;32m    210\u001b[0m                     prop, \u001b[39mself\u001b[39;49m\u001b[39m.\u001b[39;49m\u001b[39m__class__\u001b[39;49m\u001b[39m.\u001b[39;49m\u001b[39m__name__\u001b[39;49m\n\u001b[1;32m    211\u001b[0m                 )\n\u001b[1;32m    212\u001b[0m             ),\n\u001b[1;32m    213\u001b[0m             sys\u001b[39m.\u001b[39;49mexc_info()[\u001b[39m2\u001b[39;49m],\n\u001b[1;32m    214\u001b[0m         )\n\u001b[1;32m    216\u001b[0m \u001b[39mif\u001b[39;00m \u001b[39mgetattr\u001b[39m(\u001b[39mself\u001b[39m, \u001b[39m\"\u001b[39m\u001b[39m__strict__\u001b[39m\u001b[39m\"\u001b[39m, \u001b[39mNone\u001b[39;00m):\n\u001b[1;32m    217\u001b[0m     \u001b[39mself\u001b[39m\u001b[39m.\u001b[39mvalidate()\n",
      "File \u001b[0;32m/infodev1/cim/Salem/miniconda3vrs/envs/vrsproject/lib/python3.9/site-packages/six.py:718\u001b[0m, in \u001b[0;36mreraise\u001b[0;34m(tp, value, tb)\u001b[0m\n\u001b[1;32m    716\u001b[0m         value \u001b[39m=\u001b[39m tp()\n\u001b[1;32m    717\u001b[0m     \u001b[39mif\u001b[39;00m value\u001b[39m.\u001b[39m__traceback__ \u001b[39mis\u001b[39;00m \u001b[39mnot\u001b[39;00m tb:\n\u001b[0;32m--> 718\u001b[0m         \u001b[39mraise\u001b[39;00m value\u001b[39m.\u001b[39mwith_traceback(tb)\n\u001b[1;32m    719\u001b[0m     \u001b[39mraise\u001b[39;00m value\n\u001b[1;32m    720\u001b[0m \u001b[39mfinally\u001b[39;00m:\n",
      "File \u001b[0;32m/infodev1/cim/Salem/miniconda3vrs/envs/vrsproject/lib/python3.9/site-packages/python_jsonschema_objects/classbuilder.py:201\u001b[0m, in \u001b[0;36mProtocolBase.__init__\u001b[0;34m(self, **props)\u001b[0m\n\u001b[1;32m    199\u001b[0m     \u001b[39m# Always set the property, even if None\u001b[39;00m\n\u001b[1;32m    200\u001b[0m     \u001b[39mif\u001b[39;00m props[prop] \u001b[39mis\u001b[39;00m \u001b[39mnot\u001b[39;00m \u001b[39mNone\u001b[39;00m:\n\u001b[0;32m--> 201\u001b[0m         \u001b[39msetattr\u001b[39;49m(\u001b[39mself\u001b[39;49m, prop, props[prop])\n\u001b[1;32m    202\u001b[0m \u001b[39mexcept\u001b[39;00m validators\u001b[39m.\u001b[39mValidationError \u001b[39mas\u001b[39;00m e:\n\u001b[1;32m    203\u001b[0m     \u001b[39mimport\u001b[39;00m \u001b[39msys\u001b[39;00m\n",
      "File \u001b[0;32m/infodev1/cim/Salem/miniconda3vrs/envs/vrsproject/lib/python3.9/site-packages/python_jsonschema_objects/classbuilder.py:229\u001b[0m, in \u001b[0;36mProtocolBase.__setattr__\u001b[0;34m(self, name, val)\u001b[0m\n\u001b[1;32m    223\u001b[0m \u001b[39melif\u001b[39;00m name \u001b[39min\u001b[39;00m \u001b[39mself\u001b[39m\u001b[39m.\u001b[39m__propinfo__:\n\u001b[1;32m    224\u001b[0m     \u001b[39m# If its in __propinfo__, then it actually has a property defined.\u001b[39;00m\n\u001b[1;32m    225\u001b[0m     \u001b[39m# The property does special validation, so we actually need to\u001b[39;00m\n\u001b[1;32m    226\u001b[0m     \u001b[39m# run its setter. We get it from the class definition and call\u001b[39;00m\n\u001b[1;32m    227\u001b[0m     \u001b[39m# it directly. XXX Heinous.\u001b[39;00m\n\u001b[1;32m    228\u001b[0m     prop \u001b[39m=\u001b[39m \u001b[39mgetattr\u001b[39m(\u001b[39mself\u001b[39m\u001b[39m.\u001b[39m\u001b[39m__class__\u001b[39m, \u001b[39mself\u001b[39m\u001b[39m.\u001b[39m__prop_names__[name])\n\u001b[0;32m--> 229\u001b[0m     prop\u001b[39m.\u001b[39;49m\u001b[39m__set__\u001b[39;49m(\u001b[39mself\u001b[39;49m, val)\n\u001b[1;32m    230\u001b[0m \u001b[39melse\u001b[39;00m:\n\u001b[1;32m    231\u001b[0m     \u001b[39m# This is an additional property of some kind\u001b[39;00m\n\u001b[1;32m    232\u001b[0m     \u001b[39mtry\u001b[39;00m:\n",
      "File \u001b[0;32m/infodev1/cim/Salem/miniconda3vrs/envs/vrsproject/lib/python3.9/site-packages/python_jsonschema_objects/descriptors.py:109\u001b[0m, in \u001b[0;36mAttributeDescriptor.__set__\u001b[0;34m(self, obj, val)\u001b[0m\n\u001b[1;32m    107\u001b[0m \u001b[39melif\u001b[39;00m \u001b[39mgetattr\u001b[39m(info[\u001b[39m\"\u001b[39m\u001b[39mtype\u001b[39m\u001b[39m\"\u001b[39m], \u001b[39m\"\u001b[39m\u001b[39misLiteralClass\u001b[39m\u001b[39m\"\u001b[39m, \u001b[39mFalse\u001b[39;00m) \u001b[39mis\u001b[39;00m \u001b[39mTrue\u001b[39;00m:\n\u001b[1;32m    108\u001b[0m     \u001b[39mif\u001b[39;00m \u001b[39mnot\u001b[39;00m \u001b[39misinstance\u001b[39m(val, info[\u001b[39m\"\u001b[39m\u001b[39mtype\u001b[39m\u001b[39m\"\u001b[39m]):\n\u001b[0;32m--> 109\u001b[0m         validator \u001b[39m=\u001b[39m info[\u001b[39m\"\u001b[39;49m\u001b[39mtype\u001b[39;49m\u001b[39m\"\u001b[39;49m](val)\n\u001b[1;32m    110\u001b[0m         validator\u001b[39m.\u001b[39mvalidate()\n\u001b[1;32m    111\u001b[0m         \u001b[39mif\u001b[39;00m validator\u001b[39m.\u001b[39m_value \u001b[39mis\u001b[39;00m \u001b[39mnot\u001b[39;00m \u001b[39mNone\u001b[39;00m:\n\u001b[1;32m    112\u001b[0m             \u001b[39m# This allows setting of default Literal values\u001b[39;00m\n",
      "File \u001b[0;32m/infodev1/cim/Salem/miniconda3vrs/envs/vrsproject/lib/python3.9/site-packages/python_jsonschema_objects/literals.py:45\u001b[0m, in \u001b[0;36mLiteralValue.__init__\u001b[0;34m(self, value, typ)\u001b[0m\n\u001b[1;32m     42\u001b[0m \u001b[39mif\u001b[39;00m \u001b[39mself\u001b[39m\u001b[39m.\u001b[39m_value \u001b[39mis\u001b[39;00m \u001b[39mNone\u001b[39;00m \u001b[39mand\u001b[39;00m \u001b[39mself\u001b[39m\u001b[39m.\u001b[39mdefault() \u001b[39mis\u001b[39;00m \u001b[39mnot\u001b[39;00m \u001b[39mNone\u001b[39;00m:\n\u001b[1;32m     43\u001b[0m     \u001b[39mself\u001b[39m\u001b[39m.\u001b[39m_value \u001b[39m=\u001b[39m \u001b[39mself\u001b[39m\u001b[39m.\u001b[39mdefault()\n\u001b[0;32m---> 45\u001b[0m \u001b[39mself\u001b[39;49m\u001b[39m.\u001b[39;49mvalidate()\n",
      "File \u001b[0;32m/infodev1/cim/Salem/miniconda3vrs/envs/vrsproject/lib/python3.9/site-packages/python_jsonschema_objects/literals.py:85\u001b[0m, in \u001b[0;36mLiteralValue.validate\u001b[0;34m(self)\u001b[0m\n\u001b[1;32m     83\u001b[0m validator \u001b[39m=\u001b[39m validators\u001b[39m.\u001b[39mregistry(param)\n\u001b[1;32m     84\u001b[0m \u001b[39mif\u001b[39;00m validator \u001b[39mis\u001b[39;00m \u001b[39mnot\u001b[39;00m \u001b[39mNone\u001b[39;00m:\n\u001b[0;32m---> 85\u001b[0m     validator(paramval, \u001b[39mself\u001b[39;49m\u001b[39m.\u001b[39;49m_value, info)\n",
      "File \u001b[0;32m/infodev1/cim/Salem/miniconda3vrs/envs/vrsproject/lib/python3.9/site-packages/python_jsonschema_objects/validators.py:96\u001b[0m, in \u001b[0;36mpattern\u001b[0;34m(param, value, _)\u001b[0m\n\u001b[1;32m     94\u001b[0m match \u001b[39m=\u001b[39m re\u001b[39m.\u001b[39msearch(param, value)\n\u001b[1;32m     95\u001b[0m \u001b[39mif\u001b[39;00m \u001b[39mnot\u001b[39;00m match:\n\u001b[0;32m---> 96\u001b[0m     \u001b[39mraise\u001b[39;00m ValidationError(\u001b[39m\"\u001b[39m\u001b[39m{0}\u001b[39;00m\u001b[39m does not match \u001b[39m\u001b[39m{1}\u001b[39;00m\u001b[39m\"\u001b[39m\u001b[39m.\u001b[39mformat(value, param))\n",
      "\u001b[0;31mValidationError\u001b[0m: T7 does not match ^[A-Z*\\-]*$ \nwhile setting 'sequence' in LiteralSequenceExpression"
     ]
    }
   ],
   "source": [
    "for expr in vcf_exprs:\n",
    "    trans = tlr.translate_from(expr)\n",
    "    vrs_id = ga4gh_identify(trans)\n",
    "    print(vrs_id, pjson(trans), sep = '\\n')\n"
   ]
  },
  {
   "cell_type": "code",
   "execution_count": null,
   "id": "4e081380",
   "metadata": {},
   "outputs": [],
   "source": []
  }
 ],
 "metadata": {
  "kernelspec": {
   "display_name": "vrsproject",
   "language": "python",
   "name": "python3"
  },
  "language_info": {
   "codemirror_mode": {
    "name": "ipython",
    "version": 3
   },
   "file_extension": ".py",
   "mimetype": "text/x-python",
   "name": "python",
   "nbconvert_exporter": "python",
   "pygments_lexer": "ipython3",
   "version": "3.9.0"
  },
  "toc": {
   "base_numbering": 1,
   "nav_menu": {},
   "number_sections": true,
   "sideBar": true,
   "skip_h1_title": false,
   "title_cell": "Table of Contents",
   "title_sidebar": "Contents",
   "toc_cell": false,
   "toc_position": {},
   "toc_section_display": true,
   "toc_window_display": false
  },
  "vscode": {
   "interpreter": {
    "hash": "56f07a5380f7b0d56c2c6b05df547d12669f1587ac652dca84424c7aa32eca36"
   }
  }
 },
 "nbformat": 4,
 "nbformat_minor": 5
}
