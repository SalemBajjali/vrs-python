{
 "cells": [
  {
   "cell_type": "markdown",
   "metadata": {},
   "source": [
    "# VMC Quick Start\n",
    "\n",
    "This notebook provides nearly the simplest example of a VMC Bundle for inclusion in the VMC Spec. This notebook is a subset of the ApoE Example notebook, which you should prefer.\n",
    "\n",
    "\n",
    "## Setup"
   ]
  },
  {
   "cell_type": "code",
   "execution_count": 1,
   "metadata": {},
   "outputs": [
    {
     "name": "stdout",
     "output_type": "stream",
     "text": [
      "SeqRepo(root_dir=/usr/local/share/seqrepo/master, writeable=False)\n"
     ]
    }
   ],
   "source": [
    "import collections\n",
    "import datetime\n",
    "import json\n",
    "\n",
    "import jsonschema\n",
    "\n",
    "from vmc import models, computed_id, serialize, schema_path\n",
    "from vmc.digest import id_to_ir\n",
    "from vmc.seqrepo import get_vmc_sequence_id, _sr\n",
    "print(_sr)\n",
    "\n",
    "# pretty print json\n",
    "def ppj(o): print(json.dumps(json.loads(o.serialize()), indent=4, sort_keys=True, ensure_ascii=False))"
   ]
  },
  {
   "cell_type": "markdown",
   "metadata": {},
   "source": [
    "## Identifiers"
   ]
  },
  {
   "cell_type": "code",
   "execution_count": 2,
   "metadata": {},
   "outputs": [],
   "source": [
    "identifiers = collections.defaultdict(list)"
   ]
  },
  {
   "cell_type": "markdown",
   "metadata": {},
   "source": [
    "## Sequences\n",
    "A description of sequence variation, with VMC or otherwise, requires the availability of sequences in order to define coordinate systems.  Typically sequences are referred to with an accession like NC_000019.10.  There are two issues with using sequence accessions:\n",
    "\n",
    "* Identical sequences have different names (e.g., \"NC_000019.10\" == \"CM000681.2\" == (GRCh38) \"19\" == (GRCh38 UCSC) \"chr19\").  Naive comparison of the same allele defined using different sequence name will fail.\n",
    "* With graph genomes, it will become infeasible to assign sequence identifiers.\n",
    "\n",
    "For these reasons, VMC encourages (but doesn't require) the use of computed identifiers based on a SHA512 digest, truncated to 24 bytes, and URL-safe base64 encoded.\n",
    "\n",
    "get_vmc_sequence_id returns the computed sequence identifier for a given accession."
   ]
  },
  {
   "cell_type": "code",
   "execution_count": 3,
   "metadata": {},
   "outputs": [
    {
     "data": {
      "text/plain": [
       "'VMC:GS_IIB53T8CNeJJdUqzn9V_JnRtQadwWCbl'"
      ]
     },
     "execution_count": 3,
     "metadata": {},
     "output_type": "execute_result"
    }
   ],
   "source": [
    "ir = models.Identifier(namespace=\"NCBI\", accession=\"NC_000019.10\")\n",
    "sequence_id = get_vmc_sequence_id(ir)\n",
    "sequence_id"
   ]
  },
  {
   "cell_type": "code",
   "execution_count": 4,
   "metadata": {},
   "outputs": [],
   "source": [
    "identifiers[sequence_id].append(ir)"
   ]
  },
  {
   "cell_type": "markdown",
   "metadata": {},
   "source": [
    "## Intervals and Locations\n",
    "An Interval consists of start and end positions in interbase coordinates.\n",
    "A Location refers to a continuous span within a sequence, where the sequence is identified by Id and the span is defined by an Interval."
   ]
  },
  {
   "cell_type": "code",
   "execution_count": 5,
   "metadata": {},
   "outputs": [],
   "source": [
    "locations_by_name = {\n",
    "    \"rs429358\": models.Location(\n",
    "        sequence_id = sequence_id,\n",
    "        interval = models.Interval(start=44908683, end=44908684),\n",
    "    ),\n",
    "    \"rs7412\": models.Location(\n",
    "        sequence_id = sequence_id,\n",
    "        interval=models.Interval(start=44908821, end=44908822),\n",
    "    )\n",
    "}\n",
    "for n, l in locations_by_name.items():\n",
    "    l.id = computed_id(l)\n",
    "    identifiers[l.id].append(models.Identifier(accession=n))"
   ]
  },
  {
   "cell_type": "code",
   "execution_count": 6,
   "metadata": {},
   "outputs": [
    {
     "data": {
      "text/plain": [
       "'<Location:<Identifier:VMC:GS_IIB53T8CNeJJdUqzn9V_JnRtQadwWCbl>:<Interval:44908683:44908684>>'"
      ]
     },
     "execution_count": 6,
     "metadata": {},
     "output_type": "execute_result"
    }
   ],
   "source": [
    "# This is the string that is hashed to generate a computed identifier\n",
    "serialize(locations_by_name[\"rs429358\"])"
   ]
  },
  {
   "cell_type": "code",
   "execution_count": 7,
   "metadata": {
    "scrolled": true
   },
   "outputs": [
    {
     "name": "stdout",
     "output_type": "stream",
     "text": [
      "{\n",
      "    \"id\": \"VMC:GL_9Jht-lguk_jnBvG-wLJbjmBw5v_v7rQo\",\n",
      "    \"interval\": {\n",
      "        \"end\": 44908684,\n",
      "        \"start\": 44908683\n",
      "    },\n",
      "    \"sequence_id\": \"VMC:GS_IIB53T8CNeJJdUqzn9V_JnRtQadwWCbl\"\n",
      "}\n"
     ]
    }
   ],
   "source": [
    "ppj(locations_by_name[\"rs429358\"])"
   ]
  },
  {
   "cell_type": "markdown",
   "metadata": {},
   "source": [
    "## Alleles"
   ]
  },
  {
   "cell_type": "code",
   "execution_count": 8,
   "metadata": {},
   "outputs": [],
   "source": [
    "alleles_by_name = {\n",
    "    \"rs429358C\": models.Allele(location_id=locations_by_name[\"rs429358\"].id, state=\"C\"),\n",
    "    \"rs7412C\":   models.Allele(location_id=locations_by_name[\"rs7412\"].id,   state=\"C\"),\n",
    "}\n",
    "for n, a in alleles_by_name.items():\n",
    "    a.id = computed_id(a)\n",
    "    identifiers[a.id].append(models.Identifier(accession=n))"
   ]
  },
  {
   "cell_type": "code",
   "execution_count": 9,
   "metadata": {},
   "outputs": [
    {
     "data": {
      "text/plain": [
       "'<Allele:<Identifier:VMC:GL_9Jht-lguk_jnBvG-wLJbjmBw5v_v7rQo>:C>'"
      ]
     },
     "execution_count": 9,
     "metadata": {},
     "output_type": "execute_result"
    }
   ],
   "source": [
    "serialize(alleles_by_name[\"rs429358C\"])"
   ]
  },
  {
   "cell_type": "code",
   "execution_count": 10,
   "metadata": {},
   "outputs": [
    {
     "name": "stdout",
     "output_type": "stream",
     "text": [
      "{\n",
      "    \"id\": \"VMC:GA_8vT5C3XyPLVz4_AXCI5P-J0gobxoGdxY\",\n",
      "    \"location_id\": \"VMC:GL_9Jht-lguk_jnBvG-wLJbjmBw5v_v7rQo\",\n",
      "    \"state\": \"C\"\n",
      "}\n"
     ]
    }
   ],
   "source": [
    "ppj(alleles_by_name[\"rs429358C\"])"
   ]
  },
  {
   "cell_type": "markdown",
   "metadata": {},
   "source": [
    "## Haplotypes"
   ]
  },
  {
   "cell_type": "code",
   "execution_count": 11,
   "metadata": {
    "scrolled": true
   },
   "outputs": [],
   "source": [
    "haplotypes_by_name = {\n",
    "    \"ε4\": models.Haplotype(\n",
    "        allele_ids = [alleles_by_name[\"rs429358C\"].id, alleles_by_name[\"rs7412C\"].id],\n",
    "        completeness = \"COMPLETE\"\n",
    "    ),\n",
    "}\n",
    "\n",
    "for n, h in haplotypes_by_name.items():\n",
    "    h.id = computed_id(h)\n",
    "    identifiers[h.id].append(models.Identifier(accession=n))"
   ]
  },
  {
   "cell_type": "code",
   "execution_count": 12,
   "metadata": {},
   "outputs": [
    {
     "data": {
      "text/plain": [
       "'<Haplotype:COMPLETE:[<Identifier:VMC:GA_8vT5C3XyPLVz4_AXCI5P-J0gobxoGdxY>;<Identifier:VMC:GA_Bdf7gntpo-snoQdY356RrpCuyrrzYynA>]>'"
      ]
     },
     "execution_count": 12,
     "metadata": {},
     "output_type": "execute_result"
    }
   ],
   "source": [
    "serialize(haplotypes_by_name[\"ε4\"])"
   ]
  },
  {
   "cell_type": "code",
   "execution_count": 13,
   "metadata": {},
   "outputs": [
    {
     "name": "stdout",
     "output_type": "stream",
     "text": [
      "{\n",
      "    \"allele_ids\": [\n",
      "        \"VMC:GA_8vT5C3XyPLVz4_AXCI5P-J0gobxoGdxY\",\n",
      "        \"VMC:GA_Bdf7gntpo-snoQdY356RrpCuyrrzYynA\"\n",
      "    ],\n",
      "    \"completeness\": \"COMPLETE\",\n",
      "    \"id\": \"VMC:GH_d3UvMyD-ArHLi-ZucGWxURhfeALz7arO\"\n",
      "}\n"
     ]
    }
   ],
   "source": [
    "ppj(haplotypes_by_name[\"ε4\"])"
   ]
  },
  {
   "cell_type": "code",
   "execution_count": 14,
   "metadata": {},
   "outputs": [
    {
     "name": "stdout",
     "output_type": "stream",
     "text": [
      "{\n",
      "    \"allele_ids\": [\n",
      "        \"VMC:GA_Bdf7gntpo-snoQdY356RrpCuyrrzYynA\",\n",
      "        \"VMC:GA_8vT5C3XyPLVz4_AXCI5P-J0gobxoGdxY\"\n",
      "    ],\n",
      "    \"completeness\": \"COMPLETE\",\n",
      "    \"id\": \"VMC:GH_d3UvMyD-ArHLi-ZucGWxURhfeALz7arO\"\n",
      "}\n"
     ]
    }
   ],
   "source": [
    "# Reversing allele ids results in the same digest (that's good!)\n",
    "h_ε4r = models.Haplotype(\n",
    "        allele_ids = [alleles_by_name[\"rs7412C\"].id, alleles_by_name[\"rs429358C\"].id],\n",
    "        completeness = \"COMPLETE\"\n",
    ")\n",
    "h_ε4r.id = computed_id(h_ε4r)\n",
    "ppj(h_ε4r)"
   ]
  },
  {
   "cell_type": "markdown",
   "metadata": {},
   "source": [
    "## Genotypes"
   ]
  },
  {
   "cell_type": "code",
   "execution_count": 15,
   "metadata": {},
   "outputs": [],
   "source": [
    "genotypes_by_name = {\n",
    "    \"ε4/ε4\": models.Genotype(\n",
    "        haplotype_ids = [haplotypes_by_name[\"ε4\"].id, haplotypes_by_name[\"ε4\"].id],\n",
    "        completeness = \"COMPLETE\"\n",
    "    ),\n",
    "}\n",
    "\n",
    "for n, h in genotypes_by_name.items():\n",
    "    h.id = computed_id(h)\n",
    "    identifiers[h.id].append(models.Identifier(accession=n))"
   ]
  },
  {
   "cell_type": "code",
   "execution_count": 16,
   "metadata": {},
   "outputs": [
    {
     "data": {
      "text/plain": [
       "'<Genotype:COMPLETE:[<Identifier:VMC:GH_d3UvMyD-ArHLi-ZucGWxURhfeALz7arO>;<Identifier:VMC:GH_d3UvMyD-ArHLi-ZucGWxURhfeALz7arO>]>'"
      ]
     },
     "execution_count": 16,
     "metadata": {},
     "output_type": "execute_result"
    }
   ],
   "source": [
    "serialize(genotypes_by_name[\"ε4/ε4\"])"
   ]
  },
  {
   "cell_type": "markdown",
   "metadata": {},
   "source": [
    "## Bundle Serialization, Validation, and Roundtripping"
   ]
  },
  {
   "cell_type": "code",
   "execution_count": 17,
   "metadata": {},
   "outputs": [],
   "source": [
    "bundle = models.Vmcbundle(\n",
    "    meta=models.Meta(\n",
    "            generated_at=datetime.datetime.isoformat(datetime.datetime.now()),\n",
    "            vmc_version=0,\n",
    "        ),\n",
    "    locations = {o.id: o.as_dict() for o in locations_by_name.values()},\n",
    "    alleles = {o.id: o.as_dict() for o in alleles_by_name.values()},\n",
    "    haplotypes = {o.id: o.as_dict() for o in haplotypes_by_name.values()},\n",
    "    genotypes = {o.id: o.as_dict() for o in genotypes_by_name.values()},\n",
    "    identifiers = {n: [ir.as_dict() for ir in irs] for n, irs in identifiers.items()}\n",
    ")"
   ]
  },
  {
   "cell_type": "code",
   "execution_count": 18,
   "metadata": {},
   "outputs": [
    {
     "name": "stdout",
     "output_type": "stream",
     "text": [
      "{\n",
      "    \"alleles\": {\n",
      "        \"VMC:GA_8vT5C3XyPLVz4_AXCI5P-J0gobxoGdxY\": {\n",
      "            \"id\": \"VMC:GA_8vT5C3XyPLVz4_AXCI5P-J0gobxoGdxY\",\n",
      "            \"location_id\": \"VMC:GL_9Jht-lguk_jnBvG-wLJbjmBw5v_v7rQo\",\n",
      "            \"state\": \"C\"\n",
      "        },\n",
      "        \"VMC:GA_Bdf7gntpo-snoQdY356RrpCuyrrzYynA\": {\n",
      "            \"id\": \"VMC:GA_Bdf7gntpo-snoQdY356RrpCuyrrzYynA\",\n",
      "            \"location_id\": \"VMC:GL_LStELzYmlIQP3Zan9FhibgiFGAgSM7CI\",\n",
      "            \"state\": \"C\"\n",
      "        }\n",
      "    },\n",
      "    \"genotypes\": {\n",
      "        \"VMC:GG_xKLc-PCmarZcccep6paE2C4W-vNd5nB0\": {\n",
      "            \"completeness\": \"COMPLETE\",\n",
      "            \"haplotype_ids\": [\n",
      "                \"VMC:GH_d3UvMyD-ArHLi-ZucGWxURhfeALz7arO\",\n",
      "                \"VMC:GH_d3UvMyD-ArHLi-ZucGWxURhfeALz7arO\"\n",
      "            ],\n",
      "            \"id\": \"VMC:GG_xKLc-PCmarZcccep6paE2C4W-vNd5nB0\"\n",
      "        }\n",
      "    },\n",
      "    \"haplotypes\": {\n",
      "        \"VMC:GH_d3UvMyD-ArHLi-ZucGWxURhfeALz7arO\": {\n",
      "            \"allele_ids\": [\n",
      "                \"VMC:GA_8vT5C3XyPLVz4_AXCI5P-J0gobxoGdxY\",\n",
      "                \"VMC:GA_Bdf7gntpo-snoQdY356RrpCuyrrzYynA\"\n",
      "            ],\n",
      "            \"completeness\": \"COMPLETE\",\n",
      "            \"id\": \"VMC:GH_d3UvMyD-ArHLi-ZucGWxURhfeALz7arO\"\n",
      "        }\n",
      "    },\n",
      "    \"identifiers\": {\n",
      "        \"VMC:GA_8vT5C3XyPLVz4_AXCI5P-J0gobxoGdxY\": [\n",
      "            {\n",
      "                \"accession\": \"rs429358C\"\n",
      "            }\n",
      "        ],\n",
      "        \"VMC:GA_Bdf7gntpo-snoQdY356RrpCuyrrzYynA\": [\n",
      "            {\n",
      "                \"accession\": \"rs7412C\"\n",
      "            }\n",
      "        ],\n",
      "        \"VMC:GG_xKLc-PCmarZcccep6paE2C4W-vNd5nB0\": [\n",
      "            {\n",
      "                \"accession\": \"ε4/ε4\"\n",
      "            }\n",
      "        ],\n",
      "        \"VMC:GH_d3UvMyD-ArHLi-ZucGWxURhfeALz7arO\": [\n",
      "            {\n",
      "                \"accession\": \"ε4\"\n",
      "            }\n",
      "        ],\n",
      "        \"VMC:GL_9Jht-lguk_jnBvG-wLJbjmBw5v_v7rQo\": [\n",
      "            {\n",
      "                \"accession\": \"rs429358\"\n",
      "            }\n",
      "        ],\n",
      "        \"VMC:GL_LStELzYmlIQP3Zan9FhibgiFGAgSM7CI\": [\n",
      "            {\n",
      "                \"accession\": \"rs7412\"\n",
      "            }\n",
      "        ],\n",
      "        \"VMC:GS_IIB53T8CNeJJdUqzn9V_JnRtQadwWCbl\": [\n",
      "            {\n",
      "                \"accession\": \"NC_000019.10\",\n",
      "                \"namespace\": \"NCBI\"\n",
      "            }\n",
      "        ]\n",
      "    },\n",
      "    \"locations\": {\n",
      "        \"VMC:GL_9Jht-lguk_jnBvG-wLJbjmBw5v_v7rQo\": {\n",
      "            \"id\": \"VMC:GL_9Jht-lguk_jnBvG-wLJbjmBw5v_v7rQo\",\n",
      "            \"interval\": {\n",
      "                \"end\": 44908684,\n",
      "                \"start\": 44908683\n",
      "            },\n",
      "            \"sequence_id\": \"VMC:GS_IIB53T8CNeJJdUqzn9V_JnRtQadwWCbl\"\n",
      "        },\n",
      "        \"VMC:GL_LStELzYmlIQP3Zan9FhibgiFGAgSM7CI\": {\n",
      "            \"id\": \"VMC:GL_LStELzYmlIQP3Zan9FhibgiFGAgSM7CI\",\n",
      "            \"interval\": {\n",
      "                \"end\": 44908822,\n",
      "                \"start\": 44908821\n",
      "            },\n",
      "            \"sequence_id\": \"VMC:GS_IIB53T8CNeJJdUqzn9V_JnRtQadwWCbl\"\n",
      "        }\n",
      "    },\n",
      "    \"meta\": {\n",
      "        \"generated_at\": \"2017-12-28T21:52:07.404218\",\n",
      "        \"vmc_version\": 0\n",
      "    }\n",
      "}\n"
     ]
    }
   ],
   "source": [
    "ppj(bundle)"
   ]
  },
  {
   "cell_type": "markdown",
   "metadata": {},
   "source": [
    "### Validate against schema"
   ]
  },
  {
   "cell_type": "code",
   "execution_count": 19,
   "metadata": {},
   "outputs": [],
   "source": [
    "s = bundle.serialize()  # same as above ppj(bundle), but not pretty printed"
   ]
  },
  {
   "cell_type": "code",
   "execution_count": 20,
   "metadata": {},
   "outputs": [],
   "source": [
    "schema = json.load(open(schema_path))\n",
    "jsonschema.validate(bundle.as_dict(), schema)"
   ]
  },
  {
   "cell_type": "markdown",
   "metadata": {},
   "source": [
    "### Verify that bundle roundtrips to same structure"
   ]
  },
  {
   "cell_type": "code",
   "execution_count": 21,
   "metadata": {},
   "outputs": [],
   "source": [
    "bundle_round_trip = models.Vmcbundle(**json.loads(s))"
   ]
  },
  {
   "cell_type": "code",
   "execution_count": 22,
   "metadata": {},
   "outputs": [
    {
     "data": {
      "text/plain": [
       "True"
      ]
     },
     "execution_count": 22,
     "metadata": {},
     "output_type": "execute_result"
    }
   ],
   "source": [
    "bundle == bundle_round_trip"
   ]
  },
  {
   "cell_type": "markdown",
   "metadata": {},
   "source": [
    "### Save bundle\n",
    "This will be used in the VMC Bundle Example"
   ]
  },
  {
   "cell_type": "code",
   "execution_count": 23,
   "metadata": {},
   "outputs": [
    {
     "data": {
      "text/plain": [
       "1870"
      ]
     },
     "execution_count": 23,
     "metadata": {},
     "output_type": "execute_result"
    }
   ],
   "source": [
    "open(\"ApoE Example.vmc.json\", \"w\").write(s)"
   ]
  },
  {
   "cell_type": "code",
   "execution_count": null,
   "metadata": {},
   "outputs": [],
   "source": []
  },
  {
   "cell_type": "code",
   "execution_count": null,
   "metadata": {},
   "outputs": [],
   "source": []
  }
 ],
 "metadata": {
  "kernelspec": {
   "display_name": "Python 3",
   "language": "python",
   "name": "python3"
  },
  "language_info": {
   "codemirror_mode": {
    "name": "ipython",
    "version": 3
   },
   "file_extension": ".py",
   "mimetype": "text/x-python",
   "name": "python",
   "nbconvert_exporter": "python",
   "pygments_lexer": "ipython3",
   "version": "3.6.3"
  }
 },
 "nbformat": 4,
 "nbformat_minor": 2
}
