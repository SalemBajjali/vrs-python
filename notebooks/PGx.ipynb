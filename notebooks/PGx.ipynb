{
 "cells": [
  {
   "cell_type": "markdown",
   "id": "6df4da5c-fd29-4a9d-aafb-5a254a13a984",
   "metadata": {},
   "source": [
    "# Modeling Genotypes and PGx Star Alleles with VRS"
   ]
  },
  {
   "cell_type": "code",
   "execution_count": 30,
   "id": "5040a57e-c81e-45da-9898-cba571ddd664",
   "metadata": {},
   "outputs": [],
   "source": [
    "from ga4gh.vrs import models, vrs_deref, vrs_enref\n",
    "from ga4gh.core import ga4gh_identify, ga4gh_serialize, ga4gh_digest, ga4gh_deref\n",
    "\n",
    "import re\n",
    "import yaml\n",
    "def ppo(o, indent=3):\n",
    "    \"\"\"pretty print object as yaml\"\"\"\n",
    "    print(yaml.dump(o.as_dict(), sort_keys=True, indent=indent))\n",
    "    \n",
    "from ga4gh.vrs.dataproxy import SeqRepoRESTDataProxy\n",
    "from biocommons.seqrepo import SeqRepo\n",
    "from ga4gh.vrs.extras.translator import Translator"
   ]
  },
  {
   "cell_type": "code",
   "execution_count": 14,
   "id": "a8a856f9-2841-449c-8813-49d3364751cf",
   "metadata": {},
   "outputs": [],
   "source": [
    "seqrepo_rest_service_url = \"https://services.genomicmedlab.org/seqrepo\"\n",
    "dp = SeqRepoRESTDataProxy(base_url=seqrepo_rest_service_url)\n",
    "\n",
    "tlr = Translator(data_proxy=dp)"
   ]
  },
  {
   "cell_type": "markdown",
   "id": "77bd7e21-5491-4e8e-ad11-f44b8ceee1f6",
   "metadata": {},
   "source": [
    "## Representing PharmGKB CYP2C19 *1/*17\n"
   ]
  },
  {
   "cell_type": "code",
   "execution_count": 15,
   "id": "940ae680-ca51-483e-91d2-33af495d5eb2",
   "metadata": {},
   "outputs": [],
   "source": [
    "# \"Haplotype\" 1: https://www.pharmgkb.org/haplotype/PA165980634"
   ]
  },
  {
   "cell_type": "code",
   "execution_count": 16,
   "id": "a4050ee3-8365-4585-b58c-fed576cefc82",
   "metadata": {},
   "outputs": [],
   "source": [
    "hgvs_expression = \"NC_000010.11:g.94842866A>G\""
   ]
  },
  {
   "cell_type": "code",
   "execution_count": 17,
   "id": "9212b8c9-42ed-4ce3-b2e3-0d92f908f500",
   "metadata": {},
   "outputs": [],
   "source": [
    "h1_allele1 = tlr.translate_from(hgvs_expression,'hgvs')"
   ]
  },
  {
   "cell_type": "code",
   "execution_count": 18,
   "id": "e72c375d-149a-471b-ae0b-8c756fbca4c8",
   "metadata": {},
   "outputs": [],
   "source": [
    "# Haplotype 2: https://www.pharmgkb.org/haplotype/PA165816533\n",
    "# H2 Allele 1: https://www.ncbi.nlm.nih.gov/projects/SNP/snp_ref.cgi?rs=rs12248560\n",
    "# H2 Allele 2: https://www.ncbi.nlm.nih.gov/projects/SNP/snp_ref.cgi?rs=rs3758581\n",
    "\n",
    "hgvs_expression1 = \"NC_000010.11:g.94761900C>T\"\n",
    "h2_allele1 = tlr.translate_from(hgvs_expression1,'hgvs')\n",
    "\n",
    "hgvs_expression2 = \"NC_000010.11:g.94842866A>G\"\n",
    "h2_allele2 = tlr.translate_from(hgvs_expression2,'hgvs')"
   ]
  },
  {
   "cell_type": "code",
   "execution_count": 19,
   "id": "7708df8b-c79c-4460-b1ec-754d86c18ed0",
   "metadata": {},
   "outputs": [],
   "source": [
    "h2 = models.Haplotype(members=[h2_allele1, h2_allele2])"
   ]
  },
  {
   "cell_type": "code",
   "execution_count": 20,
   "id": "0d34b047-487f-4388-ae58-de7034dd4631",
   "metadata": {},
   "outputs": [],
   "source": [
    "gt_mem1 = models.GenotypeMember(copies=models.Number(value=1), variation=h1_allele1)"
   ]
  },
  {
   "cell_type": "code",
   "execution_count": 21,
   "id": "95e96822-14cd-42a4-8cb4-854492b0eb04",
   "metadata": {},
   "outputs": [],
   "source": [
    "gt_mem2 = models.GenotypeMember(variation=h2, copies=models.Number(value=1))\n",
    "gt = models.Genotype(members=[gt_mem1, gt_mem2], copies=models.Number(value=2))"
   ]
  },
  {
   "cell_type": "code",
   "execution_count": 22,
   "id": "3d76fc5b-38e3-4f1c-8636-a77d92cf4ebf",
   "metadata": {},
   "outputs": [],
   "source": [
    "gt._id = ga4gh_identify(gt)"
   ]
  },
  {
   "cell_type": "code",
   "execution_count": 23,
   "id": "7eaf359b-b50b-4600-a3f0-8bf0d8d28aa7",
   "metadata": {},
   "outputs": [
    {
     "name": "stdout",
     "output_type": "stream",
     "text": [
      "_id: ga4gh:GT.ln8ybjp_6bQLyjlfRLmoZpo4oGu-Srnn\n",
      "copies:\n",
      "   type: Number\n",
      "   value: 2\n",
      "members:\n",
      "-  copies:\n",
      "      type: Number\n",
      "      value: 1\n",
      "   type: GenotypeMember\n",
      "   variation:\n",
      "      _id: ga4gh:VA.geQCxa1Enel8UBUAQQ2-rbphDjIR-cq0\n",
      "      location:\n",
      "         interval:\n",
      "            end:\n",
      "               type: Number\n",
      "               value: 94842866\n",
      "            start:\n",
      "               type: Number\n",
      "               value: 94842865\n",
      "            type: SequenceInterval\n",
      "         sequence_id: ga4gh:SQ.ss8r_wB0-b9r44TQTMmVTI92884QvBiB\n",
      "         type: SequenceLocation\n",
      "      state:\n",
      "         sequence: G\n",
      "         type: LiteralSequenceExpression\n",
      "      type: Allele\n",
      "-  copies:\n",
      "      type: Number\n",
      "      value: 1\n",
      "   type: GenotypeMember\n",
      "   variation:\n",
      "      members:\n",
      "      -  _id: ga4gh:VA.jWqv036CdZJs4YjwEYptDIBcoT7Uxv5I\n",
      "         location:\n",
      "            interval:\n",
      "               end:\n",
      "                  type: Number\n",
      "                  value: 94761900\n",
      "               start:\n",
      "                  type: Number\n",
      "                  value: 94761899\n",
      "               type: SequenceInterval\n",
      "            sequence_id: ga4gh:SQ.ss8r_wB0-b9r44TQTMmVTI92884QvBiB\n",
      "            type: SequenceLocation\n",
      "         state:\n",
      "            sequence: T\n",
      "            type: LiteralSequenceExpression\n",
      "         type: Allele\n",
      "      -  _id: ga4gh:VA.geQCxa1Enel8UBUAQQ2-rbphDjIR-cq0\n",
      "         location:\n",
      "            interval:\n",
      "               end:\n",
      "                  type: Number\n",
      "                  value: 94842866\n",
      "               start:\n",
      "                  type: Number\n",
      "                  value: 94842865\n",
      "               type: SequenceInterval\n",
      "            sequence_id: ga4gh:SQ.ss8r_wB0-b9r44TQTMmVTI92884QvBiB\n",
      "            type: SequenceLocation\n",
      "         state:\n",
      "            sequence: G\n",
      "            type: LiteralSequenceExpression\n",
      "         type: Allele\n",
      "      type: Haplotype\n",
      "type: Genotype\n",
      "\n"
     ]
    }
   ],
   "source": [
    "# A representation of this Genotype in YAML\n",
    "ppo(gt)"
   ]
  },
  {
   "cell_type": "markdown",
   "id": "3b5c8ee2-edc9-46c1-ac8e-cd0861134074",
   "metadata": {},
   "source": [
    "## Developing a community schema for extending Star Allele Genotypes with definitive Sequence Locations"
   ]
  },
  {
   "cell_type": "markdown",
   "id": "95a73655-acab-4169-9563-b6dd261216f9",
   "metadata": {},
   "source": [
    "A list of definitive sites was extracted from the CYP2C19 Allele Definition Table:\n",
    "https://files.cpicpgx.org/data/report/current/allele_definition/CYP2C19_allele_definition_table.xlsx"
   ]
  },
  {
   "cell_type": "code",
   "execution_count": 26,
   "id": "a64936ee-9ca9-4979-83bd-7abd2b70e517",
   "metadata": {},
   "outputs": [],
   "source": [
    "variant_sites = \"g.94761900C>T\tg.94762706A>G\tg.94762712C>T\tg.94762715T>C\tg.94762755T>C\tg.94762760A>C\tg.94762788A>T\tg.94762856A>G\tg.94775106C>T\tg.94775121C>T\tg.94775160G>C\tg.94775185A>G\tg.94775367A>G\tg.94775416T>C\tg.94775423A>C\tg.94775453G>A\tg.94775489G>A\tg.94775507G>A\tg.94780574G>C\tg.94780579G>A\tg.94780653G>A\tg.94781858C>T\tg.94781859G>A\tg.94781944G>A\tg.94781999T>A\tg.94842861G>A\tg.94842866A>G\tg.94842879G>A\tg.94842995G>A\tg.94849995C>T\tg.94852738C>T\tg.94852765C>T\tg.94852785C>G\tg.94852914A>C\".split()"
   ]
  },
  {
   "cell_type": "code",
   "execution_count": 31,
   "id": "a2c816a2-622f-47da-825b-26c232fa7452",
   "metadata": {},
   "outputs": [],
   "source": [
    "site_re = re.compile(r'g.(\\d+)\\w>\\w')"
   ]
  },
  {
   "cell_type": "code",
   "execution_count": 48,
   "id": "2417d80c-fb02-4ae9-8621-c37f8b98fa44",
   "metadata": {},
   "outputs": [],
   "source": [
    "site_positions = [int(site_re.match(x).groups()[0]) for x in variant_sites] "
   ]
  },
  {
   "cell_type": "markdown",
   "id": "7546f33b-2c37-47fe-aa2c-a162dbf89052",
   "metadata": {},
   "source": [
    "These sites were used to build VRS [Sequence Location](https://vrs.ga4gh.org/en/stable/terms_and_model.html#sequencelocation) objects."
   ]
  },
  {
   "cell_type": "code",
   "execution_count": 55,
   "id": "4ffce75c-d275-49b6-9ffb-08c60e442e63",
   "metadata": {},
   "outputs": [],
   "source": [
    "site_seqlocs = list()\n",
    "for position in site_positions:\n",
    "    interval = models.SequenceInterval(\n",
    "        start=models.Number(value=position-1), end=models.Number(value=position))\n",
    "    seqloc = models.SequenceLocation(\n",
    "        sequence_id='ga4gh:SQ.ss8r_wB0-b9r44TQTMmVTI92884QvBiB', interval=interval)\n",
    "    site_seqlocs.append(seqloc.as_dict())"
   ]
  },
  {
   "cell_type": "markdown",
   "id": "3d77574a-1d2b-467f-a604-ad09fb086d33",
   "metadata": {},
   "source": [
    "This was used to build a domain-specific message structure for CYP2C19 *1:"
   ]
  },
  {
   "cell_type": "code",
   "execution_count": 61,
   "id": "70e5856a-06d8-43a5-be5d-0ace27d07221",
   "metadata": {},
   "outputs": [],
   "source": [
    "msg = {\n",
    "    'type': 'StarAllele',\n",
    "    'variation': h1_allele1.as_dict(),\n",
    "    'definitive_sites': site_seqlocs\n",
    "}\n",
    "\n",
    "# this object can be inspected with the following:\n",
    "# print(yaml.dump(msg, sort_keys=True, indent=3))"
   ]
  },
  {
   "cell_type": "code",
   "execution_count": null,
   "id": "7a26984b-e3a6-499a-bdab-4de1001f6eff",
   "metadata": {},
   "outputs": [],
   "source": []
  }
 ],
 "metadata": {
  "kernelspec": {
   "display_name": "Python 3 (ipykernel)",
   "language": "python",
   "name": "python3"
  },
  "language_info": {
   "codemirror_mode": {
    "name": "ipython",
    "version": 3
   },
   "file_extension": ".py",
   "mimetype": "text/x-python",
   "name": "python",
   "nbconvert_exporter": "python",
   "pygments_lexer": "ipython3",
   "version": "3.9.13"
  },
  "vscode": {
   "interpreter": {
    "hash": "aee8b7b246df8f9039afb4144a1f6fd8d2ca17a180786b69acc140d282b71a49"
   }
  }
 },
 "nbformat": 4,
 "nbformat_minor": 5
}
