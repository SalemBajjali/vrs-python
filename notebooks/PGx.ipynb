{
 "cells": [
  {
   "cell_type": "code",
   "execution_count": 5,
   "id": "5040a57e-c81e-45da-9898-cba571ddd664",
   "metadata": {},
   "outputs": [],
   "source": [
    "from ga4gh.vrs import models, vrs_deref, vrs_enref\n",
    "from ga4gh.core import ga4gh_identify, ga4gh_serialize, ga4gh_digest, ga4gh_deref\n",
    "\n",
    "import json\n",
    "def ppo(o, indent=2):\n",
    "    \"\"\"pretty print object as json\"\"\"\n",
    "    print(json.dumps(o.as_dict(), sort_keys=True, indent=indent))\n",
    "    \n",
    "from ga4gh.vrs.dataproxy import SeqRepoRESTDataProxy\n",
    "from biocommons.seqrepo import SeqRepo\n",
    "from ga4gh.vrs.extras.translator import Translator"
   ]
  },
  {
   "cell_type": "code",
   "execution_count": 8,
   "id": "a8a856f9-2841-449c-8813-49d3364751cf",
   "metadata": {},
   "outputs": [],
   "source": [
    "seqrepo_rest_service_url = \"https://services.genomicmedlab.org/seqrepo\"\n",
    "dp = SeqRepoRESTDataProxy(base_url=seqrepo_rest_service_url)\n",
    "\n",
    "tlr = Translator(data_proxy=dp)"
   ]
  },
  {
   "cell_type": "markdown",
   "id": "77bd7e21-5491-4e8e-ad11-f44b8ceee1f6",
   "metadata": {},
   "source": [
    "## Representing ClinVar PGx Allele 634420\n",
    "https://www.ncbi.nlm.nih.gov/clinvar/variation/634420"
   ]
  },
  {
   "cell_type": "code",
   "execution_count": 4,
   "id": "940ae680-ca51-483e-91d2-33af495d5eb2",
   "metadata": {},
   "outputs": [],
   "source": [
    "# \"Haplotype\" 1: https://www.ncbi.nlm.nih.gov/clinvar/variation/633851"
   ]
  },
  {
   "cell_type": "code",
   "execution_count": 6,
   "id": "a4050ee3-8365-4585-b58c-fed576cefc82",
   "metadata": {},
   "outputs": [],
   "source": [
    "hgvs_expression = \"NC_000010.11:g.94761665G>A\""
   ]
  },
  {
   "cell_type": "code",
   "execution_count": 12,
   "id": "9212b8c9-42ed-4ce3-b2e3-0d92f908f500",
   "metadata": {},
   "outputs": [],
   "source": [
    "h1_allele1 = tlr.translate_from(hgvs_expression,'hgvs')"
   ]
  },
  {
   "cell_type": "code",
   "execution_count": 13,
   "id": "e72c375d-149a-471b-ae0b-8c756fbca4c8",
   "metadata": {},
   "outputs": [],
   "source": [
    "# Haplotype 2: https://www.ncbi.nlm.nih.gov/clinvar/variation/633860/\n",
    "# H2 Allele 1: https://www.ncbi.nlm.nih.gov/clinvar/variation/16900\n",
    "# H2 Allele 2: https://www.ncbi.nlm.nih.gov/clinvar/variation/39357\n",
    "\n",
    "hgvs_expression = \"NC_000010.11:g.94762706A>G\"\n",
    "h2_allele1 = tlr.translate_from(hgvs_expression,'hgvs')\n",
    "\n",
    "hgvs_expression = \"NC_000010.11:g.94761900C>T\"\n",
    "h2_allele2 = tlr.translate_from(hgvs_expression,'hgvs')"
   ]
  },
  {
   "cell_type": "code",
   "execution_count": 15,
   "id": "7708df8b-c79c-4460-b1ec-754d86c18ed0",
   "metadata": {},
   "outputs": [],
   "source": [
    "h2 = models.Haplotype(members=[h2_allele1, h2_allele2])"
   ]
  },
  {
   "cell_type": "code",
   "execution_count": null,
   "id": "f42a39a6-5d60-4a4e-ada3-fed617e915e0",
   "metadata": {},
   "outputs": [
    {
     "data": {
      "text/plain": [
       "<Number type=None value=<Literal<int> 1>>"
      ]
     },
     "execution_count": 22,
     "metadata": {},
     "output_type": "execute_result"
    }
   ],
   "source": [
    "models.Number(value=1)"
   ]
  },
  {
   "cell_type": "code",
   "execution_count": 21,
   "id": "0d34b047-487f-4388-ae58-de7034dd4631",
   "metadata": {},
   "outputs": [
    {
     "ename": "ValidationError",
     "evalue": "<class 'abc.Allele'>: __new__() takes 1 positional argument but 2 were given\nUnable to instantiate any valid types: \n<class 'abc.Haplotype'>: __new__() takes 1 positional argument but 2 were given\n \nwhile setting 'variation' in GenotypeMember",
     "output_type": "error",
     "traceback": [
      "\u001b[0;31m---------------------------------------------------------------------------\u001b[0m",
      "\u001b[0;31mValidationError\u001b[0m                           Traceback (most recent call last)",
      "File \u001b[0;32m~/.local/share/virtualenvs/vrs-python-z7zdIrLG/lib/python3.9/site-packages/python_jsonschema_objects/classbuilder.py:201\u001b[0m, in \u001b[0;36mProtocolBase.__init__\u001b[0;34m(self, **props)\u001b[0m\n\u001b[1;32m    200\u001b[0m     \u001b[38;5;28;01mif\u001b[39;00m props[prop] \u001b[38;5;129;01mis\u001b[39;00m \u001b[38;5;129;01mnot\u001b[39;00m \u001b[38;5;28;01mNone\u001b[39;00m:\n\u001b[0;32m--> 201\u001b[0m         \u001b[38;5;28;43msetattr\u001b[39;49m\u001b[43m(\u001b[49m\u001b[38;5;28;43mself\u001b[39;49m\u001b[43m,\u001b[49m\u001b[43m \u001b[49m\u001b[43mprop\u001b[49m\u001b[43m,\u001b[49m\u001b[43m \u001b[49m\u001b[43mprops\u001b[49m\u001b[43m[\u001b[49m\u001b[43mprop\u001b[49m\u001b[43m]\u001b[49m\u001b[43m)\u001b[49m\n\u001b[1;32m    202\u001b[0m \u001b[38;5;28;01mexcept\u001b[39;00m validators\u001b[38;5;241m.\u001b[39mValidationError \u001b[38;5;28;01mas\u001b[39;00m e:\n",
      "File \u001b[0;32m~/.local/share/virtualenvs/vrs-python-z7zdIrLG/lib/python3.9/site-packages/python_jsonschema_objects/classbuilder.py:229\u001b[0m, in \u001b[0;36mProtocolBase.__setattr__\u001b[0;34m(self, name, val)\u001b[0m\n\u001b[1;32m    228\u001b[0m     prop \u001b[38;5;241m=\u001b[39m \u001b[38;5;28mgetattr\u001b[39m(\u001b[38;5;28mself\u001b[39m\u001b[38;5;241m.\u001b[39m\u001b[38;5;18m__class__\u001b[39m, \u001b[38;5;28mself\u001b[39m\u001b[38;5;241m.\u001b[39m__prop_names__[name])\n\u001b[0;32m--> 229\u001b[0m     \u001b[43mprop\u001b[49m\u001b[38;5;241;43m.\u001b[39;49m\u001b[38;5;21;43m__set__\u001b[39;49m\u001b[43m(\u001b[49m\u001b[38;5;28;43mself\u001b[39;49m\u001b[43m,\u001b[49m\u001b[43m \u001b[49m\u001b[43mval\u001b[49m\u001b[43m)\u001b[49m\n\u001b[1;32m    230\u001b[0m \u001b[38;5;28;01melse\u001b[39;00m:\n\u001b[1;32m    231\u001b[0m     \u001b[38;5;66;03m# This is an additional property of some kind\u001b[39;00m\n",
      "File \u001b[0;32m~/.local/share/virtualenvs/vrs-python-z7zdIrLG/lib/python3.9/site-packages/python_jsonschema_objects/descriptors.py:122\u001b[0m, in \u001b[0;36mAttributeDescriptor.__set__\u001b[0;34m(self, obj, val)\u001b[0m\n\u001b[1;32m    121\u001b[0m \u001b[38;5;28;01melif\u001b[39;00m \u001b[38;5;28misinstance\u001b[39m(info[\u001b[38;5;124m\"\u001b[39m\u001b[38;5;124mtype\u001b[39m\u001b[38;5;124m\"\u001b[39m], TypeProxy):\n\u001b[0;32m--> 122\u001b[0m     val \u001b[38;5;241m=\u001b[39m \u001b[43minfo\u001b[49m\u001b[43m[\u001b[49m\u001b[38;5;124;43m\"\u001b[39;49m\u001b[38;5;124;43mtype\u001b[39;49m\u001b[38;5;124;43m\"\u001b[39;49m\u001b[43m]\u001b[49m\u001b[43m(\u001b[49m\u001b[43mval\u001b[49m\u001b[43m)\u001b[49m\n\u001b[1;32m    124\u001b[0m \u001b[38;5;28;01melif\u001b[39;00m \u001b[38;5;28misinstance\u001b[39m(info[\u001b[38;5;124m\"\u001b[39m\u001b[38;5;124mtype\u001b[39m\u001b[38;5;124m\"\u001b[39m], TypeRef):\n",
      "File \u001b[0;32m~/.local/share/virtualenvs/vrs-python-z7zdIrLG/lib/python3.9/site-packages/python_jsonschema_objects/classbuilder.py:440\u001b[0m, in \u001b[0;36mTypeProxy.__call__\u001b[0;34m(self, *a, **kw)\u001b[0m\n\u001b[1;32m    439\u001b[0m \u001b[38;5;28;01melse\u001b[39;00m:  \u001b[38;5;66;03m# We got nothing\u001b[39;00m\n\u001b[0;32m--> 440\u001b[0m     \u001b[38;5;28;01mraise\u001b[39;00m validators\u001b[38;5;241m.\u001b[39mValidationError(\n\u001b[1;32m    441\u001b[0m         \u001b[38;5;124m\"\u001b[39m\u001b[38;5;124mUnable to instantiate any valid types: \u001b[39m\u001b[38;5;130;01m\\n\u001b[39;00m\u001b[38;5;124m\"\u001b[39m\n\u001b[1;32m    442\u001b[0m         \u001b[38;5;124m\"\u001b[39m\u001b[38;5;124m\"\u001b[39m\u001b[38;5;241m.\u001b[39mjoin(\u001b[38;5;124m\"\u001b[39m\u001b[38;5;132;01m{0}\u001b[39;00m\u001b[38;5;124m: \u001b[39m\u001b[38;5;132;01m{1}\u001b[39;00m\u001b[38;5;130;01m\\n\u001b[39;00m\u001b[38;5;124m\"\u001b[39m\u001b[38;5;241m.\u001b[39mformat(k, e) \u001b[38;5;28;01mfor\u001b[39;00m k, e \u001b[38;5;129;01min\u001b[39;00m validation_errors)\n\u001b[1;32m    443\u001b[0m     )\n",
      "\u001b[0;31mValidationError\u001b[0m: <class 'abc.Allele'>: __new__() takes 1 positional argument but 2 were given\nUnable to instantiate any valid types: \n<class 'abc.Haplotype'>: __new__() takes 1 positional argument but 2 were given\n",
      "\nDuring handling of the above exception, another exception occurred:\n",
      "\u001b[0;31mValidationError\u001b[0m                           Traceback (most recent call last)",
      "Input \u001b[0;32mIn [23]\u001b[0m, in \u001b[0;36m<cell line: 1>\u001b[0;34m()\u001b[0m\n\u001b[0;32m----> 1\u001b[0m gt_mem1 \u001b[38;5;241m=\u001b[39m \u001b[43mmodels\u001b[49m\u001b[38;5;241;43m.\u001b[39;49m\u001b[43mGenotypeMember\u001b[49m\u001b[43m(\u001b[49m\u001b[43mvariation\u001b[49m\u001b[38;5;241;43m=\u001b[39;49m\u001b[43mh2\u001b[49m\u001b[43m,\u001b[49m\u001b[43m \u001b[49m\u001b[43mcopies\u001b[49m\u001b[38;5;241;43m=\u001b[39;49m\u001b[43mmodels\u001b[49m\u001b[38;5;241;43m.\u001b[39;49m\u001b[43mNumber\u001b[49m\u001b[43m(\u001b[49m\u001b[43mvalue\u001b[49m\u001b[38;5;241;43m=\u001b[39;49m\u001b[38;5;241;43m1\u001b[39;49m\u001b[43m)\u001b[49m\u001b[43m)\u001b[49m\n",
      "File \u001b[0;32m~/.local/share/virtualenvs/vrs-python-z7zdIrLG/lib/python3.9/site-packages/python_jsonschema_objects/classbuilder.py:205\u001b[0m, in \u001b[0;36mProtocolBase.__init__\u001b[0;34m(self, **props)\u001b[0m\n\u001b[1;32m    202\u001b[0m     \u001b[38;5;28;01mexcept\u001b[39;00m validators\u001b[38;5;241m.\u001b[39mValidationError \u001b[38;5;28;01mas\u001b[39;00m e:\n\u001b[1;32m    203\u001b[0m         \u001b[38;5;28;01mimport\u001b[39;00m \u001b[38;5;21;01msys\u001b[39;00m\n\u001b[0;32m--> 205\u001b[0m         \u001b[38;5;28;01mraise\u001b[39;00m \u001b[43msix\u001b[49m\u001b[38;5;241;43m.\u001b[39;49m\u001b[43mreraise\u001b[49m\u001b[43m(\u001b[49m\n\u001b[1;32m    206\u001b[0m \u001b[43m            \u001b[49m\u001b[38;5;28;43mtype\u001b[39;49m\u001b[43m(\u001b[49m\u001b[43me\u001b[49m\u001b[43m)\u001b[49m\u001b[43m,\u001b[49m\n\u001b[1;32m    207\u001b[0m \u001b[43m            \u001b[49m\u001b[38;5;28;43mtype\u001b[39;49m\u001b[43m(\u001b[49m\u001b[43me\u001b[49m\u001b[43m)\u001b[49m\u001b[43m(\u001b[49m\n\u001b[1;32m    208\u001b[0m \u001b[43m                \u001b[49m\u001b[38;5;28;43mstr\u001b[39;49m\u001b[43m(\u001b[49m\u001b[43me\u001b[49m\u001b[43m)\u001b[49m\n\u001b[1;32m    209\u001b[0m \u001b[43m                \u001b[49m\u001b[38;5;241;43m+\u001b[39;49m\u001b[43m \u001b[49m\u001b[38;5;124;43m\"\u001b[39;49m\u001b[38;5;124;43m \u001b[39;49m\u001b[38;5;130;43;01m\\n\u001b[39;49;00m\u001b[38;5;124;43mwhile setting \u001b[39;49m\u001b[38;5;124;43m'\u001b[39;49m\u001b[38;5;132;43;01m{0}\u001b[39;49;00m\u001b[38;5;124;43m'\u001b[39;49m\u001b[38;5;124;43m in \u001b[39;49m\u001b[38;5;132;43;01m{1}\u001b[39;49;00m\u001b[38;5;124;43m\"\u001b[39;49m\u001b[38;5;241;43m.\u001b[39;49m\u001b[43mformat\u001b[49m\u001b[43m(\u001b[49m\n\u001b[1;32m    210\u001b[0m \u001b[43m                    \u001b[49m\u001b[43mprop\u001b[49m\u001b[43m,\u001b[49m\u001b[43m \u001b[49m\u001b[38;5;28;43mself\u001b[39;49m\u001b[38;5;241;43m.\u001b[39;49m\u001b[38;5;18;43m__class__\u001b[39;49m\u001b[38;5;241;43m.\u001b[39;49m\u001b[38;5;18;43m__name__\u001b[39;49m\n\u001b[1;32m    211\u001b[0m \u001b[43m                \u001b[49m\u001b[43m)\u001b[49m\n\u001b[1;32m    212\u001b[0m \u001b[43m            \u001b[49m\u001b[43m)\u001b[49m\u001b[43m,\u001b[49m\n\u001b[1;32m    213\u001b[0m \u001b[43m            \u001b[49m\u001b[43msys\u001b[49m\u001b[38;5;241;43m.\u001b[39;49m\u001b[43mexc_info\u001b[49m\u001b[43m(\u001b[49m\u001b[43m)\u001b[49m\u001b[43m[\u001b[49m\u001b[38;5;241;43m2\u001b[39;49m\u001b[43m]\u001b[49m\u001b[43m,\u001b[49m\n\u001b[1;32m    214\u001b[0m \u001b[43m        \u001b[49m\u001b[43m)\u001b[49m\n\u001b[1;32m    216\u001b[0m \u001b[38;5;28;01mif\u001b[39;00m \u001b[38;5;28mgetattr\u001b[39m(\u001b[38;5;28mself\u001b[39m, \u001b[38;5;124m\"\u001b[39m\u001b[38;5;124m__strict__\u001b[39m\u001b[38;5;124m\"\u001b[39m, \u001b[38;5;28;01mNone\u001b[39;00m):\n\u001b[1;32m    217\u001b[0m     \u001b[38;5;28mself\u001b[39m\u001b[38;5;241m.\u001b[39mvalidate()\n",
      "File \u001b[0;32m~/.local/share/virtualenvs/vrs-python-z7zdIrLG/lib/python3.9/site-packages/six.py:718\u001b[0m, in \u001b[0;36mreraise\u001b[0;34m(tp, value, tb)\u001b[0m\n\u001b[1;32m    716\u001b[0m         value \u001b[38;5;241m=\u001b[39m tp()\n\u001b[1;32m    717\u001b[0m     \u001b[38;5;28;01mif\u001b[39;00m value\u001b[38;5;241m.\u001b[39m__traceback__ \u001b[38;5;129;01mis\u001b[39;00m \u001b[38;5;129;01mnot\u001b[39;00m tb:\n\u001b[0;32m--> 718\u001b[0m         \u001b[38;5;28;01mraise\u001b[39;00m value\u001b[38;5;241m.\u001b[39mwith_traceback(tb)\n\u001b[1;32m    719\u001b[0m     \u001b[38;5;28;01mraise\u001b[39;00m value\n\u001b[1;32m    720\u001b[0m \u001b[38;5;28;01mfinally\u001b[39;00m:\n",
      "File \u001b[0;32m~/.local/share/virtualenvs/vrs-python-z7zdIrLG/lib/python3.9/site-packages/python_jsonschema_objects/classbuilder.py:201\u001b[0m, in \u001b[0;36mProtocolBase.__init__\u001b[0;34m(self, **props)\u001b[0m\n\u001b[1;32m    199\u001b[0m     \u001b[38;5;66;03m# Always set the property, even if None\u001b[39;00m\n\u001b[1;32m    200\u001b[0m     \u001b[38;5;28;01mif\u001b[39;00m props[prop] \u001b[38;5;129;01mis\u001b[39;00m \u001b[38;5;129;01mnot\u001b[39;00m \u001b[38;5;28;01mNone\u001b[39;00m:\n\u001b[0;32m--> 201\u001b[0m         \u001b[38;5;28;43msetattr\u001b[39;49m\u001b[43m(\u001b[49m\u001b[38;5;28;43mself\u001b[39;49m\u001b[43m,\u001b[49m\u001b[43m \u001b[49m\u001b[43mprop\u001b[49m\u001b[43m,\u001b[49m\u001b[43m \u001b[49m\u001b[43mprops\u001b[49m\u001b[43m[\u001b[49m\u001b[43mprop\u001b[49m\u001b[43m]\u001b[49m\u001b[43m)\u001b[49m\n\u001b[1;32m    202\u001b[0m \u001b[38;5;28;01mexcept\u001b[39;00m validators\u001b[38;5;241m.\u001b[39mValidationError \u001b[38;5;28;01mas\u001b[39;00m e:\n\u001b[1;32m    203\u001b[0m     \u001b[38;5;28;01mimport\u001b[39;00m \u001b[38;5;21;01msys\u001b[39;00m\n",
      "File \u001b[0;32m~/.local/share/virtualenvs/vrs-python-z7zdIrLG/lib/python3.9/site-packages/python_jsonschema_objects/classbuilder.py:229\u001b[0m, in \u001b[0;36mProtocolBase.__setattr__\u001b[0;34m(self, name, val)\u001b[0m\n\u001b[1;32m    223\u001b[0m \u001b[38;5;28;01melif\u001b[39;00m name \u001b[38;5;129;01min\u001b[39;00m \u001b[38;5;28mself\u001b[39m\u001b[38;5;241m.\u001b[39m__propinfo__:\n\u001b[1;32m    224\u001b[0m     \u001b[38;5;66;03m# If its in __propinfo__, then it actually has a property defined.\u001b[39;00m\n\u001b[1;32m    225\u001b[0m     \u001b[38;5;66;03m# The property does special validation, so we actually need to\u001b[39;00m\n\u001b[1;32m    226\u001b[0m     \u001b[38;5;66;03m# run its setter. We get it from the class definition and call\u001b[39;00m\n\u001b[1;32m    227\u001b[0m     \u001b[38;5;66;03m# it directly. XXX Heinous.\u001b[39;00m\n\u001b[1;32m    228\u001b[0m     prop \u001b[38;5;241m=\u001b[39m \u001b[38;5;28mgetattr\u001b[39m(\u001b[38;5;28mself\u001b[39m\u001b[38;5;241m.\u001b[39m\u001b[38;5;18m__class__\u001b[39m, \u001b[38;5;28mself\u001b[39m\u001b[38;5;241m.\u001b[39m__prop_names__[name])\n\u001b[0;32m--> 229\u001b[0m     \u001b[43mprop\u001b[49m\u001b[38;5;241;43m.\u001b[39;49m\u001b[38;5;21;43m__set__\u001b[39;49m\u001b[43m(\u001b[49m\u001b[38;5;28;43mself\u001b[39;49m\u001b[43m,\u001b[49m\u001b[43m \u001b[49m\u001b[43mval\u001b[49m\u001b[43m)\u001b[49m\n\u001b[1;32m    230\u001b[0m \u001b[38;5;28;01melse\u001b[39;00m:\n\u001b[1;32m    231\u001b[0m     \u001b[38;5;66;03m# This is an additional property of some kind\u001b[39;00m\n\u001b[1;32m    232\u001b[0m     \u001b[38;5;28;01mtry\u001b[39;00m:\n",
      "File \u001b[0;32m~/.local/share/virtualenvs/vrs-python-z7zdIrLG/lib/python3.9/site-packages/python_jsonschema_objects/descriptors.py:122\u001b[0m, in \u001b[0;36mAttributeDescriptor.__set__\u001b[0;34m(self, obj, val)\u001b[0m\n\u001b[1;32m    119\u001b[0m     val\u001b[38;5;241m.\u001b[39mvalidate()\n\u001b[1;32m    121\u001b[0m \u001b[38;5;28;01melif\u001b[39;00m \u001b[38;5;28misinstance\u001b[39m(info[\u001b[38;5;124m\"\u001b[39m\u001b[38;5;124mtype\u001b[39m\u001b[38;5;124m\"\u001b[39m], TypeProxy):\n\u001b[0;32m--> 122\u001b[0m     val \u001b[38;5;241m=\u001b[39m \u001b[43minfo\u001b[49m\u001b[43m[\u001b[49m\u001b[38;5;124;43m\"\u001b[39;49m\u001b[38;5;124;43mtype\u001b[39;49m\u001b[38;5;124;43m\"\u001b[39;49m\u001b[43m]\u001b[49m\u001b[43m(\u001b[49m\u001b[43mval\u001b[49m\u001b[43m)\u001b[49m\n\u001b[1;32m    124\u001b[0m \u001b[38;5;28;01melif\u001b[39;00m \u001b[38;5;28misinstance\u001b[39m(info[\u001b[38;5;124m\"\u001b[39m\u001b[38;5;124mtype\u001b[39m\u001b[38;5;124m\"\u001b[39m], TypeRef):\n\u001b[1;32m    125\u001b[0m     \u001b[38;5;28;01mif\u001b[39;00m \u001b[38;5;129;01mnot\u001b[39;00m \u001b[38;5;28misinstance\u001b[39m(val, info[\u001b[38;5;124m\"\u001b[39m\u001b[38;5;124mtype\u001b[39m\u001b[38;5;124m\"\u001b[39m]\u001b[38;5;241m.\u001b[39mref_class):\n",
      "File \u001b[0;32m~/.local/share/virtualenvs/vrs-python-z7zdIrLG/lib/python3.9/site-packages/python_jsonschema_objects/classbuilder.py:440\u001b[0m, in \u001b[0;36mTypeProxy.__call__\u001b[0;34m(self, *a, **kw)\u001b[0m\n\u001b[1;32m    437\u001b[0m         \u001b[38;5;28;01mreturn\u001b[39;00m obj\n\u001b[1;32m    439\u001b[0m \u001b[38;5;28;01melse\u001b[39;00m:  \u001b[38;5;66;03m# We got nothing\u001b[39;00m\n\u001b[0;32m--> 440\u001b[0m     \u001b[38;5;28;01mraise\u001b[39;00m validators\u001b[38;5;241m.\u001b[39mValidationError(\n\u001b[1;32m    441\u001b[0m         \u001b[38;5;124m\"\u001b[39m\u001b[38;5;124mUnable to instantiate any valid types: \u001b[39m\u001b[38;5;130;01m\\n\u001b[39;00m\u001b[38;5;124m\"\u001b[39m\n\u001b[1;32m    442\u001b[0m         \u001b[38;5;124m\"\u001b[39m\u001b[38;5;124m\"\u001b[39m\u001b[38;5;241m.\u001b[39mjoin(\u001b[38;5;124m\"\u001b[39m\u001b[38;5;132;01m{0}\u001b[39;00m\u001b[38;5;124m: \u001b[39m\u001b[38;5;132;01m{1}\u001b[39;00m\u001b[38;5;130;01m\\n\u001b[39;00m\u001b[38;5;124m\"\u001b[39m\u001b[38;5;241m.\u001b[39mformat(k, e) \u001b[38;5;28;01mfor\u001b[39;00m k, e \u001b[38;5;129;01min\u001b[39;00m validation_errors)\n\u001b[1;32m    443\u001b[0m     )\n",
      "\u001b[0;31mValidationError\u001b[0m: <class 'abc.Allele'>: __new__() takes 1 positional argument but 2 were given\nUnable to instantiate any valid types: \n<class 'abc.Haplotype'>: __new__() takes 1 positional argument but 2 were given\n \nwhile setting 'variation' in GenotypeMember"
     ]
    }
   ],
   "source": [
    "gt_mem1 = models.GenotypeMember(variation=h1_allele1, copies=models.Number(value=1))"
   ]
  },
  {
   "cell_type": "code",
   "execution_count": null,
   "id": "95e96822-14cd-42a4-8cb4-854492b0eb04",
   "metadata": {},
   "outputs": [],
   "source": [
    "gt_mem2 = models.GenotypeMember(variation=h2, copies=models.Number(value=1))\n",
    "gt = models.Genotype(members=[gt_mem1, gt_mem2], copies=models.Number(value=2))"
   ]
  },
  {
   "cell_type": "code",
   "execution_count": 17,
   "id": "16b83ab6-989d-40f1-b5b5-6a8055fd2400",
   "metadata": {},
   "outputs": [
    {
     "data": {
      "text/plain": [
       "<Allele _id=<Literal<str> ga4gh:VA.3AIu_q8I6dxuX76aZIq43GvogEsLuvAN> location=<SequenceLocation _id=None interval=<SequenceInterval end=<Number type=<Literal<str> Number> value=<Literal<int> 94761665>> start=<Number type=<Literal<str> Number> value=<Literal<int> 94761664>> type=<Literal<str> SequenceInterval>> sequence_id=<Literal<str> ga4gh:SQ.ss8r_wB0-b9r44TQTMmVTI92884QvBiB> type=<Literal<str> SequenceLocation>> state=<SequenceState sequence=<Literal<str> A> type=<Literal<str> LiteralSequenceExpression>> type=<Literal<str> Allele>>"
      ]
     },
     "execution_count": 17,
     "metadata": {},
     "output_type": "execute_result"
    }
   ],
   "source": [
    "h1_allele1"
   ]
  },
  {
   "cell_type": "code",
   "execution_count": 26,
   "id": "1544f2cd-9b9f-42fc-ab36-d5c69f0a9148",
   "metadata": {},
   "outputs": [
    {
     "name": "stdout",
     "output_type": "stream",
     "text": [
      "{\n",
      "  \"location\": {\n",
      "    \"interval\": {\n",
      "      \"end\": {\n",
      "        \"type\": \"Number\",\n",
      "        \"value\": 94761665\n",
      "      },\n",
      "      \"start\": {\n",
      "        \"type\": \"Number\",\n",
      "        \"value\": 94761664\n",
      "      },\n",
      "      \"type\": \"SequenceInterval\"\n",
      "    },\n",
      "    \"sequence_id\": \"ga4gh:SQ.ss8r_wB0-b9r44TQTMmVTI92884QvBiB\",\n",
      "    \"type\": \"SequenceLocation\"\n",
      "  },\n",
      "  \"reverse_complement\": false\n",
      "}\n"
     ]
    }
   ],
   "source": [
    "sl1 = h1_allele1.location\n",
    "ppo(models.DerivedSequenceExpression(location=sl1, reverse_complement=False))"
   ]
  },
  {
   "cell_type": "code",
   "execution_count": null,
   "id": "3d76fc5b-38e3-4f1c-8636-a77d92cf4ebf",
   "metadata": {},
   "outputs": [],
   "source": []
  }
 ],
 "metadata": {
  "kernelspec": {
   "display_name": "Python 3 (ipykernel)",
   "language": "python",
   "name": "python3"
  },
  "language_info": {
   "codemirror_mode": {
    "name": "ipython",
    "version": 3
   },
   "file_extension": ".py",
   "mimetype": "text/x-python",
   "name": "python",
   "nbconvert_exporter": "python",
   "pygments_lexer": "ipython3",
   "version": "3.9.13"
  }
 },
 "nbformat": 4,
 "nbformat_minor": 5
}
