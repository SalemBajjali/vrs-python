{
 "cells": [
  {
   "cell_type": "code",
   "execution_count": 1,
   "metadata": {},
   "outputs": [
    {
     "data": {
      "text/plain": [
       "{'chr': '11', 'start': 'q22.2', 'type': 'CytobandLocation'}"
      ]
     },
     "execution_count": 1,
     "metadata": {},
     "output_type": "execute_result"
    }
   ],
   "source": [
    "from ga4gh.vr import models\n",
    "cbl1 = models.CytobandLocation(chr=\"11\", start=\"q22.2\")\n",
    "cbl1.as_dict()"
   ]
  },
  {
   "cell_type": "code",
   "execution_count": 2,
   "metadata": {},
   "outputs": [],
   "source": [
    "from ga4gh.core import ga4gh_identify"
   ]
  },
  {
   "cell_type": "code",
   "execution_count": 3,
   "metadata": {},
   "outputs": [
    {
     "data": {
      "text/plain": [
       "'ga4gh:VCL.67XneCUy4vi5QfAmwSw6EwstOR07j9j9'"
      ]
     },
     "execution_count": 3,
     "metadata": {},
     "output_type": "execute_result"
    }
   ],
   "source": [
    "ga4gh_identify(cbl1)"
   ]
  },
  {
   "cell_type": "code",
   "execution_count": 4,
   "metadata": {},
   "outputs": [
    {
     "data": {
      "text/plain": [
       "{'chr': '11', 'end': 'q22.3', 'start': 'q22.2', 'type': 'CytobandLocation'}"
      ]
     },
     "execution_count": 4,
     "metadata": {},
     "output_type": "execute_result"
    }
   ],
   "source": [
    "cbl2 = models.CytobandLocation(chr=\"11\", start=\"q22.2\", end=\"q22.3\")\n",
    "cbl2.as_dict()"
   ]
  },
  {
   "cell_type": "code",
   "execution_count": 5,
   "metadata": {},
   "outputs": [],
   "source": [
    "from ga4gh.vr.extras.localizer import Localizer\n",
    "lr = Localizer()"
   ]
  },
  {
   "cell_type": "code",
   "execution_count": 6,
   "metadata": {},
   "outputs": [
    {
     "data": {
      "text/plain": [
       "{'interval': {'end': 103000000, 'start': 102300000, 'type': 'SimpleInterval'},\n",
       " 'sequence_id': 'refseq:NC_000011.10',\n",
       " 'type': 'SequenceLocation'}"
      ]
     },
     "execution_count": 6,
     "metadata": {},
     "output_type": "execute_result"
    }
   ],
   "source": [
    "sl1 = lr.localize_cytoband(cbl1)\n",
    "sl1.as_dict()"
   ]
  },
  {
   "cell_type": "code",
   "execution_count": 7,
   "metadata": {},
   "outputs": [
    {
     "data": {
      "text/plain": [
       "{'interval': {'end': 110600000, 'start': 102300000, 'type': 'SimpleInterval'},\n",
       " 'sequence_id': 'refseq:NC_000011.10',\n",
       " 'type': 'SequenceLocation'}"
      ]
     },
     "execution_count": 7,
     "metadata": {},
     "output_type": "execute_result"
    }
   ],
   "source": [
    "sl2 = lr.localize_cytoband(cbl2)\n",
    "sl2.as_dict()"
   ]
  },
  {
   "cell_type": "code",
   "execution_count": 8,
   "metadata": {},
   "outputs": [],
   "source": [
    "gl = models.GeneLocation()"
   ]
  },
  {
   "cell_type": "code",
   "execution_count": 9,
   "metadata": {},
   "outputs": [
    {
     "data": {
      "text/plain": [
       "{'type': 'GeneLocation'}"
      ]
     },
     "execution_count": 9,
     "metadata": {},
     "output_type": "execute_result"
    }
   ],
   "source": [
    "gl.as_dict()"
   ]
  },
  {
   "cell_type": "markdown",
   "metadata": {},
   "source": [
    "  CytobandLocation:\n",
    "    type: object\n",
    "    properties:\n",
    "      type:\n",
    "        type: string\n",
    "        enum: [CytobandLocation]\n",
    "        default: CytobandLocation\n",
    "      _id:\n",
    "        $ref: \"#/definitions/CURIE\"\n",
    "      chr:\n",
    "        type: string\n",
    "      start:\n",
    "        $ref: \"#/definitions/Cytoband\"\n",
    "      end:\n",
    "        $ref: \"#/definitions/Cytoband\"\n",
    "        nullable: true\n",
    "        default: null\n",
    "    additionalProperties: false\n",
    "    required:\n",
    "      - type\n",
    "      - chr\n",
    "      - start\n",
    "    \n",
    "  GeneLocation:\n",
    "    type: object\n",
    "    properties:\n",
    "      type:\n",
    "        type: string\n",
    "        enum: [GeneLocation]\n",
    "        default: GeneLocation\n",
    "      _id:\n",
    "        $ref: \"#/definitions/CURIE\"\n",
    "      gene:\n",
    "        $ref: \"#/definitions/CURIE\"\n",
    "        description: See https://www.ebi.ac.uk/miriam/main/datatypes/MIR:00000069\n"
   ]
  }
 ],
 "metadata": {
  "kernelspec": {
   "display_name": "Python 3",
   "language": "python",
   "name": "python3"
  },
  "language_info": {
   "codemirror_mode": {
    "name": "ipython",
    "version": 3
   },
   "file_extension": ".py",
   "mimetype": "text/x-python",
   "name": "python",
   "nbconvert_exporter": "python",
   "pygments_lexer": "ipython3",
   "version": "3.7.5"
  }
 },
 "nbformat": 4,
 "nbformat_minor": 4
}
