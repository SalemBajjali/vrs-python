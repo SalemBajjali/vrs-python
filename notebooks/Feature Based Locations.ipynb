{
 "cells": [
  {
   "cell_type": "markdown",
   "metadata": {},
   "source": [
    "# Feature-Based Locations\n",
    "\n",
    "Feature-based locations are VRS Locations that are defined by reference to certain landmarks or features. The currently supported Feature-Based Locations are CytobandLocation and GeneLocation classes."
   ]
  },
  {
   "cell_type": "code",
   "execution_count": 1,
   "metadata": {},
   "outputs": [],
   "source": [
    "from ga4gh.vr import models\n",
    "from ga4gh.core import ga4gh_identify"
   ]
  },
  {
   "cell_type": "markdown",
   "metadata": {},
   "source": [
    "## CytobandLocation"
   ]
  },
  {
   "cell_type": "code",
   "execution_count": 2,
   "metadata": {},
   "outputs": [
    {
     "data": {
      "text/plain": [
       "{'chr': '11', 'start': 'q22.2', 'type': 'CytobandLocation'}"
      ]
     },
     "execution_count": 2,
     "metadata": {},
     "output_type": "execute_result"
    }
   ],
   "source": [
    "cbl1 = models.CytobandLocation(chr=\"11\", start=\"q22.2\")\n",
    "cbl1.as_dict()"
   ]
  },
  {
   "cell_type": "code",
   "execution_count": 4,
   "metadata": {},
   "outputs": [
    {
     "data": {
      "text/plain": [
       "{'chr': '11', 'end': 'q22.3', 'start': 'q22.2', 'type': 'CytobandLocation'}"
      ]
     },
     "execution_count": 4,
     "metadata": {},
     "output_type": "execute_result"
    }
   ],
   "source": [
    "cbl2 = models.CytobandLocation(chr=\"11\", start=\"q22.2\", end=\"q22.3\")\n",
    "cbl2.as_dict()"
   ]
  },
  {
   "cell_type": "markdown",
   "metadata": {},
   "source": [
    "## GeneLocation"
   ]
  },
  {
   "cell_type": "code",
   "execution_count": 5,
   "metadata": {},
   "outputs": [],
   "source": [
    "gl1 = models.GeneLocation(gene=\"ncbigene:672\")"
   ]
  },
  {
   "cell_type": "code",
   "execution_count": 7,
   "metadata": {},
   "outputs": [
    {
     "data": {
      "text/plain": [
       "{'gene': 'ncbigene:672', 'type': 'GeneLocation'}"
      ]
     },
     "execution_count": 7,
     "metadata": {},
     "output_type": "execute_result"
    }
   ],
   "source": [
    "gl1.as_dict()"
   ]
  },
  {
   "cell_type": "markdown",
   "metadata": {},
   "source": [
    "## Localization"
   ]
  },
  {
   "cell_type": "code",
   "execution_count": 8,
   "metadata": {},
   "outputs": [],
   "source": [
    "from ga4gh.vr.extras.localizer import Localizer\n",
    "lr = Localizer()"
   ]
  },
  {
   "cell_type": "code",
   "execution_count": 9,
   "metadata": {},
   "outputs": [
    {
     "data": {
      "text/plain": [
       "{'interval': {'end': 103000000, 'start': 102300000, 'type': 'SimpleInterval'},\n",
       " 'sequence_id': 'refseq:NC_000011.10',\n",
       " 'type': 'SequenceLocation'}"
      ]
     },
     "execution_count": 9,
     "metadata": {},
     "output_type": "execute_result"
    }
   ],
   "source": [
    "sl1 = lr.localize_cytoband(cbl1)\n",
    "sl1.as_dict()"
   ]
  },
  {
   "cell_type": "code",
   "execution_count": 10,
   "metadata": {},
   "outputs": [
    {
     "data": {
      "text/plain": [
       "{'interval': {'end': 110600000, 'start': 102300000, 'type': 'SimpleInterval'},\n",
       " 'sequence_id': 'refseq:NC_000011.10',\n",
       " 'type': 'SequenceLocation'}"
      ]
     },
     "execution_count": 10,
     "metadata": {},
     "output_type": "execute_result"
    }
   ],
   "source": [
    "sl2 = lr.localize_cytoband(cbl2)\n",
    "sl2.as_dict()"
   ]
  },
  {
   "cell_type": "markdown",
   "metadata": {},
   "source": [
    "## Identification"
   ]
  },
  {
   "cell_type": "code",
   "execution_count": 11,
   "metadata": {},
   "outputs": [],
   "source": [
    "# Cannot identify because current CURIE type must have ga4gh: prefix \n",
    "# TODO: Create two CURIE types: GA4GHCURIE which requires ga4gh: prefix, CURIE which is any CURIE \n",
    "# ga4gh_identify(gl)"
   ]
  },
  {
   "cell_type": "markdown",
   "metadata": {},
   "source": [
    "  CytobandLocation:\n",
    "    type: object\n",
    "    properties:\n",
    "      type:\n",
    "        type: string\n",
    "        enum: [CytobandLocation]\n",
    "        default: CytobandLocation\n",
    "      _id:\n",
    "        $ref: \"#/definitions/CURIE\"\n",
    "      chr:\n",
    "        type: string\n",
    "      start:\n",
    "        $ref: \"#/definitions/Cytoband\"\n",
    "      end:\n",
    "        $ref: \"#/definitions/Cytoband\"\n",
    "        nullable: true\n",
    "        default: null\n",
    "    additionalProperties: false\n",
    "    required:\n",
    "      - type\n",
    "      - chr\n",
    "      - start\n",
    "    \n",
    "  GeneLocation:\n",
    "    type: object\n",
    "    properties:\n",
    "      type:\n",
    "        type: string\n",
    "        enum: [GeneLocation]\n",
    "        default: GeneLocation\n",
    "      _id:\n",
    "        $ref: \"#/definitions/CURIE\"\n",
    "      gene:\n",
    "        $ref: \"#/definitions/CURIE\"\n",
    "        description: See https://www.ebi.ac.uk/miriam/main/datatypes/MIR:00000069\n"
   ]
  },
  {
   "cell_type": "code",
   "execution_count": null,
   "metadata": {},
   "outputs": [],
   "source": []
  }
 ],
 "metadata": {
  "kernelspec": {
   "display_name": "Python 3",
   "language": "python",
   "name": "python3"
  },
  "language_info": {
   "codemirror_mode": {
    "name": "ipython",
    "version": 3
   },
   "file_extension": ".py",
   "mimetype": "text/x-python",
   "name": "python",
   "nbconvert_exporter": "python",
   "pygments_lexer": "ipython3",
   "version": "3.8.2"
  }
 },
 "nbformat": 4,
 "nbformat_minor": 4
}
