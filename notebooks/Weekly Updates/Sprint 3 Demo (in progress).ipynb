{
 "cells": [
  {
   "cell_type": "code",
   "execution_count": 2,
   "metadata": {},
   "outputs": [],
   "source": [
    "import vmc"
   ]
  },
  {
   "cell_type": "markdown",
   "metadata": {},
   "source": [
    "# Copy Number\n",
    "This notebook demonstrated a *proposed* Copy Number model for GA4GH VR.\n",
    "\n",
    "CNVs of a region may be:\n",
    "* empirical (location not known) or located (location known)\n",
    "* absolute or relative CN\n",
    "* defined at any valid Location\n"
   ]
  },
  {
   "cell_type": "markdown",
   "metadata": {},
   "source": [
    "## ① CNV of a simple SequenceLocation, copy location unknown/unspecified"
   ]
  },
  {
   "cell_type": "code",
   "execution_count": 3,
   "metadata": {
    "scrolled": true
   },
   "outputs": [
    {
     "data": {
      "text/plain": [
       "{'id': 'VMC:GA_jfxtN9iWJDjh1qt8i7sOuFAcSvhDhdvp',\n",
       " 'location': {'region': {'end': 30, 'start': 20, 'type': 'SimpleInterval'},\n",
       "  'sequence_id': 'NM_0001234.5',\n",
       "  'type': 'SequenceLocation'},\n",
       " 'state': {'copy_measure': 'TOTAL',\n",
       "  'max_copies': 5,\n",
       "  'min_copies': 3,\n",
       "  'type': 'CNVState'},\n",
       " 'type': 'Allele'}"
      ]
     },
     "execution_count": 3,
     "metadata": {},
     "output_type": "execute_result"
    }
   ],
   "source": [
    "sr = vmc.models.SimpleInterval(start=20,end=30)\n",
    "sl = vmc.models.SequenceLocation(sequence_id=\"NM_0001234.5\", region=sr)\n",
    "\n",
    "cnvstate = vmc.models.CNVState(min_copies=3, max_copies=5, copy_measure=\"TOTAL\")\n",
    "\n",
    "a = vmc.models.Allele(location=sl, state=cnvstate)\n",
    "a.id = vmc.computed_id(a)\n",
    "a.as_dict()"
   ]
  },
  {
   "cell_type": "markdown",
   "metadata": {},
   "source": [
    "## ② Same CNV, now with known location"
   ]
  },
  {
   "cell_type": "code",
   "execution_count": 22,
   "metadata": {},
   "outputs": [
    {
     "data": {
      "text/plain": [
       "{'id': 'VMC:GA_deCg4f_LrHcsfDTAg9y7AnWGKaPzhXby',\n",
       " 'location': {'region': {'end': 30, 'start': 20, 'type': 'SimpleInterval'},\n",
       "  'sequence_id': 'NM_0001234.5',\n",
       "  'type': 'SequenceLocation'},\n",
       " 'state': {'copy_measure': 'TOTAL',\n",
       "  'location': {'region': {'end': 30, 'start': 20, 'type': 'SimpleInterval'},\n",
       "   'sequence_id': 'NM_0001234.5',\n",
       "   'type': 'SequenceLocation'},\n",
       "  'max_copies': 5,\n",
       "  'min_copies': 3,\n",
       "  'type': 'CNVState'},\n",
       " 'type': 'Allele'}"
      ]
     },
     "execution_count": 22,
     "metadata": {},
     "output_type": "execute_result"
    }
   ],
   "source": [
    "sr = vmc.models.Region(start=20,end=30)\n",
    "sl = vmc.models.SequenceLocation(sequence_id=\"NM_0001234.5\", region=sr)\n",
    "\n",
    "# 👉 Note addition of location in CNVState\n",
    "# When CNV.location == Allele.location, CN is total copy number and copies are tandem\n",
    "cnvstate = vmc.models.CNVState(min_copies=3, max_copies=5, copy_measure=\"TOTAL\", location = sl)\n",
    "\n",
    "a = vmc.models.Allele(location=sl, state=cnvstate)\n",
    "a.id = vmc.computed_id(a)\n",
    "a.as_dict()"
   ]
  },
  {
   "cell_type": "markdown",
   "metadata": {},
   "source": [
    "## ③ CNV at a Gene Location\n",
    "Because any Location may be used to define an Allele, it's straightforward to define gene copy number"
   ]
  },
  {
   "cell_type": "code",
   "execution_count": 17,
   "metadata": {
    "scrolled": true
   },
   "outputs": [
    {
     "data": {
      "text/plain": [
       "{'id': 'VMC:GA_TraGwt0_Ks5VSR7_DeLJnuIwHWEpJTov',\n",
       " 'location': {'gene': 'HGNC:MSH2', 'type': 'GeneLocation'},\n",
       " 'state': {'copy_measure': 'RELATIVE',\n",
       "  'max_copies': 5,\n",
       "  'min_copies': 3,\n",
       "  'type': 'CNVState'},\n",
       " 'type': 'Allele'}"
      ]
     },
     "execution_count": 17,
     "metadata": {},
     "output_type": "execute_result"
    }
   ],
   "source": [
    "gl = vmc.models.GeneLocation(gene=\"HGNC:MSH2\")\n",
    "\n",
    "cnvstate = vmc.models.CNVState(min_copies=3, max_copies=5, copy_measure=\"RELATIVE\")\n",
    "\n",
    "a = vmc.models.Allele(location=gl, state=cnvstate)\n",
    "a.id = vmc.computed_id(a)\n",
    "a.as_dict()"
   ]
  }
 ],
 "metadata": {
  "kernelspec": {
   "display_name": "Python 3",
   "language": "python",
   "name": "python3"
  },
  "language_info": {
   "codemirror_mode": {
    "name": "ipython",
    "version": 3
   },
   "file_extension": ".py",
   "mimetype": "text/x-python",
   "name": "python",
   "nbconvert_exporter": "python",
   "pygments_lexer": "ipython3",
   "version": "3.7.1"
  }
 },
 "nbformat": 4,
 "nbformat_minor": 2
}
