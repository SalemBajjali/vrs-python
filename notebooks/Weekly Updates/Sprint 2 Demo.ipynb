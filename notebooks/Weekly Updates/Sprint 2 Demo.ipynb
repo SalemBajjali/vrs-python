{
 "cells": [
  {
   "cell_type": "code",
   "execution_count": 6,
   "metadata": {},
   "outputs": [],
   "source": [
    "import vmc"
   ]
  },
  {
   "cell_type": "markdown",
   "metadata": {},
   "source": [
    "# Regions"
   ]
  },
  {
   "cell_type": "code",
   "execution_count": 14,
   "metadata": {},
   "outputs": [
    {
     "data": {
      "text/plain": [
       "{'end': 43, 'start': 42, 'type': 'SimpleRegion'}"
      ]
     },
     "execution_count": 14,
     "metadata": {},
     "output_type": "execute_result"
    }
   ],
   "source": [
    "sr = vmc.models.SimpleRegion(start=42, end=43)\n",
    "sr.as_dict()"
   ]
  },
  {
   "cell_type": "code",
   "execution_count": 15,
   "metadata": {},
   "outputs": [
    {
     "data": {
      "text/plain": [
       "{'inner': {'end': 30, 'start': 29, 'type': 'SimpleRegion'},\n",
       " 'outer': {'end': 39, 'start': 30, 'type': 'SimpleRegion'},\n",
       " 'type': 'NestedRegion'}"
      ]
     },
     "execution_count": 15,
     "metadata": {},
     "output_type": "execute_result"
    }
   ],
   "source": [
    "nr = vmc.models.NestedRegion(\n",
    "    inner=vmc.models.SimpleRegion(start=29,end=30),\n",
    "    outer=vmc.models.SimpleRegion(start=30,end=39))\n",
    "nr.as_dict()"
   ]
  },
  {
   "cell_type": "code",
   "execution_count": 16,
   "metadata": {},
   "outputs": [
    {
     "data": {
      "text/plain": [
       "{'end': {'end': 39, 'start': 30, 'type': 'SimpleRegion'},\n",
       " 'start': {'end': 29, 'start': 20, 'type': 'SimpleRegion'},\n",
       " 'type': 'RangedRegion'}"
      ]
     },
     "execution_count": 16,
     "metadata": {},
     "output_type": "execute_result"
    }
   ],
   "source": [
    "rr = vmc.models.RangedRegion(\n",
    "    start=vmc.models.SimpleRegion(start=20,end=29),\n",
    "    end=vmc.models.SimpleRegion(start=30,end=39))\n",
    "rr.as_dict()"
   ]
  },
  {
   "cell_type": "markdown",
   "metadata": {},
   "source": [
    "# Locations"
   ]
  },
  {
   "cell_type": "code",
   "execution_count": 21,
   "metadata": {},
   "outputs": [
    {
     "data": {
      "text/plain": [
       "{'region': {'end': 43, 'start': 42, 'type': 'SimpleRegion'},\n",
       " 'sequence_id': 'NM_0001234.5'}"
      ]
     },
     "execution_count": 21,
     "metadata": {},
     "output_type": "execute_result"
    }
   ],
   "source": [
    "slsr = models.SequenceLocation(sequence_id=\"NM_0001234.5\", region=sr)\n",
    "slsr.as_dict()"
   ]
  },
  {
   "cell_type": "code",
   "execution_count": 22,
   "metadata": {},
   "outputs": [
    {
     "data": {
      "text/plain": [
       "'VMC:GL_X2LrU0LYvMC3t1Tl2sZr87k3ke6D8AW6'"
      ]
     },
     "execution_count": 22,
     "metadata": {},
     "output_type": "execute_result"
    }
   ],
   "source": [
    "vmc.computed_id(slsr)"
   ]
  },
  {
   "cell_type": "code",
   "execution_count": 19,
   "metadata": {},
   "outputs": [
    {
     "data": {
      "text/plain": [
       "{'region': {'inner': {'end': 30, 'start': 29, 'type': 'SimpleRegion'},\n",
       "  'outer': {'end': 39, 'start': 30, 'type': 'SimpleRegion'},\n",
       "  'type': 'NestedRegion'},\n",
       " 'sequence_id': 'NM_0001234.5'}"
      ]
     },
     "execution_count": 19,
     "metadata": {},
     "output_type": "execute_result"
    }
   ],
   "source": [
    "slnr = models.SequenceLocation(sequence_id=\"NM_0001234.5\", region=nr)\n",
    "slnr.as_dict()"
   ]
  },
  {
   "cell_type": "code",
   "execution_count": 20,
   "metadata": {
    "scrolled": true
   },
   "outputs": [
    {
     "data": {
      "text/plain": [
       "{'region': {'end': {'end': 39, 'start': 30, 'type': 'SimpleRegion'},\n",
       "  'start': {'end': 29, 'start': 20, 'type': 'SimpleRegion'},\n",
       "  'type': 'RangedRegion'},\n",
       " 'sequence_id': 'NM_0001234.5'}"
      ]
     },
     "execution_count": 20,
     "metadata": {},
     "output_type": "execute_result"
    }
   ],
   "source": [
    "slrr = models.SequenceLocation(sequence_id=\"NM_0001234.5\", region=rr)\n",
    "slrr.as_dict()"
   ]
  },
  {
   "cell_type": "code",
   "execution_count": 29,
   "metadata": {},
   "outputs": [
    {
     "data": {
      "text/plain": [
       "{'chr': '11', 'end': 'q23.1', 'start': 'q22.3', 'type': 'CytobandLocation'}"
      ]
     },
     "execution_count": 29,
     "metadata": {},
     "output_type": "execute_result"
    }
   ],
   "source": [
    "cbl = models.CytobandLocation(chr=\"11\", start=\"q22.3\", end=\"q23.1\")\n",
    "cbl.as_dict()"
   ]
  },
  {
   "cell_type": "code",
   "execution_count": 30,
   "metadata": {},
   "outputs": [
    {
     "data": {
      "text/plain": [
       "{'gene': 'HGNC:MSH2', 'type': 'GeneLocation'}"
      ]
     },
     "execution_count": 30,
     "metadata": {},
     "output_type": "execute_result"
    }
   ],
   "source": [
    "gl = models.GeneLocation(gene=\"HGNC:MSH2\")\n",
    "gl.as_dict()"
   ]
  },
  {
   "cell_type": "markdown",
   "metadata": {},
   "source": [
    "# Alleles"
   ]
  },
  {
   "cell_type": "code",
   "execution_count": 26,
   "metadata": {},
   "outputs": [
    {
     "data": {
      "text/plain": [
       "{'location': {'region': {'end': 43, 'start': 42, 'type': 'SimpleRegion'},\n",
       "  'sequence_id': 'NM_0001234.5'},\n",
       " 'state': 'del',\n",
       " 'type': 'Allele'}"
      ]
     },
     "execution_count": 26,
     "metadata": {},
     "output_type": "execute_result"
    }
   ],
   "source": [
    "a = vmc.models.Allele(location=slsr, state=\"del\")\n",
    "a.as_dict()"
   ]
  },
  {
   "cell_type": "code",
   "execution_count": 27,
   "metadata": {},
   "outputs": [
    {
     "data": {
      "text/plain": [
       "{'location': {'region': {'end': {'end': 39,\n",
       "    'start': 30,\n",
       "    'type': 'SimpleRegion'},\n",
       "   'start': {'end': 29, 'start': 20, 'type': 'SimpleRegion'},\n",
       "   'type': 'RangedRegion'},\n",
       "  'sequence_id': 'NM_0001234.5'},\n",
       " 'state': 'del',\n",
       " 'type': 'Allele'}"
      ]
     },
     "execution_count": 27,
     "metadata": {},
     "output_type": "execute_result"
    }
   ],
   "source": [
    "a = vmc.models.Allele(location=slrr, state=\"del\")\n",
    "a.as_dict()"
   ]
  },
  {
   "cell_type": "code",
   "execution_count": 31,
   "metadata": {},
   "outputs": [
    {
     "data": {
      "text/plain": [
       "{'location': {'gene': 'HGNC:MSH2', 'type': 'GeneLocation'},\n",
       " 'state': 'del',\n",
       " 'type': 'Allele'}"
      ]
     },
     "execution_count": 31,
     "metadata": {},
     "output_type": "execute_result"
    }
   ],
   "source": [
    "a = vmc.models.Allele(location=gl, state=\"del\")\n",
    "a.as_dict()"
   ]
  },
  {
   "cell_type": "code",
   "execution_count": null,
   "metadata": {},
   "outputs": [],
   "source": []
  }
 ],
 "metadata": {
  "kernelspec": {
   "display_name": "Python 3",
   "language": "python",
   "name": "python3"
  },
  "language_info": {
   "codemirror_mode": {
    "name": "ipython",
    "version": 3
   },
   "file_extension": ".py",
   "mimetype": "text/x-python",
   "name": "python",
   "nbconvert_exporter": "python",
   "pygments_lexer": "ipython3",
   "version": "3.7.1"
  }
 },
 "nbformat": 4,
 "nbformat_minor": 2
}
