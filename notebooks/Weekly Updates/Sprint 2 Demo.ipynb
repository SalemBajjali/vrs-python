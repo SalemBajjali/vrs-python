{
 "cells": [
  {
   "cell_type": "code",
   "execution_count": 1,
   "metadata": {},
   "outputs": [],
   "source": [
    "import vmc"
   ]
  },
  {
   "cell_type": "markdown",
   "metadata": {},
   "source": [
    "# Regions\n",
    "\n",
    "Regions refer to contiguous spans of an implied sequence.\n",
    "Regions are not identifiable objects, so have no computed identifier defined."
   ]
  },
  {
   "cell_type": "code",
   "execution_count": 2,
   "metadata": {},
   "outputs": [
    {
     "data": {
      "text/plain": [
       "{'end': 43, 'start': 42, 'type': 'SimpleRegion'}"
      ]
     },
     "execution_count": 2,
     "metadata": {},
     "output_type": "execute_result"
    }
   ],
   "source": [
    "sr = vmc.models.SimpleRegion(start=42, end=43)\n",
    "sr.as_dict()"
   ]
  },
  {
   "cell_type": "code",
   "execution_count": 3,
   "metadata": {},
   "outputs": [
    {
     "data": {
      "text/plain": [
       "{'inner': {'end': 30, 'start': 29, 'type': 'SimpleRegion'},\n",
       " 'outer': {'end': 39, 'start': 30, 'type': 'SimpleRegion'},\n",
       " 'type': 'NestedRegion'}"
      ]
     },
     "execution_count": 3,
     "metadata": {},
     "output_type": "execute_result"
    }
   ],
   "source": [
    "nr = vmc.models.NestedRegion(\n",
    "    inner=vmc.models.SimpleRegion(start=29,end=30),\n",
    "    outer=vmc.models.SimpleRegion(start=30,end=39))\n",
    "nr.as_dict()"
   ]
  },
  {
   "cell_type": "code",
   "execution_count": 4,
   "metadata": {},
   "outputs": [
    {
     "data": {
      "text/plain": [
       "{'end': {'end': 39, 'start': 30, 'type': 'SimpleRegion'},\n",
       " 'start': {'end': 29, 'start': 20, 'type': 'SimpleRegion'},\n",
       " 'type': 'RangedRegion'}"
      ]
     },
     "execution_count": 4,
     "metadata": {},
     "output_type": "execute_result"
    }
   ],
   "source": [
    "rr = vmc.models.RangedRegion(\n",
    "    start=vmc.models.SimpleRegion(start=20,end=29),\n",
    "    end=vmc.models.SimpleRegion(start=30,end=39))\n",
    "rr.as_dict()"
   ]
  },
  {
   "cell_type": "markdown",
   "metadata": {},
   "source": [
    "# Locations\n",
    "Locations imply coordinate system and coordinates. \n",
    "\n",
    "The most common Location is a SequenceLocation, i.e., a Region on a named sequence.\n",
    "Locations may also be more conceptual, such as a cytoband region or a gene.\n",
    "Any of these may be used as the Location for Variation."
   ]
  },
  {
   "cell_type": "code",
   "execution_count": 5,
   "metadata": {},
   "outputs": [
    {
     "data": {
      "text/plain": [
       "{'id': 'VMC:GL_yKxYQ4j-D1f43mjYbobEKk74CVfwSEQj',\n",
       " 'region': {'end': 43, 'start': 42, 'type': 'SimpleRegion'},\n",
       " 'sequence_id': 'NM_0001234.5',\n",
       " 'type': 'SequenceLocation'}"
      ]
     },
     "execution_count": 5,
     "metadata": {},
     "output_type": "execute_result"
    }
   ],
   "source": [
    "slsr = vmc.models.SequenceLocation(sequence_id=\"NM_0001234.5\", region=sr)\n",
    "slsr.id = vmc.computed_id(slsr)\n",
    "slsr.as_dict()"
   ]
  },
  {
   "cell_type": "code",
   "execution_count": 6,
   "metadata": {},
   "outputs": [
    {
     "data": {
      "text/plain": [
       "{'id': 'VMC:GL_y1KI63endgw2MbqVIy5n4Ef2BWbnEVH2',\n",
       " 'region': {'inner': {'end': 30, 'start': 29, 'type': 'SimpleRegion'},\n",
       "  'outer': {'end': 39, 'start': 30, 'type': 'SimpleRegion'},\n",
       "  'type': 'NestedRegion'},\n",
       " 'sequence_id': 'NM_0001234.5',\n",
       " 'type': 'SequenceLocation'}"
      ]
     },
     "execution_count": 6,
     "metadata": {},
     "output_type": "execute_result"
    }
   ],
   "source": [
    "slnr = vmc.models.SequenceLocation(sequence_id=\"NM_0001234.5\", region=nr)\n",
    "slnr.id = vmc.computed_id(slnr)\n",
    "slnr.as_dict()"
   ]
  },
  {
   "cell_type": "code",
   "execution_count": 7,
   "metadata": {
    "scrolled": true
   },
   "outputs": [
    {
     "data": {
      "text/plain": [
       "{'id': 'VMC:GL_SS97Ti3Tjad9M8GW1F0miTgS06RJ6fKB',\n",
       " 'region': {'end': {'end': 39, 'start': 30, 'type': 'SimpleRegion'},\n",
       "  'start': {'end': 29, 'start': 20, 'type': 'SimpleRegion'},\n",
       "  'type': 'RangedRegion'},\n",
       " 'sequence_id': 'NM_0001234.5',\n",
       " 'type': 'SequenceLocation'}"
      ]
     },
     "execution_count": 7,
     "metadata": {},
     "output_type": "execute_result"
    }
   ],
   "source": [
    "slrr = vmc.models.SequenceLocation(sequence_id=\"NM_0001234.5\", region=rr)\n",
    "slrr.id = vmc.computed_id(slrr)\n",
    "slrr.as_dict()"
   ]
  },
  {
   "cell_type": "code",
   "execution_count": 8,
   "metadata": {},
   "outputs": [
    {
     "data": {
      "text/plain": [
       "{'chr': '11',\n",
       " 'end': 'q23.1',\n",
       " 'id': 'VMC:GL_R2RiNOcD_3F-NNEQUrIst3M84LTsVQWF',\n",
       " 'start': 'q22.3',\n",
       " 'type': 'CytobandLocation'}"
      ]
     },
     "execution_count": 8,
     "metadata": {},
     "output_type": "execute_result"
    }
   ],
   "source": [
    "cbl = vmc.models.CytobandLocation(chr=\"11\", start=\"q22.3\", end=\"q23.1\")\n",
    "cbl.id = vmc.computed_id(cbl)\n",
    "cbl.as_dict()"
   ]
  },
  {
   "cell_type": "code",
   "execution_count": 9,
   "metadata": {},
   "outputs": [
    {
     "data": {
      "text/plain": [
       "{'gene': 'HGNC:MSH2',\n",
       " 'id': 'VMC:GL_HUswIoUpNqPZa2rBwJR_32At9A3wnWJJ',\n",
       " 'type': 'GeneLocation'}"
      ]
     },
     "execution_count": 9,
     "metadata": {},
     "output_type": "execute_result"
    }
   ],
   "source": [
    "gl = vmc.models.GeneLocation(gene=\"HGNC:MSH2\")\n",
    "gl.id = vmc.computed_id(gl)\n",
    "gl.as_dict()"
   ]
  },
  {
   "cell_type": "markdown",
   "metadata": {},
   "source": [
    "# Alleles"
   ]
  },
  {
   "cell_type": "code",
   "execution_count": 10,
   "metadata": {},
   "outputs": [
    {
     "data": {
      "text/plain": [
       "{'id': 'VMC:GA_-8HFqBFAse_G8aG5X7-4goA02dRpccqU',\n",
       " 'location': {'id': 'VMC:GL_yKxYQ4j-D1f43mjYbobEKk74CVfwSEQj',\n",
       "  'region': {'end': 43, 'start': 42, 'type': 'SimpleRegion'},\n",
       "  'sequence_id': 'NM_0001234.5',\n",
       "  'type': 'SequenceLocation'},\n",
       " 'state': 'del',\n",
       " 'type': 'Allele'}"
      ]
     },
     "execution_count": 10,
     "metadata": {},
     "output_type": "execute_result"
    }
   ],
   "source": [
    "a = vmc.models.Allele(location=slsr, state=\"del\")\n",
    "a.id = vmc.computed_id(a)\n",
    "a.as_dict()"
   ]
  },
  {
   "cell_type": "code",
   "execution_count": 11,
   "metadata": {},
   "outputs": [
    {
     "data": {
      "text/plain": [
       "{'id': 'VMC:GA_N4VBPe4xX1LHeydXlWWNqFfeCLqVG1K5',\n",
       " 'location': {'id': 'VMC:GL_SS97Ti3Tjad9M8GW1F0miTgS06RJ6fKB',\n",
       "  'region': {'end': {'end': 39, 'start': 30, 'type': 'SimpleRegion'},\n",
       "   'start': {'end': 29, 'start': 20, 'type': 'SimpleRegion'},\n",
       "   'type': 'RangedRegion'},\n",
       "  'sequence_id': 'NM_0001234.5',\n",
       "  'type': 'SequenceLocation'},\n",
       " 'state': 'del',\n",
       " 'type': 'Allele'}"
      ]
     },
     "execution_count": 11,
     "metadata": {},
     "output_type": "execute_result"
    }
   ],
   "source": [
    "a = vmc.models.Allele(location=slrr, state=\"del\")\n",
    "a.id = vmc.computed_id(a)\n",
    "a.as_dict()"
   ]
  },
  {
   "cell_type": "code",
   "execution_count": 12,
   "metadata": {},
   "outputs": [
    {
     "data": {
      "text/plain": [
       "{'id': 'VMC:GA_NmaqpwVF2tj2LuvHATGMW-qqYUHwhiOL',\n",
       " 'location': {'gene': 'HGNC:MSH2',\n",
       "  'id': 'VMC:GL_HUswIoUpNqPZa2rBwJR_32At9A3wnWJJ',\n",
       "  'type': 'GeneLocation'},\n",
       " 'state': 'del',\n",
       " 'type': 'Allele'}"
      ]
     },
     "execution_count": 12,
     "metadata": {},
     "output_type": "execute_result"
    }
   ],
   "source": [
    "a = vmc.models.Allele(location=gl, state=\"del\")\n",
    "a.id = vmc.computed_id(a)\n",
    "a.as_dict()"
   ]
  },
  {
   "cell_type": "markdown",
   "metadata": {},
   "source": [
    "# Haplotypes\n",
    "A Haplotype is a collection of allele_ids, with optional specification for covered location and completeness"
   ]
  },
  {
   "cell_type": "code",
   "execution_count": 13,
   "metadata": {},
   "outputs": [
    {
     "data": {
      "text/plain": [
       "{'allele_ids': ['BOGUS:XX_WMv1y-3Q460hi_S3ND5N5Ct2Ci58TOZd',\n",
       "  'BOGUS:XX_jW7bSR3Obmx3IewIRSJkJMf6t7b73LVU',\n",
       "  'BOGUS:XX_23DL4svp8FvWdMrkhuOckbyjM-0I1Dov',\n",
       "  'BOGUS:XX_n363FutAEo79HhjNl7wea61SGc_tU40j'],\n",
       " 'completeness': 'PARTIAL',\n",
       " 'id': 'VMC:GH_d-arw1iegJ7WghhHiKzv90K0diZf-YTY',\n",
       " 'location_id': 'VMC:GL_yKxYQ4j-D1f43mjYbobEKk74CVfwSEQj',\n",
       " 'type': 'Haplotype'}"
      ]
     },
     "execution_count": 13,
     "metadata": {},
     "output_type": "execute_result"
    }
   ],
   "source": [
    "h = vmc.models.Haplotype(\n",
    "    location_id=slsr.id,\n",
    "    allele_ids=[\n",
    "    'BOGUS:XX_WMv1y-3Q460hi_S3ND5N5Ct2Ci58TOZd',\n",
    "    'BOGUS:XX_jW7bSR3Obmx3IewIRSJkJMf6t7b73LVU',\n",
    "    'BOGUS:XX_23DL4svp8FvWdMrkhuOckbyjM-0I1Dov',\n",
    "    'BOGUS:XX_n363FutAEo79HhjNl7wea61SGc_tU40j'],\n",
    "    completeness=\"PARTIAL\")\n",
    "h.id = vmc.computed_id(h)\n",
    "h.as_dict()"
   ]
  },
  {
   "cell_type": "markdown",
   "metadata": {},
   "source": [
    "# Genotypes\n",
    "A Genotype is a collection of Haplotypes_ids, with optional specification for completeness"
   ]
  },
  {
   "cell_type": "code",
   "execution_count": 14,
   "metadata": {},
   "outputs": [
    {
     "data": {
      "text/plain": [
       "{'completeness': 'PARTIAL',\n",
       " 'haplotype_ids': ['BOGUS:XX_WMv1y-3Q460hi_S3ND5N5Ct2Ci58TOZd',\n",
       "  'BOGUS:XX_jW7bSR3Obmx3IewIRSJkJMf6t7b73LVU',\n",
       "  'BOGUS:XX_23DL4svp8FvWdMrkhuOckbyjM-0I1Dov',\n",
       "  'BOGUS:XX_n363FutAEo79HhjNl7wea61SGc_tU40j'],\n",
       " 'id': 'VMC:GG_5IARhH263DsFl6P7WfCLAfqkcnCbl4tn',\n",
       " 'type': 'Genotype'}"
      ]
     },
     "execution_count": 14,
     "metadata": {},
     "output_type": "execute_result"
    }
   ],
   "source": [
    "g = vmc.models.Genotype(\n",
    "    haplotype_ids=[\n",
    "    'BOGUS:XX_WMv1y-3Q460hi_S3ND5N5Ct2Ci58TOZd',\n",
    "    'BOGUS:XX_jW7bSR3Obmx3IewIRSJkJMf6t7b73LVU',\n",
    "    'BOGUS:XX_23DL4svp8FvWdMrkhuOckbyjM-0I1Dov',\n",
    "    'BOGUS:XX_n363FutAEo79HhjNl7wea61SGc_tU40j'],\n",
    "    completeness=\"PARTIAL\")\n",
    "g.id = vmc.computed_id(g)\n",
    "g.as_dict()"
   ]
  },
  {
   "cell_type": "markdown",
   "metadata": {},
   "source": [
    "# VariationSet\n",
    "VariationSet is just a bucket of ids, which may not even exist."
   ]
  },
  {
   "cell_type": "code",
   "execution_count": 15,
   "metadata": {},
   "outputs": [
    {
     "data": {
      "text/plain": [
       "{'id': 'VMC:GVS_6m4w9eXBvYrs3FKOZq62E_955VZ7Oo7V',\n",
       " 'member_ids': ['BOGUS:XX_WMv1y-3Q460hi_S3ND5N5Ct2Ci58TOZd',\n",
       "  'BOGUS:XX_jW7bSR3Obmx3IewIRSJkJMf6t7b73LVU',\n",
       "  'BOGUS:XX_23DL4svp8FvWdMrkhuOckbyjM-0I1Dov',\n",
       "  'BOGUS:XX_n363FutAEo79HhjNl7wea61SGc_tU40j',\n",
       "  'BOGUS:XX_pel3HzoNSMCEvPoQQD-AOBE8I8s0eCn9',\n",
       "  'BOGUS:XX_X2x6a4Xvil365Ea-Po8WcuuQPWx973U8',\n",
       "  'BOGUS:XX_QHDx_0DbssgtGljy-K1q7WAcNkqD5TY-',\n",
       "  'BOGUS:XX_3x2p-8eCIc0pU-if_6CFBKGLziZRSWdz',\n",
       "  'BOGUS:XX_RXF8gSNDDyPQ0opTA8ordEE6hGGm2GYJ',\n",
       "  'BOGUS:XX_7tDaRPzXL4rfOLoYtRUUGCTy65ptDs8J'],\n",
       " 'type': 'VariationSet'}"
      ]
     },
     "execution_count": 15,
     "metadata": {},
     "output_type": "execute_result"
    }
   ],
   "source": [
    "vs = vmc.models.VariationSet(member_ids=[\n",
    "    'BOGUS:XX_WMv1y-3Q460hi_S3ND5N5Ct2Ci58TOZd',\n",
    "    'BOGUS:XX_jW7bSR3Obmx3IewIRSJkJMf6t7b73LVU',\n",
    "    'BOGUS:XX_23DL4svp8FvWdMrkhuOckbyjM-0I1Dov',\n",
    "    'BOGUS:XX_n363FutAEo79HhjNl7wea61SGc_tU40j',\n",
    "    'BOGUS:XX_pel3HzoNSMCEvPoQQD-AOBE8I8s0eCn9',\n",
    "    'BOGUS:XX_X2x6a4Xvil365Ea-Po8WcuuQPWx973U8',\n",
    "    'BOGUS:XX_QHDx_0DbssgtGljy-K1q7WAcNkqD5TY-',\n",
    "    'BOGUS:XX_3x2p-8eCIc0pU-if_6CFBKGLziZRSWdz',\n",
    "    'BOGUS:XX_RXF8gSNDDyPQ0opTA8ordEE6hGGm2GYJ',\n",
    "    'BOGUS:XX_7tDaRPzXL4rfOLoYtRUUGCTy65ptDs8J'])\n",
    "vs.id = vmc.computed_id(vs)\n",
    "vs.as_dict()"
   ]
  },
  {
   "cell_type": "code",
   "execution_count": null,
   "metadata": {},
   "outputs": [],
   "source": []
  }
 ],
 "metadata": {
  "kernelspec": {
   "display_name": "Python 3",
   "language": "python",
   "name": "python3"
  },
  "language_info": {
   "codemirror_mode": {
    "name": "ipython",
    "version": 3
   },
   "file_extension": ".py",
   "mimetype": "text/x-python",
   "name": "python",
   "nbconvert_exporter": "python",
   "pygments_lexer": "ipython3",
   "version": "3.7.1"
  }
 },
 "nbformat": 4,
 "nbformat_minor": 2
}
