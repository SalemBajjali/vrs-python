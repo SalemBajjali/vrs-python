{
 "cells": [
  {
   "cell_type": "markdown",
   "metadata": {},
   "source": [
    "# HGVS VMC Demo\n",
    "Demonstrates converting bidirectionally between VMC data structures and HGVS expressions\n",
    "\n",
    "---"
   ]
  },
  {
   "cell_type": "code",
   "execution_count": 1,
   "metadata": {},
   "outputs": [],
   "source": [
    "from support.vmchelper import VMCHelper \n",
    "from support.utils import json_pretty_format\n",
    "\n",
    "def opp(o):\n",
    "    \"\"\"object pretty print -- prints any VMC object\"\"\"\n",
    "    print(json_pretty_format(o.serialize()))"
   ]
  },
  {
   "cell_type": "code",
   "execution_count": 2,
   "metadata": {},
   "outputs": [],
   "source": [
    "vh = VMCHelper()"
   ]
  },
  {
   "cell_type": "markdown",
   "metadata": {},
   "source": [
    "# Allele\n",
    "Add two alleles, then inspect bundle\n",
    "\n",
    "* Accepts hgvs = syntax ⇒ requires on-the-fly reference lookup\n",
    "* Two alleles at same location ⇒ two alleles that reference one location\n",
    "* Sequence identifier stored in identifiers"
   ]
  },
  {
   "cell_type": "code",
   "execution_count": 3,
   "metadata": {},
   "outputs": [
    {
     "data": {
      "text/plain": [
       "<Allele id=VMC:GA_xlhfF8gmHpo-veJxu405TWlKsf9VQOtJ location_id=VMC:GL_8-ViSIvP5iAmlIt4bXVLOLrA_Nf_emgJ state=T>"
      ]
     },
     "execution_count": 3,
     "metadata": {},
     "output_type": "execute_result"
    }
   ],
   "source": [
    "vh.add_hgvs_allele(\"NM_000041.3:c.388C>T\")"
   ]
  },
  {
   "cell_type": "code",
   "execution_count": 4,
   "metadata": {},
   "outputs": [
    {
     "data": {
      "text/plain": [
       "<Allele id=VMC:GA_FDez5GA0kZdSJ--h3stLv9LF8l4OQ-_I location_id=VMC:GL_8-ViSIvP5iAmlIt4bXVLOLrA_Nf_emgJ state=C>"
      ]
     },
     "execution_count": 4,
     "metadata": {},
     "output_type": "execute_result"
    }
   ],
   "source": [
    "vh.add_hgvs_allele(\"NM_000041.3:c.388=\")"
   ]
  },
  {
   "cell_type": "code",
   "execution_count": 7,
   "metadata": {
    "collapsed": true
   },
   "outputs": [
    {
     "name": "stdout",
     "output_type": "stream",
     "text": [
      "{\n",
      "    \"alleles\": {\n",
      "        \"VMC:GA_FDez5GA0kZdSJ--h3stLv9LF8l4OQ-_I\": {\n",
      "            \"id\": \"VMC:GA_FDez5GA0kZdSJ--h3stLv9LF8l4OQ-_I\",\n",
      "            \"location_id\": \"VMC:GL_8-ViSIvP5iAmlIt4bXVLOLrA_Nf_emgJ\",\n",
      "            \"state\": \"C\"\n",
      "        },\n",
      "        \"VMC:GA_xlhfF8gmHpo-veJxu405TWlKsf9VQOtJ\": {\n",
      "            \"id\": \"VMC:GA_xlhfF8gmHpo-veJxu405TWlKsf9VQOtJ\",\n",
      "            \"location_id\": \"VMC:GL_8-ViSIvP5iAmlIt4bXVLOLrA_Nf_emgJ\",\n",
      "            \"state\": \"T\"\n",
      "        }\n",
      "    },\n",
      "    \"genotypes\": {},\n",
      "    \"haplotypes\": {},\n",
      "    \"identifiers\": {\n",
      "        \"VMC:GS_RARDhX0ZLluRb9MPWPP0UxWuba-L4RiN\": [\n",
      "            \"NCBI:NM_000041.3\"\n",
      "        ]\n",
      "    },\n",
      "    \"locations\": {\n",
      "        \"VMC:GL_8-ViSIvP5iAmlIt4bXVLOLrA_Nf_emgJ\": {\n",
      "            \"id\": \"VMC:GL_8-ViSIvP5iAmlIt4bXVLOLrA_Nf_emgJ\",\n",
      "            \"interval\": {\n",
      "                \"end\": 388,\n",
      "                \"start\": 387\n",
      "            },\n",
      "            \"sequence_id\": \"VMC:GS_RARDhX0ZLluRb9MPWPP0UxWuba-L4RiN\"\n",
      "        }\n",
      "    },\n",
      "    \"meta\": {\n",
      "        \"generated_at\": \"2018-09-17T09:31:10.173791\",\n",
      "        \"vmc_version\": 0\n",
      "    }\n",
      "}\n"
     ]
    }
   ],
   "source": [
    "opp(vh.as_bundle())"
   ]
  },
  {
   "cell_type": "markdown",
   "metadata": {},
   "source": [
    "# Haplotype\n",
    "* Adds new allele at new location\n",
    "* Creates haplotype record at third location (span) that bounds the two alleles"
   ]
  },
  {
   "cell_type": "code",
   "execution_count": 8,
   "metadata": {},
   "outputs": [
    {
     "data": {
      "text/plain": [
       "<Haplotype allele_ids=<#/definitions/Id=['VMC:GA_FDez5GA0kZdSJ--h3stLv9LF8l4OQ-_I', 'VMC:GA_8GXRvwUiPqedmbLe8XC5bjU0MAtGzVaf']> completeness=UNKNOWN id=VMC:GH_XUqd-RLjlrwDuZHZsGlkSQoLo-qgNkji location_id=VMC:GL_1my1_jue4nJslOX2YrXX12CsFIpFzanZ>"
      ]
     },
     "execution_count": 8,
     "metadata": {},
     "output_type": "execute_result"
    }
   ],
   "source": [
    "vh.add_hgvs_haplotype([\"NM_000041.3:c.388=\",\n",
    "                       \"NM_000041.3:c.526C>T\"])"
   ]
  },
  {
   "cell_type": "code",
   "execution_count": 9,
   "metadata": {},
   "outputs": [
    {
     "name": "stdout",
     "output_type": "stream",
     "text": [
      "{\n",
      "    \"alleles\": {\n",
      "        \"VMC:GA_8GXRvwUiPqedmbLe8XC5bjU0MAtGzVaf\": {\n",
      "            \"id\": \"VMC:GA_8GXRvwUiPqedmbLe8XC5bjU0MAtGzVaf\",\n",
      "            \"location_id\": \"VMC:GL_YxX7xmdBNfU4PsUR-SGVbx2UpFplLOfO\",\n",
      "            \"state\": \"T\"\n",
      "        },\n",
      "        \"VMC:GA_FDez5GA0kZdSJ--h3stLv9LF8l4OQ-_I\": {\n",
      "            \"id\": \"VMC:GA_FDez5GA0kZdSJ--h3stLv9LF8l4OQ-_I\",\n",
      "            \"location_id\": \"VMC:GL_8-ViSIvP5iAmlIt4bXVLOLrA_Nf_emgJ\",\n",
      "            \"state\": \"C\"\n",
      "        },\n",
      "        \"VMC:GA_xlhfF8gmHpo-veJxu405TWlKsf9VQOtJ\": {\n",
      "            \"id\": \"VMC:GA_xlhfF8gmHpo-veJxu405TWlKsf9VQOtJ\",\n",
      "            \"location_id\": \"VMC:GL_8-ViSIvP5iAmlIt4bXVLOLrA_Nf_emgJ\",\n",
      "            \"state\": \"T\"\n",
      "        }\n",
      "    },\n",
      "    \"genotypes\": {},\n",
      "    \"haplotypes\": {\n",
      "        \"VMC:GH_XUqd-RLjlrwDuZHZsGlkSQoLo-qgNkji\": {\n",
      "            \"allele_ids\": [\n",
      "                \"VMC:GA_FDez5GA0kZdSJ--h3stLv9LF8l4OQ-_I\",\n",
      "                \"VMC:GA_8GXRvwUiPqedmbLe8XC5bjU0MAtGzVaf\"\n",
      "            ],\n",
      "            \"completeness\": \"UNKNOWN\",\n",
      "            \"id\": \"VMC:GH_XUqd-RLjlrwDuZHZsGlkSQoLo-qgNkji\",\n",
      "            \"location_id\": \"VMC:GL_1my1_jue4nJslOX2YrXX12CsFIpFzanZ\"\n",
      "        }\n",
      "    },\n",
      "    \"identifiers\": {\n",
      "        \"VMC:GS_RARDhX0ZLluRb9MPWPP0UxWuba-L4RiN\": [\n",
      "            \"NCBI:NM_000041.3\"\n",
      "        ]\n",
      "    },\n",
      "    \"locations\": {\n",
      "        \"VMC:GL_1my1_jue4nJslOX2YrXX12CsFIpFzanZ\": {\n",
      "            \"id\": \"VMC:GL_1my1_jue4nJslOX2YrXX12CsFIpFzanZ\",\n",
      "            \"interval\": {\n",
      "                \"end\": 526,\n",
      "                \"start\": 387\n",
      "            },\n",
      "            \"sequence_id\": \"VMC:GS_RARDhX0ZLluRb9MPWPP0UxWuba-L4RiN\"\n",
      "        },\n",
      "        \"VMC:GL_8-ViSIvP5iAmlIt4bXVLOLrA_Nf_emgJ\": {\n",
      "            \"id\": \"VMC:GL_8-ViSIvP5iAmlIt4bXVLOLrA_Nf_emgJ\",\n",
      "            \"interval\": {\n",
      "                \"end\": 388,\n",
      "                \"start\": 387\n",
      "            },\n",
      "            \"sequence_id\": \"VMC:GS_RARDhX0ZLluRb9MPWPP0UxWuba-L4RiN\"\n",
      "        },\n",
      "        \"VMC:GL_YxX7xmdBNfU4PsUR-SGVbx2UpFplLOfO\": {\n",
      "            \"id\": \"VMC:GL_YxX7xmdBNfU4PsUR-SGVbx2UpFplLOfO\",\n",
      "            \"interval\": {\n",
      "                \"end\": 526,\n",
      "                \"start\": 525\n",
      "            },\n",
      "            \"sequence_id\": \"VMC:GS_RARDhX0ZLluRb9MPWPP0UxWuba-L4RiN\"\n",
      "        }\n",
      "    },\n",
      "    \"meta\": {\n",
      "        \"generated_at\": \"2018-09-17T09:33:46.472964\",\n",
      "        \"vmc_version\": 0\n",
      "    }\n",
      "}\n"
     ]
    }
   ],
   "source": [
    "opp(vh.as_bundle())"
   ]
  },
  {
   "cell_type": "markdown",
   "metadata": {},
   "source": [
    "# Genotype\n",
    "* No new locations, alleles, or haplotypes"
   ]
  },
  {
   "cell_type": "code",
   "execution_count": 10,
   "metadata": {},
   "outputs": [
    {
     "data": {
      "text/plain": [
       "<Genotype completeness=UNKNOWN haplotype_ids=<#/definitions/Id=['VMC:GH_XUqd-RLjlrwDuZHZsGlkSQoLo-qgNkji', 'VMC:GH_XUqd-RLjlrwDuZHZsGlkSQoLo-qgNkji']> id=VMC:GG_M7YwvMeamjp69uu8f4omgXD3PacuGb3->"
      ]
     },
     "execution_count": 10,
     "metadata": {},
     "output_type": "execute_result"
    }
   ],
   "source": [
    "vh.add_hgvs_genotype([[\"NM_000041.3:c.388=\",\n",
    "                       \"NM_000041.3:c.526C>T\"],\n",
    "                      [\"NM_000041.3:c.388=\",\n",
    "                       \"NM_000041.3:c.526C>T\"]])"
   ]
  },
  {
   "cell_type": "code",
   "execution_count": 9,
   "metadata": {},
   "outputs": [
    {
     "name": "stdout",
     "output_type": "stream",
     "text": [
      "{\n",
      "    \"alleles\": {\n",
      "        \"VMC:GA_8GXRvwUiPqedmbLe8XC5bjU0MAtGzVaf\": {\n",
      "            \"id\": \"VMC:GA_8GXRvwUiPqedmbLe8XC5bjU0MAtGzVaf\",\n",
      "            \"location_id\": \"VMC:GL_YxX7xmdBNfU4PsUR-SGVbx2UpFplLOfO\",\n",
      "            \"state\": \"T\"\n",
      "        },\n",
      "        \"VMC:GA_FDez5GA0kZdSJ--h3stLv9LF8l4OQ-_I\": {\n",
      "            \"id\": \"VMC:GA_FDez5GA0kZdSJ--h3stLv9LF8l4OQ-_I\",\n",
      "            \"location_id\": \"VMC:GL_8-ViSIvP5iAmlIt4bXVLOLrA_Nf_emgJ\",\n",
      "            \"state\": \"C\"\n",
      "        },\n",
      "        \"VMC:GA_xlhfF8gmHpo-veJxu405TWlKsf9VQOtJ\": {\n",
      "            \"id\": \"VMC:GA_xlhfF8gmHpo-veJxu405TWlKsf9VQOtJ\",\n",
      "            \"location_id\": \"VMC:GL_8-ViSIvP5iAmlIt4bXVLOLrA_Nf_emgJ\",\n",
      "            \"state\": \"T\"\n",
      "        }\n",
      "    },\n",
      "    \"genotypes\": {\n",
      "        \"VMC:GG_M7YwvMeamjp69uu8f4omgXD3PacuGb3-\": {\n",
      "            \"completeness\": \"UNKNOWN\",\n",
      "            \"haplotype_ids\": [\n",
      "                \"VMC:GH_XUqd-RLjlrwDuZHZsGlkSQoLo-qgNkji\",\n",
      "                \"VMC:GH_XUqd-RLjlrwDuZHZsGlkSQoLo-qgNkji\"\n",
      "            ],\n",
      "            \"id\": \"VMC:GG_M7YwvMeamjp69uu8f4omgXD3PacuGb3-\"\n",
      "        }\n",
      "    },\n",
      "    \"haplotypes\": {\n",
      "        \"VMC:GH_XUqd-RLjlrwDuZHZsGlkSQoLo-qgNkji\": {\n",
      "            \"allele_ids\": [\n",
      "                \"VMC:GA_FDez5GA0kZdSJ--h3stLv9LF8l4OQ-_I\",\n",
      "                \"VMC:GA_8GXRvwUiPqedmbLe8XC5bjU0MAtGzVaf\"\n",
      "            ],\n",
      "            \"completeness\": \"UNKNOWN\",\n",
      "            \"id\": \"VMC:GH_XUqd-RLjlrwDuZHZsGlkSQoLo-qgNkji\",\n",
      "            \"location_id\": \"VMC:GL_1my1_jue4nJslOX2YrXX12CsFIpFzanZ\"\n",
      "        }\n",
      "    },\n",
      "    \"identifiers\": {\n",
      "        \"VMC:GS_RARDhX0ZLluRb9MPWPP0UxWuba-L4RiN\": [\n",
      "            \"NCBI:NM_000041.3\"\n",
      "        ]\n",
      "    },\n",
      "    \"locations\": {\n",
      "        \"VMC:GL_1my1_jue4nJslOX2YrXX12CsFIpFzanZ\": {\n",
      "            \"id\": \"VMC:GL_1my1_jue4nJslOX2YrXX12CsFIpFzanZ\",\n",
      "            \"interval\": {\n",
      "                \"end\": 526,\n",
      "                \"start\": 387\n",
      "            },\n",
      "            \"sequence_id\": \"VMC:GS_RARDhX0ZLluRb9MPWPP0UxWuba-L4RiN\"\n",
      "        },\n",
      "        \"VMC:GL_8-ViSIvP5iAmlIt4bXVLOLrA_Nf_emgJ\": {\n",
      "            \"id\": \"VMC:GL_8-ViSIvP5iAmlIt4bXVLOLrA_Nf_emgJ\",\n",
      "            \"interval\": {\n",
      "                \"end\": 388,\n",
      "                \"start\": 387\n",
      "            },\n",
      "            \"sequence_id\": \"VMC:GS_RARDhX0ZLluRb9MPWPP0UxWuba-L4RiN\"\n",
      "        },\n",
      "        \"VMC:GL_YxX7xmdBNfU4PsUR-SGVbx2UpFplLOfO\": {\n",
      "            \"id\": \"VMC:GL_YxX7xmdBNfU4PsUR-SGVbx2UpFplLOfO\",\n",
      "            \"interval\": {\n",
      "                \"end\": 526,\n",
      "                \"start\": 525\n",
      "            },\n",
      "            \"sequence_id\": \"VMC:GS_RARDhX0ZLluRb9MPWPP0UxWuba-L4RiN\"\n",
      "        }\n",
      "    },\n",
      "    \"meta\": {\n",
      "        \"generated_at\": \"2018-09-17T08:21:21.711801\",\n",
      "        \"vmc_version\": 0\n",
      "    }\n",
      "}\n"
     ]
    }
   ],
   "source": [
    "opp(vh.as_bundle())"
   ]
  },
  {
   "cell_type": "code",
   "execution_count": 10,
   "metadata": {},
   "outputs": [
    {
     "name": "stdout",
     "output_type": "stream",
     "text": [
      "{ 'alleles': [ 'NM_000041.3:g.388C>T',\n",
      "               'NM_000041.3:g.388=',\n",
      "               'NM_000041.3:g.526G>T'],\n",
      "  'genotypes': [ [ ['NM_000041.3:g.388=', 'NM_000041.3:g.526G>T'],\n",
      "                   ['NM_000041.3:g.388=', 'NM_000041.3:g.526G>T']]],\n",
      "  'haplotypes': [['NM_000041.3:g.388=', 'NM_000041.3:g.526G>T']]}\n"
     ]
    }
   ],
   "source": [
    "import pprint\n",
    "pprint.pprint(vh.as_hgvs(), indent=2)"
   ]
  },
  {
   "cell_type": "code",
   "execution_count": null,
   "metadata": {},
   "outputs": [],
   "source": []
  }
 ],
 "metadata": {
  "kernelspec": {
   "display_name": "Python 3",
   "language": "python",
   "name": "python3"
  },
  "language_info": {
   "codemirror_mode": {
    "name": "ipython",
    "version": 3
   },
   "file_extension": ".py",
   "mimetype": "text/x-python",
   "name": "python",
   "nbconvert_exporter": "python",
   "pygments_lexer": "ipython3",
   "version": "3.6.5"
  }
 },
 "nbformat": 4,
 "nbformat_minor": 2
}
